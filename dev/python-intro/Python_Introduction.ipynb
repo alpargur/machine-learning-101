{
 "cells": [
  {
   "cell_type": "markdown",
   "id": "7a8f91a4",
   "metadata": {},
   "source": [
    "<hr style=\"border:1px solid black\"> </hr>\n",
    "<hr style=\"border:1px solid black\"> </hr>"
   ]
  },
  {
   "cell_type": "markdown",
   "id": "71f031d3",
   "metadata": {},
   "source": [
    "#### Machine Learning\n",
    "\n",
    "\n",
    "# Introduction to Python\n",
    "\n",
    "<hr style=\"border:1px solid black\"> </hr>\n",
    "<hr style=\"border:1px solid black\"> </hr>"
   ]
  },
  {
   "cell_type": "markdown",
   "id": "8373fe5d",
   "metadata": {},
   "source": [
    "# <span style=\"color:mediumblue\">Table of content</span>\n",
    "\n",
    "1. [Orientation](#kap1)    \n",
    "    &ensp; 1.1 [What is Python?](#kap11)  \n",
    "    &ensp; 1.2 [Jupyter Notebook](#kap12)  \n",
    "    &emsp; &emsp; 1.2.1 [Interface](#kap121)  \n",
    "    &emsp; &emsp; 1.2.2 [Cell types and tips](#kap122)  \n",
    "\n",
    "2. [First Steps](#kap2)  \n",
    "    &ensp; 2.1 [Execute a code](#kap21)  \n",
    "    &ensp; 2.2 [Simple Calculations](#kap22)  \n",
    "    &ensp; 2.3 [Variables](#kap23)  \n",
    "    &ensp; 2.4 [Print command](#kap24)  \n",
    "    &ensp; 2.5 [Comments](#kap25)  \n",
    "    &ensp; 2.6 [Data types](#kap26)  \n",
    "    &emsp; &emsp; 2.6.1 [Numbers](#kap261)  \n",
    "    &emsp; &emsp; 2.6.2 [Strings](#kap262)\n",
    "    &emsp; &emsp; 2.6.3 [Lists](#kap263) \n",
    "    &ensp; 2.7 [Methods](#kap27)    \n",
    "\n",
    "3. [Scripts](#kap3)  \n",
    "    &ensp; 3.1 [Functions](#kap31)  \n",
    "    &ensp; 3.2 [Important functions](#kap32)\n",
    "\n",
    "4. [Compound statements](#kap4)  \n",
    "    &ensp; 4.1 [Conditional statements](#kap41)   \n",
    "    &ensp; 4.2 [Booleans](#kap42)  \n",
    "    &ensp; 4.3 [For loop](#kap43)  \n",
    "    &ensp; 4.4 [While loop](#kap44) \n",
    "\n",
    "5. [Define functions](#kap5)  \n",
    "    &ensp; 5.1 [Own Functions](#kap51)   \n",
    "    &ensp; 5.2 [Parameter](#kap52)  \n",
    "    &ensp; 5.3 [Arguments and parameters](#kap53)  \n",
    "    &ensp; 5.4 [Return](#kap54)\n",
    "\n",
    "6. [Modules and libraries](#kap6)  \n",
    "    &ensp; 6.1 [Import modules](#kap61)  \n",
    "    &ensp; 6.2 [Python Standard Library](#kap62)  \n",
    "    &ensp; 6.3 [External Libraries](#kap63)  \n",
    "\n",
    "7. [Pandas](#kap7)  \n",
    "    &ensp; 7.1 [DataFrame](#kap71)  \n",
    "    &ensp; 7.2 [Create a DataFrame](#kap72)  \n",
    "    &ensp; 7.3 [Analyze a DataFrame](#kap73)  \n",
    "    &ensp; 7.4 [Access data in DataFrames](#kap74)  \n",
    "    &ensp; 7.5 [Manipulate a DataFrames](#kap75)  \n",
    "    &ensp; 7.6 [DataFrames and data types](#kap76)  \n",
    "    &ensp; 7.7 [Plot DataFrames](#kap77)\n",
    "\n",
    "8. [NumPy](#kap8)  \n",
    "    &ensp; 8.1 [Mathematical functions](#kap81)  \n",
    "    &ensp; 8.2 [Ndarrays](#kap82) \n",
    "\n",
    "9. [Matplotlib](#kap9)  \n",
    "    &ensp; 9.1 [Format plots](#kap91)  \n",
    "    &emsp; &emsp; 9.1.1 [2D-Plots (points)](#kap911)  \n",
    "    &emsp; &emsp; 9.1.2 [Axis labeling](#kap912)  \n",
    "    &emsp; &emsp; 9.1.3 [Axis scaling](#kap913)  \n",
    "    &emsp; &emsp; 9.1.4 [Legend](#kap914)  \n",
    "    &emsp; &emsp; 9.1.5 [Grid](#kap915)  \n",
    "    &ensp; 9.2 [Plot types](#kap92)  \n",
    "    &emsp; &emsp; 9.2.1 [Scatterplots](#kap921)  \n",
    "    &emsp; &emsp; 9.2.2 [Histograms](#kap922)  \n",
    "    &emsp; &emsp; 9.2.3 [Pie charts](#kap923)"
   ]
  },
  {
   "cell_type": "markdown",
   "id": "0c7883c4",
   "metadata": {},
   "source": [
    "<hr style=\"border:1px solid gray\"> </hr>"
   ]
  },
  {
   "cell_type": "markdown",
   "id": "37467cdd",
   "metadata": {},
   "source": [
    "# <span style=\"color:mediumblue\">1. Orientation</span> <a name=\"kap1\"></a>"
   ]
  },
  {
   "cell_type": "markdown",
   "id": "131436c4",
   "metadata": {},
   "source": [
    "<hr>"
   ]
  },
  {
   "cell_type": "markdown",
   "id": "19105a46",
   "metadata": {},
   "source": [
    "## <span style=\"color:mediumblue\">1.1 What is Python?</span> <a name=\"kap11\"></a>\n",
    "Python is a universal programming language that is used in almost all IT fields. It was developed by Guido van Rossum from 1991 and is one of the most popular and widely used programming languages in the world. \n",
    "\n",
    "Advantages:\n",
    "- simply structured and easy to read syntax\n",
    "- open source: free to use and free editing of the source code\n",
    "- further development and specialization by hundreds of thousands of users worldwide\n",
    "- industrial standard in many areas (e.g. data science and machine learning)  \n",
    "\n",
    "<b>How do I use Python?</b> \n",
    "\n",
    "Python is initially just a programming language. To use it on a computer, several things are needed:\n",
    "\n",
    "- The Python interpreter allows the computer to understand and implement the code.\n",
    "- The library contains the functions that can be used in the code.\n",
    "- The user interface is the place where the code can be entered and executed.\n",
    "\n",
    "In this course, the user interface Jupyter notebooks is used. The installation of all components works easiest via the program Anaconda."
   ]
  },
  {
   "cell_type": "markdown",
   "id": "dd8a6557",
   "metadata": {},
   "source": [
    "<hr>"
   ]
  },
  {
   "cell_type": "markdown",
   "id": "ad7069ab",
   "metadata": {},
   "source": [
    "## <span style=\"color:mediumblue\">1.2 Jupyter Notebook</span> <a name=\"kap12\"></a>\n",
    "Jupyter Notebook is a web browser-based tool for editing and outputting Python code.\n",
    "The program code is not stored in a Python script file (file extension .py) like in classical development environments, but in a <span style=\"color:crimson\">notebook</span> (file extension .ipynb).\n",
    "\n",
    "What is the difference?  \n",
    "- Notebooks not only contain the program code. There additionally store the output of the program.\n",
    "- They allow a graphically descriptive commenting of the code by including e.g. texts or images.\n",
    "- They are (unfortunately) only useable within Jupyter Notebooks, since they cannot be executed directly by the Python interpreter."
   ]
  },
  {
   "cell_type": "markdown",
   "id": "54b741df",
   "metadata": {},
   "source": [
    "### <span style=\"color:mediumblue\">1.2.1 Interface</span> <a name=\"kap121\"></a>\n",
    "<p><img src=\"img/if1.png\"/></p>  \n",
    "<p><img src=\"img/if2.png\"/></p>"
   ]
  },
  {
   "cell_type": "markdown",
   "id": "ac828280",
   "metadata": {},
   "source": [
    "### <span style=\"color:mediumblue\">1.2.2 Cell types and tips</span> <a name=\"kap122\"></a>\n",
    "<p><img src=\"img/zell.png\"/></p>"
   ]
  },
  {
   "cell_type": "markdown",
   "id": "4ae32db6",
   "metadata": {},
   "source": [
    "<hr style=\"border:1px solid gray\"> </hr>"
   ]
  },
  {
   "cell_type": "markdown",
   "id": "e63a6fd9",
   "metadata": {},
   "source": [
    "# <span style=\"color:mediumblue\">2. First steps</span> <a name=\"kap2\"></a>"
   ]
  },
  {
   "cell_type": "markdown",
   "id": "1c804b19",
   "metadata": {},
   "source": [
    "<hr>"
   ]
  },
  {
   "cell_type": "markdown",
   "id": "912c7e83",
   "metadata": {},
   "source": [
    "## <span style=\"color:mediumblue\">2.1 Execute a code</span> <a name=\"kap21\"></a>\n",
    "How to execute a Python code in Jupyter Notebook? \n",
    "\n",
    "The numbers 3 and 5 are to be added. To do this, write \"3+5\" in the first cell. The content of the cell represents the input, i.e. the code that you pass to Python for execution.\n",
    "\n",
    "<div class=\"alert alert-block alert-success\">\n",
    "To execute, press \"Shift+Enter\" or the ► symbol while you have selected the desired cell.\n",
    "</div>\n",
    "\n",
    "The output (the result) appears directly under the executed cell."
   ]
  },
  {
   "cell_type": "code",
   "execution_count": null,
   "id": "9c3f8a45",
   "metadata": {},
   "outputs": [],
   "source": [
    "3+5"
   ]
  },
  {
   "cell_type": "markdown",
   "id": "56fb34ae",
   "metadata": {},
   "source": [
    "<hr>"
   ]
  },
  {
   "cell_type": "markdown",
   "id": "1772a0b6",
   "metadata": {},
   "source": [
    "## <span style=\"color:mediumblue\">2.2 Simple Calculations</span> <a name=\"kap22\"></a>"
   ]
  },
  {
   "cell_type": "markdown",
   "id": "b6966877",
   "metadata": {},
   "source": [
    "<p><img src=\"img/rechnungen.png\" style=\"width:600px\"; align=\"left\"/></p>"
   ]
  },
  {
   "cell_type": "markdown",
   "id": "8732d169",
   "metadata": {},
   "source": [
    "<div class=\"alert alert-block alert-success\">\n",
    "Fill in the following cells using the table shown above and execute the code!\n",
    "</div>"
   ]
  },
  {
   "cell_type": "markdown",
   "id": "bd60d4b5",
   "metadata": {},
   "source": [
    "<b>Addition / Subtraction:</b>"
   ]
  },
  {
   "cell_type": "code",
   "execution_count": null,
   "id": "a9c6d157",
   "metadata": {},
   "outputs": [],
   "source": [
    "3+5-12"
   ]
  },
  {
   "cell_type": "markdown",
   "id": "10bba6ac",
   "metadata": {},
   "source": [
    "<b>Multiplication / Division:</b>"
   ]
  },
  {
   "cell_type": "code",
   "execution_count": null,
   "id": "a0c66800",
   "metadata": {},
   "outputs": [],
   "source": []
  },
  {
   "cell_type": "markdown",
   "id": "d9f88693",
   "metadata": {},
   "source": [
    "<b>Complex numbers:</b>  "
   ]
  },
  {
   "cell_type": "code",
   "execution_count": null,
   "id": "a2e91716",
   "metadata": {},
   "outputs": [],
   "source": []
  },
  {
   "cell_type": "markdown",
   "id": "24a4ee75",
   "metadata": {},
   "source": [
    "<b>Decimal numbers:</b>"
   ]
  },
  {
   "cell_type": "code",
   "execution_count": null,
   "id": "db1f6e4c",
   "metadata": {},
   "outputs": [],
   "source": []
  },
  {
   "cell_type": "markdown",
   "id": "31776ca1",
   "metadata": {},
   "source": [
    "<b>Powers:</b>"
   ]
  },
  {
   "cell_type": "code",
   "execution_count": null,
   "id": "db3d3e24",
   "metadata": {},
   "outputs": [],
   "source": []
  },
  {
   "cell_type": "markdown",
   "id": "c0d193a1",
   "metadata": {},
   "source": [
    "<b>Division without remainder:</b>"
   ]
  },
  {
   "cell_type": "code",
   "execution_count": null,
   "id": "cb2fc46b",
   "metadata": {},
   "outputs": [],
   "source": []
  },
  {
   "cell_type": "markdown",
   "id": "ed788736",
   "metadata": {},
   "source": [
    "<b>Modulo (Remainder of Division):</b>"
   ]
  },
  {
   "cell_type": "code",
   "execution_count": null,
   "id": "2f7f4cc2",
   "metadata": {},
   "outputs": [],
   "source": []
  },
  {
   "cell_type": "markdown",
   "id": "9f3eb7f6",
   "metadata": {},
   "source": [
    "<b>Assignment of a value to a variable:</b>"
   ]
  },
  {
   "cell_type": "code",
   "execution_count": null,
   "id": "a7c6e7f3",
   "metadata": {},
   "outputs": [],
   "source": []
  },
  {
   "cell_type": "markdown",
   "id": "5c5aa739",
   "metadata": {},
   "source": [
    "This value does not provide any output. Why? See [next chapter](#kap23)."
   ]
  },
  {
   "cell_type": "markdown",
   "id": "222890b7",
   "metadata": {},
   "source": [
    "<hr>"
   ]
  },
  {
   "cell_type": "markdown",
   "id": "0871ded5",
   "metadata": {},
   "source": [
    "## <span style=\"color:mediumblue\">2.3 Variables</span> <a name=\"kap23\"></a>\n",
    "x = 7 returns no output, because this code contains no information that should be printed. \n",
    "\n",
    "However, something still happens when the code is executed: A <span style=\"color:crimson\">variable</span> named x is stored in the computer and the number 7 is assigned to it.   \n",
    "If x appears again in the code after this assignment, it is treated as 7."
   ]
  },
  {
   "cell_type": "code",
   "execution_count": null,
   "id": "d13c6ea9",
   "metadata": {},
   "outputs": [],
   "source": [
    "x=7\n",
    "x+3"
   ]
  },
  {
   "cell_type": "markdown",
   "id": "6910e885",
   "metadata": {},
   "source": [
    "Variable names are very diverse, but there are some rules to follow:\n",
    "- If variables will be be overwritten, the old value is lost.\n",
    "- To define correctly, the variable name must be to the left of the equal sign. \n",
    "- A variable must always be defined before it is used for the first time.\n",
    "- Variable names must not contain numbers as first digit (variable1 is possible, but 1_variable is not)\n",
    "- Variable names must not contain any special characters except _ (underscore)"
   ]
  },
  {
   "cell_type": "code",
   "execution_count": null,
   "id": "d8dbe74f",
   "metadata": {},
   "outputs": [],
   "source": [
    "variable1 = 3"
   ]
  },
  {
   "cell_type": "code",
   "execution_count": null,
   "id": "e4f53fe9",
   "metadata": {},
   "outputs": [],
   "source": [
    "variable_1 = 3"
   ]
  },
  {
   "cell_type": "markdown",
   "id": "8bac110b",
   "metadata": {},
   "source": [
    "<div class=\"alert alert-block alert-success\">\n",
    "The following cells lead to an error message. Change the code so that no more error message appears! \n",
    "</div>"
   ]
  },
  {
   "cell_type": "code",
   "execution_count": null,
   "id": "db9f524b",
   "metadata": {},
   "outputs": [],
   "source": [
    "1.variable = 3"
   ]
  },
  {
   "cell_type": "code",
   "execution_count": null,
   "id": "bfb59878",
   "metadata": {},
   "outputs": [],
   "source": [
    "3 = x"
   ]
  },
  {
   "cell_type": "code",
   "execution_count": null,
   "id": "571dd498",
   "metadata": {},
   "outputs": [],
   "source": [
    "y = y + 3"
   ]
  },
  {
   "cell_type": "markdown",
   "id": "275ff502",
   "metadata": {},
   "source": [
    "<div class=\"alert alert-block alert-success\">\n",
    "Look at the following lines of code and think about the possible output. Executes the cells afterwards to check. \n",
    "</div>"
   ]
  },
  {
   "cell_type": "code",
   "execution_count": null,
   "id": "27c0ae83",
   "metadata": {},
   "outputs": [],
   "source": [
    "x = 7\n",
    "x + 3\n",
    "x       "
   ]
  },
  {
   "cell_type": "code",
   "execution_count": null,
   "id": "4d029ec6",
   "metadata": {},
   "outputs": [],
   "source": [
    "x = x + 3 \n",
    "x "
   ]
  },
  {
   "cell_type": "code",
   "execution_count": null,
   "id": "b34131cc",
   "metadata": {},
   "outputs": [],
   "source": [
    "x = 20\n",
    "x"
   ]
  },
  {
   "cell_type": "markdown",
   "id": "12184c39",
   "metadata": {},
   "source": [
    "The value for x is retained unless the variable is redefined. If you define a new value for a variable, the old value is overwritten."
   ]
  },
  {
   "cell_type": "markdown",
   "id": "13ffa1ba",
   "metadata": {},
   "source": [
    "<hr>"
   ]
  },
  {
   "cell_type": "markdown",
   "id": "108d5f97",
   "metadata": {},
   "source": [
    "## <span style=\"color:mediumblue\">2.4 Print command</span> <a name=\"kap24\"></a>\n",
    "An important function built into the Python interpreter is\n",
    "`print()`.\n",
    "\n",
    "This will output the variables in the parentheses in a targeted and formatted manner.\n",
    "\n",
    "With longer code you can thus control which variables you want to output, since often many intermediate steps are only interesting for the computer."
   ]
  },
  {
   "cell_type": "code",
   "execution_count": null,
   "id": "63537e6d",
   "metadata": {},
   "outputs": [],
   "source": [
    "print(x)"
   ]
  },
  {
   "cell_type": "markdown",
   "id": "7039f45e",
   "metadata": {},
   "source": [
    "<hr>"
   ]
  },
  {
   "cell_type": "markdown",
   "id": "0b43cf5c",
   "metadata": {},
   "source": [
    "## <span style=\"color:mediumblue\">2.5 Comments</span> <a name=\"kap25\"></a>\n",
    "By default, the entire content of a cell is evaluated by Python.  \n",
    "\n",
    "However, one can also insert <span style=\"color:crimson\">helping or structuring comments</span>. This is done with the help of the number sign #.\n",
    "\n",
    "Anything on a line after the # will not be executed by the Python interpreter."
   ]
  },
  {
   "cell_type": "code",
   "execution_count": null,
   "id": "418bc19d",
   "metadata": {},
   "outputs": [],
   "source": [
    "x = 5*3*2/(2+4) # from here only comment\n",
    "print(x)"
   ]
  },
  {
   "cell_type": "markdown",
   "id": "af104eba",
   "metadata": {},
   "source": [
    "In Jupyter notebook comments are displayed in <span style=\"color:darkcyan\">_blue and italic_</span>."
   ]
  },
  {
   "cell_type": "markdown",
   "id": "5eb95e3e",
   "metadata": {},
   "source": [
    "<hr>"
   ]
  },
  {
   "cell_type": "markdown",
   "id": "e6a1cb86",
   "metadata": {},
   "source": [
    "## <span style=\"color:mediumblue\">2.6 Data types</span> <a name=\"kap26\"></a>\n",
    "Everything that can be stored as a variable belongs to a certain data type.  \n",
    "Data types differ in the way the information is stored by the computer."
   ]
  },
  {
   "cell_type": "markdown",
   "id": "9f7ef91d",
   "metadata": {},
   "source": [
    "### <span style=\"color:mediumblue\">2.6.1 Numbers</span> <a name=\"kap261\"></a>\n",
    "The two most important data types for numbers in Python are:\n",
    "\n",
    "<b><span style=\"color:royalblue\">Integer (int):</span></b>  \n",
    "Decimal numbers without comma, e.g. -4, 1, 328.\n",
    "\n",
    "<b><span style=\"color:royalblue\">Floating Point Numbers (float):</span></b>  \n",
    "Finite decimal fractions where the position of the decimal point (or dot in Python) is variable, e.g. 1.5, 50.332, -0.3333."
   ]
  },
  {
   "cell_type": "markdown",
   "id": "698a7d0c",
   "metadata": {},
   "source": [
    "### <span style=\"color:mediumblue\">2.6.2 Strings</span> <a name=\"kap262\"></a>\n",
    "A variable can also be assigned a string instead of a number. A string is a sequence of characters (e.g. letters or numbers). The beginning and the end of a string are marked by single or double quotes."
   ]
  },
  {
   "cell_type": "code",
   "execution_count": null,
   "id": "c74addc2",
   "metadata": {},
   "outputs": [],
   "source": [
    "'This is a string.'"
   ]
  },
  {
   "cell_type": "code",
   "execution_count": null,
   "id": "95294b1b",
   "metadata": {},
   "outputs": [],
   "source": [
    "\"This is also a string.\""
   ]
  },
  {
   "cell_type": "markdown",
   "id": "94a8dd92",
   "metadata": {},
   "source": [
    "Strings are mostly used to output text, e.g. to describe or structure results.  \n",
    "In Jupyter Notebook, strings are written in <span style=\"color:crimson\">red</span>."
   ]
  },
  {
   "cell_type": "markdown",
   "id": "e5f7558e",
   "metadata": {},
   "source": [
    "<div class=\"alert alert-block alert-success\">\n",
    "Output the text \"Hello World!\" using the <span style='font-family:Consolas; color:green'>print</span> command!\n",
    "</div>"
   ]
  },
  {
   "cell_type": "code",
   "execution_count": null,
   "id": "d8119de8",
   "metadata": {},
   "outputs": [],
   "source": []
  },
  {
   "cell_type": "code",
   "execution_count": null,
   "id": "32864b2f",
   "metadata": {},
   "outputs": [],
   "source": [
    "# Assignment of the strings to the variables a and b:\n",
    "\n",
    "a = \"jupyter\"\n",
    "b = \"notebook\""
   ]
  },
  {
   "cell_type": "code",
   "execution_count": null,
   "id": "5be15ea2",
   "metadata": {},
   "outputs": [],
   "source": [
    "# Strings can also be \"added\", i.e. concatenated:\n",
    "\n",
    "a+b"
   ]
  },
  {
   "cell_type": "markdown",
   "id": "0b6eb48a",
   "metadata": {},
   "source": [
    "Strings cannot be subtracted, divided, or multiplied together.  \n",
    "```\n",
    "a-b\n",
    "a/b\n",
    "a*b\n",
    "```\n",
    "is not possible!"
   ]
  },
  {
   "cell_type": "code",
   "execution_count": null,
   "id": "7fa2c56d",
   "metadata": {},
   "outputs": [],
   "source": [
    "# Strings can be multiplied by integers:\n",
    "\n",
    "3*a"
   ]
  },
  {
   "cell_type": "markdown",
   "id": "47a56248",
   "metadata": {},
   "source": [
    "<div class=\"alert alert-block alert-warning\">\n",
    "\n",
    "<b>Attention!</b>  \n",
    "Python is case sensitive. This means `\"Jupyter\"` &ne; `\"jupyter\"`."
   ]
  },
  {
   "cell_type": "markdown",
   "id": "69652265",
   "metadata": {},
   "source": [
    "<b>What distinguishes a string (e.g. \"3\") from a number (e.g. 3)?</b>\n",
    "\n",
    "A string is a special data type where the computer stores only the sequence and type of characters. The individual characters have no quantitative properties and are unchangeable."
   ]
  },
  {
   "cell_type": "code",
   "execution_count": null,
   "id": "c214b60e",
   "metadata": {},
   "outputs": [],
   "source": [
    "\"3\" + \"2\"  # Strings"
   ]
  },
  {
   "cell_type": "code",
   "execution_count": null,
   "id": "151ee410",
   "metadata": {},
   "outputs": [],
   "source": [
    "3 + 2  # Numbers"
   ]
  },
  {
   "cell_type": "code",
   "execution_count": null,
   "id": "60a45cc7",
   "metadata": {},
   "outputs": [],
   "source": [
    "\"3\" + 2   # Strings and Numbers"
   ]
  },
  {
   "cell_type": "markdown",
   "id": "1b04f732",
   "metadata": {},
   "source": [
    "`\"3\" + 2` is not possible. Numbers and strings cannot be added because they are different data types."
   ]
  },
  {
   "cell_type": "markdown",
   "id": "34cf2751",
   "metadata": {},
   "source": [
    "### <span style=\"color:mediumblue\">2.6.3 Lists</span> <a name=\"kap263\"></a>\n",
    "Another important data type are <span style=\"color:crimson\">lists</span>. Like strings, lists store elements in a specified order. However, these elements can be any data types, e.g. numbers, strings or further lists.  The beginning and end of a list are marked by square brackets, the individual elements are separated by commas."
   ]
  },
  {
   "cell_type": "code",
   "execution_count": 1,
   "id": "84b86e5a",
   "metadata": {},
   "outputs": [],
   "source": [
    "values = [1, 8, 35, 0.4]"
   ]
  },
  {
   "cell_type": "markdown",
   "id": "41e25d9e",
   "metadata": {},
   "source": [
    "Each element of the list has an <span style=\"color:crimson\">index</span> ascending from left to right.\n",
    "The count starts on the left with index 0. The nth element thus always has index n-1 and can be called as follows:\n",
    "```\n",
    "values[n-1]\n",
    "```\n",
    "\"n\" here stands for any number that is less than the number of elements in the list."
   ]
  },
  {
   "cell_type": "code",
   "execution_count": null,
   "id": "266b9f0d",
   "metadata": {},
   "outputs": [],
   "source": [
    "print(values)\n",
    "print(values[0])\n",
    "print(values[2])\n",
    "print(values[-1]) # Negative indices count from the right and start at -1\n",
    "print(values[0:2]) # The upper interval limit is not included\n",
    "print(values[2:]) # Empty interval limits include all indices in this direction\n",
    "values = values + [5,2] # Elements can be added and are appended to the end of the list\n",
    "print(values)\n",
    "print(values[::2]) # Every 2nd element of the list"
   ]
  },
  {
   "cell_type": "markdown",
   "id": "30fc17de",
   "metadata": {},
   "source": [
    "<div class=\"alert alert-block alert-success\">\n",
    "Execute the following cell first once and then one more time!\n",
    "</div>"
   ]
  },
  {
   "cell_type": "code",
   "execution_count": 2,
   "id": "137cc978",
   "metadata": {},
   "outputs": [
    {
     "data": {
      "text/plain": [
       "[1, 8, 35, 0.4, 42, 24]"
      ]
     },
     "execution_count": 2,
     "metadata": {},
     "output_type": "execute_result"
    }
   ],
   "source": [
    "values = values + [42, 24]\n",
    "values"
   ]
  },
  {
   "cell_type": "markdown",
   "id": "d2e4d7b0",
   "metadata": {},
   "source": [
    "If a cell is executed again, the command is passed again. So in this case the elements [42, 24] are added to the list _values_ again."
   ]
  },
  {
   "cell_type": "code",
   "execution_count": null,
   "id": "37735d84",
   "metadata": {},
   "outputs": [],
   "source": [
    "# Lists can contain different types of data.\n",
    "# A list within a list can be included as a list element.\n",
    "\n",
    "list1 = [\"one\", 2, [1,1,1]]\n",
    "list2 = [3, \"two\", [1]]"
   ]
  },
  {
   "cell_type": "code",
   "execution_count": null,
   "id": "45ced6cf",
   "metadata": {},
   "outputs": [],
   "source": [
    "# Lists can be combined by +.\n",
    "\n",
    "list1 + list2"
   ]
  },
  {
   "cell_type": "markdown",
   "id": "1819a1c5",
   "metadata": {},
   "source": [
    "Lists cannot be multiplied or subtracted from each other. You cannot subtract a number (integer) from a list.\n",
    "\n",
    "```\n",
    "list1*list2     \n",
    "list1-list2\n",
    "liste1-2\n",
    "```\n",
    "is not possible!"
   ]
  },
  {
   "cell_type": "code",
   "execution_count": null,
   "id": "a2411710",
   "metadata": {},
   "outputs": [],
   "source": [
    "# A list can be multiplied by a integer.\n",
    "# The list then contains the corresponding repetition of the list elements.\n",
    "\n",
    "list1*3"
   ]
  },
  {
   "cell_type": "markdown",
   "id": "bfbb3be4",
   "metadata": {},
   "source": [
    "<hr>"
   ]
  },
  {
   "cell_type": "markdown",
   "id": "c1acf05c",
   "metadata": {},
   "source": [
    "## <span style=\"color:mediumblue\">2.7 Methods</span> <a name=\"kap27\"></a>\n",
    "The different data types automatically bring useful functions. These are called <span style=\"color:crimson\">methods</span>. To use methods in the code, a dot is placed after the respective variable and then the methods name is added. "
   ]
  },
  {
   "cell_type": "markdown",
   "id": "830acb28",
   "metadata": {},
   "source": [
    "Example: In strings, make all letters uppercase:"
   ]
  },
  {
   "cell_type": "code",
   "execution_count": null,
   "id": "f91f4f6a",
   "metadata": {},
   "outputs": [],
   "source": [
    "x = \"tHiS iS A sTrInG\"\n",
    "x.upper()"
   ]
  },
  {
   "cell_type": "markdown",
   "id": "9b1f05d3",
   "metadata": {},
   "source": [
    "<div class=\"alert alert-block alert-info\">\n",
    "\n",
    "<b>Hint:</b> Jupyter Notebook's auto-completion (\".\", then TAB key) can be used to see what methods the different data types provide.\n",
    "```\n",
    "list = [1,2,3]\n",
    "list.   # press now TAB key to display methods\n",
    "```"
   ]
  },
  {
   "cell_type": "markdown",
   "id": "991d3931",
   "metadata": {},
   "source": [
    "<div class=\"alert alert-block alert-success\">\n",
    "In the following cell, use the TAB key to explore the list methods!\n",
    "</div>"
   ]
  },
  {
   "cell_type": "code",
   "execution_count": null,
   "id": "e461fb62",
   "metadata": {},
   "outputs": [],
   "source": [
    "x."
   ]
  },
  {
   "cell_type": "markdown",
   "id": "dfd857bf",
   "metadata": {},
   "source": [
    "<b>Some methods of lists:</b>"
   ]
  },
  {
   "cell_type": "code",
   "execution_count": null,
   "id": "3ad06c77",
   "metadata": {},
   "outputs": [],
   "source": [
    "x = list((1, 2, 3, 4, 5))"
   ]
  },
  {
   "cell_type": "code",
   "execution_count": null,
   "id": "13929ac1",
   "metadata": {},
   "outputs": [],
   "source": [
    "# Add an element:\n",
    "\n",
    "x.append(5)\n",
    "x"
   ]
  },
  {
   "cell_type": "code",
   "execution_count": null,
   "id": "5b5b7941",
   "metadata": {},
   "outputs": [],
   "source": [
    "# Copy of the list\n",
    "\n",
    "x.copy()"
   ]
  },
  {
   "cell_type": "code",
   "execution_count": null,
   "id": "b7d66dd2",
   "metadata": {},
   "outputs": [],
   "source": [
    "# Indicates how often the element occurs in the list.\n",
    "\n",
    "x.count(5)"
   ]
  },
  {
   "cell_type": "code",
   "execution_count": null,
   "id": "fd3ba956",
   "metadata": {},
   "outputs": [],
   "source": [
    "# Specifies the index (position) of the element specified in parentheses in the list.\n",
    "\n",
    "x.index(3)"
   ]
  },
  {
   "cell_type": "code",
   "execution_count": null,
   "id": "b7ea3bde",
   "metadata": {},
   "outputs": [],
   "source": [
    "# Inserts an element at the specified position: x.insert(index, object)\n",
    "\n",
    "x.insert(3, 22)\n",
    "x"
   ]
  },
  {
   "cell_type": "code",
   "execution_count": null,
   "id": "fbabf628",
   "metadata": {},
   "outputs": [],
   "source": [
    "# Removes the n. element x.pop(n)\n",
    "\n",
    "x.pop(0)\n",
    "x"
   ]
  },
  {
   "cell_type": "code",
   "execution_count": null,
   "id": "486a3caa",
   "metadata": {},
   "outputs": [],
   "source": [
    "# Removes the element specified in parentheses (the first one, if the element is contained multiple times)\n",
    "\n",
    "x.remove(5)\n",
    "x"
   ]
  },
  {
   "cell_type": "code",
   "execution_count": null,
   "id": "159b2864",
   "metadata": {},
   "outputs": [],
   "source": [
    "# Reverse the order:\n",
    "\n",
    "x.reverse()\n",
    "x"
   ]
  },
  {
   "cell_type": "code",
   "execution_count": null,
   "id": "498c4845",
   "metadata": {},
   "outputs": [],
   "source": [
    "# Sort the elements:\n",
    "\n",
    "x.sort()\n",
    "x"
   ]
  },
  {
   "cell_type": "code",
   "execution_count": null,
   "id": "b7c8a5db",
   "metadata": {},
   "outputs": [],
   "source": [
    "# Delete all elements from the list\n",
    "\n",
    "x.clear()\n",
    "x"
   ]
  },
  {
   "cell_type": "markdown",
   "id": "3a934f9e",
   "metadata": {},
   "source": [
    "<b>Attention:</b>  The two methods .append() and .extend() are different!"
   ]
  },
  {
   "cell_type": "code",
   "execution_count": null,
   "id": "1d696877",
   "metadata": {},
   "outputs": [],
   "source": [
    "x = [1,2,3,4,5]\n",
    "x.append([6,7])\n",
    "x"
   ]
  },
  {
   "cell_type": "markdown",
   "id": "915c1db3",
   "metadata": {},
   "source": [
    "With .append() an object is added to the list. If it is a list, it will be added as an object, so you get a list within a list."
   ]
  },
  {
   "cell_type": "code",
   "execution_count": null,
   "id": "87c41e98",
   "metadata": {},
   "outputs": [],
   "source": [
    "x = [1,2,3,4,5]\n",
    "x.extend([6,7])\n",
    "x"
   ]
  },
  {
   "cell_type": "markdown",
   "id": "d513b9c2",
   "metadata": {},
   "source": [
    "With .extend() the list is extended. So the elements are added to the list. In this way, several lists can also be merged into one:"
   ]
  },
  {
   "cell_type": "code",
   "execution_count": null,
   "id": "6971de78",
   "metadata": {},
   "outputs": [],
   "source": [
    "x = [1,2,3,4,5]\n",
    "y = [6,7,8,9,10]\n",
    "\n",
    "x.extend(y)\n",
    "x"
   ]
  },
  {
   "cell_type": "markdown",
   "id": "82f369c3",
   "metadata": {},
   "source": [
    "<hr style=\"border:1px solid gray\"> </hr>"
   ]
  },
  {
   "cell_type": "markdown",
   "id": "e14f56ba",
   "metadata": {},
   "source": [
    "# <span style=\"color:mediumblue\">3. Scripts</span> <a name=\"kap3\"></a>"
   ]
  },
  {
   "cell_type": "markdown",
   "id": "08e7e2ff",
   "metadata": {},
   "source": [
    "<hr>"
   ]
  },
  {
   "cell_type": "markdown",
   "id": "580cc158",
   "metadata": {},
   "source": [
    "So far you have only executed individual command lines. These can be processed directly by the interpreter.\n",
    "\n",
    "For more complicated programs, <span style=\"color:crimson\">scrips</span> are used, a sequence of code stored in a Python file that can be called by a single command from the Python interpreter.\n",
    "\n",
    "In Jupyter Notebook, one <span style=\"color:crimson\">cell</span> corresponds to one script. Running a cell evaluates all the code it contains from top to bottom."
   ]
  },
  {
   "cell_type": "markdown",
   "id": "c7e7eb20",
   "metadata": {},
   "source": [
    "<hr>"
   ]
  },
  {
   "cell_type": "markdown",
   "id": "16aa9edc",
   "metadata": {},
   "source": [
    "## <span style=\"color:mediumblue\">3.1 Functions</span> <a name=\"kap31\"></a>\n",
    "A function is a defined block of code that can be called in a script. Calling a function in Python can be done with the following syntax:\n",
    "\n",
    " &ensp;  <span style='font-family:Consolas'><span style=\"color:green\">functionname(</span>arguments<span style=\"color:green\">)</span></span>  \n",
    "\n",
    "Functions are displayed in <span style=\"color:green\">green</span> in Jupyter notebook. A meanwhile already known function is `print()`. \n",
    "\n",
    "<br>  \n",
    "<br>\n",
    "<b>What happens when this line is executed?</b>  \n",
    "\n",
    "The code block associated with the function name is executed. The arguments in the parentheses are passed and processed.\n",
    "\n",
    "Some functions return values. Calling a function then defines one or more variables at the same time:\n",
    "\n",
    "  &ensp;  <span style='font-family:Consolas'>variable = <span style=\"color:green\">functionname(</span>arguments<span style=\"color:green\">)</span></span>"
   ]
  },
  {
   "cell_type": "markdown",
   "id": "0130f301",
   "metadata": {},
   "source": [
    "<hr>"
   ]
  },
  {
   "cell_type": "markdown",
   "id": "942c479e",
   "metadata": {},
   "source": [
    "## <span style=\"color:mediumblue\">3.2 Important functions</span> <a name=\"kap32\"></a>\n",
    "\n",
    "The Python interpreter itself contains about 70 <span style=\"color:crimson\">built-in functions</span>.\n",
    "\n",
    "Some are presented below, and a complete list can be found at: https://docs.python.org/3/library/functions.html"
   ]
  },
  {
   "cell_type": "markdown",
   "id": "c87b9728",
   "metadata": {},
   "source": [
    "| Funktion | Effekt | \n",
    "|:--------- |:--------|\n",
    "|  len()          |   Returns the length of an object|\n",
    "|  max() / min()  |   Returns the largest / smallest object   | \n",
    "|  abs()          |   Returns the absolute value of a number   | \n",
    "|  round()        |   Rounds a number to the nearest integer (rounding up)   | \n",
    "|  int()          |   Changes the input to the integer data type   | \n",
    "|  str()          |   Changes the input to the data type string   | \n",
    "|  input()        |   Opens an input field and saves the input value as a string   | \n",
    "|  type()         |   Outputs the data type of the entered variable  | \n",
    "|  list()         |   Builds a list from the entered elements   | "
   ]
  },
  {
   "cell_type": "markdown",
   "id": "38c5f0bb",
   "metadata": {},
   "source": [
    "<div class=\"alert alert-block alert-success\">\n",
    "Use the functions listed above to execute the following cells!\n",
    "</div>"
   ]
  },
  {
   "cell_type": "code",
   "execution_count": null,
   "id": "f62f887a",
   "metadata": {},
   "outputs": [],
   "source": [
    "x = [1,2,3]"
   ]
  },
  {
   "cell_type": "code",
   "execution_count": null,
   "id": "2f0d7239",
   "metadata": {},
   "outputs": [],
   "source": [
    "# Smallest object of x:\n",
    "min(x)"
   ]
  },
  {
   "cell_type": "code",
   "execution_count": null,
   "id": "68719560",
   "metadata": {},
   "outputs": [],
   "source": [
    "# Largest object of x:\n"
   ]
  },
  {
   "cell_type": "code",
   "execution_count": null,
   "id": "d363cb73",
   "metadata": {},
   "outputs": [],
   "source": [
    "# Length of x:\n"
   ]
  },
  {
   "cell_type": "code",
   "execution_count": null,
   "id": "af22e7b7",
   "metadata": {},
   "outputs": [],
   "source": [
    "x = -5"
   ]
  },
  {
   "cell_type": "code",
   "execution_count": null,
   "id": "093a3a0d",
   "metadata": {},
   "outputs": [],
   "source": [
    "# Absolut value of x:\n"
   ]
  },
  {
   "cell_type": "code",
   "execution_count": null,
   "id": "30122639",
   "metadata": {},
   "outputs": [],
   "source": [
    "x = 1.54"
   ]
  },
  {
   "cell_type": "code",
   "execution_count": null,
   "id": "3b92cb98",
   "metadata": {},
   "outputs": [],
   "source": [
    "# Rounded value of x:\n"
   ]
  },
  {
   "cell_type": "code",
   "execution_count": null,
   "id": "f8cd0aa7",
   "metadata": {},
   "outputs": [],
   "source": [
    "# Conversion of x to an integer:\n"
   ]
  },
  {
   "cell_type": "code",
   "execution_count": null,
   "id": "17ecd8bb",
   "metadata": {},
   "outputs": [],
   "source": [
    "# Data type of x:\n"
   ]
  },
  {
   "cell_type": "markdown",
   "id": "ef63f25e",
   "metadata": {},
   "source": [
    "<div class=\"alert alert-block alert-success\"> \n",
    "Enter an input in the input field to have it output.\n",
    "</div>"
   ]
  },
  {
   "cell_type": "code",
   "execution_count": null,
   "id": "fa8027ec",
   "metadata": {},
   "outputs": [],
   "source": [
    "x = input('What is your name?')\n",
    "x"
   ]
  },
  {
   "cell_type": "markdown",
   "id": "c5a4393a",
   "metadata": {},
   "source": [
    "<div class=\"alert alert-block alert-success\"> \n",
    "Use the list() function to create a list with the content (3,7, \"eggs\").\n",
    "</div>"
   ]
  },
  {
   "cell_type": "code",
   "execution_count": null,
   "id": "401d5854",
   "metadata": {},
   "outputs": [],
   "source": [
    "x = list()"
   ]
  },
  {
   "cell_type": "markdown",
   "id": "b7360dc7",
   "metadata": {},
   "source": [
    "<div class=\"alert alert-block alert-info\">\n",
    "\n",
    "<b>Hint:</b>  \n",
    "For more information about a specific function (e.g. about the parameters), the documentation can be called with \"functionname?\".  "
   ]
  },
  {
   "cell_type": "code",
   "execution_count": null,
   "id": "f4fcd2c9",
   "metadata": {},
   "outputs": [],
   "source": [
    "len?"
   ]
  },
  {
   "cell_type": "markdown",
   "id": "cd24cfca",
   "metadata": {},
   "source": [
    "<hr style=\"border:1px solid gray\"> </hr>"
   ]
  },
  {
   "cell_type": "markdown",
   "id": "9b550196",
   "metadata": {},
   "source": [
    "# <span style=\"color:mediumblue\">4. Compound statements</span> <a name=\"kap4\"></a>"
   ]
  },
  {
   "cell_type": "markdown",
   "id": "db67866a",
   "metadata": {},
   "source": [
    "<hr>"
   ]
  },
  {
   "cell_type": "markdown",
   "id": "3513b1b6",
   "metadata": {},
   "source": [
    "## <span style=\"color:mediumblue\">4.1 Conditional statements</span> <a name=\"kap41\"></a>\n",
    "\n",
    "Often you have to decide which statement to execute based on given variables. For this you need conditional statements:  \n",
    "\n",
    "&ensp;  <span style='font-family:Consolas'><span style=\"color:green\">if </span>&lt;Condition&gt;:  \n",
    "  &emsp;&emsp;&emsp;&emsp; &lt;Statement 1&gt;</span> "
   ]
  },
  {
   "cell_type": "markdown",
   "id": "4700b07e",
   "metadata": {},
   "source": [
    "<div class=\"alert alert-block alert-warning\">\n",
    "\n",
    "<b>Attention!</b>  \n",
    "Where in other programming languages the indentation in code is for readability only, the indentation in Python is very important. Python uses indentation to indicate a block of code.\n",
    "(1 x Tab = 4 Spaces)  \n",
    "Colon : marks the end of a statement."
   ]
  },
  {
   "cell_type": "markdown",
   "id": "0fcf750f",
   "metadata": {},
   "source": [
    "This code ensures that statement 1 is only executed if the condition is <span style=\"color:crimson\">True</span>, i.e. the condition is fulfilled. \n",
    "\n",
    "If it is <span style=\"color:crimson\">False</span> instead, all subsequent <span style=\"color:crimson\">indented code</span> is skipped and it continues on the next non-indented line."
   ]
  },
  {
   "cell_type": "markdown",
   "id": "0b23ec45",
   "metadata": {},
   "source": [
    "The compound statements `elif` and `else` can help keep branches more manageable: \n",
    "\n",
    "&ensp;  <span style='font-family:Consolas'><span style=\"color:green\">if </span>&lt;Condition 1&gt;:  \n",
    "  &emsp;&emsp;&emsp;&emsp; &lt;Statement 1&gt;</span> \n",
    "\n",
    "&ensp;  <span style='font-family:Consolas'><span style=\"color:green\">elif </span>&lt;Condition 2&gt;:  \n",
    "  &emsp;&emsp;&emsp;&emsp; &lt;Statement 2&gt;</span> \n",
    "\n",
    "&ensp;  <span style='font-family:Consolas'><span style=\"color:green\">else</span>:   <nl>              \n",
    "  &emsp;&emsp;&emsp;&emsp; &lt;Statement 3&gt;</span>"
   ]
  },
  {
   "cell_type": "markdown",
   "id": "f5a2bfa5",
   "metadata": {},
   "source": [
    "<div class=\"alert alert-block alert-warning\">\n",
    "    \n",
    "<span style='font-family:Consolas'><span style=\"color:green\">elif</span></span> (else if): This block is executed only if all previous conditions are false and <condition 2> is true.\n",
    "    \n",
    "<span style='font-family:Consolas'><span style=\"color:green\">else</span></span>: This block is always at the end and is only executed if all other conditions are False."
   ]
  },
  {
   "cell_type": "markdown",
   "id": "f4c03f75",
   "metadata": {},
   "source": [
    "<b>Beispiel:</b>"
   ]
  },
  {
   "cell_type": "code",
   "execution_count": null,
   "id": "0d9a1def",
   "metadata": {},
   "outputs": [],
   "source": [
    "list1 = [1, 2, 3, \"a\", \"b\", \"c\"]\n",
    "x = \"a\"\n",
    "y = 10\n",
    "\n",
    "if x in list1:\n",
    "    print(x, \"is in the list.\")\n",
    "else:\n",
    "    print(x, \"is not in the list.\")\n",
    "\n",
    "if y in list1:\n",
    "    print(y, \"is in the list.\")\n",
    "else:\n",
    "    print(y, \"is not in the list.\")"
   ]
  },
  {
   "cell_type": "markdown",
   "id": "fe63e26d",
   "metadata": {},
   "source": [
    "<hr>"
   ]
  },
  {
   "cell_type": "markdown",
   "id": "ff8da7bb",
   "metadata": {},
   "source": [
    "## <span style=\"color:mediumblue\">4.2 Booleans</span> <a name=\"kap42\"></a>\n",
    "\n",
    "The booleans in the conditions of the conditional statements can be generated in various ways:\n",
    "\n",
    "- Check for equality, e.g. &emsp;&emsp; <span style='font-family:Consolas'>a <span style=\"color:purple\">==</span> 1</span>\n",
    "- Check for inequality, e.g. &emsp; <span style='font-family:Consolas'>a <span style=\"color:purple\">!=</span> 1</span>\n",
    "- Check for less than, e.g. &emsp;&emsp;&emsp;&ensp; <span style='font-family:Consolas'>a <span style=\"color:purple\">&lt;</span> 1</span>\n",
    "- Check for less than or equal to, e.g. &ensp; <span style='font-family:Consolas'>a <span style=\"color:purple\">&lt;=</span> 1</span>\n",
    "- Check for greater than, e.g. &emsp;&emsp;&emsp;&ensp; <span style='font-family:Consolas'>a <span style=\"color:purple\">&gt;</span> 1</span>\n",
    "- Check for greater than or eqal to, e.g. &ensp; <span style='font-family:Consolas'>a <span style=\"color:purple\">&gt;=</span> 1</span>"
   ]
  },
  {
   "cell_type": "markdown",
   "id": "8c61ffe0",
   "metadata": {},
   "source": [
    "Booleans can also be concatenated:\n",
    "\n",
    "- <b>AND</b> check, if two statements are True simultaneously, e.g.\n",
    " <span style='font-family:Consolas'>a <span style=\"color:purple\">&gt;=</span><span style=\"color:green\"> 1 **and**</span> c <span style=\"color:purple\">&lt;</span><span style=\"color:green\"> 0</span></span>\n",
    "\n",
    "\n",
    "- <b>OR</b> Check, if at least one statement is True, e.g.  \n",
    " <span style='font-family:Consolas'>a <span style=\"color:purple\">&gt;=</span><span style=\"color:green\"> 1 **or**</span> c <span style=\"color:purple\">&lt;</span><span style=\"color:green\"> 0</span></span>\n",
    "\n",
    "\n",
    "More than 2 booleans can also be concatenated. For this, round brackets are used to define the order of evaluation!"
   ]
  },
  {
   "cell_type": "markdown",
   "id": "78f98c73",
   "metadata": {},
   "source": [
    "<b>Example:</b>"
   ]
  },
  {
   "cell_type": "code",
   "execution_count": null,
   "id": "da6c7034",
   "metadata": {},
   "outputs": [],
   "source": [
    "a = 4\n",
    "b = 4\n",
    "c = 16\n",
    "d = -5\n",
    "\n",
    "print(a <= 1)\n",
    "print(a == b)\n",
    "print((1/4)*c == b and d > a)\n",
    "print((1/4)*c == b or d > a)"
   ]
  },
  {
   "cell_type": "markdown",
   "id": "a1f78616",
   "metadata": {},
   "source": [
    "<div class=\"alert alert-block alert-success\"> \n",
    "Check whether the following statements are True or False.\n",
    "</div>"
   ]
  },
  {
   "cell_type": "markdown",
   "id": "a2d2e5d8",
   "metadata": {},
   "source": [
    "```\n",
    "a = 4\n",
    "b = 4\n",
    "c = 16\n",
    "d = -5\n",
    "\n",
    "a >= 1\n",
    "a >= 4\n",
    "4**a == c\n",
    "-b < d\n",
    "d+10 >= b and a+2 < b \n",
    "d+10 >= b or a+2 < b \n",
    "d+a*b >= c and -1*a > d\n",
    "```"
   ]
  },
  {
   "cell_type": "code",
   "execution_count": null,
   "id": "e29e96b9",
   "metadata": {},
   "outputs": [],
   "source": []
  },
  {
   "cell_type": "markdown",
   "id": "741f255e",
   "metadata": {},
   "source": [
    "<div class=\"alert alert-block alert-success\"> \n",
    "Check whether the following statements are True or False.\n",
    "</div>"
   ]
  },
  {
   "cell_type": "markdown",
   "id": "959fb9b0",
   "metadata": {},
   "source": [
    "```\n",
    "tree = \"maple\"  \n",
    "month = 5\n",
    "\n",
    "tree == \"maple\"\n",
    "tree == \"Maple\"  \n",
    "tree == \"maple\" and month > 0\n",
    "tree == \"maple\" or month > 0\n",
    "```"
   ]
  },
  {
   "cell_type": "code",
   "execution_count": null,
   "id": "72d638b9",
   "metadata": {},
   "outputs": [],
   "source": []
  },
  {
   "cell_type": "markdown",
   "id": "fc156fb1",
   "metadata": {},
   "source": [
    "<hr>"
   ]
  },
  {
   "cell_type": "markdown",
   "id": "a20d5a75",
   "metadata": {},
   "source": [
    "## <span style=\"color:mediumblue\">4.3 For loop</span> <a name=\"kap43\"></a>\n",
    "\n",
    "Often you want to execute a sequence of code several times in a row. Instead of copying the same statement over and over again, you use loops. The best known loop is the <span style=\"color:crimson\">for loop</span>. It can be written in the following syntax:\n",
    "\n",
    "&ensp;  <span style='font-family:Consolas'><span style=\"color:green\">for </span>i <span style=\"color:green\">in </span>list:  \n",
    "  &emsp;&emsp;&emsp;&emsp; &lt;Statement&gt;</span>   \n",
    "\n",
    "The indented code (here: &lt;Statement&gt;) is repeated once for each list entry, where the variable i takes the respective value of the list. \n",
    "\n",
    "The variables i and k are often used as loop variables."
   ]
  },
  {
   "cell_type": "markdown",
   "id": "5e7dc447",
   "metadata": {},
   "source": [
    "<b>Beispiel:</b>"
   ]
  },
  {
   "cell_type": "code",
   "execution_count": null,
   "id": "7c18acb2",
   "metadata": {},
   "outputs": [],
   "source": [
    "for i in [1,5,2]:\n",
    "    print(i)"
   ]
  },
  {
   "cell_type": "markdown",
   "id": "f535807f",
   "metadata": {},
   "source": [
    "Arithmetic sequences are often needed in lists. They can be easily generated with the `range()` function:"
   ]
  },
  {
   "cell_type": "code",
   "execution_count": null,
   "id": "bdd413cc",
   "metadata": {},
   "outputs": [],
   "source": [
    "# Sum of all numbers from 1 to 4:\n",
    "\n",
    "sum = 0\n",
    "for i in range(1,5):  # The last value (here 5) is not included in the list\n",
    "    sum = sum + i\n",
    "print(sum)"
   ]
  },
  {
   "cell_type": "markdown",
   "id": "26174b3c",
   "metadata": {},
   "source": [
    "<div class=\"alert alert-block alert-success\"> \n",
    "Write a program that calculates the sum of the numbers between 42 and 42,000,000. \n",
    "Use a for loop and the range() function for this. (Result: 882000020999139)\n",
    "</div>"
   ]
  },
  {
   "cell_type": "code",
   "execution_count": null,
   "id": "807e0418",
   "metadata": {},
   "outputs": [],
   "source": []
  },
  {
   "cell_type": "markdown",
   "id": "23d0e92d",
   "metadata": {},
   "source": [
    "<b>Another example of a list with strings:</b>"
   ]
  },
  {
   "cell_type": "code",
   "execution_count": null,
   "id": "decf90aa",
   "metadata": {},
   "outputs": [],
   "source": [
    "female_engineers = [\"Ada Lovelace\", \"Edith Clarke\", \"Lillian Gilbreth\", \"Annie Easley\", \"Hertha Ayrton\", \"Hedy Lamarr\"]\n",
    "\n",
    "print(\"Famous female engineers:\")\n",
    "for i in range(0,2):\n",
    "    print(female_engineers[i])"
   ]
  },
  {
   "cell_type": "markdown",
   "id": "122172db",
   "metadata": {},
   "source": [
    "<hr>"
   ]
  },
  {
   "cell_type": "markdown",
   "id": "a6f6178e",
   "metadata": {},
   "source": [
    "## <span style=\"color:mediumblue\">4.4 While loop</span> <a name=\"kap44\"></a>\n",
    "\n",
    "Another commonly used loop is the <span style=\"color:crimson\">while loop</span>. It has the form: \n",
    "Eine weitere häufig verwendete Schleife ist die <span style=\"color:crimson\">while-Schleife</span>. It can be written in the following syntax: \n",
    "\n",
    "&ensp;  <span style='font-family:Consolas'><span style=\"color:green\">while </span>&lt;Condition&gt;:       \n",
    "  &emsp;&emsp;&emsp;&emsp; &lt;Statement&gt;</span>\n",
    "\n",
    "Here the condition is of the same form as for the condition statement ([Boolean](#kap42))."
   ]
  },
  {
   "cell_type": "markdown",
   "id": "cc4979b9",
   "metadata": {},
   "source": [
    "<div class=\"alert alert-block alert-warning\">\n",
    "\n",
    "<b>Attention!</b>  \n",
    "The condition must be false at some point, otherwise it is an infinite loop!  \n",
    "In Jupyter-Notebook endless loops are interrupted by selecting Kernel &rarr; Interrupt in the upper menu bar."
   ]
  },
  {
   "cell_type": "markdown",
   "id": "3485d477",
   "metadata": {},
   "source": [
    "<b>Example:</b>"
   ]
  },
  {
   "cell_type": "code",
   "execution_count": null,
   "id": "0c0b2f91",
   "metadata": {},
   "outputs": [],
   "source": [
    "# Sum of all numbers between 42 and 1000:\n",
    "\n",
    "i = 42\n",
    "sum = 0\n",
    "while i <= 1000:\n",
    "    sum = sum + i\n",
    "    i = i + 1\n",
    "print(sum)"
   ]
  },
  {
   "cell_type": "markdown",
   "id": "5d38a42a",
   "metadata": {},
   "source": [
    "<div class=\"alert alert-block alert-success\">\n",
    "Run the code below. What are the issues you see here? \n",
    "</div>"
   ]
  },
  {
   "cell_type": "code",
   "execution_count": null,
   "id": "f3c1ec4c",
   "metadata": {},
   "outputs": [],
   "source": [
    "i = 42\n",
    "sum = 0\n",
    "\n",
    "while i <= 42000000:\n",
    "    sum = sum + i\n",
    "\n",
    "print(sum)"
   ]
  },
  {
   "cell_type": "markdown",
   "id": "d920d481",
   "metadata": {},
   "source": [
    "<div class=\"alert alert-block alert-danger\">\n",
    " \n",
    "This is an infinite loop, since it always remains below 42000000. <br>\n",
    "Click &#9724; or Kernel &rarr; Interrupt to stop the execution of the cell!"
   ]
  },
  {
   "cell_type": "markdown",
   "id": "492cdd8f",
   "metadata": {},
   "source": [
    "<hr style=\"border:1px solid gray\"> </hr>"
   ]
  },
  {
   "cell_type": "markdown",
   "id": "2f3179f0",
   "metadata": {},
   "source": [
    "# <span style=\"color:mediumblue\">5. Define functions</span> <a name=\"kap5\"></a>"
   ]
  },
  {
   "cell_type": "markdown",
   "id": "abf90784",
   "metadata": {},
   "source": [
    "<hr>"
   ]
  },
  {
   "cell_type": "markdown",
   "id": "16b18120",
   "metadata": {},
   "source": [
    "## <span style=\"color:mediumblue\">5.1 Own Functions</span> <a name=\"kap51\"></a>\n",
    "\n",
    "If you want to use parts of your own code in a similar form in different places, it is time-consuming and confusing to write it down each time. It makes more sense to <span style=\"color:crimson\">define</span> your own functions. These can then be called in exactly the same way as the built-in functions from [Chapter 3](#kap3).\n",
    "\n",
    "Definition of a function:\n",
    "\n",
    "&ensp;  <span style='font-family:Consolas'><span style=\"color:green\">def </span><span style=\"color:blue\">functionname</span><span style=\"color:green\">(</span>parameter<span style=\"color:green\">)</span>:</span>  \n",
    "&emsp;&emsp;&emsp;  <span style='font-family:Consolas'> &lt;Statement&gt;</span>  \n",
    "\n",
    "Functions do not have to be defined in the same cell where you want to call them.  \n",
    "It is a popular convention in Jupyter Notebook to create a separate cell for function definitions."
   ]
  },
  {
   "cell_type": "markdown",
   "id": "c18ff0a9",
   "metadata": {},
   "source": [
    "<hr>"
   ]
  },
  {
   "cell_type": "markdown",
   "id": "60726b8f",
   "metadata": {},
   "source": [
    "## <span style=\"color:mediumblue\">5.2 Parameter</span> <a name=\"kap52\"></a>\n",
    "\n",
    "Defined functions can have any number of <span style=\"color:crimson\">parameters</span>. Parameters are local variables, i.e. they are defined only within the function. When calling the function, a value <ins>must</ins> be assigned to each <span style=\"color:crimson\">mandatory parameter</span>. <span style=\"color:crimson\">Optional parameter</span> have a default value that <ins>can</ins> be overwritten when the function is called.\n",
    "\n",
    "&ensp;  <span style='font-family:Consolas'><span style=\"color:green\">def </span><span style=\"color:blue\">function</span><span style=\"color:green\">(</span>a,b,c=2<span style=\"color:green\">)</span>:</span>   &emsp;&emsp;&emsp;<b>mandatory parameter:</b> a,b &rarr; must always be at the beginning   \n",
    "&emsp;&emsp;&emsp;  <span style='font-family:Consolas'> x = a + b*c</span>    &nbsp;&nbsp;&nbsp;&ensp;&emsp;&emsp;&emsp;&emsp;&emsp;&emsp;<b>optional parameter:</b> c &rarr; have a default value and are at the end <br> \n",
    "&emsp;&emsp;&emsp; <span style='font-family:Consolas'><span style=\"color:green\"> print(</span>x<span style=\"color:green\">)</span></span>"
   ]
  },
  {
   "cell_type": "markdown",
   "id": "3daf2d3a",
   "metadata": {},
   "source": [
    "<hr>"
   ]
  },
  {
   "cell_type": "markdown",
   "id": "6fc764e4",
   "metadata": {},
   "source": [
    "## <span style=\"color:mediumblue\">5.3 Arguments and parameters</span> <a name=\"kap53\"></a>\n",
    "How does the computer know which input variable (argument) belongs to which parameter when calling the function?\n",
    "\n",
    "In the following example, the position of the arguments is crucial. When the function is called, the first argument is assigned to the parameter listed first in the definition, and so on. Such arguments are called <span style=\"color:crimson\"><b>position arguments</b></span>."
   ]
  },
  {
   "cell_type": "code",
   "execution_count": null,
   "id": "28932280",
   "metadata": {},
   "outputs": [],
   "source": [
    "def function1(a,b,c=2):\n",
    "    x = a + b*c\n",
    "    print(x)\n",
    "\n",
    "function1(1,2,3)\n",
    "function1(3,2,1)"
   ]
  },
  {
   "cell_type": "markdown",
   "id": "05d9ba46",
   "metadata": {},
   "source": [
    "<span style=\"color:crimson\"><b>Password arguments</b></span> must be written with the syntax `password = value` und and are always listed <u>after</u> position arguments.\n",
    "\n",
    "The order of the password arguments does not matter. They are linked to the appropriate parameter not by their position, but by their password."
   ]
  },
  {
   "cell_type": "code",
   "execution_count": null,
   "id": "8612cb9e",
   "metadata": {},
   "outputs": [],
   "source": [
    "def function1(a,b,c=2):\n",
    "    x = a + b*c\n",
    "    print(x)\n",
    "\n",
    "function1(c=1,a=3,b=0)\n",
    "function1(2,b=3,c=1)"
   ]
  },
  {
   "cell_type": "markdown",
   "id": "88b5f2a5",
   "metadata": {},
   "source": [
    "<hr>"
   ]
  },
  {
   "cell_type": "markdown",
   "id": "ad364eef",
   "metadata": {},
   "source": [
    "## <span style=\"color:mediumblue\">5.4 Return</span> <a name=\"kap53\"></a>\n",
    "\n",
    "A function is to be defined that calculates the root of an arbitrary number x and <span style=\"color:crimson\">returns</span> it."
   ]
  },
  {
   "cell_type": "code",
   "execution_count": 53,
   "id": "fb55878a",
   "metadata": {},
   "outputs": [],
   "source": [
    "def sqrt(x):\n",
    "    a = x**(1/2)\n",
    "    return a"
   ]
  },
  {
   "cell_type": "markdown",
   "id": "364ba6ad",
   "metadata": {},
   "source": [
    "The value to the right of <span style='font-family:Consolas;color:green'>return</span> is returned. This can also be several values separated by commas.\n",
    "Such a function can be included anywhere like a variable, e.g..:"
   ]
  },
  {
   "cell_type": "code",
   "execution_count": null,
   "id": "6e88cc61",
   "metadata": {},
   "outputs": [],
   "source": [
    "number = sqrt(2)*sqrt(4)\n",
    "print(number+sqrt(9))"
   ]
  },
  {
   "cell_type": "markdown",
   "id": "e08fb820",
   "metadata": {},
   "source": [
    "<b>Example:</b>  \n",
    "A function is to be written that calculates the mean value of a vector of length three, i.e. $\\bar{x} = \\frac{1}{3} \\sum\\limits_{i=1}^{3} x_{i}$"
   ]
  },
  {
   "cell_type": "code",
   "execution_count": null,
   "id": "4115fc0b",
   "metadata": {},
   "outputs": [],
   "source": [
    "def mean(x):\n",
    "    sum = 0\n",
    "    for i in range(3):\n",
    "        sum = sum + x[i]         # sum = sum + x[i] can also be written shortened as sum += x[i].\n",
    "    sum = sum/3\n",
    "    return sum"
   ]
  },
  {
   "cell_type": "markdown",
   "id": "07089656",
   "metadata": {},
   "source": [
    "<div class=\"alert alert-block alert-success\">\n",
    " In the following cell, write a function that gets two vectors as arguments and calculates the distance between the two vectors, i.e. $\\vert x-y \\vert = \\sqrt{\\sum\\limits_{i=1}^{3} \\left(x_{i}-y_{i}\\right)^{2}}$. Test the functionality of your function afterwards on the given example. \n",
    "</div>"
   ]
  },
  {
   "cell_type": "code",
   "execution_count": null,
   "id": "439e0672",
   "metadata": {},
   "outputs": [],
   "source": [
    "#def distance_vectors(x,y):\n",
    "    #..."
   ]
  },
  {
   "cell_type": "markdown",
   "id": "a89184ca",
   "metadata": {},
   "source": [
    "<div class=\"alert alert-block alert-success\">\n",
    "Test the functionality of your function with this example. For control: The result is 1.4142135623730951. \n",
    "</div>"
   ]
  },
  {
   "cell_type": "code",
   "execution_count": null,
   "id": "cf93f31a",
   "metadata": {},
   "outputs": [],
   "source": [
    "distance_vectors([0,0,0],[1,1,0])"
   ]
  },
  {
   "cell_type": "markdown",
   "id": "21321a02",
   "metadata": {},
   "source": [
    "<hr style=\"border:1px solid gray\"> </hr>"
   ]
  },
  {
   "cell_type": "markdown",
   "id": "c98a220b",
   "metadata": {},
   "source": [
    "# <span style=\"color:mediumblue\">6. Modules and libraries </span> <a name=\"kap6\"></a>"
   ]
  },
  {
   "cell_type": "markdown",
   "id": "6fb875ea",
   "metadata": {},
   "source": [
    "<hr>"
   ]
  },
  {
   "cell_type": "markdown",
   "id": "0ec70745",
   "metadata": {},
   "source": [
    "In [chapter 3](#kap3) you got to know the approx. 70 <span style=\"color:crimson\">built-in functions</span> of the Python interpreter.Built-in Functions  These can be called at any time in a cell.\n",
    "\n",
    "In [capter 5](#kap5) you learned to define your <span style=\"color:crimson\">own functions</span>. GJust like variables, these can only be called if they have been previously defined in the same notebook.\n",
    "\n",
    "To be able to use even more \"pre-programmed\" functions, there are modules."
   ]
  },
  {
   "cell_type": "markdown",
   "id": "092c2ad2",
   "metadata": {},
   "source": [
    "<hr>"
   ]
  },
  {
   "cell_type": "markdown",
   "id": "180850f8",
   "metadata": {},
   "source": [
    "## <span style=\"color:mediumblue\">6.1 Import modules</span> <a name=\"kap61\"></a>\n",
    "\n",
    "<span style=\"color:crimson\">Modules</span> is a Python file that, unlike a script, is not intended to be executed directly. It mostly contains definitions of functions, methods or variables.\n",
    "\n",
    "If a module is saved in the Python installation, the functions defined in the module can be called in any notebook as long as you <span style=\"color:crimson\">import</span> the module or the respective function once at the beginning of the notebook:  \n",
    "\n",
    "<span style='font-family:Consolas'><span style=\"color:green\">import</span> modulename</span>"
   ]
  },
  {
   "cell_type": "markdown",
   "id": "0da7073b",
   "metadata": {},
   "source": [
    "<div class=\"alert alert-block alert-warning\">\n",
    "\n",
    "It is useful to create a separate cell at the beginning of the notebook for importing. After running this cell once, the modules are imported and their content can be used as long as Jupyter notebook is not closed."
   ]
  },
  {
   "cell_type": "markdown",
   "id": "5206d706",
   "metadata": {},
   "source": [
    "To call a function from a module (after the module has been imported), write the name of the module in front of the function:  \n",
    "\n",
    "<span style='font-family:Consolas'>modulename.<span style=\"color:green\">functionname(</span>argument<span style=\"color:green\">)</span></span>  \n",
    "<br>  \n",
    "  \n",
    "\n",
    "A module can be assigned an abbreviation during import. This makes long programs clearer:\n",
    "\n",
    "<span style='font-family:Consolas'><span style=\"color:green\">import</span> modulename <span style=\"color:green\">as</span> mn</span>  \n",
    "\n",
    "<span style='font-family:Consolas'>mn.<span style=\"color:green\">functionname(</span>argument<span style=\"color:green\">)</span></span>"
   ]
  },
  {
   "cell_type": "markdown",
   "id": "47dd94a7",
   "metadata": {},
   "source": [
    "<hr>"
   ]
  },
  {
   "cell_type": "markdown",
   "id": "453132aa",
   "metadata": {},
   "source": [
    "## <span style=\"color:mediumblue\">6.2 Python Standard Library</span> <a name=\"kap62\"></a>\n",
    "\n",
    "The default Python installation includes numerous pre-installed modules and packages (modules with submodules).\n",
    "Together they form the <span style=\"color:crimson\">Python Standard Library</span>.\n",
    "\n",
    "A complete list of all included modules can be found at https://docs.python.org/3/library/.\n",
    "\n",
    "An example of a Standard Library module is the math module:"
   ]
  },
  {
   "cell_type": "code",
   "execution_count": 3,
   "id": "0c256308",
   "metadata": {},
   "outputs": [
    {
     "data": {
      "text/plain": [
       "-1.0"
      ]
     },
     "execution_count": 3,
     "metadata": {},
     "output_type": "execute_result"
    }
   ],
   "source": [
    "import math\n",
    "math.cos(math.pi)"
   ]
  },
  {
   "cell_type": "markdown",
   "id": "3492027f",
   "metadata": {},
   "source": [
    "<hr>"
   ]
  },
  {
   "cell_type": "markdown",
   "id": "9666f6f5",
   "metadata": {},
   "source": [
    "## <span style=\"color:mediumblue\">6.3 External Libraries</span> <a name=\"kap63\"></a>\n",
    "\n",
    "Due to Python's great popularity and royalty-free distribution, hundreds of thousands of <span style=\"color:crimson\">external libraries</span> from other users exist that can be added to your own Python installation in the same way.\n",
    "\n",
    "They allow you to customize Python to your own specific problem. In this course the external libraries [Pandas](#kap7), [NumPy](#kap8) und [matplotlib](#kap9) will be introduced."
   ]
  },
  {
   "cell_type": "markdown",
   "id": "ce422b87",
   "metadata": {},
   "source": [
    "<div class=\"alert alert-block alert-warning\">\n",
    "    \n",
    "The terms module, package and library are often used interchangeably.\n",
    "\n",
    "Some libraries must be installed before they can be used. A large number of packages are already included in Anaconda."
   ]
  },
  {
   "cell_type": "markdown",
   "id": "820290f7",
   "metadata": {},
   "source": [
    "<hr style=\"border:1px solid gray\"> </hr>"
   ]
  },
  {
   "cell_type": "markdown",
   "id": "3ee71758",
   "metadata": {},
   "source": [
    "# <span style=\"color:mediumblue\">7. Pandas</span> <a name=\"kap7\"></a>"
   ]
  },
  {
   "cell_type": "markdown",
   "id": "12d8c15f",
   "metadata": {},
   "source": [
    "<hr>"
   ]
  },
  {
   "cell_type": "markdown",
   "id": "a468650a",
   "metadata": {},
   "source": [
    "<span style=\"color:crimson\">Pandas</span> is a Python library for reading, evaluating and editing data sets."
   ]
  },
  {
   "cell_type": "markdown",
   "id": "241bd03a",
   "metadata": {},
   "source": [
    "<div class=\"alert alert-block alert-danger\">\n",
    "The following code is used to display the plots presented in the following statically in the Jupyter Notebook. <br>To do this, please execute the following cell!</div>"
   ]
  },
  {
   "cell_type": "code",
   "execution_count": 4,
   "id": "5748f1c9",
   "metadata": {},
   "outputs": [],
   "source": [
    "%matplotlib inline"
   ]
  },
  {
   "cell_type": "markdown",
   "id": "68aa8489",
   "metadata": {},
   "source": [
    "<hr>"
   ]
  },
  {
   "cell_type": "markdown",
   "id": "724b72e1",
   "metadata": {},
   "source": [
    "## <span style=\"color:mediumblue\">7.1 DataFrame</span> <a name=\"kap71\"></a>\n",
    "\n",
    "Pandas can read tabular data and save it as a <span style=\"color:crimson\">DataFrame</span>. DataFrames variables behave similar to tables / matrices and can be analyzed and manipulated by numerous Pandas functions.\n",
    "\n",
    "The following code imports all necessary modules to use Pandas:"
   ]
  },
  {
   "cell_type": "code",
   "execution_count": 5,
   "id": "779ae62f",
   "metadata": {},
   "outputs": [],
   "source": [
    "import pandas as pd"
   ]
  },
  {
   "cell_type": "markdown",
   "id": "cd5fb7ef",
   "metadata": {},
   "source": [
    "<hr>"
   ]
  },
  {
   "cell_type": "markdown",
   "id": "d04936e0",
   "metadata": {},
   "source": [
    "## <span style=\"color:mediumblue\">7.2 Create a DataFrame</span> <a name=\"kap72\"></a>\n",
    "There are three common ways to create a DataFrame in Python:\n",
    "\n",
    "1. With the &nbsp; <span style='font-family:Consolas'>pd.DataFrame()</span> &nbsp; command from a list\n",
    "\n",
    "2. With the &nbsp; <span style='font-family:Consolas'>pd.read_excel()</span> &nbsp; command from a xlsx file\n",
    "\n",
    "3. With the &nbsp; <span style='font-family:Consolas'>pd.read_csv()</span> &nbsp; command from a csv file"
   ]
  },
  {
   "cell_type": "markdown",
   "id": "597cc3fd",
   "metadata": {},
   "source": [
    "<b>Example:</b>"
   ]
  },
  {
   "cell_type": "markdown",
   "id": "bf542656",
   "metadata": {},
   "source": [
    "<b>1.</b> Generate a data frame from a list:"
   ]
  },
  {
   "cell_type": "code",
   "execution_count": 6,
   "id": "5b367e7c",
   "metadata": {},
   "outputs": [
    {
     "name": "stdout",
     "output_type": "stream",
     "text": [
      "   Nummer     Datum     Thema\n",
      "0       1  31.03.21  Termin 1\n",
      "1       2  07.04.21  Termin 2\n",
      "2       3  14.04.21  Termin 3\n"
     ]
    }
   ],
   "source": [
    "data = list([[1, '31.03.21', 'Termin 1'],\n",
    "              [2, '07.04.21', 'Termin 2'],\n",
    "              [3, '14.04.21', 'Termin 3']])\n",
    "data = pd.DataFrame(data, columns = ['Nummer', 'Datum', 'Thema'])\n",
    "print(data)"
   ]
  },
  {
   "cell_type": "code",
   "execution_count": 7,
   "id": "85bc4f8a",
   "metadata": {},
   "outputs": [],
   "source": [
    "import pandas as pd\n",
    "credit_data = pd.read_csv(r'german_credit_data.csv')"
   ]
  },
  {
   "cell_type": "markdown",
   "id": "891540e1",
   "metadata": {},
   "source": [
    "<div class=\"alert alert-block alert-success\">\n",
    "Be sure to execute the top two cells to continue working with these DataFrames! \n",
    "</div>\n"
   ]
  },
  {
   "cell_type": "markdown",
   "id": "3dcb027c",
   "metadata": {},
   "source": [
    "<hr>"
   ]
  },
  {
   "cell_type": "markdown",
   "id": "08165252",
   "metadata": {},
   "source": [
    "## <span style=\"color:mediumblue\">7.3 Analyze a DataFrame</span> <a name=\"kap73\"></a>\n",
    "There are some helpful methods for analyzing DataFrames:\n",
    "\n",
    "<p><img src=\"img/dfanalysieren.png\" style=\"width:560px\"; align=\"left\"/></p>"
   ]
  },
  {
   "cell_type": "markdown",
   "id": "59654e4a",
   "metadata": {},
   "source": [
    "<div class=\"alert alert-block alert-success\">\n",
    "    Apply the above methods to the DataFrame <em>credit_data</em>. \n",
    "</div>"
   ]
  },
  {
   "cell_type": "code",
   "execution_count": 8,
   "id": "0b09c76b",
   "metadata": {},
   "outputs": [
    {
     "data": {
      "text/html": [
       "<div>\n",
       "<style scoped>\n",
       "    .dataframe tbody tr th:only-of-type {\n",
       "        vertical-align: middle;\n",
       "    }\n",
       "\n",
       "    .dataframe tbody tr th {\n",
       "        vertical-align: top;\n",
       "    }\n",
       "\n",
       "    .dataframe thead th {\n",
       "        text-align: right;\n",
       "    }\n",
       "</style>\n",
       "<table border=\"1\" class=\"dataframe\">\n",
       "  <thead>\n",
       "    <tr style=\"text-align: right;\">\n",
       "      <th></th>\n",
       "      <th>Unnamed: 0</th>\n",
       "      <th>Age</th>\n",
       "      <th>Sex</th>\n",
       "      <th>Job</th>\n",
       "      <th>Housing</th>\n",
       "      <th>Saving accounts</th>\n",
       "      <th>Checking account</th>\n",
       "      <th>Credit amount</th>\n",
       "      <th>Duration</th>\n",
       "      <th>Purpose</th>\n",
       "    </tr>\n",
       "  </thead>\n",
       "  <tbody>\n",
       "    <tr>\n",
       "      <th>0</th>\n",
       "      <td>0</td>\n",
       "      <td>67</td>\n",
       "      <td>male</td>\n",
       "      <td>2</td>\n",
       "      <td>own</td>\n",
       "      <td>NaN</td>\n",
       "      <td>little</td>\n",
       "      <td>1169</td>\n",
       "      <td>6</td>\n",
       "      <td>radio/TV</td>\n",
       "    </tr>\n",
       "    <tr>\n",
       "      <th>1</th>\n",
       "      <td>1</td>\n",
       "      <td>22</td>\n",
       "      <td>female</td>\n",
       "      <td>2</td>\n",
       "      <td>own</td>\n",
       "      <td>little</td>\n",
       "      <td>moderate</td>\n",
       "      <td>5951</td>\n",
       "      <td>48</td>\n",
       "      <td>radio/TV</td>\n",
       "    </tr>\n",
       "    <tr>\n",
       "      <th>2</th>\n",
       "      <td>2</td>\n",
       "      <td>49</td>\n",
       "      <td>male</td>\n",
       "      <td>1</td>\n",
       "      <td>own</td>\n",
       "      <td>little</td>\n",
       "      <td>NaN</td>\n",
       "      <td>2096</td>\n",
       "      <td>12</td>\n",
       "      <td>education</td>\n",
       "    </tr>\n",
       "    <tr>\n",
       "      <th>3</th>\n",
       "      <td>3</td>\n",
       "      <td>45</td>\n",
       "      <td>male</td>\n",
       "      <td>2</td>\n",
       "      <td>free</td>\n",
       "      <td>little</td>\n",
       "      <td>little</td>\n",
       "      <td>7882</td>\n",
       "      <td>42</td>\n",
       "      <td>furniture/equipment</td>\n",
       "    </tr>\n",
       "    <tr>\n",
       "      <th>4</th>\n",
       "      <td>4</td>\n",
       "      <td>53</td>\n",
       "      <td>male</td>\n",
       "      <td>2</td>\n",
       "      <td>free</td>\n",
       "      <td>little</td>\n",
       "      <td>little</td>\n",
       "      <td>4870</td>\n",
       "      <td>24</td>\n",
       "      <td>car</td>\n",
       "    </tr>\n",
       "  </tbody>\n",
       "</table>\n",
       "</div>"
      ],
      "text/plain": [
       "   Unnamed: 0  Age     Sex  Job Housing Saving accounts Checking account  \\\n",
       "0           0   67    male    2     own             NaN           little   \n",
       "1           1   22  female    2     own          little         moderate   \n",
       "2           2   49    male    1     own          little              NaN   \n",
       "3           3   45    male    2    free          little           little   \n",
       "4           4   53    male    2    free          little           little   \n",
       "\n",
       "   Credit amount  Duration              Purpose  \n",
       "0           1169         6             radio/TV  \n",
       "1           5951        48             radio/TV  \n",
       "2           2096        12            education  \n",
       "3           7882        42  furniture/equipment  \n",
       "4           4870        24                  car  "
      ]
     },
     "execution_count": 8,
     "metadata": {},
     "output_type": "execute_result"
    }
   ],
   "source": [
    "credit_data.head()"
   ]
  },
  {
   "cell_type": "markdown",
   "id": "82f58baa",
   "metadata": {},
   "source": [
    "<hr>"
   ]
  },
  {
   "cell_type": "markdown",
   "id": "5bc87390",
   "metadata": {},
   "source": [
    "## <span style=\"color:mediumblue\">7.4 Accessing data in DataFrames</span> <a name=\"kap74\"></a>\n",
    "There are different ways to access entries or whole rows / columns of a DataFrame:\n",
    "\n",
    "- Direct access via column name:  \n",
    "<span style='font-family:Consolas'>data[<span style=\"color:crimson\">'columnname'</span>]</span>   \n",
    "<br>\n",
    "\n",
    "- Access via column name only to specific entries:  \n",
    "<span style='font-family:Consolas'>data[[data[<span style=\"color:crimson\">'columnname'</span>] <span style=\"color:purple\">&gt;= </span><span style=\"color:green\">5</span>]]</span>\n",
    "<br>\n",
    "\n",
    "- Access via .loc with row name and column name:  \n",
    "<span style='font-family:Consolas'>data.loc[<span style=\"color:green\">4</span>,<span style=\"color:crimson\">'columnname'</span>]</span>\n",
    "<br>\n",
    "\n",
    "- Access via .iloc with row <b>index</b> and column <b>index</b>:  <br>\n",
    "<span style='font-family:Consolas'>data.iloc[<span style=\"color:green\">4</span>,<span style=\"color:green\">3</span>]</span>   \n",
    "<span style='font-family:Consolas'>data.iloc[<span style=\"color:green\">4</span>,<span style=\"color:green\">:</span>]</span>  \n",
    "<span style='background:lemonchiffon'>With the help of the iloc operator all rows or columns are addressed to the respective other index. So this example returns the 5th row.</span>"
   ]
  },
  {
   "cell_type": "markdown",
   "id": "a55aded8",
   "metadata": {},
   "source": [
    "<div class=\"alert alert-block alert-success\">  \n",
    "Using <span style='font-family:Consolas'>print</span> and <span style='font-family:Consolas'>.iloc</span> output the entry from line 5 / column 2 of the dataframe <em>credit_data</em>. <br> Note that the 1st index corresponds to index 0 in Python. <br>\n",
    "Check: The output is 53. \n",
    "</div>"
   ]
  },
  {
   "cell_type": "code",
   "execution_count": 1,
   "id": "575b6489",
   "metadata": {},
   "outputs": [
    {
     "name": "stdout",
     "output_type": "stream",
     "text": [
      "\n"
     ]
    }
   ],
   "source": [
    "print()"
   ]
  },
  {
   "cell_type": "markdown",
   "id": "f7bf5352",
   "metadata": {},
   "source": [
    "<div class=\"alert alert-block alert-success\">\n",
    "Extract a column from the dataframe <em>credit_data</em> and check the data type of the column. \n",
    "</div>"
   ]
  },
  {
   "cell_type": "code",
   "execution_count": 13,
   "id": "f66d00c8",
   "metadata": {},
   "outputs": [
    {
     "data": {
      "text/plain": [
       "dtype('int64')"
      ]
     },
     "execution_count": 13,
     "metadata": {},
     "output_type": "execute_result"
    }
   ],
   "source": [
    "credit_data['Age'].dtypes"
   ]
  },
  {
   "cell_type": "markdown",
   "id": "1cdc589c",
   "metadata": {},
   "source": [
    "<hr>"
   ]
  },
  {
   "cell_type": "markdown",
   "id": "a7a31b7f",
   "metadata": {},
   "source": [
    "## <span style=\"color:mediumblue\">7.5 Manipulate a DataFrame</span> <a name=\"kap75\"></a>\n",
    "Similar to lists, DataFrames can be enlarged, and individual elements or the entire variable can be changed.\n",
    "\n",
    "- Thanks to the previously thematized access to individual elements, they can be overwritten:  \n",
    "<span style='font-family:Consolas'>data.loc[<span style=\"color:green\">4</span>,<span style=\"color:crimson\">'columnname'</span>]<span style=\"color:purple\"> = </span><span style=\"color:green\">newValue</span></span>  \n",
    "<br>\n",
    "\n",
    "- Enlarge a DataFrame:  \n",
    "<span style='font-family:Consolas'>data <span style=\"color:purple\">=</span> data.append({<span style=\"color:crimson\">'columnname1'</span>: <span style=\"color:green\">4</span>, <span style=\"color:crimson\">'columnname2'</span>: <span style=\"color:green\">6</span>, <span style=\"color:crimson\">'columnname3'</span>: <span style=\"color:crimson\">'hello'</span>}, ignore_index <span style=\"color:purple\">=</span> <span style=\"color:green\">True</span>)</span>\n",
    "<br>\n",
    "\n",
    "- Delete all lines with NaN entries (missing entries):  \n",
    "<span style='font-family:Consolas'>data <span style=\"color:purple\">=</span> data.dropna()</span>\n",
    "<br>\n",
    "\n",
    "- Replace all Nan entries with specified value:\n",
    "<span style='font-family:Consolas'>data <span style=\"color:purple\">=</span> data.fillna(<span style=\"color:green\">value</span>)</span>\n",
    "<br>\n",
    "\n",
    "- Replace certain entries, for example NaN entries or strings with number representatives: \n",
    "<span style='font-family:Consolas'>data <span style=\"color:purple\">=</span> data.replace(<span style=\"color:crimson\">'certain entries'</span>,<span style=\"color:green\">1</span>)</span>\n",
    "\n",
    "All methods of a DataFrame can be viewed by typing in the name of the DataFrame followed by a dot (here data. ) and then pressing the \"TAB\" button. "
   ]
  },
  {
   "cell_type": "markdown",
   "id": "dbf4832a",
   "metadata": {},
   "source": [
    "<div class=\"alert alert-block alert-warning\">\n",
    "\n",
    "Often data sets are incomplete. In this case, taking into account the size of the data set, the type of missing value and other influencing factors, it must be decided whether rows with missing values are deleted or the values are replaced (e.g. with mean values or 0s).\n",
    "</div>"
   ]
  },
  {
   "cell_type": "markdown",
   "id": "1aaf6dd4",
   "metadata": {},
   "source": [
    "<div class=\"alert alert-block alert-success\">\n",
    "Extend the DataFrame <em>data</em> by another arbitrary row. The values can be deleted or replaced (e.g. with mean values or 0s).\n",
    "</div>"
   ]
  },
  {
   "cell_type": "code",
   "execution_count": 19,
   "id": "758860ad",
   "metadata": {},
   "outputs": [
    {
     "data": {
      "text/plain": [
       "Nummer           1\n",
       "Datum     31.03.21\n",
       "Thema     Termin 1\n",
       "Name: 0, dtype: object"
      ]
     },
     "execution_count": 19,
     "metadata": {},
     "output_type": "execute_result"
    }
   ],
   "source": [
    "data.loc[0]"
   ]
  },
  {
   "cell_type": "code",
   "execution_count": 20,
   "id": "202d2ba4",
   "metadata": {},
   "outputs": [],
   "source": [
    "data = data.append(data.loc[0])"
   ]
  },
  {
   "cell_type": "markdown",
   "id": "95a8419c",
   "metadata": {},
   "source": [
    "<div class=\"alert alert-block alert-success\">  \n",
    "Replace the entry \"07.04.21\" from  <em>data</em> with the entry \"10.04.21\" using  <span style='font-family:Consolas'>.replace()</span></div>"
   ]
  },
  {
   "cell_type": "code",
   "execution_count": 21,
   "id": "3bde573b",
   "metadata": {},
   "outputs": [
    {
     "data": {
      "text/html": [
       "<div>\n",
       "<style scoped>\n",
       "    .dataframe tbody tr th:only-of-type {\n",
       "        vertical-align: middle;\n",
       "    }\n",
       "\n",
       "    .dataframe tbody tr th {\n",
       "        vertical-align: top;\n",
       "    }\n",
       "\n",
       "    .dataframe thead th {\n",
       "        text-align: right;\n",
       "    }\n",
       "</style>\n",
       "<table border=\"1\" class=\"dataframe\">\n",
       "  <thead>\n",
       "    <tr style=\"text-align: right;\">\n",
       "      <th></th>\n",
       "      <th>Nummer</th>\n",
       "      <th>Datum</th>\n",
       "      <th>Thema</th>\n",
       "    </tr>\n",
       "  </thead>\n",
       "  <tbody>\n",
       "    <tr>\n",
       "      <th>0</th>\n",
       "      <td>1</td>\n",
       "      <td>31.03.21</td>\n",
       "      <td>Termin 1</td>\n",
       "    </tr>\n",
       "    <tr>\n",
       "      <th>1</th>\n",
       "      <td>2</td>\n",
       "      <td>07.04.21</td>\n",
       "      <td>Termin 2</td>\n",
       "    </tr>\n",
       "    <tr>\n",
       "      <th>2</th>\n",
       "      <td>3</td>\n",
       "      <td>14.04.21</td>\n",
       "      <td>Termin 3</td>\n",
       "    </tr>\n",
       "    <tr>\n",
       "      <th>0</th>\n",
       "      <td>1</td>\n",
       "      <td>31.03.21</td>\n",
       "      <td>Termin 1</td>\n",
       "    </tr>\n",
       "  </tbody>\n",
       "</table>\n",
       "</div>"
      ],
      "text/plain": [
       "   Nummer     Datum     Thema\n",
       "0       1  31.03.21  Termin 1\n",
       "1       2  07.04.21  Termin 2\n",
       "2       3  14.04.21  Termin 3\n",
       "0       1  31.03.21  Termin 1"
      ]
     },
     "execution_count": 21,
     "metadata": {},
     "output_type": "execute_result"
    }
   ],
   "source": [
    "data"
   ]
  },
  {
   "cell_type": "code",
   "execution_count": 24,
   "id": "0e061d31",
   "metadata": {
    "scrolled": true
   },
   "outputs": [],
   "source": [
    "data = data['Datum'].replace('07.04.21', '10.04.21')"
   ]
  },
  {
   "cell_type": "code",
   "execution_count": 25,
   "id": "148f991e",
   "metadata": {},
   "outputs": [
    {
     "data": {
      "text/plain": [
       "0    31.03.21\n",
       "1    10.04.21\n",
       "2    14.04.21\n",
       "0    31.03.21\n",
       "Name: Datum, dtype: object"
      ]
     },
     "execution_count": 25,
     "metadata": {},
     "output_type": "execute_result"
    }
   ],
   "source": [
    "data"
   ]
  },
  {
   "cell_type": "markdown",
   "id": "5c9227ae",
   "metadata": {},
   "source": [
    "<div class=\"alert alert-block alert-success\">\n",
    "    Use the dropna method to delete the rows with missing entries from the <em>credit_data</em> DataFrame.  </div>"
   ]
  },
  {
   "cell_type": "code",
   "execution_count": 26,
   "id": "70bf91d3",
   "metadata": {},
   "outputs": [
    {
     "data": {
      "text/html": [
       "<div>\n",
       "<style scoped>\n",
       "    .dataframe tbody tr th:only-of-type {\n",
       "        vertical-align: middle;\n",
       "    }\n",
       "\n",
       "    .dataframe tbody tr th {\n",
       "        vertical-align: top;\n",
       "    }\n",
       "\n",
       "    .dataframe thead th {\n",
       "        text-align: right;\n",
       "    }\n",
       "</style>\n",
       "<table border=\"1\" class=\"dataframe\">\n",
       "  <thead>\n",
       "    <tr style=\"text-align: right;\">\n",
       "      <th></th>\n",
       "      <th>Unnamed: 0</th>\n",
       "      <th>Age</th>\n",
       "      <th>Sex</th>\n",
       "      <th>Job</th>\n",
       "      <th>Housing</th>\n",
       "      <th>Saving accounts</th>\n",
       "      <th>Checking account</th>\n",
       "      <th>Credit amount</th>\n",
       "      <th>Duration</th>\n",
       "      <th>Purpose</th>\n",
       "    </tr>\n",
       "  </thead>\n",
       "  <tbody>\n",
       "    <tr>\n",
       "      <th>0</th>\n",
       "      <td>0</td>\n",
       "      <td>67</td>\n",
       "      <td>male</td>\n",
       "      <td>2</td>\n",
       "      <td>own</td>\n",
       "      <td>NaN</td>\n",
       "      <td>little</td>\n",
       "      <td>1169</td>\n",
       "      <td>6</td>\n",
       "      <td>radio/TV</td>\n",
       "    </tr>\n",
       "    <tr>\n",
       "      <th>1</th>\n",
       "      <td>1</td>\n",
       "      <td>22</td>\n",
       "      <td>female</td>\n",
       "      <td>2</td>\n",
       "      <td>own</td>\n",
       "      <td>little</td>\n",
       "      <td>moderate</td>\n",
       "      <td>5951</td>\n",
       "      <td>48</td>\n",
       "      <td>radio/TV</td>\n",
       "    </tr>\n",
       "    <tr>\n",
       "      <th>2</th>\n",
       "      <td>2</td>\n",
       "      <td>49</td>\n",
       "      <td>male</td>\n",
       "      <td>1</td>\n",
       "      <td>own</td>\n",
       "      <td>little</td>\n",
       "      <td>NaN</td>\n",
       "      <td>2096</td>\n",
       "      <td>12</td>\n",
       "      <td>education</td>\n",
       "    </tr>\n",
       "    <tr>\n",
       "      <th>3</th>\n",
       "      <td>3</td>\n",
       "      <td>45</td>\n",
       "      <td>male</td>\n",
       "      <td>2</td>\n",
       "      <td>free</td>\n",
       "      <td>little</td>\n",
       "      <td>little</td>\n",
       "      <td>7882</td>\n",
       "      <td>42</td>\n",
       "      <td>furniture/equipment</td>\n",
       "    </tr>\n",
       "    <tr>\n",
       "      <th>4</th>\n",
       "      <td>4</td>\n",
       "      <td>53</td>\n",
       "      <td>male</td>\n",
       "      <td>2</td>\n",
       "      <td>free</td>\n",
       "      <td>little</td>\n",
       "      <td>little</td>\n",
       "      <td>4870</td>\n",
       "      <td>24</td>\n",
       "      <td>car</td>\n",
       "    </tr>\n",
       "    <tr>\n",
       "      <th>...</th>\n",
       "      <td>...</td>\n",
       "      <td>...</td>\n",
       "      <td>...</td>\n",
       "      <td>...</td>\n",
       "      <td>...</td>\n",
       "      <td>...</td>\n",
       "      <td>...</td>\n",
       "      <td>...</td>\n",
       "      <td>...</td>\n",
       "      <td>...</td>\n",
       "    </tr>\n",
       "    <tr>\n",
       "      <th>995</th>\n",
       "      <td>995</td>\n",
       "      <td>31</td>\n",
       "      <td>female</td>\n",
       "      <td>1</td>\n",
       "      <td>own</td>\n",
       "      <td>little</td>\n",
       "      <td>NaN</td>\n",
       "      <td>1736</td>\n",
       "      <td>12</td>\n",
       "      <td>furniture/equipment</td>\n",
       "    </tr>\n",
       "    <tr>\n",
       "      <th>996</th>\n",
       "      <td>996</td>\n",
       "      <td>40</td>\n",
       "      <td>male</td>\n",
       "      <td>3</td>\n",
       "      <td>own</td>\n",
       "      <td>little</td>\n",
       "      <td>little</td>\n",
       "      <td>3857</td>\n",
       "      <td>30</td>\n",
       "      <td>car</td>\n",
       "    </tr>\n",
       "    <tr>\n",
       "      <th>997</th>\n",
       "      <td>997</td>\n",
       "      <td>38</td>\n",
       "      <td>male</td>\n",
       "      <td>2</td>\n",
       "      <td>own</td>\n",
       "      <td>little</td>\n",
       "      <td>NaN</td>\n",
       "      <td>804</td>\n",
       "      <td>12</td>\n",
       "      <td>radio/TV</td>\n",
       "    </tr>\n",
       "    <tr>\n",
       "      <th>998</th>\n",
       "      <td>998</td>\n",
       "      <td>23</td>\n",
       "      <td>male</td>\n",
       "      <td>2</td>\n",
       "      <td>free</td>\n",
       "      <td>little</td>\n",
       "      <td>little</td>\n",
       "      <td>1845</td>\n",
       "      <td>45</td>\n",
       "      <td>radio/TV</td>\n",
       "    </tr>\n",
       "    <tr>\n",
       "      <th>999</th>\n",
       "      <td>999</td>\n",
       "      <td>27</td>\n",
       "      <td>male</td>\n",
       "      <td>2</td>\n",
       "      <td>own</td>\n",
       "      <td>moderate</td>\n",
       "      <td>moderate</td>\n",
       "      <td>4576</td>\n",
       "      <td>45</td>\n",
       "      <td>car</td>\n",
       "    </tr>\n",
       "  </tbody>\n",
       "</table>\n",
       "<p>1000 rows × 10 columns</p>\n",
       "</div>"
      ],
      "text/plain": [
       "     Unnamed: 0  Age     Sex  Job Housing Saving accounts Checking account  \\\n",
       "0             0   67    male    2     own             NaN           little   \n",
       "1             1   22  female    2     own          little         moderate   \n",
       "2             2   49    male    1     own          little              NaN   \n",
       "3             3   45    male    2    free          little           little   \n",
       "4             4   53    male    2    free          little           little   \n",
       "..          ...  ...     ...  ...     ...             ...              ...   \n",
       "995         995   31  female    1     own          little              NaN   \n",
       "996         996   40    male    3     own          little           little   \n",
       "997         997   38    male    2     own          little              NaN   \n",
       "998         998   23    male    2    free          little           little   \n",
       "999         999   27    male    2     own        moderate         moderate   \n",
       "\n",
       "     Credit amount  Duration              Purpose  \n",
       "0             1169         6             radio/TV  \n",
       "1             5951        48             radio/TV  \n",
       "2             2096        12            education  \n",
       "3             7882        42  furniture/equipment  \n",
       "4             4870        24                  car  \n",
       "..             ...       ...                  ...  \n",
       "995           1736        12  furniture/equipment  \n",
       "996           3857        30                  car  \n",
       "997            804        12             radio/TV  \n",
       "998           1845        45             radio/TV  \n",
       "999           4576        45                  car  \n",
       "\n",
       "[1000 rows x 10 columns]"
      ]
     },
     "execution_count": 26,
     "metadata": {},
     "output_type": "execute_result"
    }
   ],
   "source": [
    "credit_data"
   ]
  },
  {
   "cell_type": "code",
   "execution_count": 27,
   "id": "78503b21",
   "metadata": {},
   "outputs": [],
   "source": [
    "credit_data = credit_data.dropna(axis=0)"
   ]
  },
  {
   "cell_type": "code",
   "execution_count": 30,
   "id": "36a65970",
   "metadata": {},
   "outputs": [
    {
     "data": {
      "text/plain": [
       "Unnamed: 0          0\n",
       "Age                 0\n",
       "Sex                 0\n",
       "Job                 0\n",
       "Housing             0\n",
       "Saving accounts     0\n",
       "Checking account    0\n",
       "Credit amount       0\n",
       "Duration            0\n",
       "Purpose             0\n",
       "dtype: int64"
      ]
     },
     "execution_count": 30,
     "metadata": {},
     "output_type": "execute_result"
    }
   ],
   "source": [
    "credit_data.isna().sum()"
   ]
  },
  {
   "cell_type": "markdown",
   "id": "1314dca7",
   "metadata": {},
   "source": [
    "## <span style=\"color:mediumblue\">7.6 DataFrames and data types</span> <a name=\"kap76\"></a>\n",
    "When working with DataFrames, it is often necessary to convert data types. In the DataFrame, the values of the _Sex_ column are specified as female and male. These can be overwritten with the values 0 and 1:"
   ]
  },
  {
   "cell_type": "code",
   "execution_count": 31,
   "id": "bb02eee3",
   "metadata": {},
   "outputs": [
    {
     "name": "stdout",
     "output_type": "stream",
     "text": [
      "<class 'pandas.core.frame.DataFrame'>\n",
      "Int64Index: 522 entries, 1 to 999\n",
      "Data columns (total 10 columns):\n",
      " #   Column            Non-Null Count  Dtype \n",
      "---  ------            --------------  ----- \n",
      " 0   Unnamed: 0        522 non-null    int64 \n",
      " 1   Age               522 non-null    int64 \n",
      " 2   Sex               522 non-null    object\n",
      " 3   Job               522 non-null    int64 \n",
      " 4   Housing           522 non-null    object\n",
      " 5   Saving accounts   522 non-null    object\n",
      " 6   Checking account  522 non-null    object\n",
      " 7   Credit amount     522 non-null    int64 \n",
      " 8   Duration          522 non-null    int64 \n",
      " 9   Purpose           522 non-null    object\n",
      "dtypes: int64(5), object(5)\n",
      "memory usage: 44.9+ KB\n"
     ]
    },
    {
     "name": "stderr",
     "output_type": "stream",
     "text": [
      "/opt/anaconda3/lib/python3.8/site-packages/pandas/core/indexing.py:1817: SettingWithCopyWarning: \n",
      "A value is trying to be set on a copy of a slice from a DataFrame.\n",
      "Try using .loc[row_indexer,col_indexer] = value instead\n",
      "\n",
      "See the caveats in the documentation: https://pandas.pydata.org/pandas-docs/stable/user_guide/indexing.html#returning-a-view-versus-a-copy\n",
      "  self._setitem_single_column(loc, value, pi)\n"
     ]
    }
   ],
   "source": [
    "credit_data.loc[credit_data.Sex =='male', 'Sex']=0\n",
    "credit_data.loc[credit_data.Sex =='female', 'Sex']=1\n",
    "\n",
    "credit_data.info()"
   ]
  },
  {
   "cell_type": "markdown",
   "id": "b7ec1927",
   "metadata": {},
   "source": [
    "Even if the entries _male_ and _female_ have been changed to 0 and 1, the data type still remains <span style='font-family:Consolas'>object</span> and must be converted to a <span style='font-family:Consolas'>float</span>. This can be easily implemented for DataFrames with the function <span style='font-family:Consolas'>to_numeric()</span>:"
   ]
  },
  {
   "cell_type": "code",
   "execution_count": 32,
   "id": "440ac9ad",
   "metadata": {},
   "outputs": [
    {
     "name": "stdout",
     "output_type": "stream",
     "text": [
      "<class 'pandas.core.frame.DataFrame'>\n",
      "Int64Index: 522 entries, 1 to 999\n",
      "Data columns (total 10 columns):\n",
      " #   Column            Non-Null Count  Dtype \n",
      "---  ------            --------------  ----- \n",
      " 0   Unnamed: 0        522 non-null    int64 \n",
      " 1   Age               522 non-null    int64 \n",
      " 2   Sex               522 non-null    int64 \n",
      " 3   Job               522 non-null    int64 \n",
      " 4   Housing           522 non-null    object\n",
      " 5   Saving accounts   522 non-null    object\n",
      " 6   Checking account  522 non-null    object\n",
      " 7   Credit amount     522 non-null    int64 \n",
      " 8   Duration          522 non-null    int64 \n",
      " 9   Purpose           522 non-null    object\n",
      "dtypes: int64(6), object(4)\n",
      "memory usage: 44.9+ KB\n"
     ]
    },
    {
     "name": "stderr",
     "output_type": "stream",
     "text": [
      "<ipython-input-32-64ad07e8d435>:1: SettingWithCopyWarning: \n",
      "A value is trying to be set on a copy of a slice from a DataFrame.\n",
      "Try using .loc[row_indexer,col_indexer] = value instead\n",
      "\n",
      "See the caveats in the documentation: https://pandas.pydata.org/pandas-docs/stable/user_guide/indexing.html#returning-a-view-versus-a-copy\n",
      "  credit_data['Sex']=pd.to_numeric(credit_data['Sex'])\n"
     ]
    }
   ],
   "source": [
    "credit_data['Sex']=pd.to_numeric(credit_data['Sex'])\n",
    "\n",
    "credit_data.info()"
   ]
  },
  {
   "cell_type": "markdown",
   "id": "ff9198a9",
   "metadata": {},
   "source": [
    "## <span style=\"color:mediumblue\">7.7 Plot DataFrames</span> <a name=\"kap77\"></a>\n",
    "DataFrames have some plot commands of their own as methods to create a scatterplot or histogram, for example."
   ]
  },
  {
   "cell_type": "code",
   "execution_count": 33,
   "id": "5e94ed2b",
   "metadata": {},
   "outputs": [
    {
     "data": {
      "image/png": "[encoded data removed]",
      "text/plain": [
       "<Figure size 432x288 with 1 Axes>"
      ]
     },
     "metadata": {
      "needs_background": "light"
     },
     "output_type": "display_data"
    }
   ],
   "source": [
    "credit_data[\"Age\"].plot.hist();"
   ]
  },
  {
   "cell_type": "code",
   "execution_count": 34,
   "id": "d9124c0d",
   "metadata": {},
   "outputs": [
    {
     "data": {
      "text/plain": [
       "<AxesSubplot:xlabel='Age', ylabel='Credit amount'>"
      ]
     },
     "execution_count": 34,
     "metadata": {},
     "output_type": "execute_result"
    },
    {
     "data": {
      "image/png": "[encoded data removed]",
      "text/plain": [
       "<Figure size 432x288 with 1 Axes>"
      ]
     },
     "metadata": {
      "needs_background": "light"
     },
     "output_type": "display_data"
    }
   ],
   "source": [
    "credit_data[[\"Age\", \"Credit amount\"]].plot.scatter(0,1)"
   ]
  },
  {
   "cell_type": "markdown",
   "id": "38800a9b",
   "metadata": {},
   "source": [
    "<div class=\"alert alert-block alert-warning\">\n",
    "Since the formatting of plots via the matplotlib library is more flexible, the options for plotting DataFrames directly are not discussed in detail here. \n",
    "</div>"
   ]
  },
  {
   "cell_type": "markdown",
   "id": "fc5cd300",
   "metadata": {},
   "source": [
    "<hr style=\"border:1px solid gray\"> </hr>"
   ]
  },
  {
   "cell_type": "markdown",
   "id": "3556f030",
   "metadata": {},
   "source": [
    "# <span style=\"color:mediumblue\">8. NumPy</span> <a name=\"kap8\"></a>"
   ]
  },
  {
   "cell_type": "markdown",
   "id": "50da308b",
   "metadata": {},
   "source": [
    "<hr>"
   ]
  },
  {
   "cell_type": "markdown",
   "id": "a1699b2b",
   "metadata": {},
   "source": [
    "<span style=\"color:crimson\">NumPy</span> is an external library that extends Python with functions for scientific and numerical computing.\n",
    "\n",
    "NumPy also brings a new data type, the <span style=\"color:crimson\">ndarray</span> (called &bdquo;<span style=\"color:crimson\">array</span>&ldquo; in the further course). The DataFrames introduced in [chapter 7.1](#kap71) are based on the ndarrays, therefore both data types are very similar in handling (comparable with matrices). DataFrames and ndarrays can be stored and processed much more efficiently than the lists introduced in [capter 2.6.3](#kap263), which makes them indispensable for large amounts of data.\n",
    "\n",
    "The following code enables the use of NumPy in the Jupyter notebook:"
   ]
  },
  {
   "cell_type": "code",
   "execution_count": 35,
   "id": "972d4937",
   "metadata": {},
   "outputs": [],
   "source": [
    "import numpy as np"
   ]
  },
  {
   "cell_type": "markdown",
   "id": "3818aa94",
   "metadata": {},
   "source": [
    "<hr>"
   ]
  },
  {
   "cell_type": "markdown",
   "id": "718e2b6b",
   "metadata": {},
   "source": [
    "## <span style=\"color:mediumblue\">8.1 Mathematical functions </span> <a name=\"kap81\"></a>\n",
    "\n",
    "NumPy includes numerous <span style=\"color:crimson\">mathematical functions and constants</span>.  <br>\n",
    "Some are listed in the following table, a complete documentation can be found at the following link:   \n",
    "https://numpy.org/doc/stable/reference/routines.math.html\n",
    "\n",
    "<p><img src=\"img/numpy.png\" style=\"width:400px\"; align=\"left\"/></p>"
   ]
  },
  {
   "cell_type": "markdown",
   "id": "7ee42b94",
   "metadata": {},
   "source": [
    "<hr>"
   ]
  },
  {
   "cell_type": "markdown",
   "id": "b7b5edd5",
   "metadata": {},
   "source": [
    "## <span style=\"color:mediumblue\">8.2 Ndarrays</span> <a name=\"kap82\"></a>\n",
    "\n",
    "The <span style='font-family:Consolas'>.to_numpy()</span> lmethod can be used to extract the values from a DataFrame without structuring and naming.\n",
    "The resulting data type is an ndarray. The addressing of individual elements works analogously to the DataFrames:"
   ]
  },
  {
   "cell_type": "code",
   "execution_count": 42,
   "id": "1a671be4",
   "metadata": {},
   "outputs": [
    {
     "data": {
      "text/plain": [
       "pandas.core.series.Series"
      ]
     },
     "execution_count": 42,
     "metadata": {},
     "output_type": "execute_result"
    }
   ],
   "source": [
    "type(data)"
   ]
  },
  {
   "cell_type": "code",
   "execution_count": 37,
   "id": "2497c2b7",
   "metadata": {},
   "outputs": [
    {
     "data": {
      "text/plain": [
       "numpy.ndarray"
      ]
     },
     "execution_count": 37,
     "metadata": {},
     "output_type": "execute_result"
    }
   ],
   "source": [
    "type(data.to_numpy())"
   ]
  },
  {
   "cell_type": "code",
   "execution_count": 38,
   "id": "c4900cef",
   "metadata": {},
   "outputs": [
    {
     "ename": "IndexingError",
     "evalue": "Too many indexers",
     "output_type": "error",
     "traceback": [
      "\u001b[0;31m---------------------------------------------------------------------------\u001b[0m",
      "\u001b[0;31mIndexingError\u001b[0m                             Traceback (most recent call last)",
      "Input \u001b[0;32mIn [38]\u001b[0m, in \u001b[0;36m<cell line: 1>\u001b[0;34m()\u001b[0m\n\u001b[0;32m----> 1\u001b[0m \u001b[43mdata\u001b[49m\u001b[38;5;241;43m.\u001b[39;49m\u001b[43miloc\u001b[49m\u001b[43m[\u001b[49m\u001b[38;5;241;43m1\u001b[39;49m\u001b[43m,\u001b[49m\u001b[38;5;241;43m1\u001b[39;49m\u001b[43m]\u001b[49m\n",
      "File \u001b[0;32m/opt/anaconda3/lib/python3.8/site-packages/pandas/core/indexing.py:925\u001b[0m, in \u001b[0;36m_LocationIndexer.__getitem__\u001b[0;34m(self, key)\u001b[0m\n\u001b[1;32m    923\u001b[0m         \u001b[38;5;28;01mwith\u001b[39;00m suppress(\u001b[38;5;167;01mKeyError\u001b[39;00m, \u001b[38;5;167;01mIndexError\u001b[39;00m):\n\u001b[1;32m    924\u001b[0m             \u001b[38;5;28;01mreturn\u001b[39;00m \u001b[38;5;28mself\u001b[39m\u001b[38;5;241m.\u001b[39mobj\u001b[38;5;241m.\u001b[39m_get_value(\u001b[38;5;241m*\u001b[39mkey, takeable\u001b[38;5;241m=\u001b[39m\u001b[38;5;28mself\u001b[39m\u001b[38;5;241m.\u001b[39m_takeable)\n\u001b[0;32m--> 925\u001b[0m     \u001b[38;5;28;01mreturn\u001b[39;00m \u001b[38;5;28;43mself\u001b[39;49m\u001b[38;5;241;43m.\u001b[39;49m\u001b[43m_getitem_tuple\u001b[49m\u001b[43m(\u001b[49m\u001b[43mkey\u001b[49m\u001b[43m)\u001b[49m\n\u001b[1;32m    926\u001b[0m \u001b[38;5;28;01melse\u001b[39;00m:\n\u001b[1;32m    927\u001b[0m     \u001b[38;5;66;03m# we by definition only have the 0th axis\u001b[39;00m\n\u001b[1;32m    928\u001b[0m     axis \u001b[38;5;241m=\u001b[39m \u001b[38;5;28mself\u001b[39m\u001b[38;5;241m.\u001b[39maxis \u001b[38;5;129;01mor\u001b[39;00m \u001b[38;5;241m0\u001b[39m\n",
      "File \u001b[0;32m/opt/anaconda3/lib/python3.8/site-packages/pandas/core/indexing.py:1506\u001b[0m, in \u001b[0;36m_iLocIndexer._getitem_tuple\u001b[0;34m(self, tup)\u001b[0m\n\u001b[1;32m   1504\u001b[0m \u001b[38;5;28;01mdef\u001b[39;00m \u001b[38;5;21m_getitem_tuple\u001b[39m(\u001b[38;5;28mself\u001b[39m, tup: \u001b[38;5;28mtuple\u001b[39m):\n\u001b[0;32m-> 1506\u001b[0m     \u001b[38;5;28;43mself\u001b[39;49m\u001b[38;5;241;43m.\u001b[39;49m\u001b[43m_has_valid_tuple\u001b[49m\u001b[43m(\u001b[49m\u001b[43mtup\u001b[49m\u001b[43m)\u001b[49m\n\u001b[1;32m   1507\u001b[0m     \u001b[38;5;28;01mwith\u001b[39;00m suppress(IndexingError):\n\u001b[1;32m   1508\u001b[0m         \u001b[38;5;28;01mreturn\u001b[39;00m \u001b[38;5;28mself\u001b[39m\u001b[38;5;241m.\u001b[39m_getitem_lowerdim(tup)\n",
      "File \u001b[0;32m/opt/anaconda3/lib/python3.8/site-packages/pandas/core/indexing.py:751\u001b[0m, in \u001b[0;36m_LocationIndexer._has_valid_tuple\u001b[0;34m(self, key)\u001b[0m\n\u001b[1;32m    747\u001b[0m \u001b[38;5;28;01mdef\u001b[39;00m \u001b[38;5;21m_has_valid_tuple\u001b[39m(\u001b[38;5;28mself\u001b[39m, key: \u001b[38;5;28mtuple\u001b[39m):\n\u001b[1;32m    748\u001b[0m     \u001b[38;5;124;03m\"\"\"\u001b[39;00m\n\u001b[1;32m    749\u001b[0m \u001b[38;5;124;03m    Check the key for valid keys across my indexer.\u001b[39;00m\n\u001b[1;32m    750\u001b[0m \u001b[38;5;124;03m    \"\"\"\u001b[39;00m\n\u001b[0;32m--> 751\u001b[0m     \u001b[38;5;28;43mself\u001b[39;49m\u001b[38;5;241;43m.\u001b[39;49m\u001b[43m_validate_key_length\u001b[49m\u001b[43m(\u001b[49m\u001b[43mkey\u001b[49m\u001b[43m)\u001b[49m\n\u001b[1;32m    752\u001b[0m     \u001b[38;5;28;01mfor\u001b[39;00m i, k \u001b[38;5;129;01min\u001b[39;00m \u001b[38;5;28menumerate\u001b[39m(key):\n\u001b[1;32m    753\u001b[0m         \u001b[38;5;28;01mtry\u001b[39;00m:\n",
      "File \u001b[0;32m/opt/anaconda3/lib/python3.8/site-packages/pandas/core/indexing.py:792\u001b[0m, in \u001b[0;36m_LocationIndexer._validate_key_length\u001b[0;34m(self, key)\u001b[0m\n\u001b[1;32m    790\u001b[0m \u001b[38;5;28;01mdef\u001b[39;00m \u001b[38;5;21m_validate_key_length\u001b[39m(\u001b[38;5;28mself\u001b[39m, key: Sequence[Any]) \u001b[38;5;241m-\u001b[39m\u001b[38;5;241m>\u001b[39m \u001b[38;5;28;01mNone\u001b[39;00m:\n\u001b[1;32m    791\u001b[0m     \u001b[38;5;28;01mif\u001b[39;00m \u001b[38;5;28mlen\u001b[39m(key) \u001b[38;5;241m>\u001b[39m \u001b[38;5;28mself\u001b[39m\u001b[38;5;241m.\u001b[39mndim:\n\u001b[0;32m--> 792\u001b[0m         \u001b[38;5;28;01mraise\u001b[39;00m IndexingError(\u001b[38;5;124m\"\u001b[39m\u001b[38;5;124mToo many indexers\u001b[39m\u001b[38;5;124m\"\u001b[39m)\n",
      "\u001b[0;31mIndexingError\u001b[0m: Too many indexers"
     ]
    }
   ],
   "source": [
    "data.iloc[1,1]"
   ]
  },
  {
   "cell_type": "code",
   "execution_count": 39,
   "id": "cc203bb0",
   "metadata": {},
   "outputs": [
    {
     "ename": "IndexError",
     "evalue": "too many indices for array: array is 1-dimensional, but 2 were indexed",
     "output_type": "error",
     "traceback": [
      "\u001b[0;31m---------------------------------------------------------------------------\u001b[0m",
      "\u001b[0;31mIndexError\u001b[0m                                Traceback (most recent call last)",
      "Input \u001b[0;32mIn [39]\u001b[0m, in \u001b[0;36m<cell line: 1>\u001b[0;34m()\u001b[0m\n\u001b[0;32m----> 1\u001b[0m \u001b[43mdata\u001b[49m\u001b[38;5;241;43m.\u001b[39;49m\u001b[43mto_numpy\u001b[49m\u001b[43m(\u001b[49m\u001b[43m)\u001b[49m\u001b[43m[\u001b[49m\u001b[38;5;241;43m1\u001b[39;49m\u001b[43m,\u001b[49m\u001b[38;5;241;43m1\u001b[39;49m\u001b[43m]\u001b[49m\n",
      "\u001b[0;31mIndexError\u001b[0m: too many indices for array: array is 1-dimensional, but 2 were indexed"
     ]
    }
   ],
   "source": [
    "data.to_numpy()[1,1]"
   ]
  },
  {
   "cell_type": "markdown",
   "id": "17cf4f6d",
   "metadata": {},
   "source": [
    "<div class=\"alert alert-block alert-success\">\n",
    "     Use the mathematical functions introduced in chapter 8.1 and the method <span style='font-family:Consolas'>.to_numpy()</span> to calculate the square root of the entry with row index 1 and column index 0 from the DataFrame <em>data</em>.\n",
    "</div>"
   ]
  },
  {
   "cell_type": "code",
   "execution_count": 54,
   "id": "9bd11db0",
   "metadata": {},
   "outputs": [
    {
     "data": {
      "text/plain": [
       "1.7320508075688772"
      ]
     },
     "execution_count": 54,
     "metadata": {},
     "output_type": "execute_result"
    }
   ],
   "source": [
    "sqrt(credit_data.iloc[1,0])"
   ]
  },
  {
   "cell_type": "markdown",
   "id": "e332aa95",
   "metadata": {},
   "source": [
    "<hr style=\"border:1px solid gray\"> </hr>"
   ]
  },
  {
   "cell_type": "markdown",
   "id": "b8451360",
   "metadata": {},
   "source": [
    "# <span style=\"color:mediumblue\">9. Matplotlib</span> <a name=\"kap9\"></a>"
   ]
  },
  {
   "cell_type": "markdown",
   "id": "93455460",
   "metadata": {},
   "source": [
    "<hr>"
   ]
  },
  {
   "cell_type": "markdown",
   "id": "cfb221ca",
   "metadata": {},
   "source": [
    "<span style=\"color:crimson\">Matplotlib</span> is the most popular Python library for graphical representation of data and functions. It allows static, animated and interactive visualizations.\n",
    "\n",
    "There are several different ways to use Matplotlib. In this chapter, you will learn about the <span style=\"color:crimson\">Pyplot</span> tool.  \n",
    "Many functions in Matplotlib also require Numpy.\n",
    "\n",
    "The following code imports all the necessary modules to use Pyplot:"
   ]
  },
  {
   "cell_type": "code",
   "execution_count": 55,
   "id": "683f58c0",
   "metadata": {},
   "outputs": [],
   "source": [
    "import matplotlib.pyplot as plt\n",
    "import numpy as np"
   ]
  },
  {
   "cell_type": "markdown",
   "id": "856db238",
   "metadata": {},
   "source": [
    "<hr>"
   ]
  },
  {
   "cell_type": "markdown",
   "id": "695797a9",
   "metadata": {},
   "source": [
    "## <span style=\"color:mediumblue\">9.1 Format plots</span> <a name=\"kap91\"></a>"
   ]
  },
  {
   "cell_type": "markdown",
   "id": "957585a0",
   "metadata": {},
   "source": [
    "### <span style=\"color:mediumblue\">9.1.1 2D-Plots (points)</span> <a name=\"kap911\"></a>\n",
    "\n",
    "The points (1;1), (2;0) and (3;4) are to be represented in a coordinate system. \n",
    "\n",
    "The points correspond to the following table:   \n",
    "<img src=\"img/punkte.png\" width=\"100\" align=\"left\">  "
   ]
  },
  {
   "cell_type": "code",
   "execution_count": 56,
   "id": "1b46bd19",
   "metadata": {},
   "outputs": [
    {
     "data": {
      "image/png": "[encoded data removed]",
      "text/plain": [
       "<Figure size 432x288 with 1 Axes>"
      ]
     },
     "metadata": {
      "needs_background": "light"
     },
     "output_type": "display_data"
    }
   ],
   "source": [
    "plt.plot([1,2,3],[1,0,4]);"
   ]
  },
  {
   "cell_type": "markdown",
   "id": "c2f94b0f",
   "metadata": {},
   "source": [
    "<div class=\"alert alert-block alert-warning\">\n",
    "Note: The semicolon after a plt.plot leads to a slimmer output.\n",
    "</div>"
   ]
  },
  {
   "cell_type": "markdown",
   "id": "b9d81a0c",
   "metadata": {},
   "source": [
    "Points are plotted as blue lines by default. An <span style=\"font-family:Consolas; color:crimson\">\"o\"</span> as optional argument instead outputs only the points themselves as circles."
   ]
  },
  {
   "cell_type": "code",
   "execution_count": 57,
   "id": "0e13a8ce",
   "metadata": {},
   "outputs": [
    {
     "data": {
      "image/png": "[encoded data removed]",
      "text/plain": [
       "<Figure size 432x288 with 1 Axes>"
      ]
     },
     "metadata": {
      "needs_background": "light"
     },
     "output_type": "display_data"
    }
   ],
   "source": [
    "plt.plot([1,2,3],[1,0,4],\"o\");"
   ]
  },
  {
   "cell_type": "markdown",
   "id": "d52e162d",
   "metadata": {},
   "source": [
    "<b>Additional formatting options for the data points (markers):</b>\n",
    "\n",
    "<img src=\"img/marker.png\" width=\"480\" align=\"left\">  "
   ]
  },
  {
   "cell_type": "markdown",
   "id": "206d1b0d",
   "metadata": {},
   "source": [
    "<b>Other password arguments:</b>\n",
    "\n",
    "<img src=\"img/style.png\" width=\"420\" align=\"left\">  "
   ]
  },
  {
   "cell_type": "markdown",
   "id": "6b4148ca",
   "metadata": {},
   "source": [
    "<div class=\"alert alert-block alert-success\">\n",
    "    Use the following example to test out the formatting options and password arguments.\n",
    "</div>"
   ]
  },
  {
   "cell_type": "code",
   "execution_count": 58,
   "id": "51368ee0",
   "metadata": {},
   "outputs": [],
   "source": [
    "a,b = [1,2,3],[1,0,4]"
   ]
  },
  {
   "cell_type": "code",
   "execution_count": 59,
   "id": "d602abef",
   "metadata": {},
   "outputs": [
    {
     "data": {
      "text/plain": [
       "[<matplotlib.lines.Line2D at 0x7f7fee1becd0>]"
      ]
     },
     "execution_count": 59,
     "metadata": {},
     "output_type": "execute_result"
    },
    {
     "data": {
      "image/png": "[encoded data removed]",
      "text/plain": [
       "<Figure size 432x288 with 1 Axes>"
      ]
     },
     "metadata": {
      "needs_background": "light"
     },
     "output_type": "display_data"
    }
   ],
   "source": [
    "plt.plot(a,b,marker=\"d\",markersize=20,color=\"g\",linewidth=1) # Make changes here!"
   ]
  },
  {
   "cell_type": "markdown",
   "id": "ac1ab059",
   "metadata": {},
   "source": [
    "### <span style=\"color:mediumblue\">9.1.2 Axis labeling</span> <a name=\"kap912\"></a>"
   ]
  },
  {
   "cell_type": "markdown",
   "id": "87a58a06",
   "metadata": {},
   "source": [
    "<b><span style=\"font-family:Consolas\">xlabel(), ylabel()</span></b> &ensp; provides the axes of the last created subplot with a label, which is displayed below or next to the axis:"
   ]
  },
  {
   "cell_type": "code",
   "execution_count": 60,
   "id": "5e40c57b",
   "metadata": {},
   "outputs": [
    {
     "data": {
      "text/plain": [
       "Text(0, 0.5, 'f(x)')"
      ]
     },
     "execution_count": 60,
     "metadata": {},
     "output_type": "execute_result"
    },
    {
     "data": {
      "image/png": "[encoded data removed]",
      "text/plain": [
       "<Figure size 432x288 with 1 Axes>"
      ]
     },
     "metadata": {
      "needs_background": "light"
     },
     "output_type": "display_data"
    }
   ],
   "source": [
    "x = np.arange(0,2,0.01)\n",
    "plt.plot(x,2*x)\n",
    "plt.xlabel(\"x\")\n",
    "plt.ylabel(\"f(x)\")"
   ]
  },
  {
   "cell_type": "markdown",
   "id": "aad48116",
   "metadata": {},
   "source": [
    "<div class=\"alert alert-block alert-warning\">\n",
    "    Note: <span style=\"font-family:Consolas\">np.arange(0,2,0.01)</span> creates a \"vector\" with entries between 0 and 2 and the distance 0.01 using the NumPy library.\n",
    "</div>"
   ]
  },
  {
   "cell_type": "markdown",
   "id": "9da82321",
   "metadata": {},
   "source": [
    "With &ensp; <b><span style=\"font-family:Consolas\">xticks(), yticks()</span></b> &ensp; the numbers standing at the axes can be adjusted:"
   ]
  },
  {
   "cell_type": "code",
   "execution_count": 61,
   "id": "d3a7bacf",
   "metadata": {},
   "outputs": [
    {
     "data": {
      "text/plain": [
       "([<matplotlib.axis.YTick at 0x7f7ff9522940>,\n",
       "  <matplotlib.axis.YTick at 0x7f7ff9522550>,\n",
       "  <matplotlib.axis.YTick at 0x7f7ff951f3a0>],\n",
       " [Text(0, 0, ''), Text(0, 0, ''), Text(0, 0, '')])"
      ]
     },
     "execution_count": 61,
     "metadata": {},
     "output_type": "execute_result"
    },
    {
     "data": {
      "image/png": "[encoded data removed]",
      "text/plain": [
       "<Figure size 432x288 with 1 Axes>"
      ]
     },
     "metadata": {
      "needs_background": "light"
     },
     "output_type": "display_data"
    }
   ],
   "source": [
    "x = np.arange(0,2,0.01)\n",
    "plt.plot(x,2*x)\n",
    "plt.xticks([])\n",
    "plt.yticks([0,2,4])"
   ]
  },
  {
   "cell_type": "markdown",
   "id": "fcce7406",
   "metadata": {},
   "source": [
    "### <span style=\"color:mediumblue\">9.1.3 Axis scaling</span> <a name=\"kap913\"></a>"
   ]
  },
  {
   "cell_type": "markdown",
   "id": "66982eb9",
   "metadata": {},
   "source": [
    "<b><span style=\"font-family:Consolas\">xscale(), yscale()</span></b> &ensp; allow different scaling of the axes, for example logarithmic instead of linear:"
   ]
  },
  {
   "cell_type": "code",
   "execution_count": 62,
   "id": "2cf13f94",
   "metadata": {},
   "outputs": [
    {
     "data": {
      "image/png": "[encoded data removed]",
      "text/plain": [
       "<Figure size 432x288 with 1 Axes>"
      ]
     },
     "metadata": {
      "needs_background": "light"
     },
     "output_type": "display_data"
    }
   ],
   "source": [
    "x = np.arange(0,2,0.01)\n",
    "plt.plot(x,2*x)\n",
    "plt.xscale(\"log\")\n",
    "plt.yscale(\"linear\")"
   ]
  },
  {
   "cell_type": "markdown",
   "id": "53bd4421",
   "metadata": {},
   "source": [
    "### <span style=\"color:mediumblue\">9.1.4 Legend</span> <a name=\"kap914\"></a>"
   ]
  },
  {
   "cell_type": "markdown",
   "id": "1a14a1d5",
   "metadata": {},
   "source": [
    "<b><span style=\"font-family:Consolas\">legend()</span></b> &ensp; displays a legend. Especially useful for multiple plots in a coordinate system:"
   ]
  },
  {
   "cell_type": "code",
   "execution_count": 63,
   "id": "ab0cb9a0",
   "metadata": {},
   "outputs": [
    {
     "data": {
      "text/plain": [
       "<matplotlib.legend.Legend at 0x7f7fee41b2e0>"
      ]
     },
     "execution_count": 63,
     "metadata": {},
     "output_type": "execute_result"
    },
    {
     "data": {
      "image/png": "[encoded data removed]",
      "text/plain": [
       "<Figure size 432x288 with 1 Axes>"
      ]
     },
     "metadata": {
      "needs_background": "light"
     },
     "output_type": "display_data"
    }
   ],
   "source": [
    "x = np.arange(0,2,0.01)\n",
    "plt.plot(x,x,label=\"f1\")\n",
    "plt.plot(x,2*x,label=\"f2\")\n",
    "plt.legend()"
   ]
  },
  {
   "cell_type": "markdown",
   "id": "8a35ccea",
   "metadata": {},
   "source": [
    "### <span style=\"color:mediumblue\">9.1.5 Grid</span> <a name=\"kap915\"></a>"
   ]
  },
  {
   "cell_type": "markdown",
   "id": "e386257d",
   "metadata": {},
   "source": [
    "With &ensp; <b><span style=\"font-family:Consolas\">grid()</span></b> &ensp; a grid lying on the coordinate system can be configured:"
   ]
  },
  {
   "cell_type": "code",
   "execution_count": 64,
   "id": "81954806",
   "metadata": {},
   "outputs": [
    {
     "data": {
      "image/png": "[encoded data removed]",
      "text/plain": [
       "<Figure size 432x288 with 1 Axes>"
      ]
     },
     "metadata": {
      "needs_background": "light"
     },
     "output_type": "display_data"
    }
   ],
   "source": [
    "x = np.arange(0,2,0.01)\n",
    "plt.plot(x,2*x)\n",
    "plt.grid()"
   ]
  },
  {
   "cell_type": "markdown",
   "id": "fd22d93b",
   "metadata": {},
   "source": [
    "<hr>"
   ]
  },
  {
   "cell_type": "code",
   "execution_count": 65,
   "id": "557d7501",
   "metadata": {},
   "outputs": [
    {
     "data": {
      "image/png": "[encoded data removed]",
      "text/plain": [
       "<Figure size 432x288 with 1 Axes>"
      ]
     },
     "metadata": {
      "needs_background": "light"
     },
     "output_type": "display_data"
    }
   ],
   "source": [
    "x = np.arange(0,2,0.01)\n",
    "plt.plot(x,2*x, label='f1')\n",
    "plt.xlabel('x')\n",
    "plt.ylabel('f(x)=2*x')\n",
    "plt.xticks([0,1,2])\n",
    "plt.yticks([0,1,2,3,4])\n",
    "plt.legend()\n",
    "plt.grid()"
   ]
  },
  {
   "cell_type": "markdown",
   "id": "5a14e014",
   "metadata": {},
   "source": [
    "<div class=\"alert alert-block alert-success\">\n",
    " Modify the above plot so that ...<br>\n",
    "<ul>\n",
    "    <li>the axes are labeled with \"x\" and \"f(x)=2*x\".</li>\n",
    "    <li>the axes are indexed only as integers.</li>\n",
    "    <li>there is a legend with the name of the function.</li>\n",
    "    <li>there is a grid behind the plot.</li>\n",
    "    </ul>"
   ]
  },
  {
   "cell_type": "markdown",
   "id": "fd5a6a49",
   "metadata": {},
   "source": [
    "<hr>"
   ]
  },
  {
   "cell_type": "markdown",
   "id": "48a93ebb",
   "metadata": {},
   "source": [
    "## <span style=\"color:mediumblue\">9.2 Plot types</span> <a name=\"kap92\"></a>"
   ]
  },
  {
   "cell_type": "markdown",
   "id": "4851f9fb",
   "metadata": {},
   "source": [
    "### <span style=\"color:mediumblue\">9.2.1 Scatterplots</span> <a name=\"kap921\"></a>"
   ]
  },
  {
   "cell_type": "markdown",
   "id": "6afa8b4a",
   "metadata": {},
   "source": [
    "Besides <span style=\"font-family:Consolas\">plot()</span>, Matplotlib provides many other functions for different types of diagrams.\n",
    "\n",
    "<b><span style=\"font-family:Consolas\">scatter()</span></b> &ensp; is used to create scatterplots. The <u>color</u> and <u>size</u> of the points can be easily changed with it."
   ]
  },
  {
   "cell_type": "markdown",
   "id": "af8488da",
   "metadata": {},
   "source": [
    "<span style=\"font-family:Consolas\">plt.scatter(x,y,...)\n",
    "    \n",
    "<img src=\"img/scatter.png\" width=\"400\" align=\"center\">  "
   ]
  },
  {
   "cell_type": "markdown",
   "id": "854bf5c8",
   "metadata": {},
   "source": [
    "<div class=\"alert alert-block alert-warning\">\n",
    "<b><span style=\"font-family:Consolas\">x,y</span></b> are the positions of the points as in <span style=\"font-family:Consolas\">plot()</span>. <br>\n",
    "Each plot type has its own (partly matching or similar) further arguments for formatting. These can be taken from the respective documentation.\n",
    "</div>"
   ]
  },
  {
   "cell_type": "markdown",
   "id": "02f37319",
   "metadata": {},
   "source": [
    "### <span style=\"color:mediumblue\">9.2.2 Histograms</span> <a name=\"kap922\"></a>"
   ]
  },
  {
   "cell_type": "markdown",
   "id": "eda34c17",
   "metadata": {},
   "source": [
    "<b><span style=\"font-family:Consolas\">hist()</span></b> &ensp; is used to create histograms:"
   ]
  },
  {
   "cell_type": "markdown",
   "id": "28009ae5",
   "metadata": {},
   "source": [
    "<span style=\"font-family:Consolas\">plt.hist(x,...)\n",
    "    \n",
    "<img src=\"img/histogramm.png\" width=\"400\" align=\"center\">  "
   ]
  },
  {
   "cell_type": "markdown",
   "id": "7fb153a4",
   "metadata": {},
   "source": [
    "<div class=\"alert alert-block alert-warning\">\n",
    "<b><span style=\"font-family:Consolas\">x</span></b> is a list of the data to be processed.\n",
    "</div>"
   ]
  },
  {
   "cell_type": "markdown",
   "id": "bbe4a3c1",
   "metadata": {},
   "source": [
    "### <span style=\"color:mediumblue\">9.2.3 Pie charts</span> <a name=\"kap923\"></a>"
   ]
  },
  {
   "cell_type": "markdown",
   "id": "d6b9063f",
   "metadata": {},
   "source": [
    "<b><span style=\"font-family:Consolas\">pie()</span></b> &ensp; is used to create pie charts. The individual circle sectors start at the positive x-axis and are plotted counterclockwise."
   ]
  },
  {
   "cell_type": "markdown",
   "id": "8d84725e",
   "metadata": {},
   "source": [
    "<span style=\"font-family:Consolas\">plt.pie(x,...)\n",
    "    \n",
    "<img src=\"img/kreisdiagramm.png\" width=\"200\" align=\"center\">  "
   ]
  },
  {
   "cell_type": "markdown",
   "id": "de8955bb",
   "metadata": {},
   "source": [
    "<div class=\"alert alert-block alert-warning\">\n",
    "<b><span style=\"font-family:Consolas\">x</span></b> describes the relative width of the individual pie sectors."
   ]
  },
  {
   "cell_type": "markdown",
   "id": "69888d09",
   "metadata": {},
   "source": [
    "<hr>"
   ]
  },
  {
   "cell_type": "markdown",
   "id": "c0105da5",
   "metadata": {},
   "source": [
    "<div class=\"alert alert-block alert-success\">\n",
    "    Plot a histogram of the variable <em>Credit amount</em> from the Dataframe <em>credit_data</em>. \n",
    "</div>"
   ]
  },
  {
   "cell_type": "code",
   "execution_count": 67,
   "id": "08cc76ce",
   "metadata": {},
   "outputs": [
    {
     "data": {
      "text/plain": [
       "Index(['Unnamed: 0', 'Age', 'Sex', 'Job', 'Housing', 'Saving accounts',\n",
       "       'Checking account', 'Credit amount', 'Duration', 'Purpose'],\n",
       "      dtype='object')"
      ]
     },
     "execution_count": 67,
     "metadata": {},
     "output_type": "execute_result"
    }
   ],
   "source": [
    "credit_data.columns"
   ]
  },
  {
   "cell_type": "code",
   "execution_count": 68,
   "id": "1348fbeb",
   "metadata": {},
   "outputs": [
    {
     "data": {
      "text/plain": [
       "(array([232., 150.,  54.,  43.,  17.,   8.,   9.,   4.,   4.,   1.]),\n",
       " array([  276. ,  2090.8,  3905.6,  5720.4,  7535.2,  9350. , 11164.8,\n",
       "        12979.6, 14794.4, 16609.2, 18424. ]),\n",
       " <BarContainer object of 10 artists>)"
      ]
     },
     "execution_count": 68,
     "metadata": {},
     "output_type": "execute_result"
    },
    {
     "data": {
      "image/png": "[encoded data removed]",
      "text/plain": [
       "<Figure size 432x288 with 1 Axes>"
      ]
     },
     "metadata": {
      "needs_background": "light"
     },
     "output_type": "display_data"
    }
   ],
   "source": [
    "plt.hist(credit_data['Credit amount'])"
   ]
  },
  {
   "cell_type": "markdown",
   "id": "6ba439f4",
   "metadata": {},
   "source": [
    "<div class=\"alert alert-block alert-success\">\n",
    "    Plot the <em>Duration</em> und <em>Credit amount</em> aus dem Dataframe <em>kreditdaten</em> in einem Scatterplot gegeneinander. \n",
    "</div>"
   ]
  },
  {
   "cell_type": "code",
   "execution_count": 69,
   "id": "16f24202",
   "metadata": {},
   "outputs": [
    {
     "data": {
      "text/plain": [
       "<matplotlib.collections.PathCollection at 0x7f7fee4a5310>"
      ]
     },
     "execution_count": 69,
     "metadata": {},
     "output_type": "execute_result"
    },
    {
     "data": {
      "image/png": "[encoded data removed]",
      "text/plain": [
       "<Figure size 432x288 with 1 Axes>"
      ]
     },
     "metadata": {
      "needs_background": "light"
     },
     "output_type": "display_data"
    }
   ],
   "source": [
    "x = credit_data['Duration']\n",
    "y = credit_data['Credit amount']\n",
    "plt.scatter(x, y)\n",
    "plt.xlabel('Duration')\n",
    "plt.ylabel('Credit Amount')\n",
    "\n",
    "\n",
    "plt.plot(x,2*x, label='f1')\n",
    "plt.xlabel('x')\n",
    "plt.ylabel('f(x)=2*x')\n",
    "plt.xticks([0,1,2])\n",
    "plt.yticks([0,1,2,3,4])\n",
    "plt.legend()\n",
    "plt.grid()"
   ]
  },
  {
   "cell_type": "markdown",
   "id": "a90b28d1",
   "metadata": {},
   "source": [
    "<hr style=\"border:1px solid black\"> </hr>\n",
    "<hr style=\"border:1px solid black\"> </hr>"
   ]
  }
 ],
 "metadata": {
  "kernelspec": {
   "display_name": "Python 3",
   "language": "python",
   "name": "python3"
  },
  "language_info": {
   "codemirror_mode": {
    "name": "ipython",
    "version": 3
   },
   "file_extension": ".py",
   "mimetype": "text/x-python",
   "name": "python",
   "nbconvert_exporter": "python",
   "pygments_lexer": "ipython3",
   "version": "3.8.8"
  },
  "latex_envs": {
   "LaTeX_envs_menu_present": true,
   "autoclose": false,
   "autocomplete": true,
   "bibliofile": "biblio.bib",
   "cite_by": "apalike",
   "current_citInitial": 1,
   "eqLabelWithNumbers": true,
   "eqNumInitial": 1,
   "hotkeys": {
    "equation": "Ctrl-E",
    "itemize": "Ctrl-I"
   },
   "labels_anchors": false,
   "latex_user_defs": false,
   "report_style_numbering": false,
   "user_envs_cfg": false
  },
  "toc": {
   "base_numbering": 1,
   "nav_menu": {},
   "number_sections": false,
   "sideBar": true,
   "skip_h1_title": true,
   "title_cell": "Table of Contents",
   "title_sidebar": "Contents",
   "toc_cell": false,
   "toc_position": {},
   "toc_section_display": true,
   "toc_window_display": false
  },
  "varInspector": {
   "cols": {
    "lenName": 16,
    "lenType": 16,
    "lenVar": 40
   },
   "kernels_config": {
    "python": {
     "delete_cmd_postfix": "",
     "delete_cmd_prefix": "del ",
     "library": "var_list.py",
     "varRefreshCmd": "print(var_dic_list())"
    },
    "r": {
     "delete_cmd_postfix": ") ",
     "delete_cmd_prefix": "rm(",
     "library": "var_list.r",
     "varRefreshCmd": "cat(var_dic_list()) "
    }
   },
   "types_to_exclude": [
    "module",
    "function",
    "builtin_function_or_method",
    "instance",
    "_Feature"
   ],
   "window_display": false
  }
 },
 "nbformat": 4,
 "nbformat_minor": 5
}
