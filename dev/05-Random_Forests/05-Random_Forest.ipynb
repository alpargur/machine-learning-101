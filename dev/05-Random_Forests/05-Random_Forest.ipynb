{
 "cells": [
  {
   "cell_type": "markdown",
   "metadata": {},
   "source": [
    "# 05 - Ensemble Learning (Random Forest)\n",
    "\n",
    "The goal of this exercise is to to develop an understanding how to implement a random forest classifier.\n",
    "\n",
    "<div class=\"alert alert-block alert-info\">\n",
    "To solve this notebook you need the knowledge from the previous notebook. If you have problems solving it, take another look at the last week's notebooks.\n",
    "    \n",
    "It's also recommended to read the chapter 7 of the book in advance.\n",
    "</div>\n",
    "\n",
    "**Task**: In this exercise, the same dataset as last week is used to predict, if a patient has a heart disease or not, depending on some medical measurements."
   ]
  },
  {
   "cell_type": "code",
   "execution_count": 1,
   "metadata": {},
   "outputs": [],
   "source": [
    "# Run this cell to import the following modules\n",
    "import numpy as np\n",
    "import pandas as pd\n",
    "import matplotlib.pyplot as plt\n",
    "import seaborn as sns\n",
    "%matplotlib inline"
   ]
  },
  {
   "cell_type": "markdown",
   "metadata": {},
   "source": [
    "<h2 style=\"color:blue\" align=\"left\">Load and preprocess the data</h2>\n",
    "\n",
    "First of all, we need to load the dataset."
   ]
  },
  {
   "cell_type": "code",
   "execution_count": 2,
   "metadata": {},
   "outputs": [
    {
     "data": {
      "text/plain": "    age  sex   cp  trestbps   chol  fbs  restecg  thalach  exang  oldpeak  \\\n0  70.0  1.0  4.0     130.0  322.0  0.0      2.0    109.0    0.0      2.4   \n1  67.0  0.0  3.0     115.0  564.0  0.0      2.0    160.0    0.0      1.6   \n2  57.0  1.0  2.0     124.0  261.0  0.0      0.0    141.0    0.0      0.3   \n3  64.0  1.0  4.0     128.0  263.0  0.0      0.0    105.0    1.0      0.2   \n4  74.0  0.0  2.0     120.0  269.0  0.0      2.0    121.0    1.0      0.2   \n\n   slope   ca  thal  target  \n0    2.0  3.0   3.0       2  \n1    2.0  0.0   7.0       1  \n2    1.0  0.0   7.0       2  \n3    2.0  1.0   7.0       1  \n4    1.0  1.0   3.0       1  ",
      "text/html": "<div>\n<style scoped>\n    .dataframe tbody tr th:only-of-type {\n        vertical-align: middle;\n    }\n\n    .dataframe tbody tr th {\n        vertical-align: top;\n    }\n\n    .dataframe thead th {\n        text-align: right;\n    }\n</style>\n<table border=\"1\" class=\"dataframe\">\n  <thead>\n    <tr style=\"text-align: right;\">\n      <th></th>\n      <th>age</th>\n      <th>sex</th>\n      <th>cp</th>\n      <th>trestbps</th>\n      <th>chol</th>\n      <th>fbs</th>\n      <th>restecg</th>\n      <th>thalach</th>\n      <th>exang</th>\n      <th>oldpeak</th>\n      <th>slope</th>\n      <th>ca</th>\n      <th>thal</th>\n      <th>target</th>\n    </tr>\n  </thead>\n  <tbody>\n    <tr>\n      <th>0</th>\n      <td>70.0</td>\n      <td>1.0</td>\n      <td>4.0</td>\n      <td>130.0</td>\n      <td>322.0</td>\n      <td>0.0</td>\n      <td>2.0</td>\n      <td>109.0</td>\n      <td>0.0</td>\n      <td>2.4</td>\n      <td>2.0</td>\n      <td>3.0</td>\n      <td>3.0</td>\n      <td>2</td>\n    </tr>\n    <tr>\n      <th>1</th>\n      <td>67.0</td>\n      <td>0.0</td>\n      <td>3.0</td>\n      <td>115.0</td>\n      <td>564.0</td>\n      <td>0.0</td>\n      <td>2.0</td>\n      <td>160.0</td>\n      <td>0.0</td>\n      <td>1.6</td>\n      <td>2.0</td>\n      <td>0.0</td>\n      <td>7.0</td>\n      <td>1</td>\n    </tr>\n    <tr>\n      <th>2</th>\n      <td>57.0</td>\n      <td>1.0</td>\n      <td>2.0</td>\n      <td>124.0</td>\n      <td>261.0</td>\n      <td>0.0</td>\n      <td>0.0</td>\n      <td>141.0</td>\n      <td>0.0</td>\n      <td>0.3</td>\n      <td>1.0</td>\n      <td>0.0</td>\n      <td>7.0</td>\n      <td>2</td>\n    </tr>\n    <tr>\n      <th>3</th>\n      <td>64.0</td>\n      <td>1.0</td>\n      <td>4.0</td>\n      <td>128.0</td>\n      <td>263.0</td>\n      <td>0.0</td>\n      <td>0.0</td>\n      <td>105.0</td>\n      <td>1.0</td>\n      <td>0.2</td>\n      <td>2.0</td>\n      <td>1.0</td>\n      <td>7.0</td>\n      <td>1</td>\n    </tr>\n    <tr>\n      <th>4</th>\n      <td>74.0</td>\n      <td>0.0</td>\n      <td>2.0</td>\n      <td>120.0</td>\n      <td>269.0</td>\n      <td>0.0</td>\n      <td>2.0</td>\n      <td>121.0</td>\n      <td>1.0</td>\n      <td>0.2</td>\n      <td>1.0</td>\n      <td>1.0</td>\n      <td>3.0</td>\n      <td>1</td>\n    </tr>\n  </tbody>\n</table>\n</div>"
     },
     "execution_count": 2,
     "metadata": {},
     "output_type": "execute_result"
    }
   ],
   "source": [
    "dataset = pd.read_csv('dataset/heart.dat', delim_whitespace=True)\n",
    "dataset.head()"
   ]
  },
  {
   "cell_type": "markdown",
   "metadata": {},
   "source": [
    "After we've load the dataset, we perform the train-test-split to validate the performance of your model later on. "
   ]
  },
  {
   "cell_type": "code",
   "execution_count": 3,
   "metadata": {},
   "outputs": [
    {
     "data": {
      "text/plain": "((216, 13), (54, 13), (216,), (54,))"
     },
     "execution_count": 3,
     "metadata": {},
     "output_type": "execute_result"
    }
   ],
   "source": [
    "from sklearn.model_selection import train_test_split\n",
    "X = dataset.drop('target', axis=1)\n",
    "y = dataset['target']\n",
    "X_train, X_test, y_train, y_test = train_test_split(X, y, test_size=0.2, random_state=42, stratify=dataset['target'])\n",
    "X_train.shape, X_test.shape, y_train.shape, y_test.shape"
   ]
  },
  {
   "cell_type": "markdown",
   "metadata": {},
   "source": [
    "We can see, that we have 216 sample in the training set and 54 sample in the test test."
   ]
  },
  {
   "cell_type": "markdown",
   "metadata": {},
   "source": [
    "<h2 style=\"color:blue\" align=\"left\">Train and evaluate the model</h2>\n",
    "\n",
    "Scikit-learn has a built-in model for Random forests called RandomForestClassifier."
   ]
  },
  {
   "cell_type": "code",
   "execution_count": 30,
   "metadata": {},
   "outputs": [],
   "source": [
    "from sklearn.ensemble import RandomForestClassifier\n",
    "from sklearn.metrics import accuracy_score\n",
    "from sklearn.metrics import confusion_matrix\n",
    "from sklearn.metrics import recall_score"
   ]
  },
  {
   "cell_type": "markdown",
   "metadata": {},
   "source": [
    "<div class=\"alert alert-block alert-success\"><b>Task</b><br> \n",
    "Use the metrics Confusion Matrix and Accuracy score to evalute the performance of the random forest model with default hyperparameters. Evaluate the model with the training and the test set. How do you assess the results? Compare the results with the performance to the last week decision tree.\n",
    "</div>"
   ]
  },
  {
   "cell_type": "code",
   "execution_count": 6,
   "metadata": {},
   "outputs": [
    {
     "data": {
      "text/plain": "<Figure size 936x360 with 4 Axes>",
      "image/png": "[encoded data removed]"
     },
     "metadata": {
      "needs_background": "light"
     },
     "output_type": "display_data"
    }
   ],
   "source": [
    "model = RandomForestClassifier()\n",
    "model.fit(X_train, y_train)\n",
    "# Write Your Code Here\n",
    "\n",
    "# Training Set\n",
    "y_train_pred = model.predict(X_train)\n",
    "train_accuracy = accuracy_score(y_true=y_train, y_pred=y_train_pred)\n",
    "# Test Set\n",
    "y_test_pred = model.predict(X_test)\n",
    "test_accuracy = accuracy_score(y_true=y_test, y_pred=y_test_pred)\n",
    "\n",
    "feature_names=X.columns\n",
    "class_names=['no heart attack', 'heart attack']\n",
    "fig, (ax1, ax2) = plt.subplots(1, 2, figsize=(13,5))\n",
    "\n",
    "sns.heatmap(confusion_matrix(y_train, y_train_pred), annot=True, fmt=\"d\", yticklabels=class_names, xticklabels=class_names, ax=ax1)\n",
    "ax1.set_title(f'Training set (Accuracy: {round(train_accuracy*100, 2)}%)')\n",
    "ax1.set_xlabel('Predicted', fontsize=12)\n",
    "ax1.set_ylabel('Actual', fontsize=12);\n",
    "\n",
    "sns.heatmap(confusion_matrix(y_test, y_test_pred), annot=True, fmt=\"d\", yticklabels=class_names, xticklabels=class_names, ax=ax2)\n",
    "ax2.set_title(f'Test set (Accuracy: {round(test_accuracy*100, 2)}%)')\n",
    "ax2.set_xlabel('Predicted', fontsize=12)\n",
    "ax2.set_ylabel('Actual', fontsize=12);"
   ]
  },
  {
   "cell_type": "markdown",
   "source": [
    "### Evaluation\n",
    "This model is overfitted as well. It has only predicted 1 less false positive value. Decision tree from last week has 7 FPs."
   ],
   "metadata": {
    "collapsed": false
   }
  },
  {
   "cell_type": "markdown",
   "metadata": {},
   "source": [
    "<h2 style=\"color:blue\" align=\"left\">Train and evaluate the model</h2>\n",
    "\n",
    "Hyperparameter tuning is about optimizing the performance of the model. In this task, we will first examine the influence of individual hyperparameters on the accuracy. Then we start an automatic search over the total parameter space to find the optimal result. For the performance evaluation we use a cross validation."
   ]
  },
  {
   "cell_type": "code",
   "execution_count": 7,
   "metadata": {},
   "outputs": [],
   "source": [
    "from sklearn.model_selection import cross_val_score\n",
    "from sklearn.model_selection import StratifiedKFold"
   ]
  },
  {
   "cell_type": "markdown",
   "metadata": {},
   "source": [
    "<div class=\"alert alert-block alert-success\"><b>Task</b><br> \n",
    "In the following cells, the influence of different hyperparameters is to be tested. At the beginning of the cell, the values for each hyperparameter are given. Use a for-loop to iterate through the list of values and create a random forest with each parameter. Use a cross-validation with 10 folds for each ensemble. Append the scores to the variable cv_scores. Then you can use the plot_validations function to visualize the results. \n",
    "</div>"
   ]
  },
  {
   "cell_type": "code",
   "execution_count": 8,
   "metadata": {},
   "outputs": [],
   "source": [
    "def plot_validations(cv_scores, x_label, x_ticklabels):\n",
    "    plt.figure(figsize=(len(x_ticklabels),4))\n",
    "    ax = sns.boxplot(data=cv_scores)\n",
    "    ax.set_xticklabels(x_ticklabels)\n",
    "    ax.set_ylabel('accuracy')\n",
    "    ax.set_xlabel(x_label);"
   ]
  },
  {
   "cell_type": "markdown",
   "metadata": {},
   "source": [
    "### n_estimators"
   ]
  },
  {
   "cell_type": "code",
   "execution_count": 11,
   "metadata": {},
   "outputs": [
    {
     "name": "stdout",
     "output_type": "stream",
     "text": [
      "Cross validation score for 10 estimator -> \n",
      " [0.95454545 0.72727273 0.63636364 0.72727273 0.72727273 0.86363636\n",
      " 0.85714286 0.80952381 0.80952381 0.85714286]\n",
      "Cross validation score for 50 estimator -> \n",
      " [0.81818182 0.77272727 0.72727273 0.77272727 0.63636364 0.86363636\n",
      " 0.85714286 0.80952381 0.9047619  0.80952381]\n",
      "Cross validation score for 100 estimator -> \n",
      " [0.86363636 0.77272727 0.68181818 0.86363636 0.72727273 0.90909091\n",
      " 0.95238095 0.95238095 0.9047619  0.80952381]\n",
      "Cross validation score for 500 estimator -> \n",
      " [0.81818182 0.77272727 0.68181818 0.86363636 0.77272727 0.90909091\n",
      " 0.95238095 0.85714286 0.9047619  0.80952381]\n",
      "Cross validation score for 1000 estimator -> \n",
      " [0.77272727 0.77272727 0.68181818 0.86363636 0.72727273 0.86363636\n",
      " 0.95238095 0.9047619  0.85714286 0.85714286]\n"
     ]
    },
    {
     "data": {
      "text/plain": "<Figure size 360x288 with 1 Axes>",
      "image/png": "[encoded data removed]"
     },
     "metadata": {
      "needs_background": "light"
     },
     "output_type": "display_data"
    }
   ],
   "source": [
    "n_trees = [10, 50, 100, 500, 1000]\n",
    "cv_scores = []\n",
    "for n_estimator in n_trees:\n",
    "    # Write Your Code Here\n",
    "    model = RandomForestClassifier(n_estimator)\n",
    "    model.fit(X_train, y_train)\n",
    "    cv = cross_val_score(model, X_train, y_train, cv = 10)\n",
    "    print('Cross validation score for {} estimator -> \\n {}'.format(n_estimator, cv))\n",
    "    cv_scores.append(cv)\n",
    "plot_validations(cv_scores, 'n_estimators', n_trees)"
   ]
  },
  {
   "cell_type": "markdown",
   "metadata": {},
   "source": [
    "### max_depth"
   ]
  },
  {
   "cell_type": "code",
   "execution_count": 17,
   "metadata": {},
   "outputs": [
    {
     "name": "stdout",
     "output_type": "stream",
     "text": [
      "Cross validation score for max depth of 1 -> \n",
      " [1.         0.72727273 0.63636364 0.81818182 0.72727273 0.86363636\n",
      " 0.9047619  0.85714286 0.85714286 0.80952381]\n",
      "Cross validation score for max depth of 2 -> \n",
      " [0.95454545 0.72727273 0.63636364 0.90909091 0.72727273 0.90909091\n",
      " 0.95238095 0.95238095 0.85714286 0.85714286]\n",
      "Cross validation score for max depth of 3 -> \n",
      " [0.90909091 0.77272727 0.63636364 0.86363636 0.77272727 0.90909091\n",
      " 0.95238095 0.9047619  0.85714286 0.85714286]\n",
      "Cross validation score for max depth of 4 -> \n",
      " [0.90909091 0.77272727 0.63636364 0.81818182 0.72727273 0.90909091\n",
      " 0.95238095 0.85714286 0.85714286 0.85714286]\n",
      "Cross validation score for max depth of 5 -> \n",
      " [0.86363636 0.77272727 0.59090909 0.90909091 0.81818182 0.86363636\n",
      " 0.95238095 0.9047619  0.9047619  0.85714286]\n",
      "Cross validation score for max depth of 6 -> \n",
      " [0.81818182 0.77272727 0.68181818 0.81818182 0.77272727 0.81818182\n",
      " 0.95238095 0.85714286 0.85714286 0.80952381]\n",
      "Cross validation score for max depth of 7 -> \n",
      " [0.90909091 0.77272727 0.68181818 0.81818182 0.77272727 0.86363636\n",
      " 0.95238095 0.85714286 0.85714286 0.85714286]\n"
     ]
    },
    {
     "data": {
      "text/plain": "<Figure size 504x288 with 1 Axes>",
      "image/png": "[encoded data removed]"
     },
     "metadata": {
      "needs_background": "light"
     },
     "output_type": "display_data"
    }
   ],
   "source": [
    "max_depths = range(1,8)\n",
    "cv_scores = []\n",
    "# Write Your Code Here\n",
    "for depth in max_depths:\n",
    "    model = RandomForestClassifier(max_depth=depth)\n",
    "    model.fit(X_train, y_train)\n",
    "    cv = cross_val_score(model, X_train, y_train, cv = 10)\n",
    "    print('Cross validation score for max depth of {} -> \\n {}'.format(depth, cv))\n",
    "    cv_scores.append(cv)\n",
    "\n",
    "plot_validations(cv_scores, 'max_depth', max_depths)"
   ]
  },
  {
   "cell_type": "markdown",
   "metadata": {},
   "source": [
    "### max_features"
   ]
  },
  {
   "cell_type": "code",
   "execution_count": 20,
   "metadata": {},
   "outputs": [
    {
     "name": "stdout",
     "output_type": "stream",
     "text": [
      "Cross validation score for max features of 1 -> \n",
      " [0.81818182 0.81818182 0.72727273 0.81818182 0.72727273 0.90909091\n",
      " 0.95238095 0.9047619  0.85714286 0.85714286]\n",
      "Cross validation score for max features of 2 -> \n",
      " [0.86363636 0.77272727 0.63636364 0.86363636 0.77272727 0.86363636\n",
      " 0.85714286 0.85714286 0.85714286 0.80952381]\n",
      "Cross validation score for max features of 3 -> \n",
      " [0.86363636 0.77272727 0.68181818 0.86363636 0.72727273 0.86363636\n",
      " 0.95238095 0.80952381 0.9047619  0.85714286]\n",
      "Cross validation score for max features of 4 -> \n",
      " [0.81818182 0.77272727 0.68181818 0.81818182 0.77272727 0.90909091\n",
      " 0.95238095 0.85714286 0.9047619  0.85714286]\n",
      "Cross validation score for max features of 5 -> \n",
      " [0.81818182 0.77272727 0.68181818 0.81818182 0.77272727 0.81818182\n",
      " 0.9047619  0.95238095 0.9047619  0.9047619 ]\n",
      "Cross validation score for max features of 6 -> \n",
      " [0.81818182 0.77272727 0.54545455 0.81818182 0.81818182 0.81818182\n",
      " 0.9047619  0.85714286 0.9047619  0.76190476]\n",
      "Cross validation score for max features of 7 -> \n",
      " [0.90909091 0.77272727 0.63636364 0.81818182 0.81818182 0.86363636\n",
      " 0.9047619  0.85714286 0.9047619  0.9047619 ]\n",
      "Cross validation score for max features of 8 -> \n",
      " [0.81818182 0.77272727 0.63636364 0.81818182 0.77272727 0.81818182\n",
      " 0.9047619  0.85714286 0.9047619  0.80952381]\n",
      "Cross validation score for max features of 9 -> \n",
      " [0.81818182 0.77272727 0.63636364 0.81818182 0.72727273 0.86363636\n",
      " 0.85714286 0.85714286 0.9047619  0.85714286]\n",
      "Cross validation score for max features of 10 -> \n",
      " [0.81818182 0.77272727 0.54545455 0.81818182 0.77272727 0.81818182\n",
      " 0.9047619  0.9047619  0.85714286 0.85714286]\n",
      "Cross validation score for max features of 11 -> \n",
      " [0.77272727 0.77272727 0.63636364 0.81818182 0.81818182 0.81818182\n",
      " 0.95238095 0.85714286 0.9047619  0.80952381]\n",
      "Cross validation score for max features of 12 -> \n",
      " [0.81818182 0.81818182 0.68181818 0.81818182 0.81818182 0.86363636\n",
      " 0.95238095 0.9047619  0.9047619  0.85714286]\n"
     ]
    },
    {
     "data": {
      "text/plain": "<Figure size 864x288 with 1 Axes>",
      "image/png": "[encoded data removed]"
     },
     "metadata": {
      "needs_background": "light"
     },
     "output_type": "display_data"
    }
   ],
   "source": [
    "max_features = range(1,X.shape[1])\n",
    "cv_scores = []\n",
    "# Write Your Code Here\n",
    "\n",
    "for feature in max_features:\n",
    "    model = RandomForestClassifier(max_features=feature)\n",
    "    model.fit(X_train, y_train)\n",
    "    cv = cross_val_score(model, X_train, y_train, cv = 10)\n",
    "    print('Cross validation score for max features of {} -> \\n {}'.format(feature, cv))\n",
    "    cv_scores.append(cv)\n",
    "\n",
    "plot_validations(cv_scores, 'max_features', max_features)"
   ]
  },
  {
   "cell_type": "markdown",
   "metadata": {},
   "source": [
    "## GridSearch\n",
    "\n",
    "With GridSearch you can search over specified parameter values for an estimator. With this search each combination of parameter is tested and evaluated with a cross validation. At the end you will get the set of hyperparameter with the best performance regarding the given metric. "
   ]
  },
  {
   "cell_type": "code",
   "execution_count": 21,
   "metadata": {},
   "outputs": [],
   "source": [
    "from sklearn.model_selection import GridSearchCV\n",
    "from sklearn.model_selection import KFold\n",
    "import time"
   ]
  },
  {
   "cell_type": "markdown",
   "metadata": {},
   "source": [
    "<div class=\"alert alert-block alert-success\"><b>Task</b><br> \n",
    "Perform a grid search with the previously used hyperparameter set. The grid search with all the needed parameter is already prepared, you only have to fit it to the training set. With grid_search.best_params_ you can see the parameter set with the best cross validation accuracy. For the evaluation on the test set you can run the subsequent cell.\n",
    "</div>\n",
    "\n",
    "<div class=\"alert alert-block alert-warning\"> <b>Warning</b><br> \n",
    "This evaluation can take up to several minutes. So maybe get yourself a coffee while running this cell. ☕️\n",
    "</div>"
   ]
  },
  {
   "cell_type": "code",
   "execution_count": 22,
   "metadata": {},
   "outputs": [
    {
     "name": "stdout",
     "output_type": "stream",
     "text": [
      "Fitting 3 folds for each of 420 candidates, totalling 1260 fits\n",
      "--- Computation time for grid search: 46.92098689079285 seconds ---\n"
     ]
    }
   ],
   "source": [
    "params_grid = {'n_estimators': n_trees,\n",
    "          'max_features': max_features,\n",
    "          'max_depth': max_depths}\n",
    "grid_search = GridSearchCV(model, params_grid, cv=KFold(3, random_state=42, shuffle=True), verbose=3, n_jobs=-1, \\\n",
    "                           scoring='accuracy')\n",
    "start_time = time.time()\n",
    "# Write Your Code Here\n",
    "grid_search.fit(X_train, y_train)\n",
    "# computation time\n",
    "comp_time_gs = time.time() - start_time\n",
    "print(\"--- Computation time for grid search: %s seconds ---\" % comp_time_gs)"
   ]
  },
  {
   "cell_type": "code",
   "execution_count": 23,
   "metadata": {},
   "outputs": [
    {
     "name": "stdout",
     "output_type": "stream",
     "text": [
      "Test set Accuracy: 85.19%.\n"
     ]
    }
   ],
   "source": [
    "predictions_gs = grid_search.best_estimator_.predict(X_test)\n",
    "test_accuracy_gs = accuracy_score(y_test, predictions_gs)\n",
    "print(f'Test set Accuracy: {round(test_accuracy_gs, 4)*100}%.')"
   ]
  },
  {
   "cell_type": "markdown",
   "metadata": {},
   "source": [
    "## RandomSearch"
   ]
  },
  {
   "cell_type": "code",
   "execution_count": 24,
   "metadata": {},
   "outputs": [],
   "source": [
    "from sklearn.model_selection import RandomizedSearchCV"
   ]
  },
  {
   "cell_type": "markdown",
   "metadata": {},
   "source": [
    "<div class=\"alert alert-block alert-success\"><b>Task</b><br> \n",
    "Perform a random search with the previously used hyperparameter set. The random search with all the needed parameter is already prepared, you only have to fit it to the training set. With random_search.best_params_ you can see the parameter set with the best cross validation accuracy. For the evaluation on the test set you can run subsequent cell. \n",
    "</div>"
   ]
  },
  {
   "cell_type": "code",
   "execution_count": 27,
   "metadata": {},
   "outputs": [
    {
     "name": "stdout",
     "output_type": "stream",
     "text": [
      "Fitting 3 folds for each of 100 candidates, totalling 300 fits\n",
      "--- Computation time for random search: 10.996299982070923 seconds ---\n"
     ]
    }
   ],
   "source": [
    "random_search = RandomizedSearchCV(model, params_grid, n_iter=100, cv=KFold(3, random_state=42, shuffle=True), verbose=3,\\\n",
    "                                   n_jobs=-1, scoring='accuracy', random_state=42)\n",
    "start_time = time.time()\n",
    "# Write Your Code Here\n",
    "random_search.fit(X_train, y_train)\n",
    "\n",
    "# computation time\n",
    "comp_time_rs = time.time() - start_time\n",
    "print(\"--- Computation time for random search: %s seconds ---\" % comp_time_rs)"
   ]
  },
  {
   "cell_type": "code",
   "execution_count": 28,
   "metadata": {},
   "outputs": [
    {
     "name": "stdout",
     "output_type": "stream",
     "text": [
      "Test set Accuracy: 83.33%.\n"
     ]
    }
   ],
   "source": [
    "predictions_rs = random_search.best_estimator_.predict(X_test)\n",
    "test_accuracy_rs = accuracy_score(y_test, predictions_rs)\n",
    "print(f'Test set Accuracy: {round(test_accuracy_rs, 4)*100}%.')"
   ]
  },
  {
   "cell_type": "markdown",
   "metadata": {},
   "source": [
    "## Comparison GridSearch and RandomSearch"
   ]
  },
  {
   "cell_type": "markdown",
   "metadata": {},
   "source": [
    "Run the following cell to output a small comprehension of the grid search with random search regarding computation time and accuracy."
   ]
  },
  {
   "cell_type": "code",
   "execution_count": 29,
   "metadata": {},
   "outputs": [
    {
     "name": "stdout",
     "output_type": "stream",
     "text": [
      "Speed: RandomSearch is 4.3x faster.\n",
      "Accuracy: RandomSearch is -2.17% more accurate.\n"
     ]
    }
   ],
   "source": [
    "print(f'Speed: RandomSearch is {round(comp_time_gs / comp_time_rs, 1)}x faster.')\n",
    "print(f'Accuracy: RandomSearch is {round((test_accuracy_rs / test_accuracy_gs)-1,4)*100}% more accurate.')"
   ]
  },
  {
   "cell_type": "markdown",
   "metadata": {},
   "source": [
    "## Optimizing the recall\n",
    "\n",
    "<div class=\"alert alert-block alert-success\"><b>Task</b><br> \n",
    "Instead of optimizing the accuracy for a heart disease it is a good idea to optimize the recall. Then we avoid the misclassication of persons who have a disease in the class \"no disease\". \n",
    "Find an apropriate model using RandomSearch.\n",
    "</div>"
   ]
  },
  {
   "cell_type": "code",
   "execution_count": 33,
   "metadata": {},
   "outputs": [
    {
     "name": "stdout",
     "output_type": "stream",
     "text": [
      "Test set recall of model optimized for accuracy: 83.33%.\n"
     ]
    }
   ],
   "source": [
    "# Write Your Code Here\n",
    "test_recall_rs = recall_score(y_test, predictions_rs)\n",
    "print(f'Test set recall of model optimized for accuracy: {round(test_recall_rs, 4)*100}%.')"
   ]
  },
  {
   "cell_type": "code",
   "execution_count": 36,
   "outputs": [
    {
     "name": "stdout",
     "output_type": "stream",
     "text": [
      "Fitting 3 folds for each of 100 candidates, totalling 300 fits\n",
      "--- Computation time for random search: 12.261478900909424 seconds ---\n",
      "Test set recall of model optimized for recall: 86.67%.\n"
     ]
    }
   ],
   "source": [
    "# optimize for recall\n",
    "random_search = RandomizedSearchCV(model, params_grid, n_iter=100, cv=KFold(3, random_state=42, shuffle=True), verbose=3, n_jobs=-1, scoring='recall', random_state=42)\n",
    "\n",
    "start_time = time.time()\n",
    "random_search.fit(X_train, y_train)\n",
    "\n",
    "comp_time_rs = time.time() - start_time\n",
    "print(\"--- Computation time for random search: %s seconds ---\" % comp_time_rs)\n",
    "\n",
    "# calculate recall\n",
    "predictions_rs = random_search.best_estimator_.predict(X_test)\n",
    "test_recall_rs = recall_score(y_test, predictions_rs)\n",
    "print(f'Test set recall of model optimized for recall: {round(test_recall_rs, 4)*100}%.')"
   ],
   "metadata": {
    "collapsed": false
   }
  },
  {
   "cell_type": "markdown",
   "source": [
    "### Evaluation\n",
    "Randomized search with emphasis on \"recall\" has increased it by ~3%."
   ],
   "metadata": {
    "collapsed": false
   }
  },
  {
   "cell_type": "markdown",
   "metadata": {},
   "source": [
    "## Gradient Boosting Classifier\n",
    "\n",
    "In the book Gradient Boosting is applied for regression. Here it should be used for classification. \n",
    "\n",
    "<div class=\"alert alert-block alert-success\"><b>Task</b><br> \n",
    "Build a model with the Gradient Boosting classifier and measure the time it takes. Compare it to a Random Forest model. \n",
    "Use the commands from above to measure accuracy and the confusion matrix. \n",
    "</div>"
   ]
  },
  {
   "cell_type": "code",
   "execution_count": 38,
   "metadata": {},
   "outputs": [
    {
     "name": "stdout",
     "output_type": "stream",
     "text": [
      "--- Computation time for gradient boosting: 0.03445696830749512 seconds ---\n"
     ]
    }
   ],
   "source": [
    "from sklearn.ensemble import GradientBoostingRegressor\n",
    "\n",
    "gbrt = GradientBoostingRegressor(max_depth=3, n_estimators=120)\n",
    "\n",
    "start_time = time.time()\n",
    "gbrt.fit(X_train, y_train)\n",
    "\n",
    "# computation time\n",
    "comp_time_rs = time.time() - start_time\n",
    "print(\"--- Computation time for gradient boosting: %s seconds ---\" % comp_time_rs)"
   ]
  },
  {
   "cell_type": "code",
   "execution_count": 49,
   "outputs": [
    {
     "data": {
      "text/plain": "<Figure size 936x360 with 4 Axes>",
      "image/png": "[encoded data removed]"
     },
     "metadata": {
      "needs_background": "light"
     },
     "output_type": "display_data"
    }
   ],
   "source": [
    "# evaluate model with confusion matrix\n",
    "\n",
    "# Training Set\n",
    "y_train_pred = gbrt.predict(X_train)\n",
    "y_train_pred = y_train_pred.round()\n",
    "train_accuracy = accuracy_score(y_true=y_train, y_pred=y_train_pred)\n",
    "# # Test Set\n",
    "y_test_pred = gbrt.predict(X_test)\n",
    "y_test_pred = y_test_pred.round()\n",
    "test_accuracy = accuracy_score(y_true=y_test, y_pred=y_test_pred)\n",
    "\n",
    "feature_names=X.columns\n",
    "class_names=['no heart attack', 'heart attack']\n",
    "fig, (ax1, ax2) = plt.subplots(1, 2, figsize=(13,5))\n",
    "\n",
    "sns.heatmap(confusion_matrix(y_train, y_train_pred), annot=True, fmt=\"d\", yticklabels=class_names, xticklabels=class_names, ax=ax1)\n",
    "ax1.set_title(f'Training set (Accuracy: {round(train_accuracy*100, 2)}%)')\n",
    "ax1.set_xlabel('Predicted', fontsize=12)\n",
    "ax1.set_ylabel('Actual', fontsize=12);\n",
    "\n",
    "sns.heatmap(confusion_matrix(y_test, y_test_pred), annot=True, fmt=\"d\", yticklabels=class_names, xticklabels=class_names, ax=ax2)\n",
    "ax2.set_title(f'Test set (Accuracy: {round(test_accuracy*100, 2)}%)')\n",
    "ax2.set_xlabel('Predicted', fontsize=12)\n",
    "ax2.set_ylabel('Actual', fontsize=12);"
   ],
   "metadata": {
    "collapsed": false
   }
  },
  {
   "cell_type": "markdown",
   "metadata": {},
   "source": [
    "## Hist Gradient Boosting\n",
    "\n",
    "Sci-kit also introduces a new algorithm called HistGradientBoosting Classifier which was inspired by a successful algorithm called LightGBM (see https://scikit-learn.org/stable/modules/ensemble.html#gradient-boosting ). It is much faster for big data sets with nearly the same accuracy. \n",
    "\n",
    "<div class=\"alert alert-block alert-success\"><b>Task</b><br> \n",
    "Build a model with the Hist Gradient Boosting classifier and measure the time it takes. Compare it to a Random Forest model. \n",
    "Use the commands from above to measure accuracy and the confusion matrix. \n",
    "</div>"
   ]
  },
  {
   "cell_type": "code",
   "execution_count": 53,
   "outputs": [
    {
     "name": "stdout",
     "output_type": "stream",
     "text": [
      "--- Computation time for gradient boosting: 0.03445696830749512 seconds ---\n"
     ]
    }
   ],
   "source": [
    "from sklearn.experimental import enable_hist_gradient_boosting\n",
    "from sklearn.ensemble import HistGradientBoostingClassifier\n",
    "\n",
    "hgb = HistGradientBoostingClassifier(max_depth=3)\n",
    "\n",
    "st = time.time()\n",
    "hgb.fit(X_train, y_train)\n",
    "\n",
    "duration = time.time() - start_time\n",
    "print(\"--- Computation time for gradient boosting: %s seconds ---\" % comp_time_rs)"
   ],
   "metadata": {
    "collapsed": false
   }
  },
  {
   "cell_type": "code",
   "execution_count": 55,
   "outputs": [
    {
     "data": {
      "text/plain": "<Figure size 936x360 with 4 Axes>",
      "image/png": "[encoded data removed]"
     },
     "metadata": {
      "needs_background": "light"
     },
     "output_type": "display_data"
    }
   ],
   "source": [
    "# evaluate model with confusion matrix\n",
    "\n",
    "# Training Set\n",
    "y_train_pred = hgb.predict(X_train)\n",
    "y_train_pred = y_train_pred.round()\n",
    "train_accuracy = accuracy_score(y_true=y_train, y_pred=y_train_pred)\n",
    "# # Test Set\n",
    "y_test_pred = hgb.predict(X_test)\n",
    "y_test_pred = y_test_pred.round()\n",
    "test_accuracy = accuracy_score(y_true=y_test, y_pred=y_test_pred)\n",
    "\n",
    "feature_names=X.columns\n",
    "class_names=['no heart attack', 'heart attack']\n",
    "fig, (ax1, ax2) = plt.subplots(1, 2, figsize=(13,5))\n",
    "\n",
    "sns.heatmap(confusion_matrix(y_train, y_train_pred), annot=True, fmt=\"d\", yticklabels=class_names, xticklabels=class_names, ax=ax1)\n",
    "ax1.set_title(f'Training set (Accuracy: {round(train_accuracy*100, 2)}%)')\n",
    "ax1.set_xlabel('Predicted', fontsize=12)\n",
    "ax1.set_ylabel('Actual', fontsize=12);\n",
    "\n",
    "sns.heatmap(confusion_matrix(y_test, y_test_pred), annot=True, fmt=\"d\", yticklabels=class_names, xticklabels=class_names, ax=ax2)\n",
    "ax2.set_title(f'Test set (Accuracy: {round(test_accuracy*100, 2)}%)')\n",
    "ax2.set_xlabel('Predicted', fontsize=12)\n",
    "ax2.set_ylabel('Actual', fontsize=12);"
   ],
   "metadata": {
    "collapsed": false
   }
  },
  {
   "cell_type": "markdown",
   "metadata": {},
   "source": [
    "<div class=\"alert alert-block alert-success\"><b>Task</b><br> \n",
    "Optimize the model with hyperparameter tuning. Use GridSeachCV to try different learning rates and max_depth.\n",
    "</div>"
   ]
  },
  {
   "cell_type": "code",
   "execution_count": 61,
   "metadata": {},
   "outputs": [
    {
     "name": "stdout",
     "output_type": "stream",
     "text": [
      "Fitting 3 folds for each of 63 candidates, totalling 189 fits\n",
      "--- Computation time for grid search: 1.450188159942627 seconds ---\n"
     ]
    }
   ],
   "source": [
    "learning_rates = np.arange(0.1, 1, 0.1)\n",
    "params_grid = {'max_depth': max_depths, 'learning_rate': learning_rates}\n",
    "grid_search = GridSearchCV(hgb, params_grid, cv=KFold(3, random_state=42, shuffle=True), verbose=3, n_jobs=-1, \\\n",
    "                           scoring='accuracy')\n",
    "start_time = time.time()\n",
    "# Write Your Code Here\n",
    "grid_search.fit(X_train, y_train)\n",
    "# computation time\n",
    "comp_time_gs = time.time() - start_time\n",
    "print(\"--- Computation time for grid search: %s seconds ---\" % comp_time_gs)"
   ]
  },
  {
   "cell_type": "code",
   "execution_count": 62,
   "outputs": [
    {
     "name": "stdout",
     "output_type": "stream",
     "text": [
      "Test set Accuracy: 81.47999999999999%.\n",
      "Test set recall: 86.67%.\n"
     ]
    }
   ],
   "source": [
    "predictions_hgb = grid_search.best_estimator_.predict(X_test)\n",
    "\n",
    "# accuracy\n",
    "test_accuracy_hgb = accuracy_score(y_test, predictions_hgb)\n",
    "print(f'Test set Accuracy: {round(test_accuracy_hgb, 4)*100}%.')\n",
    "\n",
    "# recall\n",
    "test_recall_hgb = recall_score(y_test, predictions_hgb)\n",
    "print(f'Test set recall: {round(test_recall_rs, 4)*100}%.')"
   ],
   "metadata": {
    "collapsed": false
   }
  },
  {
   "cell_type": "markdown",
   "source": [
    "### Evaluation\n",
    "- The last two are pretty fast. They are slightly inferior in performance but regarding speed they are ahead by far.\n",
    "- Recall is better without boosting and the focus was on accuracy.\n",
    "- Accuracy is down by a ~2% but if we were to work with massive amount of data this trade-off between time & accuracy is favorable."
   ],
   "metadata": {
    "collapsed": false
   }
  },
  {
   "cell_type": "code",
   "execution_count": null,
   "outputs": [],
   "source": [],
   "metadata": {
    "collapsed": false
   }
  }
 ],
 "metadata": {
  "kernelspec": {
   "display_name": "Python 3 (ipykernel)",
   "language": "python",
   "name": "python3"
  },
  "language_info": {
   "codemirror_mode": {
    "name": "ipython",
    "version": 3
   },
   "file_extension": ".py",
   "mimetype": "text/x-python",
   "name": "python",
   "nbconvert_exporter": "python",
   "pygments_lexer": "ipython3",
   "version": "3.9.7"
  }
 },
 "nbformat": 4,
 "nbformat_minor": 4
}
