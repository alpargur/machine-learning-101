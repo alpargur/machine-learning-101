{
 "cells": [
  {
   "cell_type": "markdown",
   "metadata": {},
   "source": [
    "# 08 - Artifical neural networks\n",
    "\n",
    "The goal of this exercise is to develop an understanding how to implement a simple Artificial neural network using keras and tensorflow.\n",
    "\n",
    "<div class=\"alert alert-block alert-info\">\n",
    "To solve this notebook you need the knowledge from the previous notebook. If you have problems solving it, take another look at the last week's notebooks.\n",
    "    \n",
    "It's also recommended to read the chapter 10 of the book in advance.\n",
    "</div>\n",
    "\n",
    "**Task**: In this exercise, we use a dataset that we have already used in previous exercises to predict heart attacks in patients."
   ]
  },
  {
   "cell_type": "code",
   "execution_count": 1,
   "metadata": {},
   "outputs": [],
   "source": [
    "# Run this cell two import the following modules\n",
    "import numpy as np\n",
    "import pandas as pd\n",
    "import matplotlib.pyplot as plt\n",
    "import seaborn as sns\n",
    "import tensorflow as tf\n",
    "from tensorflow import keras\n",
    "%matplotlib inline\n",
    "keras.backend.clear_session()\n",
    "np.random.seed(42)\n",
    "tf.random.set_seed(42)"
   ]
  },
  {
   "cell_type": "markdown",
   "metadata": {},
   "source": [
    "<h2 style=\"color:blue\" align=\"left\">Load and preprocess the data</h2>\n",
    "\n",
    "First of all, we need to load the dataset."
   ]
  },
  {
   "cell_type": "code",
   "execution_count": 2,
   "metadata": {},
   "outputs": [
    {
     "data": {
      "text/html": [
       "<div>\n",
       "<style scoped>\n",
       "    .dataframe tbody tr th:only-of-type {\n",
       "        vertical-align: middle;\n",
       "    }\n",
       "\n",
       "    .dataframe tbody tr th {\n",
       "        vertical-align: top;\n",
       "    }\n",
       "\n",
       "    .dataframe thead th {\n",
       "        text-align: right;\n",
       "    }\n",
       "</style>\n",
       "<table border=\"1\" class=\"dataframe\">\n",
       "  <thead>\n",
       "    <tr style=\"text-align: right;\">\n",
       "      <th></th>\n",
       "      <th>age</th>\n",
       "      <th>sex</th>\n",
       "      <th>cp</th>\n",
       "      <th>trestbps</th>\n",
       "      <th>chol</th>\n",
       "      <th>fbs</th>\n",
       "      <th>restecg</th>\n",
       "      <th>thalach</th>\n",
       "      <th>exang</th>\n",
       "      <th>oldpeak</th>\n",
       "      <th>slope</th>\n",
       "      <th>ca</th>\n",
       "      <th>thal</th>\n",
       "      <th>target</th>\n",
       "    </tr>\n",
       "  </thead>\n",
       "  <tbody>\n",
       "    <tr>\n",
       "      <th>0</th>\n",
       "      <td>70.0</td>\n",
       "      <td>1.0</td>\n",
       "      <td>4.0</td>\n",
       "      <td>130.0</td>\n",
       "      <td>322.0</td>\n",
       "      <td>0.0</td>\n",
       "      <td>2.0</td>\n",
       "      <td>109.0</td>\n",
       "      <td>0.0</td>\n",
       "      <td>2.4</td>\n",
       "      <td>2.0</td>\n",
       "      <td>3.0</td>\n",
       "      <td>3.0</td>\n",
       "      <td>2</td>\n",
       "    </tr>\n",
       "    <tr>\n",
       "      <th>1</th>\n",
       "      <td>67.0</td>\n",
       "      <td>0.0</td>\n",
       "      <td>3.0</td>\n",
       "      <td>115.0</td>\n",
       "      <td>564.0</td>\n",
       "      <td>0.0</td>\n",
       "      <td>2.0</td>\n",
       "      <td>160.0</td>\n",
       "      <td>0.0</td>\n",
       "      <td>1.6</td>\n",
       "      <td>2.0</td>\n",
       "      <td>0.0</td>\n",
       "      <td>7.0</td>\n",
       "      <td>1</td>\n",
       "    </tr>\n",
       "    <tr>\n",
       "      <th>2</th>\n",
       "      <td>57.0</td>\n",
       "      <td>1.0</td>\n",
       "      <td>2.0</td>\n",
       "      <td>124.0</td>\n",
       "      <td>261.0</td>\n",
       "      <td>0.0</td>\n",
       "      <td>0.0</td>\n",
       "      <td>141.0</td>\n",
       "      <td>0.0</td>\n",
       "      <td>0.3</td>\n",
       "      <td>1.0</td>\n",
       "      <td>0.0</td>\n",
       "      <td>7.0</td>\n",
       "      <td>2</td>\n",
       "    </tr>\n",
       "    <tr>\n",
       "      <th>3</th>\n",
       "      <td>64.0</td>\n",
       "      <td>1.0</td>\n",
       "      <td>4.0</td>\n",
       "      <td>128.0</td>\n",
       "      <td>263.0</td>\n",
       "      <td>0.0</td>\n",
       "      <td>0.0</td>\n",
       "      <td>105.0</td>\n",
       "      <td>1.0</td>\n",
       "      <td>0.2</td>\n",
       "      <td>2.0</td>\n",
       "      <td>1.0</td>\n",
       "      <td>7.0</td>\n",
       "      <td>1</td>\n",
       "    </tr>\n",
       "    <tr>\n",
       "      <th>4</th>\n",
       "      <td>74.0</td>\n",
       "      <td>0.0</td>\n",
       "      <td>2.0</td>\n",
       "      <td>120.0</td>\n",
       "      <td>269.0</td>\n",
       "      <td>0.0</td>\n",
       "      <td>2.0</td>\n",
       "      <td>121.0</td>\n",
       "      <td>1.0</td>\n",
       "      <td>0.2</td>\n",
       "      <td>1.0</td>\n",
       "      <td>1.0</td>\n",
       "      <td>3.0</td>\n",
       "      <td>1</td>\n",
       "    </tr>\n",
       "  </tbody>\n",
       "</table>\n",
       "</div>"
      ],
      "text/plain": [
       "    age  sex   cp  trestbps   chol  fbs  restecg  thalach  exang  oldpeak  \\\n",
       "0  70.0  1.0  4.0     130.0  322.0  0.0      2.0    109.0    0.0      2.4   \n",
       "1  67.0  0.0  3.0     115.0  564.0  0.0      2.0    160.0    0.0      1.6   \n",
       "2  57.0  1.0  2.0     124.0  261.0  0.0      0.0    141.0    0.0      0.3   \n",
       "3  64.0  1.0  4.0     128.0  263.0  0.0      0.0    105.0    1.0      0.2   \n",
       "4  74.0  0.0  2.0     120.0  269.0  0.0      2.0    121.0    1.0      0.2   \n",
       "\n",
       "   slope   ca  thal  target  \n",
       "0    2.0  3.0   3.0       2  \n",
       "1    2.0  0.0   7.0       1  \n",
       "2    1.0  0.0   7.0       2  \n",
       "3    2.0  1.0   7.0       1  \n",
       "4    1.0  1.0   3.0       1  "
      ]
     },
     "execution_count": 2,
     "metadata": {},
     "output_type": "execute_result"
    }
   ],
   "source": [
    "dataset = pd.read_csv('dataset/heart.dat', delim_whitespace=True)\n",
    "dataset.head()"
   ]
  },
  {
   "cell_type": "markdown",
   "metadata": {},
   "source": [
    "<h2 style=\"color:blue\" align=\"left\">Data preprocessing</h2>\n",
    "\n",
    "Now, we can seperate the features and the target values."
   ]
  },
  {
   "cell_type": "code",
   "execution_count": 3,
   "metadata": {},
   "outputs": [],
   "source": [
    "X = dataset.drop('target', axis=1)\n",
    "y = dataset['target'].replace([1,2],[0,1])"
   ]
  },
  {
   "cell_type": "markdown",
   "metadata": {},
   "source": [
    "Scaling input and output variables is a critical step in using neural network models.\n",
    "\n",
    "<div class=\"alert alert-block alert-success\"><b>Task</b><br> \n",
    "Use the StandardScaler to scale the whole data set. Save the results in the Variable X_scaled.\n",
    "</div>"
   ]
  },
  {
   "cell_type": "code",
   "execution_count": 4,
   "metadata": {},
   "outputs": [],
   "source": [
    "from sklearn.preprocessing import StandardScaler\n",
    "sc = StandardScaler()\n",
    "X_scaled = []\n",
    "# Write Your Code Here\n",
    "X_scaled = sc.fit_transform(X)"
   ]
  },
  {
   "cell_type": "markdown",
   "metadata": {},
   "source": [
    "We can see that the data set is unbalanced."
   ]
  },
  {
   "cell_type": "code",
   "execution_count": 5,
   "metadata": {},
   "outputs": [
    {
     "data": {
      "text/plain": [
       "0    0.555556\n",
       "1    0.444444\n",
       "Name: target, dtype: float64"
      ]
     },
     "execution_count": 5,
     "metadata": {},
     "output_type": "execute_result"
    }
   ],
   "source": [
    "y.value_counts(normalize=True)"
   ]
  },
  {
   "cell_type": "markdown",
   "metadata": {},
   "source": [
    "In the next step, we need to perform the train-test-split. Because of the unblanace data set, we have to perform a stratified train-test-split.\n",
    "\n",
    "<div class=\"alert alert-block alert-success\"><b>Task</b><br> \n",
    "Use the train_test_split method to perform a stratified train-test split. The ratio between train and test should be 80/20. To get comparable results, please set the random_state option to 42.\n",
    "</div>"
   ]
  },
  {
   "cell_type": "code",
   "execution_count": 6,
   "metadata": {},
   "outputs": [],
   "source": [
    "from sklearn.model_selection import train_test_split\n",
    "X_train, X_test, y_train, y_test = [], [], [], []\n",
    "# Write Your Code Here\n",
    "X_train, X_test, y_train, y_test = train_test_split(X_scaled, y, test_size=0.2, random_state=42, stratify=y)"
   ]
  },
  {
   "cell_type": "markdown",
   "metadata": {},
   "source": [
    "<div class=\"alert alert-block alert-warning\"> <b>Warning</b><br> \n",
    "If we use neural networks, it is typical to use a validation set in addition to the train and test set. The validation set is used for the model selection as well as for the evaluation of the hyperparameter tuning. The test set is used at the very end for the evaluation of the generalization of the model. Since there are only 270 data points available, we will also validate on the test set, which should be avoided.\n",
    "</div>"
   ]
  },
  {
   "cell_type": "markdown",
   "metadata": {},
   "source": [
    "<h2 style=\"color:blue\" align=\"left\">Build a Model</h2>\n",
    "\n",
    "After we've preprocessed the data for the ANN, we can create your model.\n",
    "\n",
    "<div class=\"alert alert-block alert-success\"><b>Task</b><br> \n",
    "Use the Sequential API of keras to create a fully-connected deep neural network.\n",
    "</div>\n",
    "\n",
    "*Hints:*\n",
    "- Use `keras.layers.Flatten` layer as input layer\n",
    "- The input size must correspond to the number of features\n",
    "- Use `keras.layers.Dense` layer with ReLu activiation function as hidden layer\n",
    "- Output layer should be a dense layer with only one neuron\n",
    "- Choose the right activation function for the outplut layer for a binary classification problem\n",
    "- Good results can be achived with four hidden layer and <8000 total parameters"
   ]
  },
  {
   "cell_type": "code",
   "execution_count": 7,
   "metadata": {},
   "outputs": [
    {
     "data": {
      "text/plain": [
       "(216, 13)"
      ]
     },
     "execution_count": 7,
     "metadata": {},
     "output_type": "execute_result"
    }
   ],
   "source": [
    "X_train.shape"
   ]
  },
  {
   "cell_type": "code",
   "execution_count": 8,
   "metadata": {
    "scrolled": true
   },
   "outputs": [
    {
     "name": "stdout",
     "output_type": "stream",
     "text": [
      "Model: \"sequential\"\n",
      "_________________________________________________________________\n",
      " Layer (type)                Output Shape              Param #   \n",
      "=================================================================\n",
      " flatten (Flatten)           (None, 13)                0         \n",
      "                                                                 \n",
      " dense (Dense)               (None, 250)               3500      \n",
      "                                                                 \n",
      " dense_1 (Dense)             (None, 180)               45180     \n",
      "                                                                 \n",
      " dense_2 (Dense)             (None, 1)                 181       \n",
      "                                                                 \n",
      "=================================================================\n",
      "Total params: 48,861\n",
      "Trainable params: 48,861\n",
      "Non-trainable params: 0\n",
      "_________________________________________________________________\n"
     ]
    }
   ],
   "source": [
    "model = keras.models.Sequential()\n",
    "# Write Your Code Here\n",
    "model.add(keras.layers.Flatten(input_shape=[13]))\n",
    "model.add(keras.layers.Dense(250, activation='relu'))\n",
    "model.add(keras.layers.Dense(180, activation='relu'))\n",
    "model.add(keras.layers.Dense(1, activation='linear'))\n",
    "model.build()\n",
    "model.summary()"
   ]
  },
  {
   "cell_type": "code",
   "execution_count": 9,
   "metadata": {},
   "outputs": [
    {
     "data": {
      "text/plain": [
       "[<keras.layers.reshaping.flatten.Flatten at 0x7fa2fbbabca0>,\n",
       " <keras.layers.core.dense.Dense at 0x7fa2ff579eb0>,\n",
       " <keras.layers.core.dense.Dense at 0x7fa318641280>,\n",
       " <keras.layers.core.dense.Dense at 0x7fa31826c520>]"
      ]
     },
     "execution_count": 9,
     "metadata": {},
     "output_type": "execute_result"
    }
   ],
   "source": [
    "model.layers"
   ]
  },
  {
   "cell_type": "markdown",
   "metadata": {},
   "source": [
    "After the creation of the model, it must be compiled.\n",
    "\n",
    "<div class=\"alert alert-block alert-success\"><b>Task</b><br> \n",
    "Compile your model using model.compile(). We want to use the already created Stochastic Gradient Descent optimizer. Choose the right loss and metrics. \n",
    "</div>\n"
   ]
  },
  {
   "cell_type": "code",
   "execution_count": 10,
   "metadata": {},
   "outputs": [],
   "source": [
    "optimizer = keras.optimizers.SGD(learning_rate=0.001)\n",
    "# Write Your Code Here\n",
    "model.compile(\n",
    "    loss='binary_crossentropy',\n",
    "    optimizer=optimizer,\n",
    "    metrics=['accuracy'])"
   ]
  },
  {
   "cell_type": "markdown",
   "metadata": {},
   "source": [
    "We now just test, if the definition works. \n",
    "\n",
    "<div class=\"alert alert-block alert-success\"><b>Task</b><br> \n",
    "Fit the model to the training data and validate it with the test data. Start with a few epochs. \n",
    "</div>"
   ]
  },
  {
   "cell_type": "code",
   "execution_count": 11,
   "metadata": {},
   "outputs": [
    {
     "name": "stdout",
     "output_type": "stream",
     "text": [
      "Epoch 1/30\n",
      "7/7 [==============================] - 0s 22ms/step - loss: 6.1699 - accuracy: 0.5185 - val_loss: 5.7997 - val_accuracy: 0.4259\n",
      "Epoch 2/30\n",
      "7/7 [==============================] - 0s 5ms/step - loss: 5.5605 - accuracy: 0.3889 - val_loss: 3.7101 - val_accuracy: 0.4259\n",
      "Epoch 3/30\n",
      "7/7 [==============================] - 0s 4ms/step - loss: 4.2210 - accuracy: 0.3935 - val_loss: 3.3645 - val_accuracy: 0.4444\n",
      "Epoch 4/30\n",
      "7/7 [==============================] - 0s 5ms/step - loss: 3.3452 - accuracy: 0.4352 - val_loss: 3.0811 - val_accuracy: 0.4815\n",
      "Epoch 5/30\n",
      "7/7 [==============================] - 0s 5ms/step - loss: 3.1363 - accuracy: 0.4769 - val_loss: 3.0263 - val_accuracy: 0.5185\n",
      "Epoch 6/30\n",
      "7/7 [==============================] - 0s 4ms/step - loss: 2.9698 - accuracy: 0.4815 - val_loss: 2.9884 - val_accuracy: 0.5556\n",
      "Epoch 7/30\n",
      "7/7 [==============================] - 0s 5ms/step - loss: 2.8544 - accuracy: 0.5093 - val_loss: 2.9678 - val_accuracy: 0.5741\n",
      "Epoch 8/30\n",
      "7/7 [==============================] - 0s 4ms/step - loss: 2.7151 - accuracy: 0.5278 - val_loss: 2.9492 - val_accuracy: 0.5926\n",
      "Epoch 9/30\n",
      "7/7 [==============================] - 0s 4ms/step - loss: 2.6255 - accuracy: 0.5556 - val_loss: 2.7134 - val_accuracy: 0.5926\n",
      "Epoch 10/30\n",
      "7/7 [==============================] - 0s 4ms/step - loss: 2.5918 - accuracy: 0.5972 - val_loss: 2.6892 - val_accuracy: 0.5926\n",
      "Epoch 11/30\n",
      "7/7 [==============================] - 0s 5ms/step - loss: 2.3963 - accuracy: 0.5972 - val_loss: 2.4328 - val_accuracy: 0.6296\n",
      "Epoch 12/30\n",
      "7/7 [==============================] - 0s 5ms/step - loss: 2.0969 - accuracy: 0.6157 - val_loss: 2.4058 - val_accuracy: 0.6296\n",
      "Epoch 13/30\n",
      "7/7 [==============================] - 0s 4ms/step - loss: 2.0690 - accuracy: 0.6296 - val_loss: 2.3885 - val_accuracy: 0.6296\n",
      "Epoch 14/30\n",
      "7/7 [==============================] - 0s 4ms/step - loss: 2.0496 - accuracy: 0.6250 - val_loss: 2.3751 - val_accuracy: 0.6296\n",
      "Epoch 15/30\n",
      "7/7 [==============================] - 0s 4ms/step - loss: 2.0339 - accuracy: 0.6343 - val_loss: 2.3637 - val_accuracy: 0.6296\n",
      "Epoch 16/30\n",
      "7/7 [==============================] - 0s 5ms/step - loss: 2.0208 - accuracy: 0.6481 - val_loss: 2.1771 - val_accuracy: 0.6296\n",
      "Epoch 17/30\n",
      "7/7 [==============================] - 0s 4ms/step - loss: 2.0084 - accuracy: 0.6574 - val_loss: 2.1462 - val_accuracy: 0.6481\n",
      "Epoch 18/30\n",
      "7/7 [==============================] - 0s 5ms/step - loss: 1.9982 - accuracy: 0.6620 - val_loss: 2.1302 - val_accuracy: 0.6667\n",
      "Epoch 19/30\n",
      "7/7 [==============================] - 0s 5ms/step - loss: 1.9887 - accuracy: 0.6667 - val_loss: 2.1198 - val_accuracy: 0.6852\n",
      "Epoch 20/30\n",
      "7/7 [==============================] - 0s 5ms/step - loss: 1.9500 - accuracy: 0.6852 - val_loss: 2.0678 - val_accuracy: 0.6481\n",
      "Epoch 21/30\n",
      "7/7 [==============================] - 0s 5ms/step - loss: 1.7357 - accuracy: 0.7083 - val_loss: 2.0608 - val_accuracy: 0.6481\n",
      "Epoch 22/30\n",
      "7/7 [==============================] - 0s 5ms/step - loss: 1.7194 - accuracy: 0.7222 - val_loss: 2.0533 - val_accuracy: 0.6852\n",
      "Epoch 23/30\n",
      "7/7 [==============================] - 0s 4ms/step - loss: 1.7080 - accuracy: 0.7315 - val_loss: 2.0465 - val_accuracy: 0.6852\n",
      "Epoch 24/30\n",
      "7/7 [==============================] - 0s 4ms/step - loss: 1.6984 - accuracy: 0.7361 - val_loss: 2.0408 - val_accuracy: 0.7037\n",
      "Epoch 25/30\n",
      "7/7 [==============================] - 0s 4ms/step - loss: 1.6491 - accuracy: 0.7361 - val_loss: 1.8132 - val_accuracy: 0.6852\n",
      "Epoch 26/30\n",
      "7/7 [==============================] - 0s 5ms/step - loss: 1.5141 - accuracy: 0.7222 - val_loss: 1.8024 - val_accuracy: 0.7222\n",
      "Epoch 27/30\n",
      "7/7 [==============================] - 0s 5ms/step - loss: 1.4921 - accuracy: 0.7454 - val_loss: 1.7940 - val_accuracy: 0.7222\n",
      "Epoch 28/30\n",
      "7/7 [==============================] - 0s 5ms/step - loss: 1.4822 - accuracy: 0.7500 - val_loss: 1.7880 - val_accuracy: 0.7222\n",
      "Epoch 29/30\n",
      "7/7 [==============================] - 0s 4ms/step - loss: 1.4745 - accuracy: 0.7500 - val_loss: 1.7828 - val_accuracy: 0.7037\n",
      "Epoch 30/30\n",
      "7/7 [==============================] - 0s 4ms/step - loss: 1.4673 - accuracy: 0.7546 - val_loss: 1.7791 - val_accuracy: 0.7222\n"
     ]
    }
   ],
   "source": [
    "# Write Your Code Here\n",
    "history = model.fit(\n",
    "    X_train,\n",
    "    y_train,\n",
    "    epochs=30,\n",
    "    validation_data=(X_test, y_test)\n",
    ")\n",
    "\n",
    "keras.backend.clear_session()"
   ]
  },
  {
   "cell_type": "markdown",
   "metadata": {},
   "source": [
    "The last step is to start the training. \n",
    "\n",
    "<div class=\"alert alert-block alert-success\"><b>Task</b><br> \n",
    "Create a early stopping callback using the pre-defined class keras.callbacks.EarlyStopping. The number of epochs with no improvement after which training will be stopped should be set to 3. Save the callback in the variable early_stopping_cb.\n",
    "</div>\n"
   ]
  },
  {
   "cell_type": "code",
   "execution_count": 12,
   "metadata": {},
   "outputs": [],
   "source": [
    "checkpoint_cb = keras.callbacks.ModelCheckpoint(\"best_model_until_here.h5\")\n",
    "early_stopping_cb = keras.callbacks.EarlyStopping(monitor='loss', patience=3)"
   ]
  },
  {
   "cell_type": "markdown",
   "metadata": {},
   "source": [
    "Now the model is trained and validated on the test set. To vizualize the results your can use the history variable."
   ]
  },
  {
   "cell_type": "code",
   "execution_count": 13,
   "metadata": {},
   "outputs": [
    {
     "data": {
      "image/png": "[encoded data removed]",
      "text/plain": [
       "<Figure size 576x360 with 1 Axes>"
      ]
     },
     "metadata": {
      "needs_background": "light"
     },
     "output_type": "display_data"
    }
   ],
   "source": [
    "ax = pd.DataFrame(history.history).plot(figsize=(8, 5))\n",
    "ax.grid(True)\n",
    "ax.set_ylim(0, 1)\n",
    "ax.set_ylabel('Percentage')\n",
    "ax.set_xlabel('Epoch');"
   ]
  },
  {
   "cell_type": "markdown",
   "metadata": {},
   "source": [
    "<h2 style=\"color:blue\" align=\"left\">Making predictions</h2>\n",
    "\n",
    "The trained model can now be used to predict some values. For evaluation, we use the data points of the test set for classification."
   ]
  },
  {
   "cell_type": "code",
   "execution_count": 14,
   "metadata": {},
   "outputs": [
    {
     "name": "stdout",
     "output_type": "stream",
     "text": [
      "2/2 [==============================] - 0s 1ms/step\n"
     ]
    },
    {
     "data": {
      "text/plain": [
       "array([[ 0.23760651],\n",
       "       [-0.13766038],\n",
       "       [-0.05463292],\n",
       "       [ 1.756348  ],\n",
       "       [ 0.10723369]], dtype=float32)"
      ]
     },
     "execution_count": 14,
     "metadata": {},
     "output_type": "execute_result"
    }
   ],
   "source": [
    "y_pred_output = model.predict(X_test)\n",
    "y_pred_output[:5]"
   ]
  },
  {
   "cell_type": "markdown",
   "metadata": {},
   "source": [
    "The data type of the output depends on the chosen activation function of the last layer in the model. For the evaulation we need a binary value classification result for each data point.\n",
    "\n",
    "<div class=\"alert alert-block alert-success\"><b>Task</b><br> \n",
    "Find a way to transform the output of your model into a binary array with the classification results. Save the results in the variable y_pred.\n",
    "</div>"
   ]
  },
  {
   "cell_type": "code",
   "execution_count": 15,
   "metadata": {},
   "outputs": [
    {
     "data": {
      "text/plain": [
       "array([[0.],\n",
       "       [0.],\n",
       "       [0.],\n",
       "       [1.],\n",
       "       [0.]], dtype=float32)"
      ]
     },
     "execution_count": 15,
     "metadata": {},
     "output_type": "execute_result"
    }
   ],
   "source": [
    "y_pred_output[y_pred_output < 0.5] = 0\n",
    "y_pred_output[y_pred_output >= 0.5] = 1\n",
    "y_pred_output[:5]"
   ]
  },
  {
   "cell_type": "code",
   "execution_count": 16,
   "metadata": {},
   "outputs": [],
   "source": [
    "from sklearn.metrics import confusion_matrix, accuracy_score, precision_score, recall_score"
   ]
  },
  {
   "cell_type": "markdown",
   "metadata": {},
   "source": [
    "Your can use the following code for evaluation."
   ]
  },
  {
   "cell_type": "code",
   "execution_count": 17,
   "metadata": {
    "scrolled": true
   },
   "outputs": [
    {
     "name": "stdout",
     "output_type": "stream",
     "text": [
      "Recall Score: 0.7916666666666666\n",
      "Precision Score: 0.6551724137931034\n"
     ]
    },
    {
     "data": {
      "image/png": "[encoded data removed]",
      "text/plain": [
       "<Figure size 432x288 with 2 Axes>"
      ]
     },
     "metadata": {
      "needs_background": "light"
     },
     "output_type": "display_data"
    }
   ],
   "source": [
    "class_names=['no heart attack', 'heart attack']\n",
    "test_accuracy = accuracy_score(y_true=y_test, y_pred=y_pred_output)\n",
    "ax = sns.heatmap(confusion_matrix(y_test, y_pred_output), annot=True, fmt=\"d\", yticklabels=class_names, xticklabels=class_names)\n",
    "ax.set_title(f'Test set (Accuracy: {round(test_accuracy*100, 2)}%)')\n",
    "ax.set_xlabel('Predicted', fontsize=12)\n",
    "ax.set_ylabel('Actual', fontsize=12)\n",
    "ax.set_yticklabels(class_names, va='center')\n",
    "print('Recall Score:', recall_score(y_test, y_pred_output))\n",
    "print('Precision Score:', precision_score(y_test, y_pred_output))"
   ]
  },
  {
   "cell_type": "markdown",
   "metadata": {},
   "source": [
    "## Notes\n",
    "- Neuron count (200, 100) -> 11 falses in total\n",
    "- Neuron count (20, 12) -> 9 falses in total (overfitting?)"
   ]
  },
  {
   "cell_type": "code",
   "execution_count": null,
   "metadata": {},
   "outputs": [],
   "source": []
  }
 ],
 "metadata": {
  "kernelspec": {
   "display_name": "Python 3",
   "language": "python",
   "name": "python3"
  },
  "language_info": {
   "codemirror_mode": {
    "name": "ipython",
    "version": 3
   },
   "file_extension": ".py",
   "mimetype": "text/x-python",
   "name": "python",
   "nbconvert_exporter": "python",
   "pygments_lexer": "ipython3",
   "version": "3.8.8"
  }
 },
 "nbformat": 4,
 "nbformat_minor": 4
}
