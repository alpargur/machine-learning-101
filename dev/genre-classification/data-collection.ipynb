{
 "cells": [
  {
   "cell_type": "markdown",
   "metadata": {},
   "source": [
    "# Data Collection\n",
    "- This notebook is responsible for collecting / processing the dataset of tracks including audio features to be used in model training and test.\n",
    "- Make sure you already have created a Spotify app, have your ***client_id*** and ***client_secret*** ready. They are necessary for getting an access token.\n",
    "- Create two environment variables with exact same name on your machine and the notebook will automatically include them in the context.\n",
    "- Access token is included in requests header and is valid for an hour."
   ]
  },
  {
   "cell_type": "code",
   "execution_count": 27,
   "metadata": {},
   "outputs": [],
   "source": [
    "# import libraries\n",
    "\n",
    "import warnings\n",
    "warnings.simplefilter(action='ignore', category=FutureWarning) # supress future warnings\n",
    "import os\n",
    "import json\n",
    "import requests\n",
    "import pandas as pd\n",
    "from pathlib import Path\n",
    "from tqdm import tqdm"
   ]
  },
  {
   "cell_type": "markdown",
   "metadata": {},
   "source": [
    "## Get Access Token"
   ]
  },
  {
   "cell_type": "code",
   "execution_count": 28,
   "metadata": {},
   "outputs": [],
   "source": [
    "def get_access_token(client_id: str, client_secret: str, grant_type: str = 'client_credentials'):\n",
    "    url = 'https://accounts.spotify.com/api/token?grant_type={}&client_id={}&client_secret={}'.format(grant_type, client_id, client_secret)\n",
    "    response = requests.post(url, headers={'Content-Type':'application/x-www-form-urlencoded'})\n",
    "    access_token = 'Bearer ' + json.loads(response.text)['access_token']\n",
    "\n",
    "    return access_token"
   ]
  },
  {
   "cell_type": "code",
   "execution_count": 29,
   "metadata": {},
   "outputs": [],
   "source": [
    "# get access token\n",
    "grant_type = 'client_credentials'\n",
    "client_id = os.getenv('SPOTIFY_CLIENT_ID')\n",
    "client_secret = os.getenv('SPOTIFY_CLIENT_SECRET')\n",
    "\n",
    "access_token = get_access_token(client_id, client_secret, grant_type)"
   ]
  },
  {
   "cell_type": "code",
   "execution_count": 31,
   "metadata": {},
   "outputs": [],
   "source": [
    "def get_data(url: str, access_token: str, verbose: bool = False):\n",
    "    response = requests.get(url, headers={'Authorization': access_token})\n",
    "    result = json.loads(response.text)\n",
    "\n",
    "    if verbose:\n",
    "        print('Response body:\\n', result)\n",
    "\n",
    "    return result"
   ]
  },
  {
   "cell_type": "markdown",
   "metadata": {},
   "source": [
    "## Get Tracks\n",
    "|track_id|track_name|artist_name|popularity|genre|\n",
    "|---|---|---|---|---|"
   ]
  },
  {
   "cell_type": "code",
   "execution_count": 32,
   "metadata": {},
   "outputs": [],
   "source": [
    "def get_tracks(genres_list: list, steps: int, limit: int, offset: int,access_token: str):\n",
    "    tracks_df = pd.DataFrame()\n",
    "    _initial_offset = offset\n",
    "    progress_bar = tqdm(total= len(genres_list) * steps * limit)\n",
    "\n",
    "    for genre in genres_list:\n",
    "        \n",
    "        for step in range(steps):\n",
    "            url = 'https://api.spotify.com/v1/search?q=genre:{}&type=track&limit={}&offset={}'.format(genre, limit, offset)\n",
    "            search_item = get_data(url, access_token)\n",
    "\n",
    "            for n in range(limit):   \n",
    "                # print(search_item.get(\"error\",\"\"))\n",
    "                track_id = search_item['tracks']['items'][n]['id']\n",
    "                track_name = search_item['tracks']['items'][n]['name']\n",
    "                artist_name = search_item['tracks']['items'][n]['artists'][0]['name']\n",
    "                popularity = search_item['tracks']['items'][n]['popularity']\n",
    "\n",
    "                tracks_df = tracks_df.append({\n",
    "                    'track_id': track_id,\n",
    "                    'track_name': track_name,\n",
    "                    'artist_name': artist_name,\n",
    "                    'popularity': popularity,\n",
    "                    'genre': genre\n",
    "                }, ignore_index=True)\n",
    "                progress_bar.update(1)\n",
    "\n",
    "            offset += limit\n",
    "        offset = _initial_offset\n",
    "    progress_bar.close()\n",
    "\n",
    "    return tracks_df"
   ]
  },
  {
   "cell_type": "code",
   "execution_count": 33,
   "metadata": {},
   "outputs": [],
   "source": [
    "steps = 20 # 20 * 50 => 1000 per category\n",
    "limit = 50 # max 50 allowed\n",
    "offset = 0 # takes the n-1th value of limit\n",
    "genres_list = ['rock', 'rap', 'metal', 'blues', 'jazz', 'classical', 'funk', 'techno', 'electronic', 'r&b']"
   ]
  },
  {
   "cell_type": "code",
   "execution_count": 34,
   "metadata": {},
   "outputs": [
    {
     "name": "stderr",
     "output_type": "stream",
     "text": [
      "100%|██████████| 10000/10000 [01:44<00:00, 95.94it/s]\n"
     ]
    },
    {
     "data": {
      "text/plain": "                    track_id                     track_name  \\\n0     2QjOHCTQ1Jl3zawyYOpxh6                Sweater Weather   \n1     4h9wh7iOZ0GGn8QVp4RAOB                I Ain't Worried   \n2     58ge6dfP91o9oXMzq3XkIS                            505   \n3     003vvx7Niy0yvhvHt4a68B                 Mr. Brightside   \n4     5XeFesFbtLpXzIVDNQP22n               I Wanna Be Yours   \n...                      ...                            ...   \n9995  6cEguiQecbXrFlsnMi2ysr  Come and See Me (feat. Drake)   \n9996  6ihL9TjfRjadfEePzXXyVF                 Gives You Hell   \n9997  67eX1ovaHyVPUinMHeUtIM                  Hurts So Good   \n9998  5ht9obvnnWeW4eoRtPAoQD      Fact (feat. Lil Uzi Vert)   \n9999  0B0Xu2ih8fWpcwyxAt1c7m                       Blackout   \n\n                   artist_name  popularity genre  \n0            The Neighbourhood        91.0  rock  \n1                  OneRepublic        93.0  rock  \n2               Arctic Monkeys        82.0  rock  \n3                  The Killers        87.0  rock  \n4               Arctic Monkeys        94.0  rock  \n...                        ...         ...   ...  \n9995             PARTYNEXTDOOR        75.0   r&b  \n9996  The All-American Rejects        73.0   r&b  \n9997           John Mellencamp        74.0   r&b  \n9998                Ghostluvme        73.0   r&b  \n9999              Joyner Lucas        75.0   r&b  \n\n[10000 rows x 5 columns]",
      "text/html": "<div>\n<style scoped>\n    .dataframe tbody tr th:only-of-type {\n        vertical-align: middle;\n    }\n\n    .dataframe tbody tr th {\n        vertical-align: top;\n    }\n\n    .dataframe thead th {\n        text-align: right;\n    }\n</style>\n<table border=\"1\" class=\"dataframe\">\n  <thead>\n    <tr style=\"text-align: right;\">\n      <th></th>\n      <th>track_id</th>\n      <th>track_name</th>\n      <th>artist_name</th>\n      <th>popularity</th>\n      <th>genre</th>\n    </tr>\n  </thead>\n  <tbody>\n    <tr>\n      <th>0</th>\n      <td>2QjOHCTQ1Jl3zawyYOpxh6</td>\n      <td>Sweater Weather</td>\n      <td>The Neighbourhood</td>\n      <td>91.0</td>\n      <td>rock</td>\n    </tr>\n    <tr>\n      <th>1</th>\n      <td>4h9wh7iOZ0GGn8QVp4RAOB</td>\n      <td>I Ain't Worried</td>\n      <td>OneRepublic</td>\n      <td>93.0</td>\n      <td>rock</td>\n    </tr>\n    <tr>\n      <th>2</th>\n      <td>58ge6dfP91o9oXMzq3XkIS</td>\n      <td>505</td>\n      <td>Arctic Monkeys</td>\n      <td>82.0</td>\n      <td>rock</td>\n    </tr>\n    <tr>\n      <th>3</th>\n      <td>003vvx7Niy0yvhvHt4a68B</td>\n      <td>Mr. Brightside</td>\n      <td>The Killers</td>\n      <td>87.0</td>\n      <td>rock</td>\n    </tr>\n    <tr>\n      <th>4</th>\n      <td>5XeFesFbtLpXzIVDNQP22n</td>\n      <td>I Wanna Be Yours</td>\n      <td>Arctic Monkeys</td>\n      <td>94.0</td>\n      <td>rock</td>\n    </tr>\n    <tr>\n      <th>...</th>\n      <td>...</td>\n      <td>...</td>\n      <td>...</td>\n      <td>...</td>\n      <td>...</td>\n    </tr>\n    <tr>\n      <th>9995</th>\n      <td>6cEguiQecbXrFlsnMi2ysr</td>\n      <td>Come and See Me (feat. Drake)</td>\n      <td>PARTYNEXTDOOR</td>\n      <td>75.0</td>\n      <td>r&amp;b</td>\n    </tr>\n    <tr>\n      <th>9996</th>\n      <td>6ihL9TjfRjadfEePzXXyVF</td>\n      <td>Gives You Hell</td>\n      <td>The All-American Rejects</td>\n      <td>73.0</td>\n      <td>r&amp;b</td>\n    </tr>\n    <tr>\n      <th>9997</th>\n      <td>67eX1ovaHyVPUinMHeUtIM</td>\n      <td>Hurts So Good</td>\n      <td>John Mellencamp</td>\n      <td>74.0</td>\n      <td>r&amp;b</td>\n    </tr>\n    <tr>\n      <th>9998</th>\n      <td>5ht9obvnnWeW4eoRtPAoQD</td>\n      <td>Fact (feat. Lil Uzi Vert)</td>\n      <td>Ghostluvme</td>\n      <td>73.0</td>\n      <td>r&amp;b</td>\n    </tr>\n    <tr>\n      <th>9999</th>\n      <td>0B0Xu2ih8fWpcwyxAt1c7m</td>\n      <td>Blackout</td>\n      <td>Joyner Lucas</td>\n      <td>75.0</td>\n      <td>r&amp;b</td>\n    </tr>\n  </tbody>\n</table>\n<p>10000 rows × 5 columns</p>\n</div>"
     },
     "execution_count": 34,
     "metadata": {},
     "output_type": "execute_result"
    }
   ],
   "source": [
    "tracks_df = get_tracks(genres_list, steps=steps, limit=limit, offset=offset, access_token=access_token)\n",
    "tracks_df"
   ]
  },
  {
   "cell_type": "code",
   "execution_count": 35,
   "metadata": {},
   "outputs": [
    {
     "data": {
      "text/plain": "duplicated\nFalse    8431\nTrue     1569\nName: duplicated, dtype: int64"
     },
     "execution_count": 35,
     "metadata": {},
     "output_type": "execute_result"
    }
   ],
   "source": [
    "tracks_df['duplicated'] = tracks_df['track_id'].duplicated(keep='first') # add column about duplicate\n",
    "tracks_df.groupby(['duplicated'])['duplicated'].count()"
   ]
  },
  {
   "cell_type": "code",
   "execution_count": 36,
   "metadata": {},
   "outputs": [
    {
     "data": {
      "text/plain": "8431"
     },
     "execution_count": 36,
     "metadata": {},
     "output_type": "execute_result"
    }
   ],
   "source": [
    "# drop duplicate tracks\n",
    "tracks_df_no_duplicates = tracks_df.drop_duplicates('track_id', keep='first')\n",
    "tracks_df_no_duplicates.reset_index(drop=True, inplace=True)\n",
    "len(tracks_df_no_duplicates)"
   ]
  },
  {
   "cell_type": "code",
   "execution_count": 37,
   "metadata": {},
   "outputs": [
    {
     "data": {
      "text/plain": "genre\nblues          948\nclassical      900\nelectronic     970\nfunk           815\njazz           885\nmetal          765\nr&b            185\nrap            964\nrock           999\ntechno        1000\nName: genre, dtype: int64"
     },
     "execution_count": 37,
     "metadata": {},
     "output_type": "execute_result"
    }
   ],
   "source": [
    "tracks_df_no_duplicates.groupby('genre')['genre'].count()"
   ]
  },
  {
   "cell_type": "markdown",
   "metadata": {},
   "source": [
    "## Get Track Features"
   ]
  },
  {
   "cell_type": "code",
   "execution_count": 38,
   "metadata": {},
   "outputs": [],
   "source": [
    "def get_track_features(tracks_df: pd.DataFrame, access_token: str):\n",
    "    track_features_df = pd.DataFrame()\n",
    "    progress_bar = tqdm(total= len(tracks_df))\n",
    "\n",
    "    with progress_bar:\n",
    "            for index, row in tracks_df.iterrows():\n",
    "                track_id = tracks_df.iloc[index]['track_id']\n",
    "                url = 'https://api.spotify.com/v1/audio-features/' + track_id\n",
    "                track_features = get_data(url, access_token)\n",
    "                track_features_df = track_features_df.append(track_features, ignore_index=True)\n",
    "                progress_bar.update(1)\n",
    "\n",
    "            progress_bar.close()\n",
    "\n",
    "    # drop negligible features\n",
    "    track_features_df.drop(columns=['type', 'uri', 'track_href', 'analysis_url'], inplace=True)\n",
    "    track_features_df.rename(columns={'id':'track_id'}, inplace=True)\n",
    "\n",
    "    return track_features_df"
   ]
  },
  {
   "cell_type": "code",
   "execution_count": 39,
   "metadata": {
    "scrolled": true
   },
   "outputs": [
    {
     "name": "stderr",
     "output_type": "stream",
     "text": [
      "100%|██████████| 10000/10000 [24:53<00:00,  6.70it/s]\n"
     ]
    },
    {
     "data": {
      "text/plain": "                error  acousticness  danceability  duration_ms  energy  \\\n0     {'status': 429}           NaN           NaN          NaN     NaN   \n1     {'status': 429}           NaN           NaN          NaN     NaN   \n2     {'status': 429}           NaN           NaN          NaN     NaN   \n3     {'status': 429}           NaN           NaN          NaN     NaN   \n4     {'status': 429}           NaN           NaN          NaN     NaN   \n...               ...           ...           ...          ...     ...   \n9995  {'status': 429}           NaN           NaN          NaN     NaN   \n9996  {'status': 429}           NaN           NaN          NaN     NaN   \n9997  {'status': 429}           NaN           NaN          NaN     NaN   \n9998  {'status': 429}           NaN           NaN          NaN     NaN   \n9999  {'status': 429}           NaN           NaN          NaN     NaN   \n\n     track_id  instrumentalness  key  liveness  loudness  mode  speechiness  \\\n0         NaN               NaN  NaN       NaN       NaN   NaN          NaN   \n1         NaN               NaN  NaN       NaN       NaN   NaN          NaN   \n2         NaN               NaN  NaN       NaN       NaN   NaN          NaN   \n3         NaN               NaN  NaN       NaN       NaN   NaN          NaN   \n4         NaN               NaN  NaN       NaN       NaN   NaN          NaN   \n...       ...               ...  ...       ...       ...   ...          ...   \n9995      NaN               NaN  NaN       NaN       NaN   NaN          NaN   \n9996      NaN               NaN  NaN       NaN       NaN   NaN          NaN   \n9997      NaN               NaN  NaN       NaN       NaN   NaN          NaN   \n9998      NaN               NaN  NaN       NaN       NaN   NaN          NaN   \n9999      NaN               NaN  NaN       NaN       NaN   NaN          NaN   \n\n      tempo  time_signature  valence  \n0       NaN             NaN      NaN  \n1       NaN             NaN      NaN  \n2       NaN             NaN      NaN  \n3       NaN             NaN      NaN  \n4       NaN             NaN      NaN  \n...     ...             ...      ...  \n9995    NaN             NaN      NaN  \n9996    NaN             NaN      NaN  \n9997    NaN             NaN      NaN  \n9998    NaN             NaN      NaN  \n9999    NaN             NaN      NaN  \n\n[10000 rows x 15 columns]",
      "text/html": "<div>\n<style scoped>\n    .dataframe tbody tr th:only-of-type {\n        vertical-align: middle;\n    }\n\n    .dataframe tbody tr th {\n        vertical-align: top;\n    }\n\n    .dataframe thead th {\n        text-align: right;\n    }\n</style>\n<table border=\"1\" class=\"dataframe\">\n  <thead>\n    <tr style=\"text-align: right;\">\n      <th></th>\n      <th>error</th>\n      <th>acousticness</th>\n      <th>danceability</th>\n      <th>duration_ms</th>\n      <th>energy</th>\n      <th>track_id</th>\n      <th>instrumentalness</th>\n      <th>key</th>\n      <th>liveness</th>\n      <th>loudness</th>\n      <th>mode</th>\n      <th>speechiness</th>\n      <th>tempo</th>\n      <th>time_signature</th>\n      <th>valence</th>\n    </tr>\n  </thead>\n  <tbody>\n    <tr>\n      <th>0</th>\n      <td>{'status': 429}</td>\n      <td>NaN</td>\n      <td>NaN</td>\n      <td>NaN</td>\n      <td>NaN</td>\n      <td>NaN</td>\n      <td>NaN</td>\n      <td>NaN</td>\n      <td>NaN</td>\n      <td>NaN</td>\n      <td>NaN</td>\n      <td>NaN</td>\n      <td>NaN</td>\n      <td>NaN</td>\n      <td>NaN</td>\n    </tr>\n    <tr>\n      <th>1</th>\n      <td>{'status': 429}</td>\n      <td>NaN</td>\n      <td>NaN</td>\n      <td>NaN</td>\n      <td>NaN</td>\n      <td>NaN</td>\n      <td>NaN</td>\n      <td>NaN</td>\n      <td>NaN</td>\n      <td>NaN</td>\n      <td>NaN</td>\n      <td>NaN</td>\n      <td>NaN</td>\n      <td>NaN</td>\n      <td>NaN</td>\n    </tr>\n    <tr>\n      <th>2</th>\n      <td>{'status': 429}</td>\n      <td>NaN</td>\n      <td>NaN</td>\n      <td>NaN</td>\n      <td>NaN</td>\n      <td>NaN</td>\n      <td>NaN</td>\n      <td>NaN</td>\n      <td>NaN</td>\n      <td>NaN</td>\n      <td>NaN</td>\n      <td>NaN</td>\n      <td>NaN</td>\n      <td>NaN</td>\n      <td>NaN</td>\n    </tr>\n    <tr>\n      <th>3</th>\n      <td>{'status': 429}</td>\n      <td>NaN</td>\n      <td>NaN</td>\n      <td>NaN</td>\n      <td>NaN</td>\n      <td>NaN</td>\n      <td>NaN</td>\n      <td>NaN</td>\n      <td>NaN</td>\n      <td>NaN</td>\n      <td>NaN</td>\n      <td>NaN</td>\n      <td>NaN</td>\n      <td>NaN</td>\n      <td>NaN</td>\n    </tr>\n    <tr>\n      <th>4</th>\n      <td>{'status': 429}</td>\n      <td>NaN</td>\n      <td>NaN</td>\n      <td>NaN</td>\n      <td>NaN</td>\n      <td>NaN</td>\n      <td>NaN</td>\n      <td>NaN</td>\n      <td>NaN</td>\n      <td>NaN</td>\n      <td>NaN</td>\n      <td>NaN</td>\n      <td>NaN</td>\n      <td>NaN</td>\n      <td>NaN</td>\n    </tr>\n    <tr>\n      <th>...</th>\n      <td>...</td>\n      <td>...</td>\n      <td>...</td>\n      <td>...</td>\n      <td>...</td>\n      <td>...</td>\n      <td>...</td>\n      <td>...</td>\n      <td>...</td>\n      <td>...</td>\n      <td>...</td>\n      <td>...</td>\n      <td>...</td>\n      <td>...</td>\n      <td>...</td>\n    </tr>\n    <tr>\n      <th>9995</th>\n      <td>{'status': 429}</td>\n      <td>NaN</td>\n      <td>NaN</td>\n      <td>NaN</td>\n      <td>NaN</td>\n      <td>NaN</td>\n      <td>NaN</td>\n      <td>NaN</td>\n      <td>NaN</td>\n      <td>NaN</td>\n      <td>NaN</td>\n      <td>NaN</td>\n      <td>NaN</td>\n      <td>NaN</td>\n      <td>NaN</td>\n    </tr>\n    <tr>\n      <th>9996</th>\n      <td>{'status': 429}</td>\n      <td>NaN</td>\n      <td>NaN</td>\n      <td>NaN</td>\n      <td>NaN</td>\n      <td>NaN</td>\n      <td>NaN</td>\n      <td>NaN</td>\n      <td>NaN</td>\n      <td>NaN</td>\n      <td>NaN</td>\n      <td>NaN</td>\n      <td>NaN</td>\n      <td>NaN</td>\n      <td>NaN</td>\n    </tr>\n    <tr>\n      <th>9997</th>\n      <td>{'status': 429}</td>\n      <td>NaN</td>\n      <td>NaN</td>\n      <td>NaN</td>\n      <td>NaN</td>\n      <td>NaN</td>\n      <td>NaN</td>\n      <td>NaN</td>\n      <td>NaN</td>\n      <td>NaN</td>\n      <td>NaN</td>\n      <td>NaN</td>\n      <td>NaN</td>\n      <td>NaN</td>\n      <td>NaN</td>\n    </tr>\n    <tr>\n      <th>9998</th>\n      <td>{'status': 429}</td>\n      <td>NaN</td>\n      <td>NaN</td>\n      <td>NaN</td>\n      <td>NaN</td>\n      <td>NaN</td>\n      <td>NaN</td>\n      <td>NaN</td>\n      <td>NaN</td>\n      <td>NaN</td>\n      <td>NaN</td>\n      <td>NaN</td>\n      <td>NaN</td>\n      <td>NaN</td>\n      <td>NaN</td>\n    </tr>\n    <tr>\n      <th>9999</th>\n      <td>{'status': 429}</td>\n      <td>NaN</td>\n      <td>NaN</td>\n      <td>NaN</td>\n      <td>NaN</td>\n      <td>NaN</td>\n      <td>NaN</td>\n      <td>NaN</td>\n      <td>NaN</td>\n      <td>NaN</td>\n      <td>NaN</td>\n      <td>NaN</td>\n      <td>NaN</td>\n      <td>NaN</td>\n      <td>NaN</td>\n    </tr>\n  </tbody>\n</table>\n<p>10000 rows × 15 columns</p>\n</div>"
     },
     "execution_count": 39,
     "metadata": {},
     "output_type": "execute_result"
    }
   ],
   "source": [
    "track_features_df = get_track_features(tracks_df, access_token)\n",
    "track_features_df"
   ]
  },
  {
   "cell_type": "code",
   "execution_count": 40,
   "metadata": {},
   "outputs": [
    {
     "data": {
      "text/plain": "duplicated\nFalse       5\nTrue     9995\nName: duplicated, dtype: int64"
     },
     "execution_count": 40,
     "metadata": {},
     "output_type": "execute_result"
    }
   ],
   "source": [
    "track_features_df['duplicated'] = track_features_df['track_id'].duplicated(keep='first') # add column about duplicate\n",
    "track_features_df.groupby(['duplicated'])['duplicated'].count()"
   ]
  },
  {
   "cell_type": "code",
   "execution_count": 41,
   "metadata": {},
   "outputs": [
    {
     "data": {
      "text/plain": "5"
     },
     "execution_count": 41,
     "metadata": {},
     "output_type": "execute_result"
    }
   ],
   "source": [
    "# drop duplicate tracks\n",
    "track_features_df_no_duplicates = track_features_df.drop_duplicates('track_id', keep='first')\n",
    "track_features_df_no_duplicates.reset_index(drop=True, inplace=True)\n",
    "len(track_features_df_no_duplicates)"
   ]
  },
  {
   "cell_type": "markdown",
   "metadata": {},
   "source": [
    "### Merge datasets"
   ]
  },
  {
   "cell_type": "code",
   "execution_count": 42,
   "metadata": {},
   "outputs": [
    {
     "data": {
      "text/plain": "                 track_id                                         track_name  \\\n0  4iW98ZK1gNzcXmQ5TgTD9X                           I Just Want To Celebrate   \n1  5Iev69m1Jnf7oc79VvPjpd                                              Cupid   \n2  6cgSmS2mTPOMmplqUfQaeZ  Prelude & Fugue in C-Sharp Minor, BWV 849: I. ...   \n3  0KubEonULpUEsK2O8Nzhj3  Piano Concerto No. 20 in D Minor, K. 466: II. ...   \n\n               artist_name  popularity      genre  duplicated_x error  \\\n0               Rare Earth        51.0      blues         False   NaN   \n1                Sam Cooke        60.0       jazz         False   NaN   \n2    Johann Sebastian Bach        22.0  classical         False   NaN   \n3  Wolfgang Amadeus Mozart        14.0  classical         False   NaN   \n\n   acousticness  danceability  duration_ms  ...  instrumentalness   key  \\\n0         0.105         0.435     217560.0  ...          0.000002   9.0   \n1         0.476         0.485     158014.0  ...          0.000000   7.0   \n2         0.996         0.297     176080.0  ...          0.927000   1.0   \n3         0.987         0.204     598782.0  ...          0.873000  10.0   \n\n   liveness  loudness  mode  speechiness    tempo  time_signature  valence  \\\n0    0.0150    -7.700   1.0       0.2350  175.448             4.0    0.650   \n1    0.0861   -10.503   1.0       0.0342  120.471             4.0    0.825   \n2    0.0882   -27.217   0.0       0.0533  182.862             4.0    0.277   \n3    0.0983   -21.589   1.0       0.0317   80.701             4.0    0.118   \n\n   duplicated_y  \n0         False  \n1         False  \n2         False  \n3         False  \n\n[4 rows x 21 columns]",
      "text/html": "<div>\n<style scoped>\n    .dataframe tbody tr th:only-of-type {\n        vertical-align: middle;\n    }\n\n    .dataframe tbody tr th {\n        vertical-align: top;\n    }\n\n    .dataframe thead th {\n        text-align: right;\n    }\n</style>\n<table border=\"1\" class=\"dataframe\">\n  <thead>\n    <tr style=\"text-align: right;\">\n      <th></th>\n      <th>track_id</th>\n      <th>track_name</th>\n      <th>artist_name</th>\n      <th>popularity</th>\n      <th>genre</th>\n      <th>duplicated_x</th>\n      <th>error</th>\n      <th>acousticness</th>\n      <th>danceability</th>\n      <th>duration_ms</th>\n      <th>...</th>\n      <th>instrumentalness</th>\n      <th>key</th>\n      <th>liveness</th>\n      <th>loudness</th>\n      <th>mode</th>\n      <th>speechiness</th>\n      <th>tempo</th>\n      <th>time_signature</th>\n      <th>valence</th>\n      <th>duplicated_y</th>\n    </tr>\n  </thead>\n  <tbody>\n    <tr>\n      <th>0</th>\n      <td>4iW98ZK1gNzcXmQ5TgTD9X</td>\n      <td>I Just Want To Celebrate</td>\n      <td>Rare Earth</td>\n      <td>51.0</td>\n      <td>blues</td>\n      <td>False</td>\n      <td>NaN</td>\n      <td>0.105</td>\n      <td>0.435</td>\n      <td>217560.0</td>\n      <td>...</td>\n      <td>0.000002</td>\n      <td>9.0</td>\n      <td>0.0150</td>\n      <td>-7.700</td>\n      <td>1.0</td>\n      <td>0.2350</td>\n      <td>175.448</td>\n      <td>4.0</td>\n      <td>0.650</td>\n      <td>False</td>\n    </tr>\n    <tr>\n      <th>1</th>\n      <td>5Iev69m1Jnf7oc79VvPjpd</td>\n      <td>Cupid</td>\n      <td>Sam Cooke</td>\n      <td>60.0</td>\n      <td>jazz</td>\n      <td>False</td>\n      <td>NaN</td>\n      <td>0.476</td>\n      <td>0.485</td>\n      <td>158014.0</td>\n      <td>...</td>\n      <td>0.000000</td>\n      <td>7.0</td>\n      <td>0.0861</td>\n      <td>-10.503</td>\n      <td>1.0</td>\n      <td>0.0342</td>\n      <td>120.471</td>\n      <td>4.0</td>\n      <td>0.825</td>\n      <td>False</td>\n    </tr>\n    <tr>\n      <th>2</th>\n      <td>6cgSmS2mTPOMmplqUfQaeZ</td>\n      <td>Prelude &amp; Fugue in C-Sharp Minor, BWV 849: I. ...</td>\n      <td>Johann Sebastian Bach</td>\n      <td>22.0</td>\n      <td>classical</td>\n      <td>False</td>\n      <td>NaN</td>\n      <td>0.996</td>\n      <td>0.297</td>\n      <td>176080.0</td>\n      <td>...</td>\n      <td>0.927000</td>\n      <td>1.0</td>\n      <td>0.0882</td>\n      <td>-27.217</td>\n      <td>0.0</td>\n      <td>0.0533</td>\n      <td>182.862</td>\n      <td>4.0</td>\n      <td>0.277</td>\n      <td>False</td>\n    </tr>\n    <tr>\n      <th>3</th>\n      <td>0KubEonULpUEsK2O8Nzhj3</td>\n      <td>Piano Concerto No. 20 in D Minor, K. 466: II. ...</td>\n      <td>Wolfgang Amadeus Mozart</td>\n      <td>14.0</td>\n      <td>classical</td>\n      <td>False</td>\n      <td>NaN</td>\n      <td>0.987</td>\n      <td>0.204</td>\n      <td>598782.0</td>\n      <td>...</td>\n      <td>0.873000</td>\n      <td>10.0</td>\n      <td>0.0983</td>\n      <td>-21.589</td>\n      <td>1.0</td>\n      <td>0.0317</td>\n      <td>80.701</td>\n      <td>4.0</td>\n      <td>0.118</td>\n      <td>False</td>\n    </tr>\n  </tbody>\n</table>\n<p>4 rows × 21 columns</p>\n</div>"
     },
     "execution_count": 42,
     "metadata": {},
     "output_type": "execute_result"
    }
   ],
   "source": [
    "df = tracks_df.merge(track_features_df_no_duplicates, on='track_id')\n",
    "df"
   ]
  },
  {
   "cell_type": "markdown",
   "metadata": {},
   "source": [
    "# Data Processing\n",
    "- Remove duplicates and irrelevant attributes."
   ]
  },
  {
   "cell_type": "code",
   "execution_count": 43,
   "metadata": {},
   "outputs": [
    {
     "name": "stdout",
     "output_type": "stream",
     "text": [
      "Number of rows:\t 4\n"
     ]
    }
   ],
   "source": [
    "print('Number of rows:\\t', len(df))"
   ]
  },
  {
   "cell_type": "code",
   "execution_count": 44,
   "metadata": {},
   "outputs": [
    {
     "name": "stdout",
     "output_type": "stream",
     "text": [
      "<class 'pandas.core.frame.DataFrame'>\n",
      "Int64Index: 4 entries, 0 to 3\n",
      "Data columns (total 21 columns):\n",
      " #   Column            Non-Null Count  Dtype  \n",
      "---  ------            --------------  -----  \n",
      " 0   track_id          4 non-null      object \n",
      " 1   track_name        4 non-null      object \n",
      " 2   artist_name       4 non-null      object \n",
      " 3   popularity        4 non-null      float64\n",
      " 4   genre             4 non-null      object \n",
      " 5   duplicated_x      4 non-null      bool   \n",
      " 6   error             0 non-null      object \n",
      " 7   acousticness      4 non-null      float64\n",
      " 8   danceability      4 non-null      float64\n",
      " 9   duration_ms       4 non-null      float64\n",
      " 10  energy            4 non-null      float64\n",
      " 11  instrumentalness  4 non-null      float64\n",
      " 12  key               4 non-null      float64\n",
      " 13  liveness          4 non-null      float64\n",
      " 14  loudness          4 non-null      float64\n",
      " 15  mode              4 non-null      float64\n",
      " 16  speechiness       4 non-null      float64\n",
      " 17  tempo             4 non-null      float64\n",
      " 18  time_signature    4 non-null      float64\n",
      " 19  valence           4 non-null      float64\n",
      " 20  duplicated_y      4 non-null      bool   \n",
      "dtypes: bool(2), float64(14), object(5)\n",
      "memory usage: 648.0+ bytes\n"
     ]
    }
   ],
   "source": [
    "df.info()"
   ]
  },
  {
   "cell_type": "code",
   "execution_count": 45,
   "metadata": {},
   "outputs": [
    {
     "data": {
      "text/plain": "Empty DataFrame\nColumns: [track_id, track_name, artist_name, popularity, genre, duplicated_x, error, acousticness, danceability, duration_ms, energy, instrumentalness, key, liveness, loudness, mode, speechiness, tempo, time_signature, valence, duplicated_y]\nIndex: []\n\n[0 rows x 21 columns]",
      "text/html": "<div>\n<style scoped>\n    .dataframe tbody tr th:only-of-type {\n        vertical-align: middle;\n    }\n\n    .dataframe tbody tr th {\n        vertical-align: top;\n    }\n\n    .dataframe thead th {\n        text-align: right;\n    }\n</style>\n<table border=\"1\" class=\"dataframe\">\n  <thead>\n    <tr style=\"text-align: right;\">\n      <th></th>\n      <th>track_id</th>\n      <th>track_name</th>\n      <th>artist_name</th>\n      <th>popularity</th>\n      <th>genre</th>\n      <th>duplicated_x</th>\n      <th>error</th>\n      <th>acousticness</th>\n      <th>danceability</th>\n      <th>duration_ms</th>\n      <th>...</th>\n      <th>instrumentalness</th>\n      <th>key</th>\n      <th>liveness</th>\n      <th>loudness</th>\n      <th>mode</th>\n      <th>speechiness</th>\n      <th>tempo</th>\n      <th>time_signature</th>\n      <th>valence</th>\n      <th>duplicated_y</th>\n    </tr>\n  </thead>\n  <tbody>\n  </tbody>\n</table>\n<p>0 rows × 21 columns</p>\n</div>"
     },
     "execution_count": 45,
     "metadata": {},
     "output_type": "execute_result"
    }
   ],
   "source": [
    "# get duplicates\n",
    "df[df[['track_name', 'artist_name']].duplicated()]"
   ]
  },
  {
   "cell_type": "code",
   "execution_count": 46,
   "metadata": {},
   "outputs": [
    {
     "data": {
      "text/plain": "Empty DataFrame\nColumns: [track_id, track_name, artist_name, popularity, genre, duplicated_x, error, acousticness, danceability, duration_ms, energy, instrumentalness, key, liveness, loudness, mode, speechiness, tempo, time_signature, valence, duplicated_y]\nIndex: []\n\n[0 rows x 21 columns]",
      "text/html": "<div>\n<style scoped>\n    .dataframe tbody tr th:only-of-type {\n        vertical-align: middle;\n    }\n\n    .dataframe tbody tr th {\n        vertical-align: top;\n    }\n\n    .dataframe thead th {\n        text-align: right;\n    }\n</style>\n<table border=\"1\" class=\"dataframe\">\n  <thead>\n    <tr style=\"text-align: right;\">\n      <th></th>\n      <th>track_id</th>\n      <th>track_name</th>\n      <th>artist_name</th>\n      <th>popularity</th>\n      <th>genre</th>\n      <th>duplicated_x</th>\n      <th>error</th>\n      <th>acousticness</th>\n      <th>danceability</th>\n      <th>duration_ms</th>\n      <th>...</th>\n      <th>instrumentalness</th>\n      <th>key</th>\n      <th>liveness</th>\n      <th>loudness</th>\n      <th>mode</th>\n      <th>speechiness</th>\n      <th>tempo</th>\n      <th>time_signature</th>\n      <th>valence</th>\n      <th>duplicated_y</th>\n    </tr>\n  </thead>\n  <tbody>\n  </tbody>\n</table>\n<p>0 rows × 21 columns</p>\n</div>"
     },
     "execution_count": 46,
     "metadata": {},
     "output_type": "execute_result"
    }
   ],
   "source": [
    "df[df[['track_name']].duplicated()]"
   ]
  },
  {
   "cell_type": "markdown",
   "metadata": {},
   "source": [
    "There appears to be multiple scenarios causing duplicates:\n",
    "- Totally identical rows: Some songs are published multiple times e.g. in the original album release and best of compilation of a band.\n",
    "- Same song different versions: Probably original version, radio edit and remix under the same name.\n",
    "- A song associated with multiple genres\n",
    "- A joint song of multiple artists. Column `artist_name` represents only one artist if it's a collab song and same track can come twice under each artist's name.\n",
    "\n",
    "Strategy:\n",
    "- Remove duplicates of `track_name` & `artist_name`."
   ]
  },
  {
   "cell_type": "code",
   "execution_count": 47,
   "metadata": {},
   "outputs": [
    {
     "name": "stdout",
     "output_type": "stream",
     "text": [
      "Number of duplicate tracks:\t 0\n",
      "Number of unique tracks by genre:\n"
     ]
    },
    {
     "data": {
      "text/plain": "genre\nblues        1\njazz         1\nclassical    2\nName: genre, dtype: int64"
     },
     "execution_count": 47,
     "metadata": {},
     "output_type": "execute_result"
    }
   ],
   "source": [
    "print('Number of duplicate tracks:\\t', len(df[df[['track_name']].duplicated()]))\n",
    "\n",
    "print('Number of unique tracks by genre:')\n",
    "df_no_duplicates = df.drop_duplicates(['track_name', 'artist_name'], keep='first')\n",
    "df_no_duplicates.groupby(by=['genre'])['genre'].count().sort_values()"
   ]
  },
  {
   "cell_type": "code",
   "execution_count": 48,
   "metadata": {},
   "outputs": [
    {
     "name": "stdout",
     "output_type": "stream",
     "text": [
      "Average values by genre\n"
     ]
    },
    {
     "data": {
      "text/plain": "       genre  popularity  duplicated_x  acousticness  danceability  \\\n0      blues        51.0           0.0        0.1050        0.4350   \n1  classical        18.0           0.0        0.9915        0.2505   \n2       jazz        60.0           0.0        0.4760        0.4850   \n\n   duration_ms   energy  instrumentalness  key  liveness  loudness  mode  \\\n0     217560.0  0.92900          0.000002  9.0   0.01500    -7.700   1.0   \n1     387431.0  0.08245          0.900000  5.5   0.09325   -24.403   0.5   \n2     158014.0  0.43300          0.000000  7.0   0.08610   -10.503   1.0   \n\n   speechiness     tempo  time_signature  valence  duplicated_y  \n0       0.2350  175.4480             4.0   0.6500           0.0  \n1       0.0425  131.7815             4.0   0.1975           0.0  \n2       0.0342  120.4710             4.0   0.8250           0.0  ",
      "text/html": "<div>\n<style scoped>\n    .dataframe tbody tr th:only-of-type {\n        vertical-align: middle;\n    }\n\n    .dataframe tbody tr th {\n        vertical-align: top;\n    }\n\n    .dataframe thead th {\n        text-align: right;\n    }\n</style>\n<table border=\"1\" class=\"dataframe\">\n  <thead>\n    <tr style=\"text-align: right;\">\n      <th></th>\n      <th>genre</th>\n      <th>popularity</th>\n      <th>duplicated_x</th>\n      <th>acousticness</th>\n      <th>danceability</th>\n      <th>duration_ms</th>\n      <th>energy</th>\n      <th>instrumentalness</th>\n      <th>key</th>\n      <th>liveness</th>\n      <th>loudness</th>\n      <th>mode</th>\n      <th>speechiness</th>\n      <th>tempo</th>\n      <th>time_signature</th>\n      <th>valence</th>\n      <th>duplicated_y</th>\n    </tr>\n  </thead>\n  <tbody>\n    <tr>\n      <th>0</th>\n      <td>blues</td>\n      <td>51.0</td>\n      <td>0.0</td>\n      <td>0.1050</td>\n      <td>0.4350</td>\n      <td>217560.0</td>\n      <td>0.92900</td>\n      <td>0.000002</td>\n      <td>9.0</td>\n      <td>0.01500</td>\n      <td>-7.700</td>\n      <td>1.0</td>\n      <td>0.2350</td>\n      <td>175.4480</td>\n      <td>4.0</td>\n      <td>0.6500</td>\n      <td>0.0</td>\n    </tr>\n    <tr>\n      <th>1</th>\n      <td>classical</td>\n      <td>18.0</td>\n      <td>0.0</td>\n      <td>0.9915</td>\n      <td>0.2505</td>\n      <td>387431.0</td>\n      <td>0.08245</td>\n      <td>0.900000</td>\n      <td>5.5</td>\n      <td>0.09325</td>\n      <td>-24.403</td>\n      <td>0.5</td>\n      <td>0.0425</td>\n      <td>131.7815</td>\n      <td>4.0</td>\n      <td>0.1975</td>\n      <td>0.0</td>\n    </tr>\n    <tr>\n      <th>2</th>\n      <td>jazz</td>\n      <td>60.0</td>\n      <td>0.0</td>\n      <td>0.4760</td>\n      <td>0.4850</td>\n      <td>158014.0</td>\n      <td>0.43300</td>\n      <td>0.000000</td>\n      <td>7.0</td>\n      <td>0.08610</td>\n      <td>-10.503</td>\n      <td>1.0</td>\n      <td>0.0342</td>\n      <td>120.4710</td>\n      <td>4.0</td>\n      <td>0.8250</td>\n      <td>0.0</td>\n    </tr>\n  </tbody>\n</table>\n</div>"
     },
     "execution_count": 48,
     "metadata": {},
     "output_type": "execute_result"
    }
   ],
   "source": [
    "print('Average values by genre')\n",
    "genre_averages_df = df.groupby(by=['genre']).mean().sort_values(by='genre')\n",
    "genre_averages_df.reset_index(drop=False, inplace=True)\n",
    "genre_averages_df"
   ]
  },
  {
   "cell_type": "code",
   "execution_count": 49,
   "metadata": {},
   "outputs": [],
   "source": [
    "# export data\n",
    "file_path = Path('genre-classification/data/tracks_1000+_with_duplicates.csv')\n",
    "file_path.parent.mkdir(parents=True, exist_ok=True)\n",
    "df.to_csv(file_path)"
   ]
  }
 ],
 "metadata": {
  "kernelspec": {
   "display_name": "Python 3 (ipykernel)",
   "language": "python",
   "name": "python3"
  },
  "language_info": {
   "codemirror_mode": {
    "name": "ipython",
    "version": 3
   },
   "file_extension": ".py",
   "mimetype": "text/x-python",
   "name": "python",
   "nbconvert_exporter": "python",
   "pygments_lexer": "ipython3",
   "version": "3.9.13"
  }
 },
 "nbformat": 4,
 "nbformat_minor": 1
}
