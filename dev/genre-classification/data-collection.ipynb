{
 "cells": [
  {
   "cell_type": "markdown",
   "source": [
    "# Data Collection\n",
    "- This notebook is responsible for collecting the dataset of tracks including audio features to be used in model training and test.\n",
    "- Make sure you already have created a Spotify app, have your ***client_id*** and ***client_secret*** ready. They are necessary for getting an access token.\n",
    "- Create two environment variables with exact same name on your machine and the notebook will automatically include them in the context.\n",
    "- Access token is included in requests header and is valid for an hour."
   ],
   "metadata": {
    "collapsed": false
   }
  },
  {
   "cell_type": "code",
   "execution_count": 1,
   "outputs": [],
   "source": [
    "# import libraries\n",
    "import os\n",
    "import json\n",
    "import requests\n",
    "import pandas as pd\n",
    "from pathlib import Path"
   ],
   "metadata": {
    "collapsed": false
   }
  },
  {
   "cell_type": "markdown",
   "source": [
    "## Get Access Token"
   ],
   "metadata": {
    "collapsed": false
   }
  },
  {
   "cell_type": "code",
   "execution_count": 37,
   "outputs": [],
   "source": [
    "def get_access_token(client_id: str, client_secret: str, grant_type: str = 'client_credentials'):\n",
    "    url = 'https://accounts.spotify.com/api/token?grant_type={}&client_id={}&client_secret={}'.format(grant_type, client_id, client_secret)\n",
    "    response = requests.post(url, headers={'Content-Type':'application/x-www-form-urlencoded'})\n",
    "    access_token = 'Bearer ' + json.loads(response.text)['access_token']\n",
    "\n",
    "    return access_token"
   ],
   "metadata": {
    "collapsed": false
   }
  },
  {
   "cell_type": "code",
   "execution_count": 38,
   "outputs": [],
   "source": [
    "# get access token\n",
    "grant_type = 'client_credentials'\n",
    "client_id = os.getenv('SPOTIFY_CLIENT_ID')\n",
    "client_secret = os.getenv('SPOTIFY_CLIENT_SECRET')\n",
    "\n",
    "access_token = get_access_token(client_id, client_secret, grant_type)"
   ],
   "metadata": {
    "collapsed": false
   }
  },
  {
   "cell_type": "code",
   "execution_count": 28,
   "outputs": [],
   "source": [
    "def get_data(url: str, access_token: str, verbose: bool = False):\n",
    "    response = requests.get(url, headers={'Authorization': access_token})\n",
    "    result = json.loads(response.text)\n",
    "\n",
    "    if verbose:\n",
    "        print('Response body:\\n', result)\n",
    "\n",
    "    return result"
   ],
   "metadata": {
    "collapsed": false
   }
  },
  {
   "cell_type": "markdown",
   "source": [
    "## Get Tracks\n",
    "|track_id|track_name|artist_name|popularity|genre|\n",
    "|---|---|---|---|---|"
   ],
   "metadata": {
    "collapsed": false
   }
  },
  {
   "cell_type": "code",
   "execution_count": 21,
   "outputs": [],
   "source": [
    "def get_tracks(genres_list: list, steps: int, limit: int, offset: int,access_token: str):\n",
    "    tracks_df = pd.DataFrame()\n",
    "\n",
    "    for genre in genres_list:\n",
    "\n",
    "        for step in range(steps):\n",
    "            url = 'https://api.spotify.com/v1/search?q=genre:{}&type=track&limit={}&offset={}'.format(genre, limit, offset)\n",
    "            search_item = get_data(url, access_token)\n",
    "\n",
    "            for n in range(limit):\n",
    "                track_id = search_item['tracks']['items'][n]['id']\n",
    "                track_name = search_item['tracks']['items'][n]['name']\n",
    "                artist_name = search_item['tracks']['items'][n]['artists'][0]['name']\n",
    "                popularity = search_item['tracks']['items'][n]['popularity']\n",
    "\n",
    "                tracks_df = tracks_df.append({\n",
    "                    'track_id': track_id,\n",
    "                    'track_name': track_name,\n",
    "                    'artist_name': artist_name,\n",
    "                    'popularity': popularity,\n",
    "                    'genre': genre\n",
    "                }, ignore_index=True)\n",
    "\n",
    "            offset += limit\n",
    "\n",
    "    return tracks_df"
   ],
   "metadata": {
    "collapsed": false
   }
  },
  {
   "cell_type": "code",
   "execution_count": 29,
   "outputs": [],
   "source": [
    "steps = 2\n",
    "limit = 10 # max 50 allowed\n",
    "offset = 0 # takes the n-1th value of limit\n",
    "genres_list = ['rap', 'rock', 'metal', 'blues', 'jazz', 'classical', 'funk', 'techno', 'electronic', 'r&b']"
   ],
   "metadata": {
    "collapsed": false
   }
  },
  {
   "cell_type": "code",
   "execution_count": 30,
   "outputs": [
    {
     "data": {
      "text/plain": "                   track_id                              track_name  \\\n0    4FyesJzVpA39hbYvcseO2d                         Just Wanna Rock   \n1    7aRCf5cLOFN1U7kvtChY1G                         Search & Rescue   \n2    7KA4W4McWYRpgf0fWsJZWB        See You Again (feat. Kali Uchis)   \n3    1Qrg8KqiBpW07V7PNxwwwL                               Kill Bill   \n4    2dHHgzDwk4BJdRwy9uXhTO  Creepin' (with The Weeknd & 21 Savage)   \n..                      ...                                     ...   \n195  2iUmqdfGZcHIhS3b9E9EWq                         Everybody Talks   \n196  6DCZcSspjsKoFjzjrWoCdn                              God's Plan   \n197  2K7xn816oNHJZ0aVqdQsha                                Softcore   \n198  4yugZvBYaoREkJKtbG08Qr            Take It Easy - 2013 Remaster   \n199  5SkRLpaGtvYPhw02vZhQQ9                          All Falls Down   \n\n            artist_name  popularity genre  \n0          Lil Uzi Vert        90.0   rap  \n1                 Drake        91.0   rap  \n2    Tyler, The Creator        92.0   rap  \n3                   SZA        94.0   rap  \n4          Metro Boomin        96.0   rap  \n..                  ...         ...   ...  \n195          Neon Trees        80.0   r&b  \n196               Drake        86.0   r&b  \n197   The Neighbourhood        86.0   r&b  \n198              Eagles        79.0   r&b  \n199          Kanye West        80.0   r&b  \n\n[200 rows x 5 columns]",
      "text/html": "<div>\n<style scoped>\n    .dataframe tbody tr th:only-of-type {\n        vertical-align: middle;\n    }\n\n    .dataframe tbody tr th {\n        vertical-align: top;\n    }\n\n    .dataframe thead th {\n        text-align: right;\n    }\n</style>\n<table border=\"1\" class=\"dataframe\">\n  <thead>\n    <tr style=\"text-align: right;\">\n      <th></th>\n      <th>track_id</th>\n      <th>track_name</th>\n      <th>artist_name</th>\n      <th>popularity</th>\n      <th>genre</th>\n    </tr>\n  </thead>\n  <tbody>\n    <tr>\n      <th>0</th>\n      <td>4FyesJzVpA39hbYvcseO2d</td>\n      <td>Just Wanna Rock</td>\n      <td>Lil Uzi Vert</td>\n      <td>90.0</td>\n      <td>rap</td>\n    </tr>\n    <tr>\n      <th>1</th>\n      <td>7aRCf5cLOFN1U7kvtChY1G</td>\n      <td>Search &amp; Rescue</td>\n      <td>Drake</td>\n      <td>91.0</td>\n      <td>rap</td>\n    </tr>\n    <tr>\n      <th>2</th>\n      <td>7KA4W4McWYRpgf0fWsJZWB</td>\n      <td>See You Again (feat. Kali Uchis)</td>\n      <td>Tyler, The Creator</td>\n      <td>92.0</td>\n      <td>rap</td>\n    </tr>\n    <tr>\n      <th>3</th>\n      <td>1Qrg8KqiBpW07V7PNxwwwL</td>\n      <td>Kill Bill</td>\n      <td>SZA</td>\n      <td>94.0</td>\n      <td>rap</td>\n    </tr>\n    <tr>\n      <th>4</th>\n      <td>2dHHgzDwk4BJdRwy9uXhTO</td>\n      <td>Creepin' (with The Weeknd &amp; 21 Savage)</td>\n      <td>Metro Boomin</td>\n      <td>96.0</td>\n      <td>rap</td>\n    </tr>\n    <tr>\n      <th>...</th>\n      <td>...</td>\n      <td>...</td>\n      <td>...</td>\n      <td>...</td>\n      <td>...</td>\n    </tr>\n    <tr>\n      <th>195</th>\n      <td>2iUmqdfGZcHIhS3b9E9EWq</td>\n      <td>Everybody Talks</td>\n      <td>Neon Trees</td>\n      <td>80.0</td>\n      <td>r&amp;b</td>\n    </tr>\n    <tr>\n      <th>196</th>\n      <td>6DCZcSspjsKoFjzjrWoCdn</td>\n      <td>God's Plan</td>\n      <td>Drake</td>\n      <td>86.0</td>\n      <td>r&amp;b</td>\n    </tr>\n    <tr>\n      <th>197</th>\n      <td>2K7xn816oNHJZ0aVqdQsha</td>\n      <td>Softcore</td>\n      <td>The Neighbourhood</td>\n      <td>86.0</td>\n      <td>r&amp;b</td>\n    </tr>\n    <tr>\n      <th>198</th>\n      <td>4yugZvBYaoREkJKtbG08Qr</td>\n      <td>Take It Easy - 2013 Remaster</td>\n      <td>Eagles</td>\n      <td>79.0</td>\n      <td>r&amp;b</td>\n    </tr>\n    <tr>\n      <th>199</th>\n      <td>5SkRLpaGtvYPhw02vZhQQ9</td>\n      <td>All Falls Down</td>\n      <td>Kanye West</td>\n      <td>80.0</td>\n      <td>r&amp;b</td>\n    </tr>\n  </tbody>\n</table>\n<p>200 rows × 5 columns</p>\n</div>"
     },
     "execution_count": 30,
     "metadata": {},
     "output_type": "execute_result"
    }
   ],
   "source": [
    "tracks_df = get_tracks(genres_list, steps=steps, limit=limit, offset=offset, access_token=access_token)\n",
    "tracks_df"
   ],
   "metadata": {
    "collapsed": false
   }
  },
  {
   "cell_type": "markdown",
   "source": [
    "## Get Track Features"
   ],
   "metadata": {
    "collapsed": false
   }
  },
  {
   "cell_type": "code",
   "execution_count": 34,
   "outputs": [],
   "source": [
    "def get_track_features(tracks_df: pd.DataFrame, access_token: str):\n",
    "    track_features_df = pd.DataFrame()\n",
    "\n",
    "    for index, row in tracks_df.iterrows():\n",
    "        track_id = tracks_df.iloc[index]['track_id']\n",
    "        url = 'https://api.spotify.com/v1/audio-features/' + track_id\n",
    "        track_features = get_data(url, access_token)\n",
    "        track_features_df = track_features_df.append(track_features, ignore_index=True)\n",
    "\n",
    "    # drop negligible features\n",
    "    track_features_df.drop(columns=['type', 'uri', 'track_href', 'analysis_url'], inplace=True)\n",
    "    track_features_df.rename(columns={'id':'track_id'}, inplace=True)\n",
    "\n",
    "    return track_features_df"
   ],
   "metadata": {
    "collapsed": false
   }
  },
  {
   "cell_type": "code",
   "execution_count": 35,
   "outputs": [
    {
     "data": {
      "text/plain": "     danceability  energy   key  loudness  mode  speechiness  acousticness  \\\n0           0.486   0.545  11.0    -7.924   1.0       0.0336       0.06520   \n1           0.817   0.440  10.0    -8.482   0.0       0.0734       0.06030   \n2           0.558   0.559   6.0    -9.222   1.0       0.0959       0.37100   \n3           0.644   0.735   8.0    -5.747   1.0       0.0391       0.05210   \n4           0.715   0.620   1.0    -6.005   0.0       0.0484       0.41700   \n..            ...     ...   ...       ...   ...          ...           ...   \n195         0.471   0.924   8.0    -3.906   1.0       0.0586       0.00301   \n196         0.754   0.449   7.0    -9.211   1.0       0.1090       0.03320   \n197         0.575   0.568   9.0    -5.509   0.0       0.0300       0.04840   \n198         0.575   0.670   7.0   -10.390   1.0       0.0318       0.34300   \n199         0.657   0.734   8.0    -4.832   0.0       0.4840       0.14900   \n\n     instrumentalness  liveness  valence    tempo                track_id  \\\n0            0.004740    0.0642   0.0385  150.187  4FyesJzVpA39hbYvcseO2d   \n1            0.000001    0.3300   0.5440  142.024  7aRCf5cLOFN1U7kvtChY1G   \n2            0.000007    0.1090   0.6200   78.558  7KA4W4McWYRpgf0fWsJZWB   \n3            0.144000    0.1610   0.4180   88.980  1Qrg8KqiBpW07V7PNxwwwL   \n4            0.000000    0.0822   0.1720   97.950  2dHHgzDwk4BJdRwy9uXhTO   \n..                ...       ...      ...      ...                     ...   \n195          0.000000    0.3130   0.7250  154.961  2iUmqdfGZcHIhS3b9E9EWq   \n196          0.000083    0.5520   0.3570   77.169  6DCZcSspjsKoFjzjrWoCdn   \n197          0.000417    0.2860   0.3700   93.986  2K7xn816oNHJZ0aVqdQsha   \n198          0.000005    0.1290   0.7400  139.191  4yugZvBYaoREkJKtbG08Qr   \n199          0.000000    0.1390   0.4340   91.030  5SkRLpaGtvYPhw02vZhQQ9   \n\n     duration_ms  time_signature  \n0       123891.0             4.0  \n1       272113.0             4.0  \n2       180387.0             4.0  \n3       153947.0             4.0  \n4       221520.0             4.0  \n..           ...             ...  \n195     177280.0             4.0  \n196     198973.0             4.0  \n197     206280.0             4.0  \n198     211578.0             4.0  \n199     223507.0             4.0  \n\n[200 rows x 14 columns]",
      "text/html": "<div>\n<style scoped>\n    .dataframe tbody tr th:only-of-type {\n        vertical-align: middle;\n    }\n\n    .dataframe tbody tr th {\n        vertical-align: top;\n    }\n\n    .dataframe thead th {\n        text-align: right;\n    }\n</style>\n<table border=\"1\" class=\"dataframe\">\n  <thead>\n    <tr style=\"text-align: right;\">\n      <th></th>\n      <th>danceability</th>\n      <th>energy</th>\n      <th>key</th>\n      <th>loudness</th>\n      <th>mode</th>\n      <th>speechiness</th>\n      <th>acousticness</th>\n      <th>instrumentalness</th>\n      <th>liveness</th>\n      <th>valence</th>\n      <th>tempo</th>\n      <th>track_id</th>\n      <th>duration_ms</th>\n      <th>time_signature</th>\n    </tr>\n  </thead>\n  <tbody>\n    <tr>\n      <th>0</th>\n      <td>0.486</td>\n      <td>0.545</td>\n      <td>11.0</td>\n      <td>-7.924</td>\n      <td>1.0</td>\n      <td>0.0336</td>\n      <td>0.06520</td>\n      <td>0.004740</td>\n      <td>0.0642</td>\n      <td>0.0385</td>\n      <td>150.187</td>\n      <td>4FyesJzVpA39hbYvcseO2d</td>\n      <td>123891.0</td>\n      <td>4.0</td>\n    </tr>\n    <tr>\n      <th>1</th>\n      <td>0.817</td>\n      <td>0.440</td>\n      <td>10.0</td>\n      <td>-8.482</td>\n      <td>0.0</td>\n      <td>0.0734</td>\n      <td>0.06030</td>\n      <td>0.000001</td>\n      <td>0.3300</td>\n      <td>0.5440</td>\n      <td>142.024</td>\n      <td>7aRCf5cLOFN1U7kvtChY1G</td>\n      <td>272113.0</td>\n      <td>4.0</td>\n    </tr>\n    <tr>\n      <th>2</th>\n      <td>0.558</td>\n      <td>0.559</td>\n      <td>6.0</td>\n      <td>-9.222</td>\n      <td>1.0</td>\n      <td>0.0959</td>\n      <td>0.37100</td>\n      <td>0.000007</td>\n      <td>0.1090</td>\n      <td>0.6200</td>\n      <td>78.558</td>\n      <td>7KA4W4McWYRpgf0fWsJZWB</td>\n      <td>180387.0</td>\n      <td>4.0</td>\n    </tr>\n    <tr>\n      <th>3</th>\n      <td>0.644</td>\n      <td>0.735</td>\n      <td>8.0</td>\n      <td>-5.747</td>\n      <td>1.0</td>\n      <td>0.0391</td>\n      <td>0.05210</td>\n      <td>0.144000</td>\n      <td>0.1610</td>\n      <td>0.4180</td>\n      <td>88.980</td>\n      <td>1Qrg8KqiBpW07V7PNxwwwL</td>\n      <td>153947.0</td>\n      <td>4.0</td>\n    </tr>\n    <tr>\n      <th>4</th>\n      <td>0.715</td>\n      <td>0.620</td>\n      <td>1.0</td>\n      <td>-6.005</td>\n      <td>0.0</td>\n      <td>0.0484</td>\n      <td>0.41700</td>\n      <td>0.000000</td>\n      <td>0.0822</td>\n      <td>0.1720</td>\n      <td>97.950</td>\n      <td>2dHHgzDwk4BJdRwy9uXhTO</td>\n      <td>221520.0</td>\n      <td>4.0</td>\n    </tr>\n    <tr>\n      <th>...</th>\n      <td>...</td>\n      <td>...</td>\n      <td>...</td>\n      <td>...</td>\n      <td>...</td>\n      <td>...</td>\n      <td>...</td>\n      <td>...</td>\n      <td>...</td>\n      <td>...</td>\n      <td>...</td>\n      <td>...</td>\n      <td>...</td>\n      <td>...</td>\n    </tr>\n    <tr>\n      <th>195</th>\n      <td>0.471</td>\n      <td>0.924</td>\n      <td>8.0</td>\n      <td>-3.906</td>\n      <td>1.0</td>\n      <td>0.0586</td>\n      <td>0.00301</td>\n      <td>0.000000</td>\n      <td>0.3130</td>\n      <td>0.7250</td>\n      <td>154.961</td>\n      <td>2iUmqdfGZcHIhS3b9E9EWq</td>\n      <td>177280.0</td>\n      <td>4.0</td>\n    </tr>\n    <tr>\n      <th>196</th>\n      <td>0.754</td>\n      <td>0.449</td>\n      <td>7.0</td>\n      <td>-9.211</td>\n      <td>1.0</td>\n      <td>0.1090</td>\n      <td>0.03320</td>\n      <td>0.000083</td>\n      <td>0.5520</td>\n      <td>0.3570</td>\n      <td>77.169</td>\n      <td>6DCZcSspjsKoFjzjrWoCdn</td>\n      <td>198973.0</td>\n      <td>4.0</td>\n    </tr>\n    <tr>\n      <th>197</th>\n      <td>0.575</td>\n      <td>0.568</td>\n      <td>9.0</td>\n      <td>-5.509</td>\n      <td>0.0</td>\n      <td>0.0300</td>\n      <td>0.04840</td>\n      <td>0.000417</td>\n      <td>0.2860</td>\n      <td>0.3700</td>\n      <td>93.986</td>\n      <td>2K7xn816oNHJZ0aVqdQsha</td>\n      <td>206280.0</td>\n      <td>4.0</td>\n    </tr>\n    <tr>\n      <th>198</th>\n      <td>0.575</td>\n      <td>0.670</td>\n      <td>7.0</td>\n      <td>-10.390</td>\n      <td>1.0</td>\n      <td>0.0318</td>\n      <td>0.34300</td>\n      <td>0.000005</td>\n      <td>0.1290</td>\n      <td>0.7400</td>\n      <td>139.191</td>\n      <td>4yugZvBYaoREkJKtbG08Qr</td>\n      <td>211578.0</td>\n      <td>4.0</td>\n    </tr>\n    <tr>\n      <th>199</th>\n      <td>0.657</td>\n      <td>0.734</td>\n      <td>8.0</td>\n      <td>-4.832</td>\n      <td>0.0</td>\n      <td>0.4840</td>\n      <td>0.14900</td>\n      <td>0.000000</td>\n      <td>0.1390</td>\n      <td>0.4340</td>\n      <td>91.030</td>\n      <td>5SkRLpaGtvYPhw02vZhQQ9</td>\n      <td>223507.0</td>\n      <td>4.0</td>\n    </tr>\n  </tbody>\n</table>\n<p>200 rows × 14 columns</p>\n</div>"
     },
     "execution_count": 35,
     "metadata": {},
     "output_type": "execute_result"
    }
   ],
   "source": [
    "track_features_df = get_track_features(tracks_df, access_token)\n",
    "track_features_df"
   ],
   "metadata": {
    "collapsed": false
   }
  },
  {
   "cell_type": "code",
   "execution_count": 36,
   "outputs": [
    {
     "data": {
      "text/plain": "                   track_id                              track_name  \\\n0    4FyesJzVpA39hbYvcseO2d                         Just Wanna Rock   \n1    7aRCf5cLOFN1U7kvtChY1G                         Search & Rescue   \n2    7KA4W4McWYRpgf0fWsJZWB        See You Again (feat. Kali Uchis)   \n3    1Qrg8KqiBpW07V7PNxwwwL                               Kill Bill   \n4    2dHHgzDwk4BJdRwy9uXhTO  Creepin' (with The Weeknd & 21 Savage)   \n..                      ...                                     ...   \n209  37F7E7BKEw2E4O2L7u0IEp                                   Limbo   \n210  1PS1QMdUqOal0ai3Gt7sDQ                             Gold Digger   \n211  1e1JKLEDKP7hEQzJfNAgPl                                Magnolia   \n212  6DCZcSspjsKoFjzjrWoCdn                              God's Plan   \n213  5SkRLpaGtvYPhw02vZhQQ9                          All Falls Down   \n\n            artist_name  popularity genre  danceability  energy   key  \\\n0          Lil Uzi Vert        90.0   rap         0.486   0.545  11.0   \n1                 Drake        91.0   rap         0.817   0.440  10.0   \n2    Tyler, The Creator        92.0   rap         0.558   0.559   6.0   \n3                   SZA        94.0   rap         0.644   0.735   8.0   \n4          Metro Boomin        96.0   rap         0.715   0.620   1.0   \n..                  ...         ...   ...           ...     ...   ...   \n209       Freddie Dredd        84.0   r&b         0.802   0.623  11.0   \n210          Kanye West        81.0   r&b         0.629   0.696   1.0   \n211       Playboi Carti        80.0   r&b         0.791   0.582  11.0   \n212               Drake        86.0   r&b         0.754   0.449   7.0   \n213          Kanye West        80.0   r&b         0.657   0.734   8.0   \n\n     loudness  mode  speechiness  acousticness  instrumentalness  liveness  \\\n0      -7.924   1.0       0.0336        0.0652          0.004740    0.0642   \n1      -8.482   0.0       0.0734        0.0603          0.000001    0.3300   \n2      -9.222   1.0       0.0959        0.3710          0.000007    0.1090   \n3      -5.747   1.0       0.0391        0.0521          0.144000    0.1610   \n4      -6.005   0.0       0.0484        0.4170          0.000000    0.0822   \n..        ...   ...          ...           ...               ...       ...   \n209    -5.862   0.0       0.4590        0.0292          0.055000    0.1130   \n210    -5.572   0.0       0.3480        0.0195          0.000000    0.0554   \n211    -7.323   0.0       0.2860        0.0114          0.000000    0.3500   \n212    -9.211   1.0       0.1090        0.0332          0.000083    0.5520   \n213    -4.832   0.0       0.4840        0.1490          0.000000    0.1390   \n\n     valence    tempo  duration_ms  time_signature  \n0     0.0385  150.187     123891.0             4.0  \n1     0.5440  142.024     272113.0             4.0  \n2     0.6200   78.558     180387.0             4.0  \n3     0.4180   88.980     153947.0             4.0  \n4     0.1720   97.950     221520.0             4.0  \n..       ...      ...          ...             ...  \n209   0.4570   74.987     169947.0             4.0  \n210   0.6230   93.034     207627.0             4.0  \n211   0.4430  162.991     181812.0             4.0  \n212   0.3570   77.169     198973.0             4.0  \n213   0.4340   91.030     223507.0             4.0  \n\n[214 rows x 18 columns]",
      "text/html": "<div>\n<style scoped>\n    .dataframe tbody tr th:only-of-type {\n        vertical-align: middle;\n    }\n\n    .dataframe tbody tr th {\n        vertical-align: top;\n    }\n\n    .dataframe thead th {\n        text-align: right;\n    }\n</style>\n<table border=\"1\" class=\"dataframe\">\n  <thead>\n    <tr style=\"text-align: right;\">\n      <th></th>\n      <th>track_id</th>\n      <th>track_name</th>\n      <th>artist_name</th>\n      <th>popularity</th>\n      <th>genre</th>\n      <th>danceability</th>\n      <th>energy</th>\n      <th>key</th>\n      <th>loudness</th>\n      <th>mode</th>\n      <th>speechiness</th>\n      <th>acousticness</th>\n      <th>instrumentalness</th>\n      <th>liveness</th>\n      <th>valence</th>\n      <th>tempo</th>\n      <th>duration_ms</th>\n      <th>time_signature</th>\n    </tr>\n  </thead>\n  <tbody>\n    <tr>\n      <th>0</th>\n      <td>4FyesJzVpA39hbYvcseO2d</td>\n      <td>Just Wanna Rock</td>\n      <td>Lil Uzi Vert</td>\n      <td>90.0</td>\n      <td>rap</td>\n      <td>0.486</td>\n      <td>0.545</td>\n      <td>11.0</td>\n      <td>-7.924</td>\n      <td>1.0</td>\n      <td>0.0336</td>\n      <td>0.0652</td>\n      <td>0.004740</td>\n      <td>0.0642</td>\n      <td>0.0385</td>\n      <td>150.187</td>\n      <td>123891.0</td>\n      <td>4.0</td>\n    </tr>\n    <tr>\n      <th>1</th>\n      <td>7aRCf5cLOFN1U7kvtChY1G</td>\n      <td>Search &amp; Rescue</td>\n      <td>Drake</td>\n      <td>91.0</td>\n      <td>rap</td>\n      <td>0.817</td>\n      <td>0.440</td>\n      <td>10.0</td>\n      <td>-8.482</td>\n      <td>0.0</td>\n      <td>0.0734</td>\n      <td>0.0603</td>\n      <td>0.000001</td>\n      <td>0.3300</td>\n      <td>0.5440</td>\n      <td>142.024</td>\n      <td>272113.0</td>\n      <td>4.0</td>\n    </tr>\n    <tr>\n      <th>2</th>\n      <td>7KA4W4McWYRpgf0fWsJZWB</td>\n      <td>See You Again (feat. Kali Uchis)</td>\n      <td>Tyler, The Creator</td>\n      <td>92.0</td>\n      <td>rap</td>\n      <td>0.558</td>\n      <td>0.559</td>\n      <td>6.0</td>\n      <td>-9.222</td>\n      <td>1.0</td>\n      <td>0.0959</td>\n      <td>0.3710</td>\n      <td>0.000007</td>\n      <td>0.1090</td>\n      <td>0.6200</td>\n      <td>78.558</td>\n      <td>180387.0</td>\n      <td>4.0</td>\n    </tr>\n    <tr>\n      <th>3</th>\n      <td>1Qrg8KqiBpW07V7PNxwwwL</td>\n      <td>Kill Bill</td>\n      <td>SZA</td>\n      <td>94.0</td>\n      <td>rap</td>\n      <td>0.644</td>\n      <td>0.735</td>\n      <td>8.0</td>\n      <td>-5.747</td>\n      <td>1.0</td>\n      <td>0.0391</td>\n      <td>0.0521</td>\n      <td>0.144000</td>\n      <td>0.1610</td>\n      <td>0.4180</td>\n      <td>88.980</td>\n      <td>153947.0</td>\n      <td>4.0</td>\n    </tr>\n    <tr>\n      <th>4</th>\n      <td>2dHHgzDwk4BJdRwy9uXhTO</td>\n      <td>Creepin' (with The Weeknd &amp; 21 Savage)</td>\n      <td>Metro Boomin</td>\n      <td>96.0</td>\n      <td>rap</td>\n      <td>0.715</td>\n      <td>0.620</td>\n      <td>1.0</td>\n      <td>-6.005</td>\n      <td>0.0</td>\n      <td>0.0484</td>\n      <td>0.4170</td>\n      <td>0.000000</td>\n      <td>0.0822</td>\n      <td>0.1720</td>\n      <td>97.950</td>\n      <td>221520.0</td>\n      <td>4.0</td>\n    </tr>\n    <tr>\n      <th>...</th>\n      <td>...</td>\n      <td>...</td>\n      <td>...</td>\n      <td>...</td>\n      <td>...</td>\n      <td>...</td>\n      <td>...</td>\n      <td>...</td>\n      <td>...</td>\n      <td>...</td>\n      <td>...</td>\n      <td>...</td>\n      <td>...</td>\n      <td>...</td>\n      <td>...</td>\n      <td>...</td>\n      <td>...</td>\n      <td>...</td>\n    </tr>\n    <tr>\n      <th>209</th>\n      <td>37F7E7BKEw2E4O2L7u0IEp</td>\n      <td>Limbo</td>\n      <td>Freddie Dredd</td>\n      <td>84.0</td>\n      <td>r&amp;b</td>\n      <td>0.802</td>\n      <td>0.623</td>\n      <td>11.0</td>\n      <td>-5.862</td>\n      <td>0.0</td>\n      <td>0.4590</td>\n      <td>0.0292</td>\n      <td>0.055000</td>\n      <td>0.1130</td>\n      <td>0.4570</td>\n      <td>74.987</td>\n      <td>169947.0</td>\n      <td>4.0</td>\n    </tr>\n    <tr>\n      <th>210</th>\n      <td>1PS1QMdUqOal0ai3Gt7sDQ</td>\n      <td>Gold Digger</td>\n      <td>Kanye West</td>\n      <td>81.0</td>\n      <td>r&amp;b</td>\n      <td>0.629</td>\n      <td>0.696</td>\n      <td>1.0</td>\n      <td>-5.572</td>\n      <td>0.0</td>\n      <td>0.3480</td>\n      <td>0.0195</td>\n      <td>0.000000</td>\n      <td>0.0554</td>\n      <td>0.6230</td>\n      <td>93.034</td>\n      <td>207627.0</td>\n      <td>4.0</td>\n    </tr>\n    <tr>\n      <th>211</th>\n      <td>1e1JKLEDKP7hEQzJfNAgPl</td>\n      <td>Magnolia</td>\n      <td>Playboi Carti</td>\n      <td>80.0</td>\n      <td>r&amp;b</td>\n      <td>0.791</td>\n      <td>0.582</td>\n      <td>11.0</td>\n      <td>-7.323</td>\n      <td>0.0</td>\n      <td>0.2860</td>\n      <td>0.0114</td>\n      <td>0.000000</td>\n      <td>0.3500</td>\n      <td>0.4430</td>\n      <td>162.991</td>\n      <td>181812.0</td>\n      <td>4.0</td>\n    </tr>\n    <tr>\n      <th>212</th>\n      <td>6DCZcSspjsKoFjzjrWoCdn</td>\n      <td>God's Plan</td>\n      <td>Drake</td>\n      <td>86.0</td>\n      <td>r&amp;b</td>\n      <td>0.754</td>\n      <td>0.449</td>\n      <td>7.0</td>\n      <td>-9.211</td>\n      <td>1.0</td>\n      <td>0.1090</td>\n      <td>0.0332</td>\n      <td>0.000083</td>\n      <td>0.5520</td>\n      <td>0.3570</td>\n      <td>77.169</td>\n      <td>198973.0</td>\n      <td>4.0</td>\n    </tr>\n    <tr>\n      <th>213</th>\n      <td>5SkRLpaGtvYPhw02vZhQQ9</td>\n      <td>All Falls Down</td>\n      <td>Kanye West</td>\n      <td>80.0</td>\n      <td>r&amp;b</td>\n      <td>0.657</td>\n      <td>0.734</td>\n      <td>8.0</td>\n      <td>-4.832</td>\n      <td>0.0</td>\n      <td>0.4840</td>\n      <td>0.1490</td>\n      <td>0.000000</td>\n      <td>0.1390</td>\n      <td>0.4340</td>\n      <td>91.030</td>\n      <td>223507.0</td>\n      <td>4.0</td>\n    </tr>\n  </tbody>\n</table>\n<p>214 rows × 18 columns</p>\n</div>"
     },
     "execution_count": 36,
     "metadata": {},
     "output_type": "execute_result"
    }
   ],
   "source": [
    "# merge tracks & features\n",
    "df = tracks_df.merge(track_features_df, on='track_id')\n",
    "df"
   ],
   "metadata": {
    "collapsed": false
   }
  },
  {
   "cell_type": "code",
   "execution_count": null,
   "outputs": [],
   "source": [
    "# export data\n",
    "file_path = Path('genre-classification/data/tracks.csv')\n",
    "file_path.parent.mkdir(parents=True, exist_ok=True)\n",
    "df.to_csv(file_path)"
   ],
   "metadata": {
    "collapsed": false
   }
  }
 ],
 "metadata": {
  "kernelspec": {
   "display_name": "Python 3",
   "language": "python",
   "name": "python3"
  },
  "language_info": {
   "codemirror_mode": {
    "name": "ipython",
    "version": 2
   },
   "file_extension": ".py",
   "mimetype": "text/x-python",
   "name": "python",
   "nbconvert_exporter": "python",
   "pygments_lexer": "ipython2",
   "version": "2.7.6"
  }
 },
 "nbformat": 4,
 "nbformat_minor": 0
}
