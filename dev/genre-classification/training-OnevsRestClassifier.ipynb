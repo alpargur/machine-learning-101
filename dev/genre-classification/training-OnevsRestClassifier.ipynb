{
 "cells": [
  {
   "cell_type": "markdown",
   "source": [
    "# One vs All Classifier\n",
    "- So far we have trained a model for genre and trained a multiclass predictor model. This notebook aims to create a constellation of (one vs. all) models.\n",
    "- This notebook uses OneVsRestClassifier offered by SciKit Learn."
   ],
   "metadata": {
    "collapsed": false
   }
  },
  {
   "cell_type": "code",
   "execution_count": 28,
   "outputs": [],
   "source": [
    "import pandas as pd\n",
    "import time\n",
    "import seaborn as sns\n",
    "%matplotlib inline\n",
    "sns.set_theme(style=\"whitegrid\")"
   ],
   "metadata": {
    "collapsed": false
   }
  },
  {
   "cell_type": "code",
   "execution_count": 10,
   "outputs": [],
   "source": [
    "# import data\n",
    "df = pd.read_csv('data/tracks_1000Unique+_with_duplicates.csv', index_col=False)\n",
    "df.drop_duplicates('track_id', keep='first', inplace=True)\n",
    "df.drop(columns={'Unnamed: 0'}, inplace=True)"
   ],
   "metadata": {
    "collapsed": false
   }
  },
  {
   "cell_type": "code",
   "execution_count": 11,
   "outputs": [],
   "source": [
    "del df[\"track_id\"]; del df[\"artist_name\"]; del df[\"track_name\"]; del df[\"duplicated_y\"]; del df[\"duplicated_x\"];"
   ],
   "metadata": {
    "collapsed": false
   }
  },
  {
   "cell_type": "code",
   "execution_count": 12,
   "outputs": [
    {
     "data": {
      "text/plain": "       genre  popularity  danceability  energy  key  loudness  mode  \\\n0      blues        77.0         0.274   0.348    5    -8.631     1   \n1      blues        77.0         0.756   0.401    7   -10.702     0   \n2      blues        74.0         0.581   0.687    6    -5.400     1   \n3      blues        75.0         0.635   0.184    8   -10.785     1   \n4      blues        75.0         0.477   0.433   11    -6.473     0   \n...      ...         ...           ...     ...  ...       ...   ...   \n9995  techno        29.0         0.732   0.875    4    -5.842     0   \n9996  techno        49.0         0.738   0.816    4    -6.304     0   \n9997  techno        35.0         0.610   0.875    5    -5.455     0   \n9998  techno        44.0         0.756   0.527    8   -11.861     1   \n9999  techno        36.0         0.524   0.946   11    -6.749     0   \n\n      speechiness  acousticness  instrumentalness  liveness  valence    tempo  \\\n0          0.0293      0.547000          0.013300    0.3340    0.328   87.430   \n1          0.0526      0.582000          0.011000    0.0541    0.514  101.954   \n2          0.1050      0.229000          0.000000    0.1090    0.187   76.014   \n3          0.0456      0.665000          0.000000    0.1460    0.177  128.424   \n4          0.0247      0.689000          0.000195    0.1510    0.611   82.520   \n...           ...           ...               ...       ...      ...      ...   \n9995       0.0326      0.126000          0.000234    0.2200    0.933  132.987   \n9996       0.0322      0.000877          0.785000    0.1340    0.884  129.998   \n9997       0.0333      0.028300          0.908000    0.1140    0.873  144.999   \n9998       0.0428      0.002010          0.509000    0.1120    0.248  119.996   \n9999       0.0450      0.007150          0.079700    0.3100    0.532  135.998   \n\n      duration_ms  time_signature  \n0          179693               3  \n1          199396               4  \n2          240600               4  \n3          240200               4  \n4          156653               3  \n...           ...             ...  \n9995       214960               4  \n9996       198793               4  \n9997       309023               4  \n9998       416500               4  \n9999       148322               4  \n\n[10000 rows x 15 columns]",
      "text/html": "<div>\n<style scoped>\n    .dataframe tbody tr th:only-of-type {\n        vertical-align: middle;\n    }\n\n    .dataframe tbody tr th {\n        vertical-align: top;\n    }\n\n    .dataframe thead th {\n        text-align: right;\n    }\n</style>\n<table border=\"1\" class=\"dataframe\">\n  <thead>\n    <tr style=\"text-align: right;\">\n      <th></th>\n      <th>genre</th>\n      <th>popularity</th>\n      <th>danceability</th>\n      <th>energy</th>\n      <th>key</th>\n      <th>loudness</th>\n      <th>mode</th>\n      <th>speechiness</th>\n      <th>acousticness</th>\n      <th>instrumentalness</th>\n      <th>liveness</th>\n      <th>valence</th>\n      <th>tempo</th>\n      <th>duration_ms</th>\n      <th>time_signature</th>\n    </tr>\n  </thead>\n  <tbody>\n    <tr>\n      <th>0</th>\n      <td>blues</td>\n      <td>77.0</td>\n      <td>0.274</td>\n      <td>0.348</td>\n      <td>5</td>\n      <td>-8.631</td>\n      <td>1</td>\n      <td>0.0293</td>\n      <td>0.547000</td>\n      <td>0.013300</td>\n      <td>0.3340</td>\n      <td>0.328</td>\n      <td>87.430</td>\n      <td>179693</td>\n      <td>3</td>\n    </tr>\n    <tr>\n      <th>1</th>\n      <td>blues</td>\n      <td>77.0</td>\n      <td>0.756</td>\n      <td>0.401</td>\n      <td>7</td>\n      <td>-10.702</td>\n      <td>0</td>\n      <td>0.0526</td>\n      <td>0.582000</td>\n      <td>0.011000</td>\n      <td>0.0541</td>\n      <td>0.514</td>\n      <td>101.954</td>\n      <td>199396</td>\n      <td>4</td>\n    </tr>\n    <tr>\n      <th>2</th>\n      <td>blues</td>\n      <td>74.0</td>\n      <td>0.581</td>\n      <td>0.687</td>\n      <td>6</td>\n      <td>-5.400</td>\n      <td>1</td>\n      <td>0.1050</td>\n      <td>0.229000</td>\n      <td>0.000000</td>\n      <td>0.1090</td>\n      <td>0.187</td>\n      <td>76.014</td>\n      <td>240600</td>\n      <td>4</td>\n    </tr>\n    <tr>\n      <th>3</th>\n      <td>blues</td>\n      <td>75.0</td>\n      <td>0.635</td>\n      <td>0.184</td>\n      <td>8</td>\n      <td>-10.785</td>\n      <td>1</td>\n      <td>0.0456</td>\n      <td>0.665000</td>\n      <td>0.000000</td>\n      <td>0.1460</td>\n      <td>0.177</td>\n      <td>128.424</td>\n      <td>240200</td>\n      <td>4</td>\n    </tr>\n    <tr>\n      <th>4</th>\n      <td>blues</td>\n      <td>75.0</td>\n      <td>0.477</td>\n      <td>0.433</td>\n      <td>11</td>\n      <td>-6.473</td>\n      <td>0</td>\n      <td>0.0247</td>\n      <td>0.689000</td>\n      <td>0.000195</td>\n      <td>0.1510</td>\n      <td>0.611</td>\n      <td>82.520</td>\n      <td>156653</td>\n      <td>3</td>\n    </tr>\n    <tr>\n      <th>...</th>\n      <td>...</td>\n      <td>...</td>\n      <td>...</td>\n      <td>...</td>\n      <td>...</td>\n      <td>...</td>\n      <td>...</td>\n      <td>...</td>\n      <td>...</td>\n      <td>...</td>\n      <td>...</td>\n      <td>...</td>\n      <td>...</td>\n      <td>...</td>\n      <td>...</td>\n    </tr>\n    <tr>\n      <th>9995</th>\n      <td>techno</td>\n      <td>29.0</td>\n      <td>0.732</td>\n      <td>0.875</td>\n      <td>4</td>\n      <td>-5.842</td>\n      <td>0</td>\n      <td>0.0326</td>\n      <td>0.126000</td>\n      <td>0.000234</td>\n      <td>0.2200</td>\n      <td>0.933</td>\n      <td>132.987</td>\n      <td>214960</td>\n      <td>4</td>\n    </tr>\n    <tr>\n      <th>9996</th>\n      <td>techno</td>\n      <td>49.0</td>\n      <td>0.738</td>\n      <td>0.816</td>\n      <td>4</td>\n      <td>-6.304</td>\n      <td>0</td>\n      <td>0.0322</td>\n      <td>0.000877</td>\n      <td>0.785000</td>\n      <td>0.1340</td>\n      <td>0.884</td>\n      <td>129.998</td>\n      <td>198793</td>\n      <td>4</td>\n    </tr>\n    <tr>\n      <th>9997</th>\n      <td>techno</td>\n      <td>35.0</td>\n      <td>0.610</td>\n      <td>0.875</td>\n      <td>5</td>\n      <td>-5.455</td>\n      <td>0</td>\n      <td>0.0333</td>\n      <td>0.028300</td>\n      <td>0.908000</td>\n      <td>0.1140</td>\n      <td>0.873</td>\n      <td>144.999</td>\n      <td>309023</td>\n      <td>4</td>\n    </tr>\n    <tr>\n      <th>9998</th>\n      <td>techno</td>\n      <td>44.0</td>\n      <td>0.756</td>\n      <td>0.527</td>\n      <td>8</td>\n      <td>-11.861</td>\n      <td>1</td>\n      <td>0.0428</td>\n      <td>0.002010</td>\n      <td>0.509000</td>\n      <td>0.1120</td>\n      <td>0.248</td>\n      <td>119.996</td>\n      <td>416500</td>\n      <td>4</td>\n    </tr>\n    <tr>\n      <th>9999</th>\n      <td>techno</td>\n      <td>36.0</td>\n      <td>0.524</td>\n      <td>0.946</td>\n      <td>11</td>\n      <td>-6.749</td>\n      <td>0</td>\n      <td>0.0450</td>\n      <td>0.007150</td>\n      <td>0.079700</td>\n      <td>0.3100</td>\n      <td>0.532</td>\n      <td>135.998</td>\n      <td>148322</td>\n      <td>4</td>\n    </tr>\n  </tbody>\n</table>\n<p>10000 rows × 15 columns</p>\n</div>"
     },
     "execution_count": 12,
     "metadata": {},
     "output_type": "execute_result"
    }
   ],
   "source": [
    "# Make it 1000 for each category\n",
    "result = df.groupby(\"genre\").apply(lambda x: x.head(1000)).reset_index(drop=True)\n",
    "result"
   ],
   "metadata": {
    "collapsed": false
   }
  },
  {
   "cell_type": "code",
   "execution_count": 13,
   "outputs": [],
   "source": [
    "from sklearn.model_selection import train_test_split\n",
    "\n",
    "y = pd.DataFrame(result[\"genre\"])\n",
    "X = result.drop(\"genre\", axis=1)\n",
    "X_train, X_test, y_train, y_test = train_test_split(X, y, test_size=0.2, random_state = 42, stratify=y)"
   ],
   "metadata": {
    "collapsed": false
   }
  },
  {
   "cell_type": "code",
   "execution_count": 14,
   "outputs": [],
   "source": [
    "from sklearn.compose import ColumnTransformer\n",
    "from sklearn.preprocessing import StandardScaler\n",
    "from sklearn.preprocessing import PowerTransformer\n",
    "from sklearn.preprocessing import RobustScaler\n",
    "from sklearn.pipeline import make_pipeline\n",
    "from sklearn.impute import SimpleImputer\n",
    "\n",
    "def scaler_pipeline():\n",
    "    return make_pipeline(SimpleImputer(strategy='constant', fill_value=0), RobustScaler())\n",
    "\n",
    "def scaler_pipeline_pwr():\n",
    "    return make_pipeline(SimpleImputer(strategy='constant', fill_value=0), RobustScaler(), PowerTransformer(method='yeo-johnson', standardize=True))\n",
    "\n",
    "ct = ColumnTransformer([\n",
    "        ('stdscaled', StandardScaler(), [\"popularity\",\"danceability\",\"energy\",\"key\",\"loudness\",\"mode\",\"speechiness\",\"acousticness\",\"instrumentalness\",\"liveness\",\"valence\",\"tempo\",\"duration_ms\",\"time_signature\"]),\n",
    "       ], remainder='passthrough')\n",
    "\n",
    "X_train_scaled = ct.fit_transform(X_train_org)\n",
    "X_test_scaled  = ct.transform(X_test_org)\n",
    "feature_names = ct.get_feature_names_out()\n",
    "X_train = X_train_scaled\n",
    "X_test  = X_test_scaled"
   ],
   "metadata": {
    "collapsed": false
   }
  },
  {
   "cell_type": "markdown",
   "source": [
    "### OneVsAll Classifier: RandomForestClassifier, SuperVectorClassifier\n",
    "Note: OneVsRest and OneVsAll are used interchangeably."
   ],
   "metadata": {
    "collapsed": false
   }
  },
  {
   "cell_type": "code",
   "execution_count": 24,
   "outputs": [],
   "source": [
    "from sklearn.ensemble import RandomForestClassifier\n",
    "from sklearn.svm import SVC\n",
    "from sklearn.linear_model import LogisticRegression\n",
    "from sklearn.neighbors import KNeighborsClassifier\n",
    "from sklearn.tree import DecisionTreeClassifier\n",
    "from sklearn.metrics import accuracy_score\n",
    "from sklearn.multiclass import OneVsRestClassifier"
   ],
   "metadata": {
    "collapsed": false
   }
  },
  {
   "cell_type": "code",
   "execution_count": 26,
   "outputs": [
    {
     "name": "stdout",
     "output_type": "stream",
     "text": [
      "LogisticRegression  - accuracy:\t 0.5\n",
      "KNeighborsClassifier  - accuracy:\t 0.47\n",
      "DecisionTreeClassifier  - accuracy:\t 0.44\n",
      "RandomForestClassifier  - accuracy:\t 0.62\n",
      "SVC  - accuracy:\t 0.56\n"
     ]
    }
   ],
   "source": [
    "classifiers = [\n",
    "    ('LogisticRegression', LogisticRegression(random_state=42)),\n",
    "    ('KNeighborsClassifier', KNeighborsClassifier()),\n",
    "    ('DecisionTreeClassifier', DecisionTreeClassifier(random_state=42)),\n",
    "    ('RandomForestClassifier', RandomForestClassifier(random_state=42)),\n",
    "    ('SVC', SVC(random_state=42))\n",
    "]\n",
    "\n",
    "for name, classifier in classifiers:\n",
    "    _ovr_classifier = OneVsRestClassifier(classifier)\n",
    "    _ovr_classifier.fit(X_train, y_train)\n",
    "    y_pred = _ovr_classifier.predict(X_test)\n",
    "    accuracy = accuracy_score(y_test, y_pred)\n",
    "    print(name, \" - accuracy:\\t\", round(accuracy, 2))"
   ],
   "metadata": {
    "collapsed": false
   }
  },
  {
   "cell_type": "markdown",
   "source": [
    "## Hyperparameter Optimization"
   ],
   "metadata": {
    "collapsed": false
   }
  },
  {
   "cell_type": "code",
   "execution_count": 31,
   "outputs": [],
   "source": [
    "from sklearn.model_selection import KFold\n",
    "from sklearn.model_selection import RandomizedSearchCV"
   ],
   "metadata": {
    "collapsed": false
   }
  },
  {
   "cell_type": "markdown",
   "source": [
    "### RanfomForestClassifier"
   ],
   "metadata": {
    "collapsed": false
   }
  },
  {
   "cell_type": "code",
   "execution_count": 32,
   "outputs": [],
   "source": [
    "rfc = RandomForestClassifier() # model to be optimized\n",
    "\n",
    "# parameters to be optimized\n",
    "params_grid = {\n",
    "    'n_estimators': [10, 50, 100, 500, 1000],\n",
    "    'max_features': range(1, X.shape[1]),\n",
    "    'max_depth': range(1,8)\n",
    "}\n",
    "\n",
    "# tuning parameters\n",
    "n_iter = 100\n",
    "cv = KFold(3, random_state=42, shuffle=True)\n",
    "n_jobs = -1\n",
    "scoring = 'accuracy'"
   ],
   "metadata": {
    "collapsed": false
   }
  },
  {
   "cell_type": "code",
   "execution_count": 33,
   "outputs": [
    {
     "name": "stdout",
     "output_type": "stream",
     "text": [
      "Randomized Search for RFC\n",
      "Fitting 3 folds for each of 100 candidates, totalling 300 fits\n"
     ]
    },
    {
     "name": "stderr",
     "output_type": "stream",
     "text": [
      "/opt/anaconda3/lib/python3.8/site-packages/sklearn/model_selection/_search.py:909: DataConversionWarning: A column-vector y was passed when a 1d array was expected. Please change the shape of y to (n_samples,), for example using ravel().\n",
      "  self.best_estimator_.fit(X, y, **fit_params)\n"
     ]
    },
    {
     "name": "stdout",
     "output_type": "stream",
     "text": [
      "Test set accuracy:\t 56.25%.\n",
      "##########################################\n",
      "Total process duration:\t 100  seconds\n"
     ]
    }
   ],
   "source": [
    "start = time.time()\n",
    "print('Randomized Search for RFC')\n",
    "random_search = RandomizedSearchCV(rfc, params_grid, n_iter=n_iter, cv=cv, n_jobs=n_jobs, scoring=scoring, random_state=42, verbose=3)\n",
    "random_search.fit(X_train, y_train)\n",
    "predictions = random_search.best_estimator_.predict(X_test)\n",
    "test_accuracy = round(accuracy_score(y_test, predictions), 4) * 100\n",
    "print(f'Test set accuracy:\\t {test_accuracy}%.')\n",
    "end = round(time.time() - start)\n",
    "print('##########################################')\n",
    "print('Total process duration:\\t', end, ' seconds')"
   ],
   "metadata": {
    "collapsed": false
   }
  },
  {
   "cell_type": "markdown",
   "source": [
    "### SuperVectorClassifier"
   ],
   "metadata": {
    "collapsed": false
   }
  },
  {
   "cell_type": "code",
   "execution_count": 36,
   "outputs": [],
   "source": [
    "svc = SVC() # model to be optimized\n",
    "# c, gamma are hyperparameters of SVM\n",
    "\n",
    "# parameters to be optimized\n",
    "params_grid = {\n",
    "    'C': np.arange(0.01, 1.5, 0.01),\n",
    "    'gamma': np.arange(1, 12, 1)\n",
    "}\n",
    "\n",
    "# tuning parameters\n",
    "n_iter = 100\n",
    "cv = KFold(3, random_state=42, shuffle=True)\n",
    "n_jobs = -1\n",
    "scoring = 'accuracy'"
   ],
   "metadata": {
    "collapsed": false
   }
  },
  {
   "cell_type": "code",
   "execution_count": 37,
   "outputs": [
    {
     "name": "stdout",
     "output_type": "stream",
     "text": [
      "Randomized Search for SVC\n",
      "Fitting 3 folds for each of 100 candidates, totalling 300 fits\n"
     ]
    },
    {
     "name": "stderr",
     "output_type": "stream",
     "text": [
      "/opt/anaconda3/lib/python3.8/site-packages/sklearn/utils/validation.py:1143: DataConversionWarning: A column-vector y was passed when a 1d array was expected. Please change the shape of y to (n_samples, ), for example using ravel().\n",
      "  y = column_or_1d(y, warn=True)\n"
     ]
    },
    {
     "name": "stdout",
     "output_type": "stream",
     "text": [
      "Test set accuracy:\t 49.45%.\n",
      "##########################################\n",
      "Total process duration:\t 202  seconds\n"
     ]
    }
   ],
   "source": [
    "start = time.time()\n",
    "print('Randomized Search for SVC')\n",
    "random_search = RandomizedSearchCV(svc, params_grid, n_iter=n_iter, cv=cv, n_jobs=n_jobs, scoring=scoring, random_state=42, verbose=3)\n",
    "random_search.fit(X_train, y_train)\n",
    "predictions = random_search.best_estimator_.predict(X_test)\n",
    "test_accuracy = round(accuracy_score(y_test, predictions), 4) * 100\n",
    "print(f'Test set accuracy:\\t {test_accuracy}%.')\n",
    "end = round(time.time() - start)\n",
    "print('##########################################')\n",
    "print('Total process duration:\\t', end, ' seconds')"
   ],
   "metadata": {
    "collapsed": false
   }
  },
  {
   "cell_type": "code",
   "execution_count": null,
   "outputs": [],
   "source": [],
   "metadata": {
    "collapsed": false
   }
  }
 ],
 "metadata": {
  "kernelspec": {
   "display_name": "Python 3",
   "language": "python",
   "name": "python3"
  },
  "language_info": {
   "codemirror_mode": {
    "name": "ipython",
    "version": 2
   },
   "file_extension": ".py",
   "mimetype": "text/x-python",
   "name": "python",
   "nbconvert_exporter": "python",
   "pygments_lexer": "ipython2",
   "version": "2.7.6"
  }
 },
 "nbformat": 4,
 "nbformat_minor": 0
}
