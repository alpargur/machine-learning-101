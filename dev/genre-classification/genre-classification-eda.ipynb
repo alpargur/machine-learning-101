{
 "cells": [
  {
   "cell_type": "markdown",
   "source": [
    "# Genre Classification EDA\n",
    "1. Get *n* number of tracks for each genre in genres list via Spotify API\n",
    "2. Get features of each track via Spotify API\n",
    "3. Explore data"
   ],
   "metadata": {
    "collapsed": false
   }
  },
  {
   "cell_type": "markdown",
   "source": [
    "## Get Access Token"
   ],
   "metadata": {
    "collapsed": false
   }
  },
  {
   "cell_type": "code",
   "execution_count": 1,
   "outputs": [],
   "source": [
    "import os\n",
    "import json\n",
    "import requests\n",
    "import pandas as pd"
   ],
   "metadata": {
    "collapsed": false
   }
  },
  {
   "cell_type": "code",
   "execution_count": 43,
   "outputs": [],
   "source": [
    "# get query parameters for access token\n",
    "# make sure you restart the kernel\n",
    "# if you just have created the environment variables\n",
    "grant_type = 'client_credentials'\n",
    "client_id = os.getenv('SPOTIFY_CLIENT_ID')\n",
    "client_secret = os.getenv('SPOTIFY_CLIENT_SECRET')"
   ],
   "metadata": {
    "collapsed": false
   }
  },
  {
   "cell_type": "code",
   "execution_count": 45,
   "outputs": [
    {
     "name": "stdout",
     "output_type": "stream",
     "text": [
      "Access Token: Bearer BQDI0K0V9AgXZNgDLL4FNUSGNIe4IHGIr6qE-cl3sZ6IulQbBjvbrR0GdzCkoC5E-t3fN5zUkMjmOcd-KO8X0_pv9EYdrNc_-t9KfXMnVIUh9fnvY15I\n"
     ]
    }
   ],
   "source": [
    "# get access token\n",
    "# it will be used as header in API calls\n",
    "access_token_url = 'https://accounts.spotify.com/api/token?grant_type={}&client_id={}&client_secret={}'.format(grant_type, client_id, client_secret)\n",
    "response = requests.post(access_token_url, headers={'Content-Type':'application/x-www-form-urlencoded'})\n",
    "access_token = 'Bearer ' + json.loads(response.text)['access_token']\n",
    "\n",
    "print('Access Token:', access_token)"
   ],
   "metadata": {
    "collapsed": false
   }
  },
  {
   "cell_type": "markdown",
   "source": [
    "## Get Tracks\n",
    "|track_id|track_name|artist_name|popularity|genre|\n",
    "|---|---|---|---|---|"
   ],
   "metadata": {
    "collapsed": false
   }
  },
  {
   "cell_type": "code",
   "execution_count": 4,
   "outputs": [],
   "source": [
    "# list of genres to be classified\n",
    "genres_list = ['rap', 'rock', 'metal', 'blues', 'jazz', 'classical', 'funk', 'techno', 'electronic', 'r&b']"
   ],
   "metadata": {
    "collapsed": false
   }
  },
  {
   "cell_type": "code",
   "execution_count": 5,
   "outputs": [],
   "source": [
    "steps = 2\n",
    "limit = 50 # max 50 allowed\n",
    "offset = 0 # takes the n-1th value of limit"
   ],
   "metadata": {
    "collapsed": false
   }
  },
  {
   "cell_type": "code",
   "execution_count": 6,
   "outputs": [],
   "source": [
    "# get tracks for each genre\n",
    "# TODO: get full list of artists if there are multiple artists present\n",
    "\n",
    "tracks_df = pd.DataFrame(columns=['track_id', 'track_name', 'artist_name', 'popularity', 'genre'])\n",
    "\n",
    "for genre in genres_list:\n",
    "\n",
    "    for step in range(steps):\n",
    "        search = requests.get('https://api.spotify.com/v1/search?q=genre:{}&type=track&limit={}&offset={}'.format(genre, limit, offset), headers={'Authorization':access_token})\n",
    "        search_result = json.loads(search.text)\n",
    "\n",
    "        for n in range(limit):\n",
    "            track_id = search_result['tracks']['items'][n]['id']\n",
    "            track_name = search_result['tracks']['items'][n]['name']\n",
    "            artist_name = search_result['tracks']['items'][n]['artists'][0]['name']\n",
    "            popularity = search_result['tracks']['items'][n]['popularity']\n",
    "\n",
    "            tracks_df = tracks_df.append({\n",
    "                'track_id': track_id,\n",
    "                'track_name': track_name,\n",
    "                'artist_name': artist_name,\n",
    "                'popularity': popularity,\n",
    "                'genre': genre\n",
    "            }, ignore_index=True)\n",
    "\n",
    "        offset += limit"
   ],
   "metadata": {
    "collapsed": false
   }
  },
  {
   "cell_type": "code",
   "execution_count": 7,
   "outputs": [
    {
     "data": {
      "text/plain": "1000"
     },
     "execution_count": 7,
     "metadata": {},
     "output_type": "execute_result"
    }
   ],
   "source": [
    "len(tracks_df)"
   ],
   "metadata": {
    "collapsed": false
   }
  },
  {
   "cell_type": "code",
   "execution_count": 8,
   "outputs": [
    {
     "data": {
      "text/plain": "                   track_id                              track_name  \\\n0    4FyesJzVpA39hbYvcseO2d                         Just Wanna Rock   \n1    7aRCf5cLOFN1U7kvtChY1G                         Search & Rescue   \n2    1Qrg8KqiBpW07V7PNxwwwL                               Kill Bill   \n3    2dHHgzDwk4BJdRwy9uXhTO  Creepin' (with The Weeknd & 21 Savage)   \n4    7KA4W4McWYRpgf0fWsJZWB        See You Again (feat. Kali Uchis)   \n..                      ...                                     ...   \n995  3Wrjm47oTz2sjIgck11l5e                                 Beggin'   \n996  4gMgiXfqyzZLMhsksGmbQV        Another Brick in the Wall, Pt. 2   \n997  1ThmUihH9dF8EV08ku5AXN                          Faucet Failure   \n998  0EgLxY52mpGsXETyEsgVlP                                    HOPE   \n999  1797zYiX4cKosMH836X9Gt                            La Corriente   \n\n                artist_name popularity genre  \n0              Lil Uzi Vert         90   rap  \n1                     Drake         91   rap  \n2                       SZA         94   rap  \n3              Metro Boomin         96   rap  \n4        Tyler, The Creator         92   rap  \n..                      ...        ...   ...  \n995                Måneskin         85   r&b  \n996              Pink Floyd         78   r&b  \n997  Ski Mask The Slump God         75   r&b  \n998                      NF         77   r&b  \n999               Bad Bunny         82   r&b  \n\n[1000 rows x 5 columns]",
      "text/html": "<div>\n<style scoped>\n    .dataframe tbody tr th:only-of-type {\n        vertical-align: middle;\n    }\n\n    .dataframe tbody tr th {\n        vertical-align: top;\n    }\n\n    .dataframe thead th {\n        text-align: right;\n    }\n</style>\n<table border=\"1\" class=\"dataframe\">\n  <thead>\n    <tr style=\"text-align: right;\">\n      <th></th>\n      <th>track_id</th>\n      <th>track_name</th>\n      <th>artist_name</th>\n      <th>popularity</th>\n      <th>genre</th>\n    </tr>\n  </thead>\n  <tbody>\n    <tr>\n      <th>0</th>\n      <td>4FyesJzVpA39hbYvcseO2d</td>\n      <td>Just Wanna Rock</td>\n      <td>Lil Uzi Vert</td>\n      <td>90</td>\n      <td>rap</td>\n    </tr>\n    <tr>\n      <th>1</th>\n      <td>7aRCf5cLOFN1U7kvtChY1G</td>\n      <td>Search &amp; Rescue</td>\n      <td>Drake</td>\n      <td>91</td>\n      <td>rap</td>\n    </tr>\n    <tr>\n      <th>2</th>\n      <td>1Qrg8KqiBpW07V7PNxwwwL</td>\n      <td>Kill Bill</td>\n      <td>SZA</td>\n      <td>94</td>\n      <td>rap</td>\n    </tr>\n    <tr>\n      <th>3</th>\n      <td>2dHHgzDwk4BJdRwy9uXhTO</td>\n      <td>Creepin' (with The Weeknd &amp; 21 Savage)</td>\n      <td>Metro Boomin</td>\n      <td>96</td>\n      <td>rap</td>\n    </tr>\n    <tr>\n      <th>4</th>\n      <td>7KA4W4McWYRpgf0fWsJZWB</td>\n      <td>See You Again (feat. Kali Uchis)</td>\n      <td>Tyler, The Creator</td>\n      <td>92</td>\n      <td>rap</td>\n    </tr>\n    <tr>\n      <th>...</th>\n      <td>...</td>\n      <td>...</td>\n      <td>...</td>\n      <td>...</td>\n      <td>...</td>\n    </tr>\n    <tr>\n      <th>995</th>\n      <td>3Wrjm47oTz2sjIgck11l5e</td>\n      <td>Beggin'</td>\n      <td>Måneskin</td>\n      <td>85</td>\n      <td>r&amp;b</td>\n    </tr>\n    <tr>\n      <th>996</th>\n      <td>4gMgiXfqyzZLMhsksGmbQV</td>\n      <td>Another Brick in the Wall, Pt. 2</td>\n      <td>Pink Floyd</td>\n      <td>78</td>\n      <td>r&amp;b</td>\n    </tr>\n    <tr>\n      <th>997</th>\n      <td>1ThmUihH9dF8EV08ku5AXN</td>\n      <td>Faucet Failure</td>\n      <td>Ski Mask The Slump God</td>\n      <td>75</td>\n      <td>r&amp;b</td>\n    </tr>\n    <tr>\n      <th>998</th>\n      <td>0EgLxY52mpGsXETyEsgVlP</td>\n      <td>HOPE</td>\n      <td>NF</td>\n      <td>77</td>\n      <td>r&amp;b</td>\n    </tr>\n    <tr>\n      <th>999</th>\n      <td>1797zYiX4cKosMH836X9Gt</td>\n      <td>La Corriente</td>\n      <td>Bad Bunny</td>\n      <td>82</td>\n      <td>r&amp;b</td>\n    </tr>\n  </tbody>\n</table>\n<p>1000 rows × 5 columns</p>\n</div>"
     },
     "execution_count": 8,
     "metadata": {},
     "output_type": "execute_result"
    }
   ],
   "source": [
    "tracks_df"
   ],
   "metadata": {
    "collapsed": false
   }
  },
  {
   "cell_type": "markdown",
   "source": [
    "## Get Track Features"
   ],
   "metadata": {
    "collapsed": false
   }
  },
  {
   "cell_type": "code",
   "execution_count": 26,
   "outputs": [],
   "source": [
    "track_features_url = 'https://api.spotify.com/v1/audio-features/'\n",
    "track_features_df = pd.DataFrame()\n",
    "\n",
    "for index, row in tracks_df.iterrows():\n",
    "    track_id = tracks_df.iloc[index]['track_id']\n",
    "    request_url = track_features_url + track_id\n",
    "    track_features = requests.get(request_url, headers={'Authorization': access_token})\n",
    "    request_result = json.loads(track_features.text)\n",
    "    track_features_df = track_features_df.append(request_result, ignore_index=True)\n",
    "\n",
    "# drop negligible features\n",
    "track_features_df.drop(columns=['type', 'uri', 'track_href', 'analysis_url'], inplace=True)\n",
    "track_features_df.rename(columns={'id':'track_id'}, inplace=True)"
   ],
   "metadata": {
    "collapsed": false
   }
  },
  {
   "cell_type": "code",
   "execution_count": 37,
   "outputs": [],
   "source": [
    "# join tracks & features\n",
    "df = tracks_df.merge(track_features_df, on='track_id')"
   ],
   "metadata": {
    "collapsed": false
   }
  },
  {
   "cell_type": "code",
   "execution_count": 38,
   "outputs": [
    {
     "data": {
      "text/plain": "                    track_id                              track_name  \\\n0     4FyesJzVpA39hbYvcseO2d                         Just Wanna Rock   \n1     7aRCf5cLOFN1U7kvtChY1G                         Search & Rescue   \n2     1Qrg8KqiBpW07V7PNxwwwL                               Kill Bill   \n3     2dHHgzDwk4BJdRwy9uXhTO  Creepin' (with The Weeknd & 21 Savage)   \n4     7KA4W4McWYRpgf0fWsJZWB        See You Again (feat. Kali Uchis)   \n...                      ...                                     ...   \n1001  3Wrjm47oTz2sjIgck11l5e                                 Beggin'   \n1002  4gMgiXfqyzZLMhsksGmbQV        Another Brick in the Wall, Pt. 2   \n1003  1ThmUihH9dF8EV08ku5AXN                          Faucet Failure   \n1004  0EgLxY52mpGsXETyEsgVlP                                    HOPE   \n1005  1797zYiX4cKosMH836X9Gt                            La Corriente   \n\n                 artist_name popularity genre  danceability  energy   key  \\\n0               Lil Uzi Vert         90   rap         0.486   0.545  11.0   \n1                      Drake         91   rap         0.817   0.440  10.0   \n2                        SZA         94   rap         0.644   0.735   8.0   \n3               Metro Boomin         96   rap         0.715   0.620   1.0   \n4         Tyler, The Creator         92   rap         0.558   0.559   6.0   \n...                      ...        ...   ...           ...     ...   ...   \n1001                Måneskin         85   r&b         0.714   0.800  11.0   \n1002              Pink Floyd         78   r&b         0.693   0.394   0.0   \n1003  Ski Mask The Slump God         75   r&b         0.935   0.552  10.0   \n1004                      NF         77   r&b         0.546   0.787   0.0   \n1005               Bad Bunny         82   r&b         0.663   0.786  11.0   \n\n      loudness  mode  speechiness  acousticness  instrumentalness  liveness  \\\n0       -7.924   1.0       0.0336        0.0652          0.004740    0.0642   \n1       -8.482   0.0       0.0734        0.0603          0.000001    0.3300   \n2       -5.747   1.0       0.0391        0.0521          0.144000    0.1610   \n3       -6.005   0.0       0.0484        0.4170          0.000000    0.0822   \n4       -9.222   1.0       0.0959        0.3710          0.000007    0.1090   \n...        ...   ...          ...           ...               ...       ...   \n1001    -4.808   0.0       0.0504        0.1270          0.000000    0.3590   \n1002   -15.882   1.0       0.0428        0.0782          0.000694    0.2470   \n1003    -9.373   0.0       0.3350        0.1110          0.000000    0.0952   \n1004    -4.023   0.0       0.2120        0.3960          0.000000    0.0619   \n1005    -3.510   0.0       0.1950        0.2290          0.000000    0.2190   \n\n      valence    tempo  duration_ms  time_signature  \n0      0.0385  150.187     123891.0             4.0  \n1      0.5440  142.024     272113.0             4.0  \n2      0.4180   88.980     153947.0             4.0  \n3      0.1720   97.950     221520.0             4.0  \n4      0.6200   78.558     180387.0             4.0  \n...       ...      ...          ...             ...  \n1001   0.5890  134.002     211560.0             4.0  \n1002   0.7210  104.114     238747.0             4.0  \n1003   0.6150   99.993     145627.0             4.0  \n1004   0.4970  100.559     264473.0             3.0  \n1005   0.5790  196.120     198367.0             4.0  \n\n[1006 rows x 18 columns]",
      "text/html": "<div>\n<style scoped>\n    .dataframe tbody tr th:only-of-type {\n        vertical-align: middle;\n    }\n\n    .dataframe tbody tr th {\n        vertical-align: top;\n    }\n\n    .dataframe thead th {\n        text-align: right;\n    }\n</style>\n<table border=\"1\" class=\"dataframe\">\n  <thead>\n    <tr style=\"text-align: right;\">\n      <th></th>\n      <th>track_id</th>\n      <th>track_name</th>\n      <th>artist_name</th>\n      <th>popularity</th>\n      <th>genre</th>\n      <th>danceability</th>\n      <th>energy</th>\n      <th>key</th>\n      <th>loudness</th>\n      <th>mode</th>\n      <th>speechiness</th>\n      <th>acousticness</th>\n      <th>instrumentalness</th>\n      <th>liveness</th>\n      <th>valence</th>\n      <th>tempo</th>\n      <th>duration_ms</th>\n      <th>time_signature</th>\n    </tr>\n  </thead>\n  <tbody>\n    <tr>\n      <th>0</th>\n      <td>4FyesJzVpA39hbYvcseO2d</td>\n      <td>Just Wanna Rock</td>\n      <td>Lil Uzi Vert</td>\n      <td>90</td>\n      <td>rap</td>\n      <td>0.486</td>\n      <td>0.545</td>\n      <td>11.0</td>\n      <td>-7.924</td>\n      <td>1.0</td>\n      <td>0.0336</td>\n      <td>0.0652</td>\n      <td>0.004740</td>\n      <td>0.0642</td>\n      <td>0.0385</td>\n      <td>150.187</td>\n      <td>123891.0</td>\n      <td>4.0</td>\n    </tr>\n    <tr>\n      <th>1</th>\n      <td>7aRCf5cLOFN1U7kvtChY1G</td>\n      <td>Search &amp; Rescue</td>\n      <td>Drake</td>\n      <td>91</td>\n      <td>rap</td>\n      <td>0.817</td>\n      <td>0.440</td>\n      <td>10.0</td>\n      <td>-8.482</td>\n      <td>0.0</td>\n      <td>0.0734</td>\n      <td>0.0603</td>\n      <td>0.000001</td>\n      <td>0.3300</td>\n      <td>0.5440</td>\n      <td>142.024</td>\n      <td>272113.0</td>\n      <td>4.0</td>\n    </tr>\n    <tr>\n      <th>2</th>\n      <td>1Qrg8KqiBpW07V7PNxwwwL</td>\n      <td>Kill Bill</td>\n      <td>SZA</td>\n      <td>94</td>\n      <td>rap</td>\n      <td>0.644</td>\n      <td>0.735</td>\n      <td>8.0</td>\n      <td>-5.747</td>\n      <td>1.0</td>\n      <td>0.0391</td>\n      <td>0.0521</td>\n      <td>0.144000</td>\n      <td>0.1610</td>\n      <td>0.4180</td>\n      <td>88.980</td>\n      <td>153947.0</td>\n      <td>4.0</td>\n    </tr>\n    <tr>\n      <th>3</th>\n      <td>2dHHgzDwk4BJdRwy9uXhTO</td>\n      <td>Creepin' (with The Weeknd &amp; 21 Savage)</td>\n      <td>Metro Boomin</td>\n      <td>96</td>\n      <td>rap</td>\n      <td>0.715</td>\n      <td>0.620</td>\n      <td>1.0</td>\n      <td>-6.005</td>\n      <td>0.0</td>\n      <td>0.0484</td>\n      <td>0.4170</td>\n      <td>0.000000</td>\n      <td>0.0822</td>\n      <td>0.1720</td>\n      <td>97.950</td>\n      <td>221520.0</td>\n      <td>4.0</td>\n    </tr>\n    <tr>\n      <th>4</th>\n      <td>7KA4W4McWYRpgf0fWsJZWB</td>\n      <td>See You Again (feat. Kali Uchis)</td>\n      <td>Tyler, The Creator</td>\n      <td>92</td>\n      <td>rap</td>\n      <td>0.558</td>\n      <td>0.559</td>\n      <td>6.0</td>\n      <td>-9.222</td>\n      <td>1.0</td>\n      <td>0.0959</td>\n      <td>0.3710</td>\n      <td>0.000007</td>\n      <td>0.1090</td>\n      <td>0.6200</td>\n      <td>78.558</td>\n      <td>180387.0</td>\n      <td>4.0</td>\n    </tr>\n    <tr>\n      <th>...</th>\n      <td>...</td>\n      <td>...</td>\n      <td>...</td>\n      <td>...</td>\n      <td>...</td>\n      <td>...</td>\n      <td>...</td>\n      <td>...</td>\n      <td>...</td>\n      <td>...</td>\n      <td>...</td>\n      <td>...</td>\n      <td>...</td>\n      <td>...</td>\n      <td>...</td>\n      <td>...</td>\n      <td>...</td>\n      <td>...</td>\n    </tr>\n    <tr>\n      <th>1001</th>\n      <td>3Wrjm47oTz2sjIgck11l5e</td>\n      <td>Beggin'</td>\n      <td>Måneskin</td>\n      <td>85</td>\n      <td>r&amp;b</td>\n      <td>0.714</td>\n      <td>0.800</td>\n      <td>11.0</td>\n      <td>-4.808</td>\n      <td>0.0</td>\n      <td>0.0504</td>\n      <td>0.1270</td>\n      <td>0.000000</td>\n      <td>0.3590</td>\n      <td>0.5890</td>\n      <td>134.002</td>\n      <td>211560.0</td>\n      <td>4.0</td>\n    </tr>\n    <tr>\n      <th>1002</th>\n      <td>4gMgiXfqyzZLMhsksGmbQV</td>\n      <td>Another Brick in the Wall, Pt. 2</td>\n      <td>Pink Floyd</td>\n      <td>78</td>\n      <td>r&amp;b</td>\n      <td>0.693</td>\n      <td>0.394</td>\n      <td>0.0</td>\n      <td>-15.882</td>\n      <td>1.0</td>\n      <td>0.0428</td>\n      <td>0.0782</td>\n      <td>0.000694</td>\n      <td>0.2470</td>\n      <td>0.7210</td>\n      <td>104.114</td>\n      <td>238747.0</td>\n      <td>4.0</td>\n    </tr>\n    <tr>\n      <th>1003</th>\n      <td>1ThmUihH9dF8EV08ku5AXN</td>\n      <td>Faucet Failure</td>\n      <td>Ski Mask The Slump God</td>\n      <td>75</td>\n      <td>r&amp;b</td>\n      <td>0.935</td>\n      <td>0.552</td>\n      <td>10.0</td>\n      <td>-9.373</td>\n      <td>0.0</td>\n      <td>0.3350</td>\n      <td>0.1110</td>\n      <td>0.000000</td>\n      <td>0.0952</td>\n      <td>0.6150</td>\n      <td>99.993</td>\n      <td>145627.0</td>\n      <td>4.0</td>\n    </tr>\n    <tr>\n      <th>1004</th>\n      <td>0EgLxY52mpGsXETyEsgVlP</td>\n      <td>HOPE</td>\n      <td>NF</td>\n      <td>77</td>\n      <td>r&amp;b</td>\n      <td>0.546</td>\n      <td>0.787</td>\n      <td>0.0</td>\n      <td>-4.023</td>\n      <td>0.0</td>\n      <td>0.2120</td>\n      <td>0.3960</td>\n      <td>0.000000</td>\n      <td>0.0619</td>\n      <td>0.4970</td>\n      <td>100.559</td>\n      <td>264473.0</td>\n      <td>3.0</td>\n    </tr>\n    <tr>\n      <th>1005</th>\n      <td>1797zYiX4cKosMH836X9Gt</td>\n      <td>La Corriente</td>\n      <td>Bad Bunny</td>\n      <td>82</td>\n      <td>r&amp;b</td>\n      <td>0.663</td>\n      <td>0.786</td>\n      <td>11.0</td>\n      <td>-3.510</td>\n      <td>0.0</td>\n      <td>0.1950</td>\n      <td>0.2290</td>\n      <td>0.000000</td>\n      <td>0.2190</td>\n      <td>0.5790</td>\n      <td>196.120</td>\n      <td>198367.0</td>\n      <td>4.0</td>\n    </tr>\n  </tbody>\n</table>\n<p>1006 rows × 18 columns</p>\n</div>"
     },
     "execution_count": 38,
     "metadata": {},
     "output_type": "execute_result"
    }
   ],
   "source": [
    "df"
   ],
   "metadata": {
    "collapsed": false
   }
  },
  {
   "cell_type": "code",
   "execution_count": 46,
   "outputs": [
    {
     "data": {
      "text/plain": "{'album': {'album_group': 'compilation',\n  'album_type': 'compilation',\n  'artists': [{'external_urls': {'spotify': 'https://open.spotify.com/artist/7oPftvlwr6VrsViSDV7fJY'},\n    'href': 'https://api.spotify.com/v1/artists/7oPftvlwr6VrsViSDV7fJY',\n    'id': '7oPftvlwr6VrsViSDV7fJY',\n    'name': 'Green Day',\n    'type': 'artist',\n    'uri': 'spotify:artist:7oPftvlwr6VrsViSDV7fJY'}],\n  'available_markets': ['AD',\n   'AG',\n   'AL',\n   'AM',\n   'AO',\n   'AR',\n   'AT',\n   'AU',\n   'AZ',\n   'BA',\n   'BB',\n   'BD',\n   'BE',\n   'BG',\n   'BI',\n   'BJ',\n   'BO',\n   'BR',\n   'BS',\n   'BT',\n   'BW',\n   'BZ',\n   'CA',\n   'CD',\n   'CG',\n   'CH',\n   'CI',\n   'CL',\n   'CM',\n   'CO',\n   'CR',\n   'CV',\n   'CW',\n   'CY',\n   'CZ',\n   'DE',\n   'DJ',\n   'DK',\n   'DM',\n   'DO',\n   'DZ',\n   'EC',\n   'EE',\n   'ES',\n   'ET',\n   'FI',\n   'FJ',\n   'FM',\n   'FR',\n   'GA',\n   'GB',\n   'GD',\n   'GE',\n   'GH',\n   'GM',\n   'GN',\n   'GQ',\n   'GR',\n   'GT',\n   'GW',\n   'GY',\n   'HK',\n   'HN',\n   'HR',\n   'HT',\n   'HU',\n   'ID',\n   'IE',\n   'IL',\n   'IN',\n   'IQ',\n   'IS',\n   'IT',\n   'JM',\n   'JP',\n   'KE',\n   'KG',\n   'KH',\n   'KI',\n   'KM',\n   'KN',\n   'KR',\n   'KW',\n   'KZ',\n   'LA',\n   'LC',\n   'LI',\n   'LK',\n   'LR',\n   'LS',\n   'LT',\n   'LU',\n   'LV',\n   'LY',\n   'MA',\n   'MC',\n   'MD',\n   'ME',\n   'MG',\n   'MH',\n   'MK',\n   'ML',\n   'MN',\n   'MO',\n   'MR',\n   'MT',\n   'MU',\n   'MV',\n   'MW',\n   'MX',\n   'MY',\n   'MZ',\n   'NA',\n   'NE',\n   'NG',\n   'NI',\n   'NL',\n   'NO',\n   'NR',\n   'NZ',\n   'PA',\n   'PE',\n   'PG',\n   'PH',\n   'PK',\n   'PL',\n   'PS',\n   'PT',\n   'PW',\n   'PY',\n   'RO',\n   'RS',\n   'RW',\n   'SB',\n   'SC',\n   'SE',\n   'SG',\n   'SI',\n   'SK',\n   'SL',\n   'SM',\n   'SN',\n   'SR',\n   'ST',\n   'SV',\n   'SZ',\n   'TD',\n   'TG',\n   'TH',\n   'TJ',\n   'TL',\n   'TO',\n   'TR',\n   'TT',\n   'TV',\n   'TW',\n   'TZ',\n   'UA',\n   'UG',\n   'US',\n   'UY',\n   'VC',\n   'VE',\n   'VN',\n   'VU',\n   'WS',\n   'XK',\n   'ZA',\n   'ZM',\n   'ZW'],\n  'external_urls': {'spotify': 'https://open.spotify.com/album/3id4t9IqRoB1f1smOERtrY'},\n  'href': 'https://api.spotify.com/v1/albums/3id4t9IqRoB1f1smOERtrY',\n  'id': '3id4t9IqRoB1f1smOERtrY',\n  'images': [{'height': 640,\n    'url': 'https://i.scdn.co/image/ab67616d0000b2737f213369d5265a60af5f7e82',\n    'width': 640},\n   {'height': 300,\n    'url': 'https://i.scdn.co/image/ab67616d00001e027f213369d5265a60af5f7e82',\n    'width': 300},\n   {'height': 64,\n    'url': 'https://i.scdn.co/image/ab67616d000048517f213369d5265a60af5f7e82',\n    'width': 64}],\n  'name': \"Greatest Hits: God's Favorite Band\",\n  'release_date': '2017-11-17',\n  'release_date_precision': 'day',\n  'total_tracks': 22,\n  'type': 'album',\n  'uri': 'spotify:album:3id4t9IqRoB1f1smOERtrY'},\n 'artists': [{'external_urls': {'spotify': 'https://open.spotify.com/artist/7oPftvlwr6VrsViSDV7fJY'},\n   'href': 'https://api.spotify.com/v1/artists/7oPftvlwr6VrsViSDV7fJY',\n   'id': '7oPftvlwr6VrsViSDV7fJY',\n   'name': 'Green Day',\n   'type': 'artist',\n   'uri': 'spotify:artist:7oPftvlwr6VrsViSDV7fJY'}],\n 'available_markets': ['AR',\n  'AU',\n  'AT',\n  'BE',\n  'BO',\n  'BR',\n  'BG',\n  'CA',\n  'CL',\n  'CO',\n  'CR',\n  'CY',\n  'CZ',\n  'DK',\n  'DO',\n  'DE',\n  'EC',\n  'EE',\n  'SV',\n  'FI',\n  'FR',\n  'GR',\n  'GT',\n  'HN',\n  'HK',\n  'HU',\n  'IS',\n  'IE',\n  'IT',\n  'LV',\n  'LT',\n  'LU',\n  'MY',\n  'MT',\n  'MX',\n  'NL',\n  'NZ',\n  'NI',\n  'NO',\n  'PA',\n  'PY',\n  'PE',\n  'PH',\n  'PL',\n  'PT',\n  'SG',\n  'SK',\n  'ES',\n  'SE',\n  'CH',\n  'TW',\n  'TR',\n  'UY',\n  'US',\n  'GB',\n  'AD',\n  'LI',\n  'MC',\n  'ID',\n  'JP',\n  'TH',\n  'VN',\n  'RO',\n  'IL',\n  'ZA',\n  'KW',\n  'MA',\n  'DZ',\n  'PS',\n  'IN',\n  'KZ',\n  'MD',\n  'UA',\n  'AL',\n  'BA',\n  'HR',\n  'ME',\n  'MK',\n  'RS',\n  'SI',\n  'KR',\n  'BD',\n  'PK',\n  'LK',\n  'GH',\n  'KE',\n  'NG',\n  'TZ',\n  'UG',\n  'AG',\n  'AM',\n  'BS',\n  'BB',\n  'BZ',\n  'BT',\n  'BW',\n  'CV',\n  'CW',\n  'DM',\n  'FJ',\n  'GM',\n  'GE',\n  'GD',\n  'GW',\n  'GY',\n  'HT',\n  'JM',\n  'KI',\n  'LS',\n  'LR',\n  'MW',\n  'MV',\n  'ML',\n  'MH',\n  'FM',\n  'NA',\n  'NR',\n  'NE',\n  'PW',\n  'PG',\n  'WS',\n  'SM',\n  'ST',\n  'SN',\n  'SC',\n  'SL',\n  'SB',\n  'KN',\n  'LC',\n  'VC',\n  'SR',\n  'TL',\n  'TO',\n  'TT',\n  'TV',\n  'VU',\n  'AZ',\n  'BI',\n  'KH',\n  'CM',\n  'TD',\n  'KM',\n  'GQ',\n  'SZ',\n  'GA',\n  'GN',\n  'KG',\n  'LA',\n  'MO',\n  'MR',\n  'MN',\n  'RW',\n  'TG',\n  'ZW',\n  'BJ',\n  'MG',\n  'MU',\n  'MZ',\n  'AO',\n  'CI',\n  'DJ',\n  'ZM',\n  'CD',\n  'CG',\n  'IQ',\n  'LY',\n  'TJ',\n  'VE',\n  'ET',\n  'XK'],\n 'disc_number': 1,\n 'duration_ms': 262333,\n 'explicit': True,\n 'external_ids': {'isrc': 'USRE10400985'},\n 'external_urls': {'spotify': 'https://open.spotify.com/track/5GorCbAP4aL0EJ16frG2hd'},\n 'href': 'https://api.spotify.com/v1/tracks/5GorCbAP4aL0EJ16frG2hd',\n 'id': '5GorCbAP4aL0EJ16frG2hd',\n 'is_local': False,\n 'name': 'Boulevard of Broken Dreams',\n 'popularity': 78,\n 'preview_url': 'https://p.scdn.co/mp3-preview/258775e7324ab09be650b91d322d22948ed9df1a?cid=3d0c792a90894b41a60497761129b8c4',\n 'track_number': 14,\n 'type': 'track',\n 'uri': 'spotify:track:5GorCbAP4aL0EJ16frG2hd'}"
     },
     "execution_count": 46,
     "metadata": {},
     "output_type": "execute_result"
    }
   ],
   "source": [
    "broken = requests.get(\"https://api.spotify.com/v1/tracks/5GorCbAP4aL0EJ16frG2hd\", headers={'Authorization': access_token})\n",
    "json.loads(broken.text)"
   ],
   "metadata": {
    "collapsed": false
   }
  },
  {
   "cell_type": "code",
   "execution_count": null,
   "outputs": [],
   "source": [],
   "metadata": {
    "collapsed": false
   }
  }
 ],
 "metadata": {
  "kernelspec": {
   "display_name": "Python 3",
   "language": "python",
   "name": "python3"
  },
  "language_info": {
   "codemirror_mode": {
    "name": "ipython",
    "version": 2
   },
   "file_extension": ".py",
   "mimetype": "text/x-python",
   "name": "python",
   "nbconvert_exporter": "python",
   "pygments_lexer": "ipython2",
   "version": "2.7.6"
  }
 },
 "nbformat": 4,
 "nbformat_minor": 0
}
