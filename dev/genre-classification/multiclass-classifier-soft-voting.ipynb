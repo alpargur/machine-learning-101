{
 "cells": [
  {
   "cell_type": "markdown",
   "source": [
    "# Multiclass Classifier Soft Voting\n",
    "- This notebook trains one model for each genre and consolidates them for prediction.\n",
    "- Soft voting chooses the class with the greates prediction value as the outcome of the consolidation."
   ],
   "metadata": {
    "collapsed": false
   }
  },
  {
   "cell_type": "code",
   "execution_count": 1,
   "outputs": [],
   "source": [
    "import pandas as pd\n",
    "import numpy as np\n",
    "\n",
    "from sklearn.preprocessing import OneHotEncoder\n",
    "from sklearn.compose import ColumnTransformer\n",
    "from sklearn.preprocessing import StandardScaler\n",
    "\n",
    "from sklearn.model_selection import train_test_split\n",
    "from sklearn.model_selection import cross_val_score\n",
    "\n",
    "from sklearn.ensemble import RandomForestClassifier\n",
    "from sklearn.ensemble import VotingClassifier\n",
    "from sklearn.svm import SVC\n",
    "from sklearn.metrics import accuracy_score"
   ],
   "metadata": {
    "collapsed": false
   }
  },
  {
   "cell_type": "code",
   "execution_count": 2,
   "outputs": [],
   "source": [
    "# import data\n",
    "df = pd.read_csv('data/tracks_1000Unique+_with_duplicates.csv', index_col=False)\n",
    "df.drop_duplicates('track_id', keep='first', inplace=True)\n",
    "df.drop(columns={'Unnamed: 0'}, inplace=True)"
   ],
   "metadata": {
    "collapsed": false
   }
  },
  {
   "cell_type": "code",
   "execution_count": 3,
   "outputs": [
    {
     "data": {
      "text/plain": "       genre  popularity  danceability  energy  key  loudness  mode  \\\n0      blues        77.0         0.274   0.348    5    -8.631     1   \n1      blues        77.0         0.756   0.401    7   -10.702     0   \n2      blues        74.0         0.581   0.687    6    -5.400     1   \n3      blues        75.0         0.635   0.184    8   -10.785     1   \n4      blues        75.0         0.477   0.433   11    -6.473     0   \n...      ...         ...           ...     ...  ...       ...   ...   \n9995  techno        29.0         0.732   0.875    4    -5.842     0   \n9996  techno        49.0         0.738   0.816    4    -6.304     0   \n9997  techno        35.0         0.610   0.875    5    -5.455     0   \n9998  techno        44.0         0.756   0.527    8   -11.861     1   \n9999  techno        36.0         0.524   0.946   11    -6.749     0   \n\n      speechiness  acousticness  instrumentalness  liveness  valence    tempo  \\\n0          0.0293      0.547000          0.013300    0.3340    0.328   87.430   \n1          0.0526      0.582000          0.011000    0.0541    0.514  101.954   \n2          0.1050      0.229000          0.000000    0.1090    0.187   76.014   \n3          0.0456      0.665000          0.000000    0.1460    0.177  128.424   \n4          0.0247      0.689000          0.000195    0.1510    0.611   82.520   \n...           ...           ...               ...       ...      ...      ...   \n9995       0.0326      0.126000          0.000234    0.2200    0.933  132.987   \n9996       0.0322      0.000877          0.785000    0.1340    0.884  129.998   \n9997       0.0333      0.028300          0.908000    0.1140    0.873  144.999   \n9998       0.0428      0.002010          0.509000    0.1120    0.248  119.996   \n9999       0.0450      0.007150          0.079700    0.3100    0.532  135.998   \n\n      duration_ms  time_signature  \n0          179693               3  \n1          199396               4  \n2          240600               4  \n3          240200               4  \n4          156653               3  \n...           ...             ...  \n9995       214960               4  \n9996       198793               4  \n9997       309023               4  \n9998       416500               4  \n9999       148322               4  \n\n[10000 rows x 15 columns]",
      "text/html": "<div>\n<style scoped>\n    .dataframe tbody tr th:only-of-type {\n        vertical-align: middle;\n    }\n\n    .dataframe tbody tr th {\n        vertical-align: top;\n    }\n\n    .dataframe thead th {\n        text-align: right;\n    }\n</style>\n<table border=\"1\" class=\"dataframe\">\n  <thead>\n    <tr style=\"text-align: right;\">\n      <th></th>\n      <th>genre</th>\n      <th>popularity</th>\n      <th>danceability</th>\n      <th>energy</th>\n      <th>key</th>\n      <th>loudness</th>\n      <th>mode</th>\n      <th>speechiness</th>\n      <th>acousticness</th>\n      <th>instrumentalness</th>\n      <th>liveness</th>\n      <th>valence</th>\n      <th>tempo</th>\n      <th>duration_ms</th>\n      <th>time_signature</th>\n    </tr>\n  </thead>\n  <tbody>\n    <tr>\n      <th>0</th>\n      <td>blues</td>\n      <td>77.0</td>\n      <td>0.274</td>\n      <td>0.348</td>\n      <td>5</td>\n      <td>-8.631</td>\n      <td>1</td>\n      <td>0.0293</td>\n      <td>0.547000</td>\n      <td>0.013300</td>\n      <td>0.3340</td>\n      <td>0.328</td>\n      <td>87.430</td>\n      <td>179693</td>\n      <td>3</td>\n    </tr>\n    <tr>\n      <th>1</th>\n      <td>blues</td>\n      <td>77.0</td>\n      <td>0.756</td>\n      <td>0.401</td>\n      <td>7</td>\n      <td>-10.702</td>\n      <td>0</td>\n      <td>0.0526</td>\n      <td>0.582000</td>\n      <td>0.011000</td>\n      <td>0.0541</td>\n      <td>0.514</td>\n      <td>101.954</td>\n      <td>199396</td>\n      <td>4</td>\n    </tr>\n    <tr>\n      <th>2</th>\n      <td>blues</td>\n      <td>74.0</td>\n      <td>0.581</td>\n      <td>0.687</td>\n      <td>6</td>\n      <td>-5.400</td>\n      <td>1</td>\n      <td>0.1050</td>\n      <td>0.229000</td>\n      <td>0.000000</td>\n      <td>0.1090</td>\n      <td>0.187</td>\n      <td>76.014</td>\n      <td>240600</td>\n      <td>4</td>\n    </tr>\n    <tr>\n      <th>3</th>\n      <td>blues</td>\n      <td>75.0</td>\n      <td>0.635</td>\n      <td>0.184</td>\n      <td>8</td>\n      <td>-10.785</td>\n      <td>1</td>\n      <td>0.0456</td>\n      <td>0.665000</td>\n      <td>0.000000</td>\n      <td>0.1460</td>\n      <td>0.177</td>\n      <td>128.424</td>\n      <td>240200</td>\n      <td>4</td>\n    </tr>\n    <tr>\n      <th>4</th>\n      <td>blues</td>\n      <td>75.0</td>\n      <td>0.477</td>\n      <td>0.433</td>\n      <td>11</td>\n      <td>-6.473</td>\n      <td>0</td>\n      <td>0.0247</td>\n      <td>0.689000</td>\n      <td>0.000195</td>\n      <td>0.1510</td>\n      <td>0.611</td>\n      <td>82.520</td>\n      <td>156653</td>\n      <td>3</td>\n    </tr>\n    <tr>\n      <th>...</th>\n      <td>...</td>\n      <td>...</td>\n      <td>...</td>\n      <td>...</td>\n      <td>...</td>\n      <td>...</td>\n      <td>...</td>\n      <td>...</td>\n      <td>...</td>\n      <td>...</td>\n      <td>...</td>\n      <td>...</td>\n      <td>...</td>\n      <td>...</td>\n      <td>...</td>\n    </tr>\n    <tr>\n      <th>9995</th>\n      <td>techno</td>\n      <td>29.0</td>\n      <td>0.732</td>\n      <td>0.875</td>\n      <td>4</td>\n      <td>-5.842</td>\n      <td>0</td>\n      <td>0.0326</td>\n      <td>0.126000</td>\n      <td>0.000234</td>\n      <td>0.2200</td>\n      <td>0.933</td>\n      <td>132.987</td>\n      <td>214960</td>\n      <td>4</td>\n    </tr>\n    <tr>\n      <th>9996</th>\n      <td>techno</td>\n      <td>49.0</td>\n      <td>0.738</td>\n      <td>0.816</td>\n      <td>4</td>\n      <td>-6.304</td>\n      <td>0</td>\n      <td>0.0322</td>\n      <td>0.000877</td>\n      <td>0.785000</td>\n      <td>0.1340</td>\n      <td>0.884</td>\n      <td>129.998</td>\n      <td>198793</td>\n      <td>4</td>\n    </tr>\n    <tr>\n      <th>9997</th>\n      <td>techno</td>\n      <td>35.0</td>\n      <td>0.610</td>\n      <td>0.875</td>\n      <td>5</td>\n      <td>-5.455</td>\n      <td>0</td>\n      <td>0.0333</td>\n      <td>0.028300</td>\n      <td>0.908000</td>\n      <td>0.1140</td>\n      <td>0.873</td>\n      <td>144.999</td>\n      <td>309023</td>\n      <td>4</td>\n    </tr>\n    <tr>\n      <th>9998</th>\n      <td>techno</td>\n      <td>44.0</td>\n      <td>0.756</td>\n      <td>0.527</td>\n      <td>8</td>\n      <td>-11.861</td>\n      <td>1</td>\n      <td>0.0428</td>\n      <td>0.002010</td>\n      <td>0.509000</td>\n      <td>0.1120</td>\n      <td>0.248</td>\n      <td>119.996</td>\n      <td>416500</td>\n      <td>4</td>\n    </tr>\n    <tr>\n      <th>9999</th>\n      <td>techno</td>\n      <td>36.0</td>\n      <td>0.524</td>\n      <td>0.946</td>\n      <td>11</td>\n      <td>-6.749</td>\n      <td>0</td>\n      <td>0.0450</td>\n      <td>0.007150</td>\n      <td>0.079700</td>\n      <td>0.3100</td>\n      <td>0.532</td>\n      <td>135.998</td>\n      <td>148322</td>\n      <td>4</td>\n    </tr>\n  </tbody>\n</table>\n<p>10000 rows × 15 columns</p>\n</div>"
     },
     "execution_count": 3,
     "metadata": {},
     "output_type": "execute_result"
    }
   ],
   "source": [
    "del df[\"track_id\"]; del df[\"artist_name\"]; del df[\"track_name\"]; del df[\"duplicated_y\"]; del df[\"duplicated_x\"];\n",
    "\n",
    "# Make it 1000 for each category\n",
    "result = df.groupby(\"genre\").apply(lambda x: x.head(1000)).reset_index(drop=True)\n",
    "result"
   ],
   "metadata": {
    "collapsed": false
   }
  },
  {
   "cell_type": "code",
   "execution_count": 5,
   "outputs": [
    {
     "name": "stdout",
     "output_type": "stream",
     "text": [
      "Number of classes:\t 10\n"
     ]
    },
    {
     "name": "stderr",
     "output_type": "stream",
     "text": [
      "/opt/anaconda3/lib/python3.8/site-packages/sklearn/preprocessing/_encoders.py:868: FutureWarning: `sparse` was renamed to `sparse_output` in version 1.2 and will be removed in 1.4. `sparse_output` is ignored unless you leave `sparse` to its default value.\n",
      "  warnings.warn(\n"
     ]
    }
   ],
   "source": [
    "# prepare data for VotingClassifier\n",
    "y = pd.DataFrame(result[\"genre\"])\n",
    "X = result.drop(\"genre\", axis=1)\n",
    "X_train, X_test, y_train, y_test = train_test_split(X, y, test_size=0.2, random_state = 42)\n",
    "\n",
    "# prepare data for OneVsAll Classifier\n",
    "encoder = OneHotEncoder(sparse=False)\n",
    "encoder.fit(y)\n",
    "cols = [x.replace(\"x0_\", \"\") for x in encoder.get_feature_names_out()]\n",
    "print('Number of classes:\\t', len(cols))\n",
    "y_ohe = pd.DataFrame(encoder.transform(y), columns=cols)\n",
    "X_train_ohe, X_test_ohe, y_train_ohe, y_test_ohe = train_test_split(X, y_ohe, test_size=0.2, random_state = 42)"
   ],
   "metadata": {
    "collapsed": false
   }
  },
  {
   "cell_type": "code",
   "execution_count": 6,
   "outputs": [],
   "source": [
    "# scale data\n",
    "ct = ColumnTransformer([\n",
    "        ('stdscaled', StandardScaler(), [\"popularity\",\"danceability\",\"energy\",\"key\",\"loudness\",\"mode\",\"speechiness\",\"acousticness\",\"instrumentalness\",\"liveness\",\"valence\",\"tempo\",\"duration_ms\",\"time_signature\"]),\n",
    "       ], remainder='passthrough')\n",
    "\n",
    "# VotingClassifier\n",
    "X_train_scaled = ct.fit_transform(X_train)\n",
    "X_test_scaled  = ct.transform(X_test)\n",
    "X_train = X_train_scaled\n",
    "X_test  = X_test_scaled\n",
    "# OneVsAll\n",
    "X_train_scaled_ohe = ct.fit_transform(X_train_ohe)\n",
    "X_test_scaled_ohe  = ct.transform(X_test_ohe)\n",
    "X_train_ohe = X_train_scaled_ohe\n",
    "X_test_ohe  = X_test_scaled_ohe"
   ],
   "metadata": {
    "collapsed": false
   }
  },
  {
   "cell_type": "code",
   "execution_count": 9,
   "outputs": [
    {
     "name": "stdout",
     "output_type": "stream",
     "text": [
      "cross_val_score: [genre_blues]->RandomForestClassifier: {'min': 0.91, 'max': 0.92, 'mean': 0.91}\n",
      "cross_val_score: [genre_blues]->SVC: {'min': 0.9, 'max': 0.9, 'mean': 0.9}\n",
      "test-df: [genre_blues] -> RandomForestClassifier: 0.91\n",
      "test-df: [genre_blues] -> SVC: 0.9\n",
      "cross_val_score: [genre_classical]->RandomForestClassifier: {'min': 0.98, 'max': 0.98, 'mean': 0.98}\n",
      "cross_val_score: [genre_classical]->SVC: {'min': 0.98, 'max': 0.98, 'mean': 0.98}\n",
      "test-df: [genre_classical] -> RandomForestClassifier: 0.98\n",
      "test-df: [genre_classical] -> SVC: 0.98\n",
      "cross_val_score: [genre_electronic]->RandomForestClassifier: {'min': 0.91, 'max': 0.91, 'mean': 0.91}\n",
      "cross_val_score: [genre_electronic]->SVC: {'min': 0.9, 'max': 0.9, 'mean': 0.9}\n",
      "test-df: [genre_electronic] -> RandomForestClassifier: 0.91\n",
      "test-df: [genre_electronic] -> SVC: 0.9\n",
      "cross_val_score: [genre_funk]->RandomForestClassifier: {'min': 0.92, 'max': 0.92, 'mean': 0.92}\n",
      "cross_val_score: [genre_funk]->SVC: {'min': 0.9, 'max': 0.91, 'mean': 0.9}\n",
      "test-df: [genre_funk] -> RandomForestClassifier: 0.93\n",
      "test-df: [genre_funk] -> SVC: 0.91\n",
      "cross_val_score: [genre_jazz]->RandomForestClassifier: {'min': 0.92, 'max': 0.93, 'mean': 0.93}\n",
      "cross_val_score: [genre_jazz]->SVC: {'min': 0.92, 'max': 0.92, 'mean': 0.92}\n",
      "test-df: [genre_jazz] -> RandomForestClassifier: 0.92\n",
      "test-df: [genre_jazz] -> SVC: 0.91\n",
      "cross_val_score: [genre_metal]->RandomForestClassifier: {'min': 0.93, 'max': 0.94, 'mean': 0.94}\n",
      "cross_val_score: [genre_metal]->SVC: {'min': 0.9, 'max': 0.9, 'mean': 0.9}\n",
      "test-df: [genre_metal] -> RandomForestClassifier: 0.95\n",
      "test-df: [genre_metal] -> SVC: 0.91\n",
      "cross_val_score: [genre_r&b]->RandomForestClassifier: {'min': 0.91, 'max': 0.91, 'mean': 0.91}\n",
      "cross_val_score: [genre_r&b]->SVC: {'min': 0.9, 'max': 0.9, 'mean': 0.9}\n",
      "test-df: [genre_r&b] -> RandomForestClassifier: 0.9\n",
      "test-df: [genre_r&b] -> SVC: 0.9\n",
      "cross_val_score: [genre_rap]->RandomForestClassifier: {'min': 0.94, 'max': 0.94, 'mean': 0.94}\n",
      "cross_val_score: [genre_rap]->SVC: {'min': 0.93, 'max': 0.93, 'mean': 0.93}\n",
      "test-df: [genre_rap] -> RandomForestClassifier: 0.93\n",
      "test-df: [genre_rap] -> SVC: 0.93\n",
      "cross_val_score: [genre_rock]->RandomForestClassifier: {'min': 0.92, 'max': 0.93, 'mean': 0.92}\n",
      "cross_val_score: [genre_rock]->SVC: {'min': 0.9, 'max': 0.91, 'mean': 0.91}\n",
      "test-df: [genre_rock] -> RandomForestClassifier: 0.92\n",
      "test-df: [genre_rock] -> SVC: 0.9\n",
      "cross_val_score: [genre_techno]->RandomForestClassifier: {'min': 0.94, 'max': 0.95, 'mean': 0.95}\n",
      "cross_val_score: [genre_techno]->SVC: {'min': 0.94, 'max': 0.94, 'mean': 0.94}\n",
      "test-df: [genre_techno] -> RandomForestClassifier: 0.97\n",
      "test-df: [genre_techno] -> SVC: 0.95\n"
     ]
    }
   ],
   "source": [
    "# training of OnevsAll Classifiers for each genre\n",
    "classifiers = [\n",
    "    ('RandomForestClassifier', RandomForestClassifier(random_state=42)),\n",
    "    ('SVC', SVC(random_state=42))\n",
    "]\n",
    "\n",
    "trained_models = {\n",
    "    'name': [],\n",
    "    'genre': [],\n",
    "    'classifier': []\n",
    "}\n",
    "\n",
    "for genre in y_train_ohe.columns:\n",
    "    for name, model_type in classifiers:\n",
    "        classifier = model_type\n",
    "        y_target = y_train_ohe[genre]\n",
    "        scores = [round(x,2) for x in cross_val_score(classifier, X_train_scaled_ohe, y_train_ohe[genre], cv=3, scoring='accuracy')]\n",
    "        _tmp = {\"min\":min(scores), \"max\":max(scores), \"mean\":round(np.mean(scores),2)}\n",
    "        print(f\"cross_val_score: [{genre}]->{name}: {_tmp}\")\n",
    "        classifier.fit(X_train_scaled_ohe, y_target)\n",
    "        trained_models['name'].append(name)\n",
    "        trained_models['genre'].append(genre)\n",
    "        trained_models['classifier'].append(classifier)\n",
    "\n",
    "    _genre_result = {}\n",
    "    for name, classifier in classifiers:\n",
    "        y_pred = classifier.predict(X_test_ohe)\n",
    "        _score = accuracy_score(y_test_ohe[genre], y_pred)\n",
    "        print(f\"test-df: [{genre}] -> {name}: {round(_score, 2)}\")\n",
    "        _genre_result[name] = _score"
   ],
   "metadata": {
    "collapsed": false
   }
  },
  {
   "cell_type": "markdown",
   "source": [
    "## Build VotingClassifier\n",
    "- `trained_models` contains all models for each genre and model type\n",
    "- they will be used to create `VotingClassifier`"
   ],
   "metadata": {
    "collapsed": false
   }
  },
  {
   "cell_type": "code",
   "execution_count": 10,
   "outputs": [],
   "source": [
    "vc_rfc = VotingClassifier(estimators=[\n",
    "    ('blues', trained_models['classifier'][0]),\n",
    "    ('classical', trained_models['classifier'][2]),\n",
    "    ('electronic', trained_models['classifier'][4]),\n",
    "    ('funk', trained_models['classifier'][6]),\n",
    "    ('jazz', trained_models['classifier'][8]),\n",
    "    ('metal', trained_models['classifier'][10]),\n",
    "    ('r&b', trained_models['classifier'][12]),\n",
    "    ('rap', trained_models['classifier'][14]),\n",
    "    ('rock', trained_models['classifier'][16]),\n",
    "    ('techno', trained_models['classifier'][18])\n",
    "], voting='soft')"
   ],
   "metadata": {
    "collapsed": false
   }
  },
  {
   "cell_type": "code",
   "execution_count": 11,
   "outputs": [
    {
     "name": "stderr",
     "output_type": "stream",
     "text": [
      "/opt/anaconda3/lib/python3.8/site-packages/sklearn/preprocessing/_label.py:99: DataConversionWarning: A column-vector y was passed when a 1d array was expected. Please change the shape of y to (n_samples, ), for example using ravel().\n",
      "  y = column_or_1d(y, warn=True)\n",
      "/opt/anaconda3/lib/python3.8/site-packages/sklearn/preprocessing/_label.py:134: DataConversionWarning: A column-vector y was passed when a 1d array was expected. Please change the shape of y to (n_samples, ), for example using ravel().\n",
      "  y = column_or_1d(y, dtype=self.classes_.dtype, warn=True)\n"
     ]
    },
    {
     "name": "stdout",
     "output_type": "stream",
     "text": [
      "VotingClassifier Accuracy:\t 0.6255\n"
     ]
    }
   ],
   "source": [
    "# compute accuracy of VotingClassifier\n",
    "vc_rfc.fit(X_train, y_train)\n",
    "y_pred = vc_rfc.predict(X_test)\n",
    "print('VotingClassifier Accuracy:\\t', accuracy_score(y_test, y_pred))"
   ],
   "metadata": {
    "collapsed": false
   }
  }
 ],
 "metadata": {
  "kernelspec": {
   "display_name": "Python 3",
   "language": "python",
   "name": "python3"
  },
  "language_info": {
   "codemirror_mode": {
    "name": "ipython",
    "version": 2
   },
   "file_extension": ".py",
   "mimetype": "text/x-python",
   "name": "python",
   "nbconvert_exporter": "python",
   "pygments_lexer": "ipython2",
   "version": "2.7.6"
  }
 },
 "nbformat": 4,
 "nbformat_minor": 0
}
