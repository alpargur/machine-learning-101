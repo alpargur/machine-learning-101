{
 "cells": [
  {
   "cell_type": "markdown",
   "source": [
    "# Hyperparameter Tuning for Super Vector Classifier (One vs. All)"
   ],
   "metadata": {
    "collapsed": false
   }
  },
  {
   "cell_type": "code",
   "execution_count": 1,
   "id": "73b2eeeb",
   "metadata": {},
   "outputs": [],
   "source": [
    "# import libraries\n",
    "import pandas as pd\n",
    "import numpy as np\n",
    "import time\n",
    "import matplotlib.pyplot as plt\n",
    "import seaborn as sns\n",
    "%matplotlib inline\n",
    "sns.set_theme(style=\"whitegrid\")"
   ]
  },
  {
   "cell_type": "code",
   "execution_count": 2,
   "id": "d09c4ce6",
   "metadata": {},
   "outputs": [],
   "source": [
    "# import data\n",
    "df = pd.read_csv('data/tracks_1000+.csv', index_col=False)\n",
    "df.drop(columns={'Unnamed: 0'}, inplace=True)"
   ]
  },
  {
   "cell_type": "code",
   "execution_count": 3,
   "id": "1664fb24",
   "metadata": {},
   "outputs": [],
   "source": [
    "del df[\"track_id\"]; del df[\"artist_name\"]; del df[\"track_name\"]"
   ]
  },
  {
   "cell_type": "code",
   "execution_count": 4,
   "id": "e4a69dd5",
   "metadata": {},
   "outputs": [
    {
     "data": {
      "text/plain": "      popularity   genre  danceability  energy  key  loudness  mode  \\\n0             86   blues         0.743   0.446    4    -7.807     0   \n1             86   blues         0.743   0.446    4    -7.807     0   \n2             86   blues         0.743   0.446    4    -7.807     0   \n3             80   blues         0.636   0.676    2    -3.442     1   \n4             80   blues         0.636   0.676    2    -3.442     1   \n...          ...     ...           ...     ...  ...       ...   ...   \n9995          37  techno         0.714   0.621    9    -7.005     1   \n9996          34  techno         0.803   0.960    9    -3.342     0   \n9997          49  techno         0.880   0.477    0   -10.947     1   \n9998          47  techno         0.626   0.665    7   -10.134     0   \n9999          48  techno         0.679   0.820    0    -8.343     1   \n\n      speechiness  acousticness  instrumentalness  liveness  valence    tempo  \\\n0          0.0683       0.00390            0.1180    0.3370   0.2780  123.596   \n1          0.0683       0.00390            0.1180    0.3370   0.2780  123.596   \n2          0.0683       0.00390            0.1180    0.3370   0.2780  123.596   \n3          0.0263       0.08070            0.0000    0.0831   0.2730  113.980   \n4          0.0263       0.08070            0.0000    0.0831   0.2730  113.980   \n...           ...           ...               ...       ...      ...      ...   \n9995       0.0893       0.20100            0.0192    0.0568   0.7450  114.237   \n9996       0.0429       0.01570            0.0242    0.0566   0.5470  125.990   \n9997       0.0732       0.00143            0.6270    0.0922   0.2090  125.017   \n9998       0.0574       0.00775            0.7560    0.0811   0.0327  125.009   \n9999       0.0450       0.01470            0.8700    0.1050   0.1660  125.992   \n\n      duration_ms  time_signature  \n0          232107               4  \n1          232107               4  \n2          232107               4  \n3          208760               4  \n4          208760               4  \n...           ...             ...  \n9995       331040               4  \n9996       231271               4  \n9997       539520               4  \n9998       240000               4  \n9999       301423               4  \n\n[10000 rows x 15 columns]",
      "text/html": "<div>\n<style scoped>\n    .dataframe tbody tr th:only-of-type {\n        vertical-align: middle;\n    }\n\n    .dataframe tbody tr th {\n        vertical-align: top;\n    }\n\n    .dataframe thead th {\n        text-align: right;\n    }\n</style>\n<table border=\"1\" class=\"dataframe\">\n  <thead>\n    <tr style=\"text-align: right;\">\n      <th></th>\n      <th>popularity</th>\n      <th>genre</th>\n      <th>danceability</th>\n      <th>energy</th>\n      <th>key</th>\n      <th>loudness</th>\n      <th>mode</th>\n      <th>speechiness</th>\n      <th>acousticness</th>\n      <th>instrumentalness</th>\n      <th>liveness</th>\n      <th>valence</th>\n      <th>tempo</th>\n      <th>duration_ms</th>\n      <th>time_signature</th>\n    </tr>\n  </thead>\n  <tbody>\n    <tr>\n      <th>0</th>\n      <td>86</td>\n      <td>blues</td>\n      <td>0.743</td>\n      <td>0.446</td>\n      <td>4</td>\n      <td>-7.807</td>\n      <td>0</td>\n      <td>0.0683</td>\n      <td>0.00390</td>\n      <td>0.1180</td>\n      <td>0.3370</td>\n      <td>0.2780</td>\n      <td>123.596</td>\n      <td>232107</td>\n      <td>4</td>\n    </tr>\n    <tr>\n      <th>1</th>\n      <td>86</td>\n      <td>blues</td>\n      <td>0.743</td>\n      <td>0.446</td>\n      <td>4</td>\n      <td>-7.807</td>\n      <td>0</td>\n      <td>0.0683</td>\n      <td>0.00390</td>\n      <td>0.1180</td>\n      <td>0.3370</td>\n      <td>0.2780</td>\n      <td>123.596</td>\n      <td>232107</td>\n      <td>4</td>\n    </tr>\n    <tr>\n      <th>2</th>\n      <td>86</td>\n      <td>blues</td>\n      <td>0.743</td>\n      <td>0.446</td>\n      <td>4</td>\n      <td>-7.807</td>\n      <td>0</td>\n      <td>0.0683</td>\n      <td>0.00390</td>\n      <td>0.1180</td>\n      <td>0.3370</td>\n      <td>0.2780</td>\n      <td>123.596</td>\n      <td>232107</td>\n      <td>4</td>\n    </tr>\n    <tr>\n      <th>3</th>\n      <td>80</td>\n      <td>blues</td>\n      <td>0.636</td>\n      <td>0.676</td>\n      <td>2</td>\n      <td>-3.442</td>\n      <td>1</td>\n      <td>0.0263</td>\n      <td>0.08070</td>\n      <td>0.0000</td>\n      <td>0.0831</td>\n      <td>0.2730</td>\n      <td>113.980</td>\n      <td>208760</td>\n      <td>4</td>\n    </tr>\n    <tr>\n      <th>4</th>\n      <td>80</td>\n      <td>blues</td>\n      <td>0.636</td>\n      <td>0.676</td>\n      <td>2</td>\n      <td>-3.442</td>\n      <td>1</td>\n      <td>0.0263</td>\n      <td>0.08070</td>\n      <td>0.0000</td>\n      <td>0.0831</td>\n      <td>0.2730</td>\n      <td>113.980</td>\n      <td>208760</td>\n      <td>4</td>\n    </tr>\n    <tr>\n      <th>...</th>\n      <td>...</td>\n      <td>...</td>\n      <td>...</td>\n      <td>...</td>\n      <td>...</td>\n      <td>...</td>\n      <td>...</td>\n      <td>...</td>\n      <td>...</td>\n      <td>...</td>\n      <td>...</td>\n      <td>...</td>\n      <td>...</td>\n      <td>...</td>\n      <td>...</td>\n    </tr>\n    <tr>\n      <th>9995</th>\n      <td>37</td>\n      <td>techno</td>\n      <td>0.714</td>\n      <td>0.621</td>\n      <td>9</td>\n      <td>-7.005</td>\n      <td>1</td>\n      <td>0.0893</td>\n      <td>0.20100</td>\n      <td>0.0192</td>\n      <td>0.0568</td>\n      <td>0.7450</td>\n      <td>114.237</td>\n      <td>331040</td>\n      <td>4</td>\n    </tr>\n    <tr>\n      <th>9996</th>\n      <td>34</td>\n      <td>techno</td>\n      <td>0.803</td>\n      <td>0.960</td>\n      <td>9</td>\n      <td>-3.342</td>\n      <td>0</td>\n      <td>0.0429</td>\n      <td>0.01570</td>\n      <td>0.0242</td>\n      <td>0.0566</td>\n      <td>0.5470</td>\n      <td>125.990</td>\n      <td>231271</td>\n      <td>4</td>\n    </tr>\n    <tr>\n      <th>9997</th>\n      <td>49</td>\n      <td>techno</td>\n      <td>0.880</td>\n      <td>0.477</td>\n      <td>0</td>\n      <td>-10.947</td>\n      <td>1</td>\n      <td>0.0732</td>\n      <td>0.00143</td>\n      <td>0.6270</td>\n      <td>0.0922</td>\n      <td>0.2090</td>\n      <td>125.017</td>\n      <td>539520</td>\n      <td>4</td>\n    </tr>\n    <tr>\n      <th>9998</th>\n      <td>47</td>\n      <td>techno</td>\n      <td>0.626</td>\n      <td>0.665</td>\n      <td>7</td>\n      <td>-10.134</td>\n      <td>0</td>\n      <td>0.0574</td>\n      <td>0.00775</td>\n      <td>0.7560</td>\n      <td>0.0811</td>\n      <td>0.0327</td>\n      <td>125.009</td>\n      <td>240000</td>\n      <td>4</td>\n    </tr>\n    <tr>\n      <th>9999</th>\n      <td>48</td>\n      <td>techno</td>\n      <td>0.679</td>\n      <td>0.820</td>\n      <td>0</td>\n      <td>-8.343</td>\n      <td>1</td>\n      <td>0.0450</td>\n      <td>0.01470</td>\n      <td>0.8700</td>\n      <td>0.1050</td>\n      <td>0.1660</td>\n      <td>125.992</td>\n      <td>301423</td>\n      <td>4</td>\n    </tr>\n  </tbody>\n</table>\n<p>10000 rows × 15 columns</p>\n</div>"
     },
     "execution_count": 4,
     "metadata": {},
     "output_type": "execute_result"
    }
   ],
   "source": [
    "# Make it 1000 for each category\n",
    "result = df.groupby(\"genre\").apply(lambda x: x.head(1000)).reset_index(drop=True)\n",
    "result"
   ]
  },
  {
   "cell_type": "markdown",
   "source": [
    "## Training Preparation & Scaling"
   ],
   "metadata": {
    "collapsed": false
   }
  },
  {
   "cell_type": "code",
   "execution_count": 5,
   "id": "522c5287",
   "metadata": {},
   "outputs": [
    {
     "name": "stderr",
     "output_type": "stream",
     "text": [
      "/opt/anaconda3/lib/python3.8/site-packages/sklearn/preprocessing/_encoders.py:868: FutureWarning: `sparse` was renamed to `sparse_output` in version 1.2 and will be removed in 1.4. `sparse_output` is ignored unless you leave `sparse` to its default value.\n",
      "  warnings.warn(\n"
     ]
    },
    {
     "data": {
      "text/plain": "10"
     },
     "metadata": {},
     "output_type": "display_data"
    }
   ],
   "source": [
    "from sklearn.model_selection import train_test_split\n",
    "from sklearn.preprocessing import OneHotEncoder\n",
    "\n",
    "y_tmp = pd.DataFrame(result[\"genre\"])\n",
    "X = result.drop(\"genre\", axis=1)\n",
    "encoder = OneHotEncoder(sparse=False)\n",
    "encoder.fit(y_tmp)\n",
    "cols = [x.replace(\"x0_\", \"\") for x in encoder.get_feature_names_out()]\n",
    "display(len(cols))\n",
    "y = pd.DataFrame(encoder.transform(y_tmp), columns=cols)\n",
    "X_train_org, X_test_org, y_train, y_test = train_test_split(X, y, test_size=0.2, random_state = 42)# , stratify=y > 0"
   ]
  },
  {
   "cell_type": "code",
   "execution_count": 6,
   "id": "6d1dc433",
   "metadata": {},
   "outputs": [],
   "source": [
    "from sklearn.compose import ColumnTransformer\n",
    "from sklearn.preprocessing import StandardScaler\n",
    "from sklearn.preprocessing import PowerTransformer\n",
    "from sklearn.preprocessing import RobustScaler\n",
    "from sklearn.pipeline import make_pipeline\n",
    "from sklearn.impute import SimpleImputer\n",
    "\n",
    "def scaler_pipeline():\n",
    "    return make_pipeline(SimpleImputer(strategy='constant', fill_value=0), RobustScaler())\n",
    "\n",
    "def scaler_pipeline_pwr():\n",
    "    return make_pipeline(SimpleImputer(strategy='constant', fill_value=0), RobustScaler(), PowerTransformer(method='yeo-johnson', standardize=True))\n",
    "\n",
    "ct = ColumnTransformer([\n",
    "        ('stdscaled', StandardScaler(), [\"popularity\",\"danceability\",\"energy\",\"key\",\"loudness\",\"mode\",\"speechiness\",\"acousticness\",\"instrumentalness\",\"liveness\",\"valence\",\"tempo\",\"duration_ms\",\"time_signature\"]),\n",
    "       ], remainder='passthrough')\n",
    "\n",
    "X_train_scaled = ct.fit_transform(X_train_org)\n",
    "X_test_scaled  = ct.transform(X_test_org)\n",
    "X_train = X_train_scaled\n",
    "X_test  = X_test_scaled"
   ]
  },
  {
   "cell_type": "markdown",
   "source": [
    "## Examine Parameters and Influences"
   ],
   "metadata": {
    "collapsed": false
   }
  },
  {
   "cell_type": "code",
   "execution_count": 7,
   "outputs": [],
   "source": [
    "from sklearn.svm import SVC\n",
    "from sklearn.model_selection import cross_val_score"
   ],
   "metadata": {
    "collapsed": false
   }
  },
  {
   "cell_type": "markdown",
   "source": [
    "### Training"
   ],
   "metadata": {
    "collapsed": false
   }
  },
  {
   "cell_type": "code",
   "execution_count": 8,
   "outputs": [
    {
     "name": "stdout",
     "output_type": "stream",
     "text": [
      "Genre:\t genre_blues\n",
      "Cross validation score -> \t {} [0.90251219 0.90101237 0.90097524]\n",
      "\n",
      "Genre:\t genre_classical\n",
      "Cross validation score -> \t {} [0.99100112 0.98837645 0.98837209]\n",
      "\n",
      "Genre:\t genre_electronic\n",
      "Cross validation score -> \t {} [0.90063742 0.89913761 0.89909977]\n",
      "\n",
      "Genre:\t genre_funk\n",
      "Cross validation score -> \t {} [0.91976003 0.91938508 0.91822956]\n",
      "\n",
      "Genre:\t genre_jazz\n",
      "Cross validation score -> \t {} [0.91451069 0.92275966 0.91822956]\n",
      "\n",
      "Genre:\t genre_metal\n",
      "Cross validation score -> \t {} [0.8983877 0.8976378 0.8975994]\n",
      "\n",
      "Genre:\t genre_r&b\n",
      "Cross validation score -> \t {} [0.90138733 0.90138733 0.90135034]\n",
      "\n",
      "Genre:\t genre_rap\n",
      "Cross validation score -> \t {} [0.93775778 0.93475816 0.94223556]\n",
      "\n",
      "Genre:\t genre_rock\n",
      "Cross validation score -> \t {} [0.90138733 0.90138733 0.90172543]\n",
      "\n",
      "Genre:\t genre_techno\n",
      "Cross validation score -> \t {} [0.94525684 0.94300712 0.9456114 ]\n",
      "\n"
     ]
    }
   ],
   "source": [
    "cv_scores = {\n",
    "    'genre': [],\n",
    "    'score': []\n",
    "}\n",
    "\n",
    "for gen in y_train.columns:\n",
    "    print('Genre:\\t', gen)\n",
    "    _model = SVC()\n",
    "    _model.fit(X_train, y_train[gen])\n",
    "    cv = cross_val_score(_model, X_train, y_train[gen], cv=3, scoring='accuracy')\n",
    "    print('Cross validation score -> \\t {}', cv)\n",
    "    cv_scores['genre'].append(gen)\n",
    "    cv_scores['score'].append(cv)\n",
    "    print('')\n",
    "\n",
    "cv_scores_df = pd.DataFrame.from_dict(cv_scores)"
   ],
   "metadata": {
    "collapsed": false
   }
  },
  {
   "cell_type": "code",
   "execution_count": 9,
   "outputs": [
    {
     "data": {
      "text/plain": "        genre     score\n0       blues  0.902512\n1   classical  0.991001\n2  electronic  0.900637\n3        funk  0.919760\n4        jazz  0.922760\n5       metal  0.898388\n6         r&b  0.901387\n7         rap  0.942236\n8        rock  0.901725\n9      techno  0.945611",
      "text/html": "<div>\n<style scoped>\n    .dataframe tbody tr th:only-of-type {\n        vertical-align: middle;\n    }\n\n    .dataframe tbody tr th {\n        vertical-align: top;\n    }\n\n    .dataframe thead th {\n        text-align: right;\n    }\n</style>\n<table border=\"1\" class=\"dataframe\">\n  <thead>\n    <tr style=\"text-align: right;\">\n      <th></th>\n      <th>genre</th>\n      <th>score</th>\n    </tr>\n  </thead>\n  <tbody>\n    <tr>\n      <th>0</th>\n      <td>blues</td>\n      <td>0.902512</td>\n    </tr>\n    <tr>\n      <th>1</th>\n      <td>classical</td>\n      <td>0.991001</td>\n    </tr>\n    <tr>\n      <th>2</th>\n      <td>electronic</td>\n      <td>0.900637</td>\n    </tr>\n    <tr>\n      <th>3</th>\n      <td>funk</td>\n      <td>0.919760</td>\n    </tr>\n    <tr>\n      <th>4</th>\n      <td>jazz</td>\n      <td>0.922760</td>\n    </tr>\n    <tr>\n      <th>5</th>\n      <td>metal</td>\n      <td>0.898388</td>\n    </tr>\n    <tr>\n      <th>6</th>\n      <td>r&amp;b</td>\n      <td>0.901387</td>\n    </tr>\n    <tr>\n      <th>7</th>\n      <td>rap</td>\n      <td>0.942236</td>\n    </tr>\n    <tr>\n      <th>8</th>\n      <td>rock</td>\n      <td>0.901725</td>\n    </tr>\n    <tr>\n      <th>9</th>\n      <td>techno</td>\n      <td>0.945611</td>\n    </tr>\n  </tbody>\n</table>\n</div>"
     },
     "execution_count": 9,
     "metadata": {},
     "output_type": "execute_result"
    }
   ],
   "source": [
    "cv_scores_df['score'] = cv_scores_df['score'].apply(lambda x: x.max()) # get max value of cross validation\n",
    "cv_scores_df['genre'] = cv_scores_df['genre'].str.replace('genre_', '') # remove prefix\n",
    "cv_scores_df"
   ],
   "metadata": {
    "collapsed": false
   }
  },
  {
   "cell_type": "code",
   "execution_count": 10,
   "outputs": [],
   "source": [
    "def plot_validations(df, x, y, title):\n",
    "    plt.figure(figsize=(9,7))\n",
    "    plt.title(title)\n",
    "    ax = sns.barplot(data=df, x=x, y=y)\n",
    "    ax.set_ylabel('Accuracy')\n",
    "    ax.set_xlabel('Genre');"
   ],
   "metadata": {
    "collapsed": false
   }
  },
  {
   "cell_type": "code",
   "execution_count": 11,
   "outputs": [
    {
     "data": {
      "text/plain": "<Figure size 648x504 with 1 Axes>",
      "image/png": "[encoded data removed]"
     },
     "metadata": {},
     "output_type": "display_data"
    }
   ],
   "source": [
    "plot_validations(cv_scores_df, 'genre', 'score', 'Accuracy Score by Genre')"
   ],
   "metadata": {
    "collapsed": false
   }
  },
  {
   "cell_type": "markdown",
   "source": [
    "### Hyperparameter Optimization"
   ],
   "metadata": {
    "collapsed": false
   }
  },
  {
   "cell_type": "code",
   "execution_count": 12,
   "outputs": [],
   "source": [
    "from sklearn.model_selection import RandomizedSearchCV\n",
    "from sklearn.model_selection import KFold\n",
    "from sklearn.metrics import accuracy_score"
   ],
   "metadata": {
    "collapsed": false
   }
  },
  {
   "cell_type": "code",
   "execution_count": 33,
   "outputs": [],
   "source": [
    "svc = SVC() # model to be optimized\n",
    "# c, gamma are hyperparameters of SVM\n",
    "\n",
    "# parameters to be optimized\n",
    "params_grid = {\n",
    "    'C': np.arange(0.01, 1.5, 0.01),\n",
    "    'gamma': np.arange(1, 12, 1)\n",
    "}\n",
    "\n",
    "# tuning parameters\n",
    "n_iter = 100\n",
    "cv = KFold(3, random_state=42, shuffle=True)\n",
    "n_jobs = -1\n",
    "scoring = 'accuracy'"
   ],
   "metadata": {
    "collapsed": false
   }
  },
  {
   "cell_type": "code",
   "execution_count": 34,
   "outputs": [
    {
     "name": "stdout",
     "output_type": "stream",
     "text": [
      "Randomized Search for:\t  genre_blues\n",
      "Fitting 3 folds for each of 100 candidates, totalling 300 fits\n",
      "Test set Accuracy:\t 89.60000000000001%.\n",
      "Computation time:\t 100  seconds\n",
      "Randomized Search for:\t  genre_classical\n",
      "Fitting 3 folds for each of 100 candidates, totalling 300 fits\n",
      "Test set Accuracy:\t 93.10000000000001%.\n",
      "Computation time:\t 92  seconds\n",
      "Randomized Search for:\t  genre_electronic\n",
      "Fitting 3 folds for each of 100 candidates, totalling 300 fits\n",
      "Test set Accuracy:\t 91.05%.\n",
      "Computation time:\t 91  seconds\n",
      "Randomized Search for:\t  genre_funk\n",
      "Fitting 3 folds for each of 100 candidates, totalling 300 fits\n",
      "Test set Accuracy:\t 90.7%.\n",
      "Computation time:\t 98  seconds\n",
      "Randomized Search for:\t  genre_jazz\n",
      "Fitting 3 folds for each of 100 candidates, totalling 300 fits\n",
      "Test set Accuracy:\t 89.55%.\n",
      "Computation time:\t 92  seconds\n",
      "Randomized Search for:\t  genre_metal\n",
      "Fitting 3 folds for each of 100 candidates, totalling 300 fits\n",
      "Test set Accuracy:\t 92.10000000000001%.\n",
      "Computation time:\t 98  seconds\n",
      "Randomized Search for:\t  genre_r&b\n",
      "Fitting 3 folds for each of 100 candidates, totalling 300 fits\n",
      "Test set Accuracy:\t 89.45%.\n",
      "Computation time:\t 105  seconds\n",
      "Randomized Search for:\t  genre_rap\n",
      "Fitting 3 folds for each of 100 candidates, totalling 300 fits\n",
      "Test set Accuracy:\t 93.4%.\n",
      "Computation time:\t 99  seconds\n",
      "Randomized Search for:\t  genre_rock\n",
      "Fitting 3 folds for each of 100 candidates, totalling 300 fits\n",
      "Test set Accuracy:\t 89.4%.\n",
      "Computation time:\t 101  seconds\n",
      "Randomized Search for:\t  genre_techno\n",
      "Fitting 3 folds for each of 100 candidates, totalling 300 fits\n",
      "Test set Accuracy:\t 94.39999999999999%.\n",
      "Computation time:\t 90  seconds\n",
      "##########################################\n",
      "Total process duration:\t 967  seconds\n"
     ]
    }
   ],
   "source": [
    "svm_randomized_search = {\n",
    "    'genre': [],\n",
    "    'test-accuracy': []\n",
    "}\n",
    "\n",
    "start = time.time()\n",
    "for genre in y_train.columns:\n",
    "    print('Randomized Search for:\\t ', genre)\n",
    "    loop_start = time.time()\n",
    "    _model = SVC()\n",
    "    _random_search = RandomizedSearchCV(_model, params_grid, n_iter=n_iter, cv=cv, n_jobs=n_jobs, scoring=scoring, random_state=42, verbose=3)\n",
    "    _random_search.fit(X_train, y_train[genre])\n",
    "    _predictions = _random_search.best_estimator_.predict(X_test)\n",
    "    _test_accuracy = round(accuracy_score(y_test[genre], _predictions), 4) * 100\n",
    "    svm_randomized_search['genre'].append(genre)\n",
    "    svm_randomized_search['test-accuracy'].append(_test_accuracy)\n",
    "    print(f'Test set Accuracy:\\t {_test_accuracy}%.')\n",
    "    loop_duration = round(time.time() - loop_start)\n",
    "    print('Computation time:\\t', loop_duration, ' seconds')\n",
    "\n",
    "end = round(time.time() - start)\n",
    "print('##########################################')\n",
    "print('Total process duration:\\t', end, ' seconds')"
   ],
   "metadata": {
    "collapsed": false
   }
  },
  {
   "cell_type": "code",
   "execution_count": 35,
   "outputs": [
    {
     "data": {
      "text/plain": "              genre  test-accuracy\n9      genre_techno          94.40\n7         genre_rap          93.40\n1   genre_classical          93.10\n5       genre_metal          92.10\n2  genre_electronic          91.05\n3        genre_funk          90.70\n0       genre_blues          89.60\n4        genre_jazz          89.55\n6         genre_r&b          89.45\n8        genre_rock          89.40",
      "text/html": "<div>\n<style scoped>\n    .dataframe tbody tr th:only-of-type {\n        vertical-align: middle;\n    }\n\n    .dataframe tbody tr th {\n        vertical-align: top;\n    }\n\n    .dataframe thead th {\n        text-align: right;\n    }\n</style>\n<table border=\"1\" class=\"dataframe\">\n  <thead>\n    <tr style=\"text-align: right;\">\n      <th></th>\n      <th>genre</th>\n      <th>test-accuracy</th>\n    </tr>\n  </thead>\n  <tbody>\n    <tr>\n      <th>9</th>\n      <td>genre_techno</td>\n      <td>94.40</td>\n    </tr>\n    <tr>\n      <th>7</th>\n      <td>genre_rap</td>\n      <td>93.40</td>\n    </tr>\n    <tr>\n      <th>1</th>\n      <td>genre_classical</td>\n      <td>93.10</td>\n    </tr>\n    <tr>\n      <th>5</th>\n      <td>genre_metal</td>\n      <td>92.10</td>\n    </tr>\n    <tr>\n      <th>2</th>\n      <td>genre_electronic</td>\n      <td>91.05</td>\n    </tr>\n    <tr>\n      <th>3</th>\n      <td>genre_funk</td>\n      <td>90.70</td>\n    </tr>\n    <tr>\n      <th>0</th>\n      <td>genre_blues</td>\n      <td>89.60</td>\n    </tr>\n    <tr>\n      <th>4</th>\n      <td>genre_jazz</td>\n      <td>89.55</td>\n    </tr>\n    <tr>\n      <th>6</th>\n      <td>genre_r&amp;b</td>\n      <td>89.45</td>\n    </tr>\n    <tr>\n      <th>8</th>\n      <td>genre_rock</td>\n      <td>89.40</td>\n    </tr>\n  </tbody>\n</table>\n</div>"
     },
     "execution_count": 35,
     "metadata": {},
     "output_type": "execute_result"
    }
   ],
   "source": [
    "svm_randomized_search_df = pd.DataFrame.from_dict(svm_randomized_search)\n",
    "svm_randomized_search_df.sort_values(by='test-accuracy', ascending=False)"
   ],
   "metadata": {
    "collapsed": false
   }
  },
  {
   "cell_type": "markdown",
   "source": [
    "### Visualize difference between score before and after optimization"
   ],
   "metadata": {
    "collapsed": false
   }
  },
  {
   "cell_type": "code",
   "execution_count": 36,
   "outputs": [
    {
     "data": {
      "text/plain": "              genre  test-accuracy\n0       genre_blues          -0.65\n1   genre_classical          -6.00\n2  genre_electronic           0.99\n3        genre_funk          -1.28\n4        genre_jazz          -2.73\n5       genre_metal           2.26\n6         genre_r&b          -0.69\n7         genre_rap          -0.82\n8        genre_rock          -0.77\n9      genre_techno          -0.16",
      "text/html": "<div>\n<style scoped>\n    .dataframe tbody tr th:only-of-type {\n        vertical-align: middle;\n    }\n\n    .dataframe tbody tr th {\n        vertical-align: top;\n    }\n\n    .dataframe thead th {\n        text-align: right;\n    }\n</style>\n<table border=\"1\" class=\"dataframe\">\n  <thead>\n    <tr style=\"text-align: right;\">\n      <th></th>\n      <th>genre</th>\n      <th>test-accuracy</th>\n    </tr>\n  </thead>\n  <tbody>\n    <tr>\n      <th>0</th>\n      <td>genre_blues</td>\n      <td>-0.65</td>\n    </tr>\n    <tr>\n      <th>1</th>\n      <td>genre_classical</td>\n      <td>-6.00</td>\n    </tr>\n    <tr>\n      <th>2</th>\n      <td>genre_electronic</td>\n      <td>0.99</td>\n    </tr>\n    <tr>\n      <th>3</th>\n      <td>genre_funk</td>\n      <td>-1.28</td>\n    </tr>\n    <tr>\n      <th>4</th>\n      <td>genre_jazz</td>\n      <td>-2.73</td>\n    </tr>\n    <tr>\n      <th>5</th>\n      <td>genre_metal</td>\n      <td>2.26</td>\n    </tr>\n    <tr>\n      <th>6</th>\n      <td>genre_r&amp;b</td>\n      <td>-0.69</td>\n    </tr>\n    <tr>\n      <th>7</th>\n      <td>genre_rap</td>\n      <td>-0.82</td>\n    </tr>\n    <tr>\n      <th>8</th>\n      <td>genre_rock</td>\n      <td>-0.77</td>\n    </tr>\n    <tr>\n      <th>9</th>\n      <td>genre_techno</td>\n      <td>-0.16</td>\n    </tr>\n  </tbody>\n</table>\n</div>"
     },
     "execution_count": 36,
     "metadata": {},
     "output_type": "execute_result"
    }
   ],
   "source": [
    "heatmap_diff = svm_randomized_search_df.copy()\n",
    "heatmap_diff['test-accuracy'] = heatmap_diff['test-accuracy'] - round(cv_scores_df['score'], 4) * 100\n",
    "heatmap_diff"
   ],
   "metadata": {
    "collapsed": false
   }
  }
 ],
 "metadata": {
  "kernelspec": {
   "display_name": "Python 3 (ipykernel)",
   "language": "python",
   "name": "python3"
  },
  "language_info": {
   "codemirror_mode": {
    "name": "ipython",
    "version": 3
   },
   "file_extension": ".py",
   "mimetype": "text/x-python",
   "name": "python",
   "nbconvert_exporter": "python",
   "pygments_lexer": "ipython3",
   "version": "3.9.13"
  }
 },
 "nbformat": 4,
 "nbformat_minor": 5
}
