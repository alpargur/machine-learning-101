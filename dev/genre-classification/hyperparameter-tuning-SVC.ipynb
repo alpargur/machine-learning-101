{
 "cells": [
  {
   "cell_type": "markdown",
   "id": "dd0264b7",
   "metadata": {},
   "source": [
    "# Hyperparameter Tuning for Super Vector Classifier (One vs. All)"
   ]
  },
  {
   "cell_type": "code",
   "execution_count": 1,
   "id": "73b2eeeb",
   "metadata": {},
   "outputs": [],
   "source": [
    "# import libraries\n",
    "import pandas as pd\n",
    "import numpy as np\n",
    "import time\n",
    "import matplotlib.pyplot as plt\n",
    "import seaborn as sns\n",
    "%matplotlib inline\n",
    "sns.set_theme(style=\"whitegrid\")"
   ]
  },
  {
   "cell_type": "code",
   "execution_count": 2,
   "id": "f55d472a",
   "metadata": {},
   "outputs": [
    {
     "name": "stdout",
     "output_type": "stream",
     "text": [
      "skipping sklearnex\n"
     ]
    }
   ],
   "source": [
    "try: #+ make things faster if possible\n",
    "    from sklearnex import patch_sklearn\n",
    "    patch_sklearn()\n",
    "except Exception as e:\n",
    "    print(\"skipping sklearnex\")\n",
    "    pass"
   ]
  },
  {
   "cell_type": "code",
   "execution_count": 3,
   "id": "d09c4ce6",
   "metadata": {},
   "outputs": [],
   "source": [
    "# import data\n",
    "df = pd.read_csv('data/tracks_1000+.csv', index_col=False)\n",
    "df.drop(columns={'Unnamed: 0'}, inplace=True)"
   ]
  },
  {
   "cell_type": "code",
   "execution_count": 4,
   "id": "1664fb24",
   "metadata": {},
   "outputs": [],
   "source": [
    "del df[\"track_id\"]; del df[\"artist_name\"]; del df[\"track_name\"]"
   ]
  },
  {
   "cell_type": "code",
   "execution_count": 5,
   "id": "e4a69dd5",
   "metadata": {},
   "outputs": [
    {
     "data": {
      "text/plain": "      popularity   genre  danceability  energy  key  loudness  mode  \\\n0             86   blues         0.743   0.446    4    -7.807     0   \n1             86   blues         0.743   0.446    4    -7.807     0   \n2             86   blues         0.743   0.446    4    -7.807     0   \n3             80   blues         0.636   0.676    2    -3.442     1   \n4             80   blues         0.636   0.676    2    -3.442     1   \n...          ...     ...           ...     ...  ...       ...   ...   \n9995          37  techno         0.714   0.621    9    -7.005     1   \n9996          34  techno         0.803   0.960    9    -3.342     0   \n9997          49  techno         0.880   0.477    0   -10.947     1   \n9998          47  techno         0.626   0.665    7   -10.134     0   \n9999          48  techno         0.679   0.820    0    -8.343     1   \n\n      speechiness  acousticness  instrumentalness  liveness  valence    tempo  \\\n0          0.0683       0.00390            0.1180    0.3370   0.2780  123.596   \n1          0.0683       0.00390            0.1180    0.3370   0.2780  123.596   \n2          0.0683       0.00390            0.1180    0.3370   0.2780  123.596   \n3          0.0263       0.08070            0.0000    0.0831   0.2730  113.980   \n4          0.0263       0.08070            0.0000    0.0831   0.2730  113.980   \n...           ...           ...               ...       ...      ...      ...   \n9995       0.0893       0.20100            0.0192    0.0568   0.7450  114.237   \n9996       0.0429       0.01570            0.0242    0.0566   0.5470  125.990   \n9997       0.0732       0.00143            0.6270    0.0922   0.2090  125.017   \n9998       0.0574       0.00775            0.7560    0.0811   0.0327  125.009   \n9999       0.0450       0.01470            0.8700    0.1050   0.1660  125.992   \n\n      duration_ms  time_signature  \n0          232107               4  \n1          232107               4  \n2          232107               4  \n3          208760               4  \n4          208760               4  \n...           ...             ...  \n9995       331040               4  \n9996       231271               4  \n9997       539520               4  \n9998       240000               4  \n9999       301423               4  \n\n[10000 rows x 15 columns]",
      "text/html": "<div>\n<style scoped>\n    .dataframe tbody tr th:only-of-type {\n        vertical-align: middle;\n    }\n\n    .dataframe tbody tr th {\n        vertical-align: top;\n    }\n\n    .dataframe thead th {\n        text-align: right;\n    }\n</style>\n<table border=\"1\" class=\"dataframe\">\n  <thead>\n    <tr style=\"text-align: right;\">\n      <th></th>\n      <th>popularity</th>\n      <th>genre</th>\n      <th>danceability</th>\n      <th>energy</th>\n      <th>key</th>\n      <th>loudness</th>\n      <th>mode</th>\n      <th>speechiness</th>\n      <th>acousticness</th>\n      <th>instrumentalness</th>\n      <th>liveness</th>\n      <th>valence</th>\n      <th>tempo</th>\n      <th>duration_ms</th>\n      <th>time_signature</th>\n    </tr>\n  </thead>\n  <tbody>\n    <tr>\n      <th>0</th>\n      <td>86</td>\n      <td>blues</td>\n      <td>0.743</td>\n      <td>0.446</td>\n      <td>4</td>\n      <td>-7.807</td>\n      <td>0</td>\n      <td>0.0683</td>\n      <td>0.00390</td>\n      <td>0.1180</td>\n      <td>0.3370</td>\n      <td>0.2780</td>\n      <td>123.596</td>\n      <td>232107</td>\n      <td>4</td>\n    </tr>\n    <tr>\n      <th>1</th>\n      <td>86</td>\n      <td>blues</td>\n      <td>0.743</td>\n      <td>0.446</td>\n      <td>4</td>\n      <td>-7.807</td>\n      <td>0</td>\n      <td>0.0683</td>\n      <td>0.00390</td>\n      <td>0.1180</td>\n      <td>0.3370</td>\n      <td>0.2780</td>\n      <td>123.596</td>\n      <td>232107</td>\n      <td>4</td>\n    </tr>\n    <tr>\n      <th>2</th>\n      <td>86</td>\n      <td>blues</td>\n      <td>0.743</td>\n      <td>0.446</td>\n      <td>4</td>\n      <td>-7.807</td>\n      <td>0</td>\n      <td>0.0683</td>\n      <td>0.00390</td>\n      <td>0.1180</td>\n      <td>0.3370</td>\n      <td>0.2780</td>\n      <td>123.596</td>\n      <td>232107</td>\n      <td>4</td>\n    </tr>\n    <tr>\n      <th>3</th>\n      <td>80</td>\n      <td>blues</td>\n      <td>0.636</td>\n      <td>0.676</td>\n      <td>2</td>\n      <td>-3.442</td>\n      <td>1</td>\n      <td>0.0263</td>\n      <td>0.08070</td>\n      <td>0.0000</td>\n      <td>0.0831</td>\n      <td>0.2730</td>\n      <td>113.980</td>\n      <td>208760</td>\n      <td>4</td>\n    </tr>\n    <tr>\n      <th>4</th>\n      <td>80</td>\n      <td>blues</td>\n      <td>0.636</td>\n      <td>0.676</td>\n      <td>2</td>\n      <td>-3.442</td>\n      <td>1</td>\n      <td>0.0263</td>\n      <td>0.08070</td>\n      <td>0.0000</td>\n      <td>0.0831</td>\n      <td>0.2730</td>\n      <td>113.980</td>\n      <td>208760</td>\n      <td>4</td>\n    </tr>\n    <tr>\n      <th>...</th>\n      <td>...</td>\n      <td>...</td>\n      <td>...</td>\n      <td>...</td>\n      <td>...</td>\n      <td>...</td>\n      <td>...</td>\n      <td>...</td>\n      <td>...</td>\n      <td>...</td>\n      <td>...</td>\n      <td>...</td>\n      <td>...</td>\n      <td>...</td>\n      <td>...</td>\n    </tr>\n    <tr>\n      <th>9995</th>\n      <td>37</td>\n      <td>techno</td>\n      <td>0.714</td>\n      <td>0.621</td>\n      <td>9</td>\n      <td>-7.005</td>\n      <td>1</td>\n      <td>0.0893</td>\n      <td>0.20100</td>\n      <td>0.0192</td>\n      <td>0.0568</td>\n      <td>0.7450</td>\n      <td>114.237</td>\n      <td>331040</td>\n      <td>4</td>\n    </tr>\n    <tr>\n      <th>9996</th>\n      <td>34</td>\n      <td>techno</td>\n      <td>0.803</td>\n      <td>0.960</td>\n      <td>9</td>\n      <td>-3.342</td>\n      <td>0</td>\n      <td>0.0429</td>\n      <td>0.01570</td>\n      <td>0.0242</td>\n      <td>0.0566</td>\n      <td>0.5470</td>\n      <td>125.990</td>\n      <td>231271</td>\n      <td>4</td>\n    </tr>\n    <tr>\n      <th>9997</th>\n      <td>49</td>\n      <td>techno</td>\n      <td>0.880</td>\n      <td>0.477</td>\n      <td>0</td>\n      <td>-10.947</td>\n      <td>1</td>\n      <td>0.0732</td>\n      <td>0.00143</td>\n      <td>0.6270</td>\n      <td>0.0922</td>\n      <td>0.2090</td>\n      <td>125.017</td>\n      <td>539520</td>\n      <td>4</td>\n    </tr>\n    <tr>\n      <th>9998</th>\n      <td>47</td>\n      <td>techno</td>\n      <td>0.626</td>\n      <td>0.665</td>\n      <td>7</td>\n      <td>-10.134</td>\n      <td>0</td>\n      <td>0.0574</td>\n      <td>0.00775</td>\n      <td>0.7560</td>\n      <td>0.0811</td>\n      <td>0.0327</td>\n      <td>125.009</td>\n      <td>240000</td>\n      <td>4</td>\n    </tr>\n    <tr>\n      <th>9999</th>\n      <td>48</td>\n      <td>techno</td>\n      <td>0.679</td>\n      <td>0.820</td>\n      <td>0</td>\n      <td>-8.343</td>\n      <td>1</td>\n      <td>0.0450</td>\n      <td>0.01470</td>\n      <td>0.8700</td>\n      <td>0.1050</td>\n      <td>0.1660</td>\n      <td>125.992</td>\n      <td>301423</td>\n      <td>4</td>\n    </tr>\n  </tbody>\n</table>\n<p>10000 rows × 15 columns</p>\n</div>"
     },
     "execution_count": 5,
     "metadata": {},
     "output_type": "execute_result"
    }
   ],
   "source": [
    "# Make it 1000 for each category\n",
    "result = df.groupby(\"genre\").apply(lambda x: x.head(1000)).reset_index(drop=True)\n",
    "result"
   ]
  },
  {
   "cell_type": "markdown",
   "id": "ff18ef4c",
   "metadata": {},
   "source": [
    "## Training Preparation & Scaling"
   ]
  },
  {
   "cell_type": "code",
   "execution_count": 6,
   "id": "522c5287",
   "metadata": {},
   "outputs": [
    {
     "name": "stderr",
     "output_type": "stream",
     "text": [
      "/opt/anaconda3/lib/python3.8/site-packages/sklearn/preprocessing/_encoders.py:868: FutureWarning: `sparse` was renamed to `sparse_output` in version 1.2 and will be removed in 1.4. `sparse_output` is ignored unless you leave `sparse` to its default value.\n",
      "  warnings.warn(\n"
     ]
    },
    {
     "data": {
      "text/plain": "10"
     },
     "metadata": {},
     "output_type": "display_data"
    }
   ],
   "source": [
    "from sklearn.model_selection import train_test_split\n",
    "from sklearn.preprocessing import OneHotEncoder\n",
    "\n",
    "y_tmp = pd.DataFrame(result[\"genre\"])\n",
    "X = result.drop(\"genre\", axis=1)\n",
    "encoder = OneHotEncoder(sparse=False)\n",
    "encoder.fit(y_tmp)\n",
    "cols = [x.replace(\"x0_\", \"\") for x in encoder.get_feature_names_out()]\n",
    "display(len(cols))\n",
    "y = pd.DataFrame(encoder.transform(y_tmp), columns=cols)\n",
    "X_train_org, X_test_org, y_train, y_test = train_test_split(X, y, test_size=0.2, random_state = 42)# , stratify=y > 0"
   ]
  },
  {
   "cell_type": "code",
   "execution_count": 7,
   "id": "6d1dc433",
   "metadata": {},
   "outputs": [],
   "source": [
    "from sklearn.compose import ColumnTransformer\n",
    "from sklearn.preprocessing import StandardScaler\n",
    "from sklearn.preprocessing import PowerTransformer\n",
    "from sklearn.preprocessing import RobustScaler\n",
    "from sklearn.pipeline import make_pipeline\n",
    "from sklearn.impute import SimpleImputer\n",
    "\n",
    "def scaler_pipeline():\n",
    "    return make_pipeline(SimpleImputer(strategy='constant', fill_value=0), RobustScaler())\n",
    "\n",
    "def scaler_pipeline_pwr():\n",
    "    return make_pipeline(SimpleImputer(strategy='constant', fill_value=0), RobustScaler(), PowerTransformer(method='yeo-johnson', standardize=True))\n",
    "\n",
    "ct = ColumnTransformer([\n",
    "        ('stdscaled', StandardScaler(), [\"popularity\",\"danceability\",\"energy\",\"key\",\"loudness\",\"mode\",\"speechiness\",\"acousticness\",\"instrumentalness\",\"liveness\",\"valence\",\"tempo\",\"duration_ms\",\"time_signature\"]),\n",
    "       ], remainder='passthrough')\n",
    "\n",
    "X_train_scaled = ct.fit_transform(X_train_org)\n",
    "X_test_scaled  = ct.transform(X_test_org)\n",
    "X_train = X_train_scaled\n",
    "X_test  = X_test_scaled"
   ]
  },
  {
   "cell_type": "markdown",
   "id": "67c58be9",
   "metadata": {},
   "source": [
    "## Examine Parameters and Influences"
   ]
  },
  {
   "cell_type": "code",
   "execution_count": 8,
   "id": "8ea07904",
   "metadata": {},
   "outputs": [],
   "source": [
    "from sklearn.svm import SVC\n",
    "from sklearn.model_selection import cross_val_score\n",
    "from sklearn.metrics import accuracy_score"
   ]
  },
  {
   "cell_type": "markdown",
   "id": "c79b2590",
   "metadata": {},
   "source": [
    "### Training"
   ]
  },
  {
   "cell_type": "code",
   "execution_count": 9,
   "id": "c5023471",
   "metadata": {},
   "outputs": [
    {
     "name": "stdout",
     "output_type": "stream",
     "text": [
      "Genre:\t genre_blues\n",
      "Cross validation score -> \t  [0.90251219 0.90101237 0.90097524]\n",
      "\n",
      "Genre:\t genre_classical\n",
      "Cross validation score -> \t  [0.99100112 0.98837645 0.98837209]\n",
      "\n",
      "Genre:\t genre_electronic\n",
      "Cross validation score -> \t  [0.90063742 0.89913761 0.89909977]\n",
      "\n",
      "Genre:\t genre_funk\n",
      "Cross validation score -> \t  [0.91976003 0.91938508 0.91822956]\n",
      "\n",
      "Genre:\t genre_jazz\n",
      "Cross validation score -> \t  [0.91451069 0.92275966 0.91822956]\n",
      "\n",
      "Genre:\t genre_metal\n",
      "Cross validation score -> \t  [0.8983877 0.8976378 0.8975994]\n",
      "\n",
      "Genre:\t genre_r&b\n",
      "Cross validation score -> \t  [0.90138733 0.90138733 0.90135034]\n",
      "\n",
      "Genre:\t genre_rap\n",
      "Cross validation score -> \t  [0.93775778 0.93475816 0.94223556]\n",
      "\n",
      "Genre:\t genre_rock\n",
      "Cross validation score -> \t  [0.90138733 0.90138733 0.90172543]\n",
      "\n",
      "Genre:\t genre_techno\n",
      "Cross validation score -> \t  [0.94525684 0.94300712 0.9456114 ]\n",
      "\n"
     ]
    }
   ],
   "source": [
    "cv_scores = {\n",
    "    'genre': [],\n",
    "    'score': []\n",
    "}\n",
    "\n",
    "test_scores_not_optimized = {}\n",
    "for gen in y_train.columns:\n",
    "    print('Genre:\\t', gen)\n",
    "    _model = SVC(random_state=42)\n",
    "    _model.fit(X_train, y_train[gen])\n",
    "    cv = cross_val_score(_model, X_train, y_train[gen], cv=3, scoring='accuracy')\n",
    "    print('Cross validation score -> \\t ', cv)\n",
    "    cv_scores['genre'].append(gen)\n",
    "    cv_scores['score'].append(cv)\n",
    "    print('')\n",
    "    test_scores_not_optimized[gen] = accuracy_score(y_test[gen], _model.predict(X_test))\n",
    "\n",
    "cv_scores_df = pd.DataFrame.from_dict(cv_scores)"
   ]
  },
  {
   "cell_type": "code",
   "execution_count": 10,
   "id": "139f9aa2",
   "metadata": {},
   "outputs": [
    {
     "data": {
      "text/plain": "        genre     score\n0       blues  0.902512\n1   classical  0.991001\n2  electronic  0.900637\n3        funk  0.919760\n4        jazz  0.922760\n5       metal  0.898388\n6         r&b  0.901387\n7         rap  0.942236\n8        rock  0.901725\n9      techno  0.945611",
      "text/html": "<div>\n<style scoped>\n    .dataframe tbody tr th:only-of-type {\n        vertical-align: middle;\n    }\n\n    .dataframe tbody tr th {\n        vertical-align: top;\n    }\n\n    .dataframe thead th {\n        text-align: right;\n    }\n</style>\n<table border=\"1\" class=\"dataframe\">\n  <thead>\n    <tr style=\"text-align: right;\">\n      <th></th>\n      <th>genre</th>\n      <th>score</th>\n    </tr>\n  </thead>\n  <tbody>\n    <tr>\n      <th>0</th>\n      <td>blues</td>\n      <td>0.902512</td>\n    </tr>\n    <tr>\n      <th>1</th>\n      <td>classical</td>\n      <td>0.991001</td>\n    </tr>\n    <tr>\n      <th>2</th>\n      <td>electronic</td>\n      <td>0.900637</td>\n    </tr>\n    <tr>\n      <th>3</th>\n      <td>funk</td>\n      <td>0.919760</td>\n    </tr>\n    <tr>\n      <th>4</th>\n      <td>jazz</td>\n      <td>0.922760</td>\n    </tr>\n    <tr>\n      <th>5</th>\n      <td>metal</td>\n      <td>0.898388</td>\n    </tr>\n    <tr>\n      <th>6</th>\n      <td>r&amp;b</td>\n      <td>0.901387</td>\n    </tr>\n    <tr>\n      <th>7</th>\n      <td>rap</td>\n      <td>0.942236</td>\n    </tr>\n    <tr>\n      <th>8</th>\n      <td>rock</td>\n      <td>0.901725</td>\n    </tr>\n    <tr>\n      <th>9</th>\n      <td>techno</td>\n      <td>0.945611</td>\n    </tr>\n  </tbody>\n</table>\n</div>"
     },
     "execution_count": 10,
     "metadata": {},
     "output_type": "execute_result"
    }
   ],
   "source": [
    "cv_scores_df['score'] = cv_scores_df['score'].apply(lambda x: x.max()) # get max value of cross validation\n",
    "cv_scores_df['genre'] = cv_scores_df['genre'].str.replace('genre_', '') # remove prefix\n",
    "cv_scores_df"
   ]
  },
  {
   "cell_type": "code",
   "execution_count": 11,
   "id": "a9d5b915",
   "metadata": {},
   "outputs": [
    {
     "name": "stdout",
     "output_type": "stream",
     "text": [
      "Score of Test Dataset\n"
     ]
    },
    {
     "data": {
      "text/plain": "        genre   score\n0       blues  0.8975\n1   classical  0.9855\n2  electronic  0.9080\n3        funk  0.9125\n4        jazz  0.9115\n5       metal  0.9070\n6         r&b  0.8945\n7         rap  0.9310\n8        rock  0.8940\n9      techno  0.9565",
      "text/html": "<div>\n<style scoped>\n    .dataframe tbody tr th:only-of-type {\n        vertical-align: middle;\n    }\n\n    .dataframe tbody tr th {\n        vertical-align: top;\n    }\n\n    .dataframe thead th {\n        text-align: right;\n    }\n</style>\n<table border=\"1\" class=\"dataframe\">\n  <thead>\n    <tr style=\"text-align: right;\">\n      <th></th>\n      <th>genre</th>\n      <th>score</th>\n    </tr>\n  </thead>\n  <tbody>\n    <tr>\n      <th>0</th>\n      <td>blues</td>\n      <td>0.8975</td>\n    </tr>\n    <tr>\n      <th>1</th>\n      <td>classical</td>\n      <td>0.9855</td>\n    </tr>\n    <tr>\n      <th>2</th>\n      <td>electronic</td>\n      <td>0.9080</td>\n    </tr>\n    <tr>\n      <th>3</th>\n      <td>funk</td>\n      <td>0.9125</td>\n    </tr>\n    <tr>\n      <th>4</th>\n      <td>jazz</td>\n      <td>0.9115</td>\n    </tr>\n    <tr>\n      <th>5</th>\n      <td>metal</td>\n      <td>0.9070</td>\n    </tr>\n    <tr>\n      <th>6</th>\n      <td>r&amp;b</td>\n      <td>0.8945</td>\n    </tr>\n    <tr>\n      <th>7</th>\n      <td>rap</td>\n      <td>0.9310</td>\n    </tr>\n    <tr>\n      <th>8</th>\n      <td>rock</td>\n      <td>0.8940</td>\n    </tr>\n    <tr>\n      <th>9</th>\n      <td>techno</td>\n      <td>0.9565</td>\n    </tr>\n  </tbody>\n</table>\n</div>"
     },
     "execution_count": 11,
     "metadata": {},
     "output_type": "execute_result"
    }
   ],
   "source": [
    "# Test Score\n",
    "test_scores_unoptimized_df = pd.DataFrame({\"genre\":[x.replace(\"genre_\",\"\") for x in test_scores_not_optimized.keys()], \"score\":test_scores_not_optimized.values()})\n",
    "print(\"Score of Test Dataset\")\n",
    "test_scores_unoptimized_df"
   ]
  },
  {
   "cell_type": "code",
   "execution_count": 12,
   "id": "5b2235a8",
   "metadata": {},
   "outputs": [],
   "source": [
    "def plot_validations(df, x, y, title):\n",
    "    plt.figure(figsize=(9,7))\n",
    "    plt.title(title)\n",
    "    ax = sns.barplot(data=df, x=x, y=y)\n",
    "    ax.set_ylabel('Accuracy')\n",
    "    ax.set_xlabel('Genre');"
   ]
  },
  {
   "cell_type": "code",
   "execution_count": 13,
   "id": "a169695a",
   "metadata": {},
   "outputs": [
    {
     "data": {
      "text/plain": "<Figure size 648x504 with 1 Axes>",
      "image/png": "[encoded data removed]"
     },
     "metadata": {},
     "output_type": "display_data"
    }
   ],
   "source": [
    "plot_validations(cv_scores_df, 'genre', 'score', 'Accuracy Score by Genre')"
   ]
  },
  {
   "cell_type": "markdown",
   "id": "004ef97d",
   "metadata": {},
   "source": [
    "### Hyperparameter Optimization"
   ]
  },
  {
   "cell_type": "code",
   "execution_count": 14,
   "id": "a81bbfc7",
   "metadata": {},
   "outputs": [],
   "source": [
    "from sklearn.model_selection import RandomizedSearchCV\n",
    "from sklearn.model_selection import KFold\n",
    "from sklearn.metrics import accuracy_score"
   ]
  },
  {
   "cell_type": "code",
   "execution_count": 15,
   "id": "dbd7e85b",
   "metadata": {},
   "outputs": [],
   "source": [
    "svc = SVC() # model to be optimized\n",
    "# c, gamma are hyperparameters of SVM\n",
    "\n",
    "# parameters to be optimized\n",
    "params_grid = {\n",
    "    'C': np.arange(0.01, 1.5, 0.01),\n",
    "    'gamma': np.arange(1, 12, 1)\n",
    "}\n",
    "\n",
    "# tuning parameters\n",
    "n_iter = 100\n",
    "cv = KFold(3, random_state=42, shuffle=True)\n",
    "n_jobs = -1\n",
    "scoring = 'accuracy'"
   ]
  },
  {
   "cell_type": "code",
   "execution_count": 16,
   "id": "3a7e2720",
   "metadata": {},
   "outputs": [
    {
     "name": "stdout",
     "output_type": "stream",
     "text": [
      "Randomized Search for:\t  genre_blues\n",
      "Fitting 3 folds for each of 100 candidates, totalling 300 fits\n",
      "Test set Accuracy:\t 89.60000000000001%.\n",
      "Computation time:\t 99  seconds\n",
      "Best estimators:\t SVC(C=0.25, gamma=8, random_state=42)\n",
      "\n",
      "Randomized Search for:\t  genre_classical\n",
      "Fitting 3 folds for each of 100 candidates, totalling 300 fits\n",
      "Test set Accuracy:\t 93.10000000000001%.\n",
      "Computation time:\t 95  seconds\n",
      "Best estimators:\t SVC(C=1.34, gamma=1, random_state=42)\n",
      "\n",
      "Randomized Search for:\t  genre_electronic\n",
      "Fitting 3 folds for each of 100 candidates, totalling 300 fits\n",
      "Test set Accuracy:\t 91.05%.\n",
      "Computation time:\t 102  seconds\n",
      "Best estimators:\t SVC(C=1.27, gamma=1, random_state=42)\n",
      "\n",
      "Randomized Search for:\t  genre_funk\n",
      "Fitting 3 folds for each of 100 candidates, totalling 300 fits\n",
      "Test set Accuracy:\t 90.7%.\n",
      "Computation time:\t 101  seconds\n",
      "Best estimators:\t SVC(C=1.34, gamma=1, random_state=42)\n",
      "\n",
      "Randomized Search for:\t  genre_jazz\n",
      "Fitting 3 folds for each of 100 candidates, totalling 300 fits\n",
      "Test set Accuracy:\t 89.55%.\n",
      "Computation time:\t 104  seconds\n",
      "Best estimators:\t SVC(C=0.25, gamma=8, random_state=42)\n",
      "\n",
      "Randomized Search for:\t  genre_metal\n",
      "Fitting 3 folds for each of 100 candidates, totalling 300 fits\n",
      "Test set Accuracy:\t 92.10000000000001%.\n",
      "Computation time:\t 109  seconds\n",
      "Best estimators:\t SVC(C=1.34, gamma=1, random_state=42)\n",
      "\n",
      "Randomized Search for:\t  genre_r&b\n",
      "Fitting 3 folds for each of 100 candidates, totalling 300 fits\n",
      "Test set Accuracy:\t 89.45%.\n",
      "Computation time:\t 117  seconds\n",
      "Best estimators:\t SVC(C=0.25, gamma=8, random_state=42)\n",
      "\n",
      "Randomized Search for:\t  genre_rap\n",
      "Fitting 3 folds for each of 100 candidates, totalling 300 fits\n",
      "Test set Accuracy:\t 93.4%.\n",
      "Computation time:\t 109  seconds\n",
      "Best estimators:\t SVC(C=1.27, gamma=1, random_state=42)\n",
      "\n",
      "Randomized Search for:\t  genre_rock\n",
      "Fitting 3 folds for each of 100 candidates, totalling 300 fits\n",
      "Test set Accuracy:\t 89.4%.\n",
      "Computation time:\t 113  seconds\n",
      "Best estimators:\t SVC(C=0.25, gamma=8, random_state=42)\n",
      "\n",
      "Randomized Search for:\t  genre_techno\n",
      "Fitting 3 folds for each of 100 candidates, totalling 300 fits\n",
      "Test set Accuracy:\t 94.39999999999999%.\n",
      "Computation time:\t 101  seconds\n",
      "Best estimators:\t SVC(C=1.34, gamma=1, random_state=42)\n",
      "\n",
      "##########################################\n",
      "Total process duration:\t 1050  seconds\n"
     ]
    }
   ],
   "source": [
    "svm_randomized_search = {\n",
    "    'genre': [],\n",
    "    'test-accuracy': []\n",
    "}\n",
    "\n",
    "start = time.time()\n",
    "test_scores_of_optimized = {}\n",
    "for genre in y_train.columns:\n",
    "    print('Randomized Search for:\\t ', genre)\n",
    "    loop_start = time.time()\n",
    "    _model = SVC(random_state=42)\n",
    "    _random_search = RandomizedSearchCV(_model, params_grid, n_iter=n_iter, cv=cv, n_jobs=n_jobs, scoring=scoring, random_state=42, verbose=3)\n",
    "    _random_search.fit(X_train, y_train[genre])\n",
    "    _predictions_train = _random_search.best_estimator_.predict(X_train)\n",
    "    _predictions = _random_search.best_estimator_.predict(X_test)\n",
    "    _test_accuracy = round(accuracy_score(y_test[genre], _predictions), 4) * 100\n",
    "    svm_randomized_search['genre'].append(genre)\n",
    "    svm_randomized_search['test-accuracy'].append(accuracy_score(y_train[genre], _predictions_train))\n",
    "    print(f'Test set Accuracy:\\t {_test_accuracy}%.')\n",
    "    loop_duration = round(time.time() - loop_start)\n",
    "    print('Computation time:\\t', loop_duration, ' seconds')\n",
    "    test_scores_of_optimized[genre] = accuracy_score(y_test[genre], _predictions)\n",
    "    print('Best estimators:\\t', _random_search.best_estimator_)\n",
    "    print('')\n",
    "\n",
    "end = round(time.time() - start)\n",
    "print('##########################################')\n",
    "print('Total process duration:\\t', end, ' seconds')"
   ]
  },
  {
   "cell_type": "code",
   "execution_count": 17,
   "id": "1cbc26d5",
   "metadata": {},
   "outputs": [
    {
     "data": {
      "text/plain": "              genre  test-accuracy\n0       genre_blues       0.901000\n1   genre_classical       0.998875\n2  genre_electronic       0.992375\n3        genre_funk       0.973250\n4        genre_jazz       0.901625\n5       genre_metal       0.953750\n6         genre_r&b       0.901375\n7         genre_rap       0.967500\n8        genre_rock       0.901500\n9      genre_techno       0.996250",
      "text/html": "<div>\n<style scoped>\n    .dataframe tbody tr th:only-of-type {\n        vertical-align: middle;\n    }\n\n    .dataframe tbody tr th {\n        vertical-align: top;\n    }\n\n    .dataframe thead th {\n        text-align: right;\n    }\n</style>\n<table border=\"1\" class=\"dataframe\">\n  <thead>\n    <tr style=\"text-align: right;\">\n      <th></th>\n      <th>genre</th>\n      <th>test-accuracy</th>\n    </tr>\n  </thead>\n  <tbody>\n    <tr>\n      <th>0</th>\n      <td>genre_blues</td>\n      <td>0.901000</td>\n    </tr>\n    <tr>\n      <th>1</th>\n      <td>genre_classical</td>\n      <td>0.998875</td>\n    </tr>\n    <tr>\n      <th>2</th>\n      <td>genre_electronic</td>\n      <td>0.992375</td>\n    </tr>\n    <tr>\n      <th>3</th>\n      <td>genre_funk</td>\n      <td>0.973250</td>\n    </tr>\n    <tr>\n      <th>4</th>\n      <td>genre_jazz</td>\n      <td>0.901625</td>\n    </tr>\n    <tr>\n      <th>5</th>\n      <td>genre_metal</td>\n      <td>0.953750</td>\n    </tr>\n    <tr>\n      <th>6</th>\n      <td>genre_r&amp;b</td>\n      <td>0.901375</td>\n    </tr>\n    <tr>\n      <th>7</th>\n      <td>genre_rap</td>\n      <td>0.967500</td>\n    </tr>\n    <tr>\n      <th>8</th>\n      <td>genre_rock</td>\n      <td>0.901500</td>\n    </tr>\n    <tr>\n      <th>9</th>\n      <td>genre_techno</td>\n      <td>0.996250</td>\n    </tr>\n  </tbody>\n</table>\n</div>"
     },
     "execution_count": 17,
     "metadata": {},
     "output_type": "execute_result"
    }
   ],
   "source": [
    "svm_randomized_search_df = pd.DataFrame.from_dict(svm_randomized_search)\n",
    "svm_randomized_search_df"
   ]
  },
  {
   "cell_type": "markdown",
   "id": "1cc987b8",
   "metadata": {},
   "source": [
    "### Visualize difference between score before and after optimization"
   ]
  },
  {
   "cell_type": "code",
   "execution_count": 18,
   "id": "979d70c2",
   "metadata": {},
   "outputs": [
    {
     "data": {
      "text/plain": "            test-accuracy\ngenre                    \nelectronic       9.173758\nmetal            5.536230\nfunk             5.348997\ntechno           5.063860\nrap              2.526444\nclassical        0.787388\nr&b             -0.001233\nrock            -0.022543\nblues           -0.151219\njazz            -2.113466",
      "text/html": "<div>\n<style scoped>\n    .dataframe tbody tr th:only-of-type {\n        vertical-align: middle;\n    }\n\n    .dataframe tbody tr th {\n        vertical-align: top;\n    }\n\n    .dataframe thead th {\n        text-align: right;\n    }\n</style>\n<table border=\"1\" class=\"dataframe\">\n  <thead>\n    <tr style=\"text-align: right;\">\n      <th></th>\n      <th>test-accuracy</th>\n    </tr>\n    <tr>\n      <th>genre</th>\n      <th></th>\n    </tr>\n  </thead>\n  <tbody>\n    <tr>\n      <th>electronic</th>\n      <td>9.173758</td>\n    </tr>\n    <tr>\n      <th>metal</th>\n      <td>5.536230</td>\n    </tr>\n    <tr>\n      <th>funk</th>\n      <td>5.348997</td>\n    </tr>\n    <tr>\n      <th>techno</th>\n      <td>5.063860</td>\n    </tr>\n    <tr>\n      <th>rap</th>\n      <td>2.526444</td>\n    </tr>\n    <tr>\n      <th>classical</th>\n      <td>0.787388</td>\n    </tr>\n    <tr>\n      <th>r&amp;b</th>\n      <td>-0.001233</td>\n    </tr>\n    <tr>\n      <th>rock</th>\n      <td>-0.022543</td>\n    </tr>\n    <tr>\n      <th>blues</th>\n      <td>-0.151219</td>\n    </tr>\n    <tr>\n      <th>jazz</th>\n      <td>-2.113466</td>\n    </tr>\n  </tbody>\n</table>\n</div>"
     },
     "execution_count": 18,
     "metadata": {},
     "output_type": "execute_result"
    }
   ],
   "source": [
    "heatmap_diff = svm_randomized_search_df.copy()\n",
    "heatmap_diff['test-accuracy'] = (heatmap_diff['test-accuracy'] - cv_scores_df['score']) * 100.0\n",
    "heatmap_diff.index = heatmap_diff.genre.apply(lambda x: x.replace(\"genre_\",\"\"))\n",
    "del heatmap_diff[\"genre\"]\n",
    "heatmap_diff.sort_values(by='test-accuracy', ascending=False, inplace=True)\n",
    "heatmap_diff"
   ]
  },
  {
   "cell_type": "code",
   "execution_count": 19,
   "id": "d1251673",
   "metadata": {},
   "outputs": [
    {
     "data": {
      "text/plain": "<Figure size 432x288 with 0 Axes>"
     },
     "execution_count": 19,
     "metadata": {},
     "output_type": "execute_result"
    },
    {
     "data": {
      "text/plain": "<Figure size 720x432 with 2 Axes>",
      "image/png": "[encoded data removed]"
     },
     "metadata": {},
     "output_type": "display_data"
    },
    {
     "data": {
      "text/plain": "<Figure size 432x288 with 0 Axes>"
     },
     "metadata": {},
     "output_type": "display_data"
    }
   ],
   "source": [
    "from matplotlib.colors import LinearSegmentedColormap\n",
    "fig, ax = plt.subplots(figsize=(10, 6))\n",
    "_range = abs(heatmap_diff.max().max() - heatmap_diff.min().min())\n",
    "zero_position = np.abs(heatmap_diff.min().min()) / _range\n",
    "color_map_list = [(0, 'red'), (zero_position, 'white'), (1.0, \"green\")]\n",
    "\n",
    "cmap = LinearSegmentedColormap.from_list('custom_cmap', color_map_list)\n",
    "sns.heatmap(heatmap_diff, annot=True, cmap=cmap, annot_kws={'fontsize': 10})\n",
    "# Plot data on a logarithmic scale\n",
    "plt.title(\"Prediction Accuracy Diff of Train Dataset in %\")\n",
    "plt.figure()"
   ]
  },
  {
   "cell_type": "markdown",
   "id": "a62f3d85",
   "metadata": {},
   "source": [
    "## Now for the Test-Dataset"
   ]
  },
  {
   "cell_type": "code",
   "execution_count": 20,
   "id": "e120866f",
   "metadata": {},
   "outputs": [
    {
     "name": "stdout",
     "output_type": "stream",
     "text": [
      "Score of Test Dataset\n"
     ]
    },
    {
     "data": {
      "text/plain": "        genre   score\n0       blues  0.8960\n1   classical  0.9310\n2  electronic  0.9105\n3        funk  0.9070\n4        jazz  0.8955\n5       metal  0.9210\n6         r&b  0.8945\n7         rap  0.9340\n8        rock  0.8940\n9      techno  0.9440",
      "text/html": "<div>\n<style scoped>\n    .dataframe tbody tr th:only-of-type {\n        vertical-align: middle;\n    }\n\n    .dataframe tbody tr th {\n        vertical-align: top;\n    }\n\n    .dataframe thead th {\n        text-align: right;\n    }\n</style>\n<table border=\"1\" class=\"dataframe\">\n  <thead>\n    <tr style=\"text-align: right;\">\n      <th></th>\n      <th>genre</th>\n      <th>score</th>\n    </tr>\n  </thead>\n  <tbody>\n    <tr>\n      <th>0</th>\n      <td>blues</td>\n      <td>0.8960</td>\n    </tr>\n    <tr>\n      <th>1</th>\n      <td>classical</td>\n      <td>0.9310</td>\n    </tr>\n    <tr>\n      <th>2</th>\n      <td>electronic</td>\n      <td>0.9105</td>\n    </tr>\n    <tr>\n      <th>3</th>\n      <td>funk</td>\n      <td>0.9070</td>\n    </tr>\n    <tr>\n      <th>4</th>\n      <td>jazz</td>\n      <td>0.8955</td>\n    </tr>\n    <tr>\n      <th>5</th>\n      <td>metal</td>\n      <td>0.9210</td>\n    </tr>\n    <tr>\n      <th>6</th>\n      <td>r&amp;b</td>\n      <td>0.8945</td>\n    </tr>\n    <tr>\n      <th>7</th>\n      <td>rap</td>\n      <td>0.9340</td>\n    </tr>\n    <tr>\n      <th>8</th>\n      <td>rock</td>\n      <td>0.8940</td>\n    </tr>\n    <tr>\n      <th>9</th>\n      <td>techno</td>\n      <td>0.9440</td>\n    </tr>\n  </tbody>\n</table>\n</div>"
     },
     "execution_count": 20,
     "metadata": {},
     "output_type": "execute_result"
    }
   ],
   "source": [
    "# Test Score of optimzed\n",
    "test_scores_optimized_df = pd.DataFrame({\"genre\":[x.replace(\"genre_\",\"\") for x in test_scores_of_optimized.keys()], \"score\":test_scores_of_optimized.values()})\n",
    "print(\"Score of Test Dataset\")\n",
    "test_scores_optimized_df"
   ]
  },
  {
   "cell_type": "code",
   "execution_count": 21,
   "id": "f2e461da",
   "metadata": {},
   "outputs": [
    {
     "data": {
      "text/plain": "            score\ngenre            \nmetal        1.40\nrap          0.30\nelectronic   0.25\nr&b          0.00\nrock         0.00\nblues       -0.15\nfunk        -0.55\ntechno      -1.25\njazz        -1.60\nclassical   -5.45",
      "text/html": "<div>\n<style scoped>\n    .dataframe tbody tr th:only-of-type {\n        vertical-align: middle;\n    }\n\n    .dataframe tbody tr th {\n        vertical-align: top;\n    }\n\n    .dataframe thead th {\n        text-align: right;\n    }\n</style>\n<table border=\"1\" class=\"dataframe\">\n  <thead>\n    <tr style=\"text-align: right;\">\n      <th></th>\n      <th>score</th>\n    </tr>\n    <tr>\n      <th>genre</th>\n      <th></th>\n    </tr>\n  </thead>\n  <tbody>\n    <tr>\n      <th>metal</th>\n      <td>1.40</td>\n    </tr>\n    <tr>\n      <th>rap</th>\n      <td>0.30</td>\n    </tr>\n    <tr>\n      <th>electronic</th>\n      <td>0.25</td>\n    </tr>\n    <tr>\n      <th>r&amp;b</th>\n      <td>0.00</td>\n    </tr>\n    <tr>\n      <th>rock</th>\n      <td>0.00</td>\n    </tr>\n    <tr>\n      <th>blues</th>\n      <td>-0.15</td>\n    </tr>\n    <tr>\n      <th>funk</th>\n      <td>-0.55</td>\n    </tr>\n    <tr>\n      <th>techno</th>\n      <td>-1.25</td>\n    </tr>\n    <tr>\n      <th>jazz</th>\n      <td>-1.60</td>\n    </tr>\n    <tr>\n      <th>classical</th>\n      <td>-5.45</td>\n    </tr>\n  </tbody>\n</table>\n</div>"
     },
     "execution_count": 21,
     "metadata": {},
     "output_type": "execute_result"
    }
   ],
   "source": [
    "heatmap_diff = test_scores_optimized_df.copy() \n",
    "heatmap_diff[\"score\"] = heatmap_diff.score - test_scores_unoptimized_df.score\n",
    "# we need to rotate it to visualize it properly \n",
    "#heatmap_diff = pd.DataFrame([x for x in ]heatmap_diff.genre)\n",
    "#heatmap_diff=pd.DataFrame({x[0]:[x[1] * 100.0] for x in zip(heatmap_diff.genre, heatmap_diff.score)})\n",
    "#heatmap_diff\n",
    "heatmap_diff.index = heatmap_diff.genre\n",
    "del heatmap_diff[\"genre\"]\n",
    "heatmap_diff[\"score\"] = heatmap_diff.score.apply(lambda x: round(x * 100.0, 3))\n",
    "heatmap_diff.sort_values(by='score', ascending=False, inplace=True)\n",
    "heatmap_diff"
   ]
  },
  {
   "cell_type": "markdown",
   "id": "6276ac68",
   "metadata": {},
   "source": [
    "## Lets Visualize it!"
   ]
  },
  {
   "cell_type": "code",
   "execution_count": 22,
   "id": "793734f6",
   "metadata": {},
   "outputs": [
    {
     "data": {
      "text/plain": "<Figure size 432x288 with 0 Axes>"
     },
     "execution_count": 22,
     "metadata": {},
     "output_type": "execute_result"
    },
    {
     "data": {
      "text/plain": "<Figure size 720x432 with 2 Axes>",
      "image/png": "[encoded data removed]"
     },
     "metadata": {},
     "output_type": "display_data"
    },
    {
     "data": {
      "text/plain": "<Figure size 432x288 with 0 Axes>"
     },
     "metadata": {},
     "output_type": "display_data"
    }
   ],
   "source": [
    "from matplotlib.colors import LinearSegmentedColormap\n",
    "fig, ax = plt.subplots(figsize=(10, 6))\n",
    "_range = abs(heatmap_diff.max().max() - heatmap_diff.min().min())\n",
    "zero_position = np.abs(heatmap_diff.min().min()) / _range\n",
    "color_map_list = [(0, 'red'), (zero_position, 'white'), (1.0, \"green\")]\n",
    "\n",
    "cmap = LinearSegmentedColormap.from_list('custom_cmap', color_map_list)\n",
    "sns.heatmap(heatmap_diff, annot=True, cmap=cmap, annot_kws={'fontsize': 10})\n",
    "# Plot data on a logarithmic scale\n",
    "plt.title(\"Prediction Accuracy Diff of Test Dataset in %\")\n",
    "plt.figure()"
   ]
  },
  {
   "cell_type": "code",
   "execution_count": 22,
   "id": "e2760ee2",
   "metadata": {},
   "outputs": [],
   "source": []
  }
 ],
 "metadata": {
  "kernelspec": {
   "display_name": "Python 3 (ipykernel)",
   "language": "python",
   "name": "python3"
  },
  "language_info": {
   "codemirror_mode": {
    "name": "ipython",
    "version": 3
   },
   "file_extension": ".py",
   "mimetype": "text/x-python",
   "name": "python",
   "nbconvert_exporter": "python",
   "pygments_lexer": "ipython3",
   "version": "3.9.13"
  }
 },
 "nbformat": 4,
 "nbformat_minor": 5
}
