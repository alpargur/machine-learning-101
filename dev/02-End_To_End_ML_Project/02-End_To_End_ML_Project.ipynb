{
 "cells": [
  {
   "cell_type": "markdown",
   "metadata": {},
   "source": [
    "# 02 - End-to-End Machine Learning Project\n",
    "\n",
    "The goal of this exercise is to develop an understanding of the flow of a machine learning project from begining to end. In addition, this exercise is intended to provide an introduction to the most frequently used methods, when solving a ML-task. Since these projects are almost always structured the same way, we will go through it step by step.\n",
    "\n",
    "<div class=\"alert alert-block alert-info\"> This exercise requires basic skills in Python and working with Jupyter Notebooks. If you are not familiar with the two topics, take a look at the Python introduction notebook, which you can find in the Github-Repository of this course.<br><br>\n",
    "To solve the following exercises it's also recommended to read the chapter 2 of the book in advance.</div>\n",
    "\n",
    "**Task**: In this exercise, we want to predict the height of a person based on weight and gender. For this we need to load the dataset first. "
   ]
  },
  {
   "cell_type": "code",
   "execution_count": null,
   "metadata": {
    "_cell_guid": "79c7e3d0-c299-4dcb-8224-4455121ee9b0",
    "_uuid": "d629ff2d2480ee46fbb7e2d37f6b5fab8052498a"
   },
   "outputs": [],
   "source": [
    "# Run this cell two import the following modules\n",
    "import numpy as np\n",
    "import pandas as pd\n",
    "import matplotlib.pyplot as plt\n",
    "import seaborn as sns\n",
    "%matplotlib inline\n",
    "sns.set_theme(style=\"whitegrid\")"
   ]
  },
  {
   "cell_type": "markdown",
   "metadata": {},
   "source": [
    "<h2 style=\"color:blue\" align=\"left\"> 1. Get the Data </h2>\n",
    "\n",
    "The [`read_csv()`](https://pandas.pydata.org/docs/reference/api/pandas.read_csv.html) function loads the data from the CSV file into a pandas DataFrame. With [`DataFrame.head()`](https://pandas.pydata.org/docs/reference/api/pandas.DataFrame.head.html) the first five rows of the DataFrame are output."
   ]
  },
  {
   "cell_type": "code",
   "execution_count": null,
   "metadata": {
    "scrolled": true
   },
   "outputs": [],
   "source": [
    "df = pd.read_csv('dataset/weight-height.csv')\n",
    "df.head()"
   ]
  },
  {
   "cell_type": "markdown",
   "metadata": {},
   "source": [
    "As we can see, the dataset consists of 3 features. One row describes one person. The feature _Gender_ defines the sex of the respective person, the feature _Height_ defines the height measured in inches and the feature _Weight_ defines the weight measured in pounds. \n",
    "\n",
    "Before examining the data, we convert it to metric system so that the data will be more familiar to us."
   ]
  },
  {
   "cell_type": "markdown",
   "metadata": {},
   "source": [
    "### Converting to Metric System"
   ]
  },
  {
   "cell_type": "markdown",
   "metadata": {},
   "source": [
    "In order not to overwrite the original data, the data set is copied to the variable `dataset`."
   ]
  },
  {
   "cell_type": "code",
   "execution_count": null,
   "metadata": {},
   "outputs": [],
   "source": [
    "dataset = df.copy()"
   ]
  },
  {
   "cell_type": "markdown",
   "metadata": {},
   "source": [
    "Now the first column to be converted is _Height_. To convert the data from inches to centimeters, the column must be multiplied by a factor of $2.54$."
   ]
  },
  {
   "cell_type": "code",
   "execution_count": null,
   "metadata": {},
   "outputs": [],
   "source": [
    "conv_factor_height = 2.54\n",
    "dataset['Height'] = round(df['Height'] * conv_factor_height, 1)\n",
    "dataset.head()"
   ]
  },
  {
   "cell_type": "markdown",
   "metadata": {},
   "source": [
    "<div class=\"alert alert-block alert-success\"><b>Task</b><br> \n",
    "    Convert the column <i>Height</i> from pounds to kilograms and save it in the <i>Height</i> column of the Dataframe dataset. Have a look on the exampe above.\n",
    "</div>"
   ]
  },
  {
   "cell_type": "code",
   "execution_count": null,
   "metadata": {},
   "outputs": [],
   "source": [
    "# Write your code here\n",
    "conv_factor_weight = 0.4535\n",
    "dataset['Weight'] = round(dataset['Weight'] * conv_factor_weight, 1)"
   ]
  },
  {
   "cell_type": "code",
   "execution_count": null,
   "metadata": {},
   "outputs": [],
   "source": [
    "dataset.head()"
   ]
  },
  {
   "cell_type": "markdown",
   "metadata": {},
   "source": [
    "<h2 style=\"color:blue\" align=\"left\"> 2. Discover and Visualize the Data to Gain Insights </h2>"
   ]
  },
  {
   "cell_type": "markdown",
   "metadata": {},
   "source": [
    "### Overview\n",
    "\n",
    "To get a quick overview of the data, pandas offers many built-in functions.\n",
    "\n",
    "The property [`DataFrame.shape`](https://pandas.pydata.org/pandas-docs/version/0.23/generated/pandas.DataFrame.shape.html) returns a tuple with the number of rows and columns of the DataFrame."
   ]
  },
  {
   "cell_type": "code",
   "execution_count": null,
   "metadata": {},
   "outputs": [],
   "source": [
    "dataset.shape"
   ]
  },
  {
   "cell_type": "markdown",
   "metadata": {},
   "source": [
    "The data set consists of a total of 10,000 datapoints.\n",
    "\n",
    "The[`DataFrame.info()`]() method prints information about a DataFrame including the index dtype and columns, non-null values and memory usage."
   ]
  },
  {
   "cell_type": "code",
   "execution_count": null,
   "metadata": {},
   "outputs": [],
   "source": [
    "dataset.info()"
   ]
  },
  {
   "cell_type": "markdown",
   "metadata": {},
   "source": [
    "The property [`DataFrame.dtypes`](https://pandas.pydata.org/docs/reference/api/pandas.DataFrame.dtypes.html)returns a Series with the data type of each column."
   ]
  },
  {
   "cell_type": "code",
   "execution_count": null,
   "metadata": {},
   "outputs": [],
   "source": [
    "dataset.dtypes"
   ]
  },
  {
   "cell_type": "markdown",
   "metadata": {},
   "source": [
    "To see how many of the people in the dataset are male or female pandas provides the function [`DataFrame.value_counts()`](https://pandas.pydata.org/docs/reference/api/pandas.Series.value_counts.html). This method returns a Series containing counts of unique values."
   ]
  },
  {
   "cell_type": "code",
   "execution_count": null,
   "metadata": {},
   "outputs": [],
   "source": [
    "dataset['Gender'].value_counts()"
   ]
  },
  {
   "cell_type": "markdown",
   "metadata": {},
   "source": [
    "We can see that there are as many women as men in the data set. This is very good, because otherwise the model would have a bias for one of the two genders."
   ]
  },
  {
   "cell_type": "markdown",
   "metadata": {},
   "source": [
    "### Barplot"
   ]
  },
  {
   "cell_type": "markdown",
   "metadata": {},
   "source": [
    "This can also be solved graphically.\n",
    "\n",
    "<div class=\"alert alert-block alert-success\"><b>Task</b><br> \n",
    "Use the <a href=https://seaborn.pydata.org/generated/seaborn.countplot.html>countplot()</a> method of the module seaborn to plot the count of Males and Females as barplot.\n",
    "</div>"
   ]
  },
  {
   "cell_type": "code",
   "execution_count": null,
   "metadata": {},
   "outputs": [],
   "source": [
    "# Write your code here\n",
    "sns.countplot(x=dataset[\"Gender\"])"
   ]
  },
  {
   "cell_type": "markdown",
   "metadata": {},
   "source": [
    "### Boxplot"
   ]
  },
  {
   "cell_type": "markdown",
   "metadata": {},
   "source": [
    "Now that we have examined the number and distribution of the data, we can look at the measurements itself. Therefor pandas has a very useful built-in function, called [`DataFrame.describe()`](https://pandas.pydata.org/docs/reference/api/pandas.DataFrame.describe.html). This generates some descriptive statistics of the data."
   ]
  },
  {
   "cell_type": "code",
   "execution_count": null,
   "metadata": {},
   "outputs": [],
   "source": [
    "dataset.describe()"
   ]
  },
  {
   "cell_type": "markdown",
   "metadata": {},
   "source": [
    "We see that the average height is 168 cm and the average weight is 73 kg. We can also see the min and max values for each measurment. This allows you to check the plausibility of the data at a glance. In addition we have the quantiles, which give you an overview over the disribution of the data.\n",
    "\n",
    "All these statistics can be also seen in a boxplot. In the following you see the boxplot for the the Feature _Height_."
   ]
  },
  {
   "cell_type": "code",
   "execution_count": null,
   "metadata": {
    "scrolled": false
   },
   "outputs": [],
   "source": [
    "plt.figure(figsize=(7,6))\n",
    "plt.title('Boxplot Height', fontsize=14);\n",
    "sns.boxplot(x='Gender', y='Height', data=dataset);"
   ]
  },
  {
   "cell_type": "markdown",
   "metadata": {},
   "source": [
    "<div class=\"alert alert-block alert-success\"><b>Task</b><br> \n",
    "    Do the boxplot for the feature <i>Weight</i>.\n",
    "</div>"
   ]
  },
  {
   "cell_type": "code",
   "execution_count": null,
   "metadata": {
    "scrolled": false
   },
   "outputs": [],
   "source": [
    "# Write Your Code Here\n",
    "plt.figure(figsize=(7,6))\n",
    "plt.title('Boxplot Weight', fontsize=14);\n",
    "sns.boxplot(x='Gender', y='Weight', data=dataset);"
   ]
  },
  {
   "cell_type": "markdown",
   "metadata": {},
   "source": [
    "### Histogram\n",
    "Another good way to show the distribution of the data is to create the histograms.\n",
    "\n",
    "<div class=\"alert alert-block alert-success\"><b>Task</b><br> \n",
    "Create the histogramms for the features weight and height in the dataset. The function used to create this kind of plot can be found in the second chapter of the book written by Géron.\n",
    "</div>"
   ]
  },
  {
   "cell_type": "code",
   "execution_count": null,
   "metadata": {},
   "outputs": [],
   "source": [
    "# Write Your Code Here\n",
    "sns.displot(dataset, binwidth=5, height=6)"
   ]
  },
  {
   "cell_type": "markdown",
   "metadata": {},
   "source": [
    "### Correlation Matrix\n",
    "\n",
    "We used the last few cells to evaluate each feature individually. Now we can have a look at the correlations between the two features. For this purpose pandas provides the function [`DataFrame.corr()`](https://pandas.pydata.org/docs/reference/api/pandas.DataFrame.corr.html). It computes the pairwise correlation of the columns."
   ]
  },
  {
   "cell_type": "code",
   "execution_count": null,
   "metadata": {},
   "outputs": [],
   "source": [
    "dataset.corr()"
   ]
  },
  {
   "cell_type": "markdown",
   "metadata": {},
   "source": [
    "As we can see, the correlation of weight and height is very good (>0.9). Because we have only two features, the matrix is very simple and easy to read. The more features the data set has, the larger the correlation matrix will be. Then it is useful to have a graphical representation of this matrix. \n",
    "\n",
    "<div class=\"alert alert-block alert-success\"><b>Task</b><br> \n",
    "Visualize the correlation matrix using the function <a href=https://seaborn.pydata.org/generated/seaborn.heatmap.html>heatmap()</a> of seaborn. \n",
    "</div>"
   ]
  },
  {
   "cell_type": "code",
   "execution_count": null,
   "metadata": {},
   "outputs": [],
   "source": [
    "# Write Your Code Here\n",
    "sns.heatmap(dataset.corr(), vmin=-1, vmax=1, annot=True)"
   ]
  },
  {
   "cell_type": "markdown",
   "metadata": {},
   "source": [
    "### Scatter plot"
   ]
  },
  {
   "cell_type": "markdown",
   "metadata": {},
   "source": [
    "We can see in the correlation matrix, that there is a high positive correlation between the weight and the height of a person. To proof the relationship between this features we can plot each datapoint and see how they are distributed.\n",
    "\n",
    "<div class=\"alert alert-block alert-success\"><b>Task</b><br> \n",
    "Create a scatter plot of the dataset. Plot the Height on the x-axis and the Width on the y-axis.\n",
    "</div>"
   ]
  },
  {
   "cell_type": "code",
   "execution_count": null,
   "metadata": {},
   "outputs": [],
   "source": [
    "# Write Your Code Here\n",
    "sns.scatterplot(data=dataset, x='Height', y='Weight')"
   ]
  },
  {
   "cell_type": "markdown",
   "metadata": {},
   "source": [
    "We can see in the plot, that there is linear relationship between the weight and the height. This knowlegde can be used later.\n",
    "\n",
    "It is also interesting to color the data points which belong to woman and men differently. Therefor the dataset is split up by genders.\n",
    "\n",
    "<div class=\"alert alert-block alert-success\"><b>Task</b><br> \n",
    "Create a scatter plot of the dataset, where the datapoints are colored by their gender. Plot the Height on the x-axis and the Width on the y-axis.\n",
    "</div>"
   ]
  },
  {
   "cell_type": "code",
   "execution_count": null,
   "metadata": {},
   "outputs": [],
   "source": [
    "males=dataset[dataset['Gender']=='Male']\n",
    "females=dataset[dataset['Gender']=='Female']\n",
    "fig,ax = plt.subplots()\n",
    "# Write Your Code Here\n",
    "sns.scatterplot(data=dataset, x='Height', y='Weight', hue='Gender')"
   ]
  },
  {
   "cell_type": "markdown",
   "metadata": {},
   "source": [
    "As we can see, the data points for men and women do not follow the same course. If we try to draw a straight line through the data for men and women, we find that the straight line for men is a bit steeper. This means, that it's important to train your model not only on the weights, but use the gender as feature in addition. \n",
    "\n",
    "<h2 style=\"color:blue\" align=\"left\"> 3. Prepare the Data for Machine Learning Algorithms </h2>\n",
    "\n",
    "### Converting Categorical Variables to Numeric using OneHotEncoder\n",
    "\n",
    "The Gender column is a text based feature. But most of the ML-algorithms can not deal with these kinds of data types. Therefor we have to transform into a interpretable features. Like in chapter 2 of the book, we use the `OneHotEncoder` of the module scikit-learn. "
   ]
  },
  {
   "cell_type": "code",
   "execution_count": null,
   "metadata": {},
   "outputs": [],
   "source": [
    "from sklearn.preprocessing import OneHotEncoder"
   ]
  },
  {
   "cell_type": "markdown",
   "metadata": {},
   "source": [
    "<div class=\"alert alert-block alert-success\"><b>Task</b><br> \n",
    "Transform the Feature <i>Gender</i> into two new binary Features <i>Male</i> and <i>Female</i> and save it in the variable dataset_with_gender. Do not forget to drop the <i>Gender</i> column.\n",
    "</div>"
   ]
  },
  {
   "cell_type": "code",
   "execution_count": null,
   "metadata": {},
   "outputs": [],
   "source": [
    "ohe = OneHotEncoder(dtype=int)\n",
    "dataset_with_gender = dataset.copy()\n",
    "# Write Your Code Here\n",
    "# create one hot encoding array\n",
    "genders = ohe.fit_transform(dataset_with_gender[['Gender']])\n",
    "# create columns for encoded values in dataframe\n",
    "dataset_with_gender[ohe.categories_[0]] = genders.toarray()\n",
    "# drop column \"Gender\"\n",
    "dataset_with_gender = dataset_with_gender.drop('Gender', axis=1)\n",
    "dataset_with_gender.head(3)"
   ]
  },
  {
   "cell_type": "markdown",
   "metadata": {},
   "source": [
    "### Replace Missing Values\n",
    "\n",
    "In a real life dataset, you will often face missing data in the dataset you are using. In this dataset the data is complete, so we can feel lucky."
   ]
  },
  {
   "cell_type": "code",
   "execution_count": null,
   "metadata": {
    "scrolled": true
   },
   "outputs": [],
   "source": [
    "dataset_with_gender.isnull().sum()"
   ]
  },
  {
   "cell_type": "markdown",
   "metadata": {},
   "source": [
    "### Train-Test-Split\n",
    "\n",
    "In order to evaluate your trained model, we must spilt your dataset in a Train and Test-Set. Therefor we use the function [`train_test_split()`](https://scikit-learn.org/stable/modules/generated/sklearn.model_selection.train_test_split.html) from scikit-learn."
   ]
  },
  {
   "cell_type": "code",
   "execution_count": null,
   "metadata": {},
   "outputs": [],
   "source": [
    "from sklearn.model_selection import train_test_split"
   ]
  },
  {
   "cell_type": "markdown",
   "metadata": {},
   "source": [
    "In general, assigning 20% of the data to the test set is a good choise, but this depends in the number of datapoints. If you have small dataset, you take a smaller portion for the test set."
   ]
  },
  {
   "cell_type": "code",
   "execution_count": null,
   "metadata": {},
   "outputs": [],
   "source": [
    "X = dataset_with_gender.drop('Height',axis=1) # train size\n",
    "y = dataset_with_gender['Height'] # test size\n",
    "X_train, X_test, y_train, y_test = train_test_split(X, y, test_size=0.2, random_state=42)\n",
    "X_train.shape, X_test.shape, y_train.shape, y_test.shape"
   ]
  },
  {
   "cell_type": "markdown",
   "metadata": {},
   "source": [
    "`train_test_split()` splits the data into the two subsets randomly. This can make some troublesas the number of male and female datapoints can become imbalanced. This would lead to a bias for the respective gender, which is to be avoided."
   ]
  },
  {
   "cell_type": "code",
   "execution_count": null,
   "metadata": {},
   "outputs": [],
   "source": [
    "X_train['Female'].value_counts()"
   ]
  },
  {
   "cell_type": "markdown",
   "metadata": {},
   "source": [
    "<div class=\"alert alert-block alert-success\"><b>Task</b><br> \n",
    "Find a way to split the dataset with with a equal number of male and female datapoints in test and training set. Have a look in the second chapter of the book.\n",
    "</div>"
   ]
  },
  {
   "cell_type": "code",
   "execution_count": null,
   "metadata": {
    "scrolled": true
   },
   "outputs": [],
   "source": [
    "dataset_with_gender.drop('Height',axis=1)"
   ]
  },
  {
   "cell_type": "code",
   "execution_count": null,
   "metadata": {},
   "outputs": [],
   "source": [
    "# stratified shuffle split\n",
    "\n",
    "from sklearn.model_selection import GroupKFold\n",
    "gkf = GroupKFold(n_splits=2) # group elemenst (male & female)\n",
    "stratified_X = dataset_with_gender.drop('Height',axis=1)\n",
    "stratified_y = dataset_with_gender['Height']\n",
    "groups = dataset['Gender']\n",
    "\n",
    "for train, test in gkf.split(X, y, groups=groups):\n",
    "    print(\"%s %s\" % (train, test))"
   ]
  },
  {
   "cell_type": "markdown",
   "metadata": {},
   "source": [
    "### Feature Scaling\n",
    "\n",
    "Because we use features in different units of measurement, the data needs to be scaled. In this case, we use the [`StandardScaler`](https://scikit-learn.org/stable/modules/generated/sklearn.preprocessing.StandardScaler.html) from scikit-learn.\n",
    "\n",
    "<div class=\"alert alert-block alert-success\"><b>Task</b><br> \n",
    "Use the StandardScaler sc to scale the datasets X_train and X_test and save the scaled data in the variables X_train_scaled and X_fit_scaled. It's important to fit the Scaler only ones.\n",
    "</div>"
   ]
  },
  {
   "cell_type": "code",
   "execution_count": null,
   "metadata": {
    "scrolled": true
   },
   "outputs": [],
   "source": [
    "from sklearn.preprocessing import StandardScaler\n",
    "sc = StandardScaler()\n",
    "X_train_scaled = []\n",
    "X_test_scaled = []\n",
    "# Write Your Code Here\n",
    "\n",
    "# fit the scalers\n",
    "sc.fit(X_train)\n",
    "sc.fit(X_test)\n",
    "# transform\n",
    "X_train_scaled = sc.transform(X_train)\n",
    "X_test_scaled = sc.transform(X_test)\n",
    "\n",
    "print('X_train_scaled:\\n', X_train_scaled)\n",
    "print('X_test_scaled:\\n', X_test_scaled)"
   ]
  },
  {
   "cell_type": "markdown",
   "metadata": {},
   "source": [
    "<h2 style=\"color:blue\" align=\"left\"> 4. Select and Train a Model </h2>\n",
    "\n",
    "### Linear Regression\n",
    "\n",
    "After we have analyzed and prepared the data, we can now train our model. Since we have already shown a linear relationship between the height and the weight, we will use linear regression in this case. For this we will use the [`LinearRegression()`](https://scikit-learn.org/stable/modules/generated/sklearn.linear_model.LinearRegression.html) of scikit-learn."
   ]
  },
  {
   "cell_type": "code",
   "execution_count": null,
   "metadata": {},
   "outputs": [],
   "source": [
    "from sklearn.linear_model import LinearRegression"
   ]
  },
  {
   "cell_type": "markdown",
   "metadata": {},
   "source": [
    "<div class=\"alert alert-block alert-success\"><b>Task</b><br> \n",
    "Fit your model using the X_train_scaled and y_train. Evaluate the model with the X_test_scaled and y_test by computing the Mean Squared Error in the next cell. You can use the plot below to visualize your model.\n",
    "</div>"
   ]
  },
  {
   "cell_type": "code",
   "execution_count": null,
   "metadata": {},
   "outputs": [],
   "source": [
    "lin_reg = LinearRegression()\n",
    "# Write Your Code Here\n",
    "reg = lin_reg.fit(X_train_scaled, y_train)\n",
    "lin_reg_prediction = lin_reg.predict(X_test_scaled)\n",
    "score = reg.score(X_test_scaled, y_test)\n",
    "print('Linear regression prediction size:\\t', lin_reg_prediction.size)\n",
    "print('Linear regression score:\\t\\t', score)"
   ]
  },
  {
   "cell_type": "markdown",
   "metadata": {},
   "source": [
    "**Mean Squared Error**"
   ]
  },
  {
   "cell_type": "code",
   "execution_count": null,
   "metadata": {},
   "outputs": [],
   "source": [
    "from sklearn.metrics import mean_squared_error"
   ]
  },
  {
   "cell_type": "code",
   "execution_count": null,
   "metadata": {},
   "outputs": [],
   "source": [
    "# Write Your Code Here\n",
    "mse = mean_squared_error(y_test, lin_reg_prediction)\n",
    "print('Mean squared error:\\t', mse) # this doesn't look right :D"
   ]
  },
  {
   "cell_type": "markdown",
   "metadata": {},
   "source": [
    "**Plot Model**"
   ]
  },
  {
   "cell_type": "code",
   "execution_count": null,
   "metadata": {},
   "outputs": [],
   "source": [
    "plt.figure(figsize=(7,6))\n",
    "sns.scatterplot(data=X_train, x='Weight', y=y_train);\n",
    "plt.plot(X_train['Weight'], lin_reg.predict(X_train_scaled), c='orange');"
   ]
  },
  {
   "cell_type": "markdown",
   "metadata": {},
   "source": [
    "The red line represents your predicts of your model. As you can see, this is not a perfect line. This is because we do not trained your model on the two-dimensional dataset (Weight, Height), but on a four-dimesional data set (Weight, Height, Male, Femal). So the line of your model is a line thorugth a four-dimensional space. This plot is only the projection on the two-dimesional Height-Weight-plane."
   ]
  }
 ],
 "metadata": {
  "kernelspec": {
   "display_name": "Python 3",
   "language": "python",
   "name": "python3"
  },
  "language_info": {
   "codemirror_mode": {
    "name": "ipython",
    "version": 3
   },
   "file_extension": ".py",
   "mimetype": "text/x-python",
   "name": "python",
   "nbconvert_exporter": "python",
   "pygments_lexer": "ipython3",
   "version": "3.8.8"
  }
 },
 "nbformat": 4,
 "nbformat_minor": 4
}
